{
 "cells": [
  {
   "cell_type": "code",
   "execution_count": 1,
   "id": "faae2d76-7592-4250-a77b-9cc2f9279c7a",
   "metadata": {},
   "outputs": [],
   "source": [
    "# Stanford Convolution\n",
    "# https://cs231n.github.io/convolutional-networks/#conv\n",
    "\n",
    "# try naive convolution\n",
    "# https://www.youtube.com/watch?v=-Y4ST8eNySI\n",
    "\n",
    "# try TF im2col convolution\n",
    "# https://stackoverflow.com/questions/45553929/implementing-im2col-in-tensorflow\n",
    "\n",
    "# integrate im2col with matmul\n",
    "\n",
    "# integrate im2col with matmul + errors\n",
    "\n",
    "# https://scocoyash.github.io/speeding-up-convolutions/"
   ]
  },
  {
   "cell_type": "code",
   "execution_count": 2,
   "id": "d3484183-9227-4619-b118-efcf0b389086",
   "metadata": {},
   "outputs": [],
   "source": [
    "%matplotlib inline"
   ]
  },
  {
   "cell_type": "code",
   "execution_count": 3,
   "id": "318b718e-4f62-4db4-977a-de885b1a77d4",
   "metadata": {},
   "outputs": [],
   "source": [
    "import tensorflow as tf\n",
    "import numpy as np\n",
    "import matplotlib.pyplot as plt"
   ]
  },
  {
   "cell_type": "code",
   "execution_count": 4,
   "id": "933a099e-daa8-450d-a080-858275b3528f",
   "metadata": {},
   "outputs": [],
   "source": [
    "(x_train, y_train), (x_test, y_test) = tf.keras.datasets.cifar10.load_data()\n",
    "assert x_train.shape == (50000, 32, 32, 3)\n",
    "assert x_test.shape == (10000, 32, 32, 3)\n",
    "assert y_train.shape == (50000, 1)\n",
    "assert y_test.shape == (10000, 1)"
   ]
  },
  {
   "cell_type": "code",
   "execution_count": 10,
   "id": "18ee3d6a-f539-4bf9-b1e9-d452784b68be",
   "metadata": {},
   "outputs": [
    {
     "data": {
      "text/plain": [
       "(32, 32, 3)"
      ]
     },
     "execution_count": 10,
     "metadata": {},
     "output_type": "execute_result"
    }
   ],
   "source": [
    "img = x_train[1]\n",
    "img.shape"
   ]
  },
  {
   "cell_type": "code",
   "execution_count": 11,
   "id": "a716cd17-d143-43bf-a66f-36a3e0c7d354",
   "metadata": {},
   "outputs": [
    {
     "data": {
      "text/plain": [
       "<matplotlib.image.AxesImage at 0x7f34be068580>"
      ]
     },
     "execution_count": 11,
     "metadata": {},
     "output_type": "execute_result"
    },
    {
     "data": {
      "image/png": "[encoded data removed]",
      "text/plain": [
       "<Figure size 432x288 with 1 Axes>"
      ]
     },
     "metadata": {
      "needs_background": "light"
     },
     "output_type": "display_data"
    }
   ],
   "source": [
    "plt.imshow(img)"
   ]
  },
  {
   "cell_type": "code",
   "execution_count": 12,
   "id": "b747afa8-390a-4c48-955d-66dbb5abd660",
   "metadata": {},
   "outputs": [
    {
     "data": {
      "text/plain": [
       "TensorShape([1, 32, 32, 3])"
      ]
     },
     "execution_count": 12,
     "metadata": {},
     "output_type": "execute_result"
    }
   ],
   "source": [
    "img = tf.expand_dims(img,0)\n",
    "img.shape"
   ]
  },
  {
   "cell_type": "code",
   "execution_count": 13,
   "id": "4c9fded7-aca1-4394-8ee0-63a7bf66171a",
   "metadata": {},
   "outputs": [],
   "source": [
    "patches = tf.image.extract_patches(images=img,\n",
    "                                   sizes=[1, 16, 16, 1],\n",
    "                                   strides=[1, 16, 16, 1],\n",
    "                                   rates=[1, 1, 1, 1],\n",
    "                                   padding='VALID')"
   ]
  },
  {
   "cell_type": "code",
   "execution_count": 16,
   "id": "60b70761-9a5b-4c69-9a25-2194c2d00e13",
   "metadata": {},
   "outputs": [
    {
     "data": {
      "text/plain": [
       "TensorShape([1, 2, 2, 768])"
      ]
     },
     "execution_count": 16,
     "metadata": {},
     "output_type": "execute_result"
    }
   ],
   "source": [
    "patches.shape"
   ]
  },
  {
   "cell_type": "code",
   "execution_count": 21,
   "id": "186789af-c3e4-4dd9-858f-42ab3b03d6f1",
   "metadata": {},
   "outputs": [
    {
     "name": "stdout",
     "output_type": "stream",
     "text": [
      "(2, 2, 768)\n"
     ]
    },
    {
     "data": {
      "image/png": "[encoded data removed]",
      "text/plain": [
       "<Figure size 360x360 with 4 Axes>"
      ]
     },
     "metadata": {},
     "output_type": "display_data"
    }
   ],
   "source": [
    "plt.figure(figsize=(5, 5))\n",
    "for imgs in patches:\n",
    "    print(imgs.shape)\n",
    "    count = 0\n",
    "    for r in range(2):\n",
    "        for c in range(2):\n",
    "            ax = plt.subplot(2, 2, count+1)\n",
    "            ax.set_xticks([])\n",
    "            ax.set_yticks([])\n",
    "            plt.imshow(tf.reshape(imgs[r,c],shape=(16,16,3)))\n",
    "            count += 1"
   ]
  },
  {
   "cell_type": "code",
   "execution_count": 38,
   "id": "b09ed86a-6d99-46a1-ba6f-7e5d4fcf53c9",
   "metadata": {},
   "outputs": [
    {
     "data": {
      "text/plain": [
       "TensorShape([768])"
      ]
     },
     "execution_count": 38,
     "metadata": {},
     "output_type": "execute_result"
    }
   ],
   "source": [
    "q1patch = patches[0,0,0,:]\n",
    "q1patch.get_shape()"
   ]
  },
  {
   "cell_type": "code",
   "execution_count": 40,
   "id": "a921f6f7-2044-4920-b956-1f72d498a7a2",
   "metadata": {},
   "outputs": [],
   "source": [
    "q1patch = tf.reshape(q1patch, shape=(16,16,3))"
   ]
  },
  {
   "cell_type": "code",
   "execution_count": 42,
   "id": "2947e99c-7ec0-4411-9af7-7879eeddf2bf",
   "metadata": {},
   "outputs": [
    {
     "data": {
      "text/plain": [
       "<matplotlib.image.AxesImage at 0x7f336c166700>"
      ]
     },
     "execution_count": 42,
     "metadata": {},
     "output_type": "execute_result"
    },
    {
     "data": {
      "image/png": "[encoded data removed]",
      "text/plain": [
       "<Figure size 432x288 with 1 Axes>"
      ]
     },
     "metadata": {
      "needs_background": "light"
     },
     "output_type": "display_data"
    }
   ],
   "source": [
    "plt.imshow(q1patch)"
   ]
  },
  {
   "cell_type": "code",
   "execution_count": 43,
   "id": "eb235533-0c88-4454-baf8-060cf529d8ca",
   "metadata": {},
   "outputs": [],
   "source": [
    "q1patchtr = tf.transpose(q1patch, (2,0,1))"
   ]
  },
  {
   "cell_type": "code",
   "execution_count": 51,
   "id": "f1c72da0-2aed-414a-a6c9-e8808672807d",
   "metadata": {},
   "outputs": [
    {
     "data": {
      "text/plain": [
       "<matplotlib.image.AxesImage at 0x7f331c05a2b0>"
      ]
     },
     "execution_count": 51,
     "metadata": {},
     "output_type": "execute_result"
    },
    {
     "data": {
      "image/png": "[encoded data removed]",
      "text/plain": [
       "<Figure size 432x288 with 1 Axes>"
      ]
     },
     "metadata": {
      "needs_background": "light"
     },
     "output_type": "display_data"
    }
   ],
   "source": [
    "plt.imshow(q1patchtr[0], cmap=\"gray\")"
   ]
  },
  {
   "cell_type": "code",
   "execution_count": 52,
   "id": "f8af74a1-3225-4330-802d-de9a26e5b5a2",
   "metadata": {},
   "outputs": [
    {
     "data": {
      "text/plain": [
       "<tf.Tensor: shape=(), dtype=uint8, numpy=0>"
      ]
     },
     "execution_count": 52,
     "metadata": {},
     "output_type": "execute_result"
    }
   ],
   "source": [
    "tf.reduce_sum(q1patchtr[0]-q1[:,:,0])"
   ]
  },
  {
   "cell_type": "code",
   "execution_count": 54,
   "id": "fd6944d6-9f3d-41a4-9d5c-e430e3c25b22",
   "metadata": {},
   "outputs": [
    {
     "data": {
      "text/plain": [
       "<tf.Tensor: shape=(), dtype=uint8, numpy=0>"
      ]
     },
     "execution_count": 54,
     "metadata": {},
     "output_type": "execute_result"
    }
   ],
   "source": [
    "tf.reduce_sum(q1patchtr[1]-q1[:,:,1])"
   ]
  },
  {
   "cell_type": "code",
   "execution_count": 55,
   "id": "2ae32859-d528-436c-99be-66d2acba58f0",
   "metadata": {},
   "outputs": [
    {
     "data": {
      "text/plain": [
       "<tf.Tensor: shape=(), dtype=uint8, numpy=0>"
      ]
     },
     "execution_count": 55,
     "metadata": {},
     "output_type": "execute_result"
    }
   ],
   "source": [
    "tf.reduce_sum(q1patchtr[2]-q1[:,:,2])"
   ]
  },
  {
   "cell_type": "code",
   "execution_count": null,
   "id": "8bd1d267-0fff-495a-8d96-aae6c0353d60",
   "metadata": {},
   "outputs": [],
   "source": []
  },
  {
   "cell_type": "code",
   "execution_count": null,
   "id": "b12b39a9-85d5-4157-9ec5-f937dde4dfc3",
   "metadata": {},
   "outputs": [],
   "source": []
  },
  {
   "cell_type": "code",
   "execution_count": 29,
   "id": "03779f51-3e7f-497c-a293-5b86e440340f",
   "metadata": {},
   "outputs": [
    {
     "data": {
      "text/plain": [
       "<matplotlib.image.AxesImage at 0x7f34283bbdc0>"
      ]
     },
     "execution_count": 29,
     "metadata": {},
     "output_type": "execute_result"
    },
    {
     "data": {
      "image/png": "[encoded data removed]",
      "text/plain": [
       "<Figure size 432x288 with 1 Axes>"
      ]
     },
     "metadata": {
      "needs_background": "light"
     },
     "output_type": "display_data"
    }
   ],
   "source": [
    "q1 = tf.reshape(patches[0,0,0,:],shape=(16,16,3)) \n",
    "plt.imshow(q1)"
   ]
  },
  {
   "cell_type": "code",
   "execution_count": 33,
   "id": "1a4eab4a-b025-4d9c-afa9-60a6702140f7",
   "metadata": {},
   "outputs": [
    {
     "data": {
      "text/plain": [
       "<matplotlib.image.AxesImage at 0x7f336c746af0>"
      ]
     },
     "execution_count": 33,
     "metadata": {},
     "output_type": "execute_result"
    },
    {
     "data": {
      "image/png": "[encoded data removed]",
      "text/plain": [
       "<Figure size 432x288 with 1 Axes>"
      ]
     },
     "metadata": {
      "needs_background": "light"
     },
     "output_type": "display_data"
    }
   ],
   "source": [
    "# red channel\n",
    "plt.imshow(q1[:,:,0], cmap=\"gray\")"
   ]
  },
  {
   "cell_type": "code",
   "execution_count": 34,
   "id": "495f4fb9-82b0-4449-9601-69e1986b1e5c",
   "metadata": {},
   "outputs": [
    {
     "data": {
      "text/plain": [
       "<matplotlib.image.AxesImage at 0x7f336c712fd0>"
      ]
     },
     "execution_count": 34,
     "metadata": {},
     "output_type": "execute_result"
    },
    {
     "data": {
      "image/png": "[encoded data removed]",
      "text/plain": [
       "<Figure size 432x288 with 1 Axes>"
      ]
     },
     "metadata": {
      "needs_background": "light"
     },
     "output_type": "display_data"
    }
   ],
   "source": [
    "# green channel\n",
    "plt.imshow(q1[:,:,1], cmap=\"gray\")"
   ]
  },
  {
   "cell_type": "code",
   "execution_count": 35,
   "id": "780f32ad-444b-4261-8a57-3a24025b254e",
   "metadata": {},
   "outputs": [
    {
     "data": {
      "text/plain": [
       "<matplotlib.image.AxesImage at 0x7f336c6f7790>"
      ]
     },
     "execution_count": 35,
     "metadata": {},
     "output_type": "execute_result"
    },
    {
     "data": {
      "image/png": "[encoded data removed]",
      "text/plain": [
       "<Figure size 432x288 with 1 Axes>"
      ]
     },
     "metadata": {
      "needs_background": "light"
     },
     "output_type": "display_data"
    }
   ],
   "source": [
    "# blue channel\n",
    "plt.imshow(q1[:,:,2], cmap=\"gray\")"
   ]
  }
 ],
 "metadata": {
  "kernelspec": {
   "display_name": "Python 3",
   "language": "python",
   "name": "python3"
  },
  "language_info": {
   "codemirror_mode": {
    "name": "ipython",
    "version": 3
   },
   "file_extension": ".py",
   "mimetype": "text/x-python",
   "name": "python",
   "nbconvert_exporter": "python",
   "pygments_lexer": "ipython3",
   "version": "3.8.10"
  }
 },
 "nbformat": 4,
 "nbformat_minor": 5
}
