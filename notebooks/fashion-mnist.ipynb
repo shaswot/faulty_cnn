{
 "cells": [
  {
   "cell_type": "code",
   "execution_count": 1,
   "id": "2808b0c8-12e4-4808-b247-15ee33185a39",
   "metadata": {
    "jupyter": {
     "source_hidden": true
    }
   },
   "outputs": [],
   "source": [
    "# https://www.tensorflow.org/tutorials/keras/classification"
   ]
  },
  {
   "cell_type": "code",
   "execution_count": 2,
   "id": "9b53613a-5781-4761-8da7-5b7d92ea7ec5",
   "metadata": {
    "jupyter": {
     "source_hidden": true
    }
   },
   "outputs": [],
   "source": [
    "# TensorFlow and tf.keras\n",
    "import tensorflow as tf\n",
    "\n",
    "# Helper libraries\n",
    "import numpy as np\n",
    "import matplotlib.pyplot as plt"
   ]
  },
  {
   "cell_type": "code",
   "execution_count": 3,
   "id": "d17129ba-19e5-48ec-b763-ca7979e94136",
   "metadata": {
    "jupyter": {
     "source_hidden": true
    }
   },
   "outputs": [],
   "source": [
    "fashion_mnist = tf.keras.datasets.fashion_mnist\n",
    "\n",
    "(train_images, train_labels), (test_images, test_labels) = fashion_mnist.load_data()"
   ]
  },
  {
   "cell_type": "code",
   "execution_count": 4,
   "id": "751ffcf7-9065-42d2-a900-540c3bdc17b5",
   "metadata": {
    "jupyter": {
     "source_hidden": true
    }
   },
   "outputs": [],
   "source": [
    "train_images = train_images / 255.0\n",
    "test_images = test_images / 255.0\n",
    "train_images = tf.expand_dims(train_images, axis=3)\n",
    "test_images = tf.expand_dims(test_images, axis=3)"
   ]
  },
  {
   "cell_type": "code",
   "execution_count": 5,
   "id": "ae762517-4923-4573-8bbc-1c3d32e80726",
   "metadata": {
    "jupyter": {
     "source_hidden": true
    }
   },
   "outputs": [],
   "source": [
    "# model = tf.keras.Sequential([\n",
    "#     tf.keras.layers.Flatten(input_shape=(28, 28)),\n",
    "#     tf.keras.layers.Dense(128, activation='relu'),\n",
    "#     tf.keras.layers.Dense(10)\n",
    "# ])"
   ]
  },
  {
   "cell_type": "code",
   "execution_count": 6,
   "id": "ba958c71-40af-4e8d-b772-5d50065c8a54",
   "metadata": {
    "jupyter": {
     "source_hidden": true
    }
   },
   "outputs": [
    {
     "name": "stdout",
     "output_type": "stream",
     "text": [
      "Model: \"sequential\"\n",
      "_________________________________________________________________\n",
      " Layer (type)                Output Shape              Param #   \n",
      "=================================================================\n",
      " conv2d (Conv2D)             (None, 26, 26, 32)        320       \n",
      "                                                                 \n",
      " max_pooling2d (MaxPooling2D  (None, 13, 13, 32)       0         \n",
      " )                                                               \n",
      "                                                                 \n",
      " dropout (Dropout)           (None, 13, 13, 32)        0         \n",
      "                                                                 \n",
      " conv2d_1 (Conv2D)           (None, 11, 11, 64)        18496     \n",
      "                                                                 \n",
      " max_pooling2d_1 (MaxPooling  (None, 5, 5, 64)         0         \n",
      " 2D)                                                             \n",
      "                                                                 \n",
      " dropout_1 (Dropout)         (None, 5, 5, 64)          0         \n",
      "                                                                 \n",
      " flatten (Flatten)           (None, 1600)              0         \n",
      "                                                                 \n",
      " dense (Dense)               (None, 256)               409856    \n",
      "                                                                 \n",
      " dropout_2 (Dropout)         (None, 256)               0         \n",
      "                                                                 \n",
      " dense_1 (Dense)             (None, 10)                2570      \n",
      "                                                                 \n",
      "=================================================================\n",
      "Total params: 431,242\n",
      "Trainable params: 431,242\n",
      "Non-trainable params: 0\n",
      "_________________________________________________________________\n"
     ]
    }
   ],
   "source": [
    "model = tf.keras.Sequential()\n",
    "# Must define the input shape in the first layer of the neural network\n",
    "model.add(tf.keras.layers.Conv2D(32, (3, 3), activation='relu', input_shape=(28, 28, 1)))\n",
    "model.add(tf.keras.layers.MaxPooling2D((2, 2)))\n",
    "model.add(tf.keras.layers.Dropout(0.2))\n",
    "\n",
    "model.add(tf.keras.layers.Conv2D(64, (3, 3), activation='relu'))\n",
    "model.add(tf.keras.layers.MaxPooling2D((2, 2)))\n",
    "model.add(tf.keras.layers.Dropout(0.2))\n",
    "\n",
    "model.add(tf.keras.layers.Flatten())\n",
    "model.add(tf.keras.layers.Dense(256, activation='relu'))\n",
    "model.add(tf.keras.layers.Dropout(0.5))\n",
    "model.add(tf.keras.layers.Dense(10, activation='softmax'))\n",
    "# Take a look at the model summary\n",
    "model.summary()"
   ]
  },
  {
   "cell_type": "code",
   "execution_count": 7,
   "id": "2366e5e6-5056-4529-af1a-a3db0cdb5fd0",
   "metadata": {
    "jupyter": {
     "source_hidden": true
    }
   },
   "outputs": [],
   "source": [
    "model.compile(optimizer='adam',\n",
    "              loss=tf.keras.losses.SparseCategoricalCrossentropy(),\n",
    "              metrics=['accuracy'])"
   ]
  },
  {
   "cell_type": "code",
   "execution_count": 8,
   "id": "73542a9c-9b4f-4cc9-ad10-79c894b97c7c",
   "metadata": {
    "jupyter": {
     "source_hidden": true
    }
   },
   "outputs": [
    {
     "name": "stdout",
     "output_type": "stream",
     "text": [
      "Epoch 1/50\n",
      "938/938 [==============================] - 11s 8ms/step - loss: 0.5837 - accuracy: 0.7843 - val_loss: 0.4123 - val_accuracy: 0.8506\n",
      "Epoch 2/50\n",
      "938/938 [==============================] - 7s 7ms/step - loss: 0.3941 - accuracy: 0.8564 - val_loss: 0.3373 - val_accuracy: 0.8771\n",
      "Epoch 3/50\n",
      "938/938 [==============================] - 7s 8ms/step - loss: 0.3452 - accuracy: 0.8738 - val_loss: 0.3067 - val_accuracy: 0.8904\n",
      "Epoch 4/50\n",
      "938/938 [==============================] - 7s 8ms/step - loss: 0.3177 - accuracy: 0.8842 - val_loss: 0.2867 - val_accuracy: 0.8972\n",
      "Epoch 5/50\n",
      "938/938 [==============================] - 7s 8ms/step - loss: 0.2942 - accuracy: 0.8912 - val_loss: 0.2770 - val_accuracy: 0.9012\n",
      "Epoch 6/50\n",
      "938/938 [==============================] - 7s 7ms/step - loss: 0.2813 - accuracy: 0.8977 - val_loss: 0.2649 - val_accuracy: 0.9020\n",
      "Epoch 7/50\n",
      "938/938 [==============================] - 7s 7ms/step - loss: 0.2702 - accuracy: 0.9012 - val_loss: 0.2627 - val_accuracy: 0.9036\n",
      "Epoch 8/50\n",
      "938/938 [==============================] - 7s 7ms/step - loss: 0.2598 - accuracy: 0.9033 - val_loss: 0.2569 - val_accuracy: 0.9058\n",
      "Epoch 9/50\n",
      "938/938 [==============================] - 7s 7ms/step - loss: 0.2498 - accuracy: 0.9077 - val_loss: 0.2448 - val_accuracy: 0.9081\n",
      "Epoch 10/50\n",
      "938/938 [==============================] - 7s 7ms/step - loss: 0.2413 - accuracy: 0.9097 - val_loss: 0.2513 - val_accuracy: 0.9083\n",
      "Epoch 11/50\n",
      "938/938 [==============================] - 7s 7ms/step - loss: 0.2348 - accuracy: 0.9123 - val_loss: 0.2398 - val_accuracy: 0.9095\n",
      "Epoch 12/50\n",
      "938/938 [==============================] - 7s 7ms/step - loss: 0.2276 - accuracy: 0.9149 - val_loss: 0.2491 - val_accuracy: 0.9090\n",
      "Epoch 13/50\n",
      "938/938 [==============================] - 7s 7ms/step - loss: 0.2209 - accuracy: 0.9179 - val_loss: 0.2371 - val_accuracy: 0.9134\n",
      "Epoch 14/50\n",
      "938/938 [==============================] - 6s 7ms/step - loss: 0.2194 - accuracy: 0.9177 - val_loss: 0.2335 - val_accuracy: 0.9136\n",
      "Epoch 15/50\n",
      "938/938 [==============================] - 6s 7ms/step - loss: 0.2134 - accuracy: 0.9204 - val_loss: 0.2446 - val_accuracy: 0.9122\n",
      "Epoch 16/50\n",
      "938/938 [==============================] - 7s 7ms/step - loss: 0.2069 - accuracy: 0.9226 - val_loss: 0.2415 - val_accuracy: 0.9123\n",
      "Epoch 17/50\n",
      "938/938 [==============================] - 6s 7ms/step - loss: 0.2035 - accuracy: 0.9234 - val_loss: 0.2310 - val_accuracy: 0.9177\n",
      "Epoch 18/50\n",
      "938/938 [==============================] - 6s 7ms/step - loss: 0.1984 - accuracy: 0.9252 - val_loss: 0.2352 - val_accuracy: 0.9126\n",
      "Epoch 19/50\n",
      "938/938 [==============================] - 6s 7ms/step - loss: 0.1974 - accuracy: 0.9249 - val_loss: 0.2269 - val_accuracy: 0.9158\n",
      "Epoch 20/50\n",
      "938/938 [==============================] - 6s 7ms/step - loss: 0.1947 - accuracy: 0.9258 - val_loss: 0.2331 - val_accuracy: 0.9173\n",
      "Epoch 21/50\n",
      "938/938 [==============================] - 6s 7ms/step - loss: 0.1908 - accuracy: 0.9276 - val_loss: 0.2410 - val_accuracy: 0.9154\n",
      "Epoch 22/50\n",
      "938/938 [==============================] - 6s 7ms/step - loss: 0.1859 - accuracy: 0.9295 - val_loss: 0.2316 - val_accuracy: 0.9199\n",
      "Epoch 23/50\n",
      "938/938 [==============================] - 6s 7ms/step - loss: 0.1837 - accuracy: 0.9311 - val_loss: 0.2292 - val_accuracy: 0.9178\n",
      "Epoch 24/50\n",
      "938/938 [==============================] - 6s 7ms/step - loss: 0.1806 - accuracy: 0.9305 - val_loss: 0.2364 - val_accuracy: 0.9190\n",
      "Epoch 25/50\n",
      "938/938 [==============================] - 6s 7ms/step - loss: 0.1804 - accuracy: 0.9324 - val_loss: 0.2404 - val_accuracy: 0.9172\n",
      "Epoch 26/50\n",
      "938/938 [==============================] - 6s 7ms/step - loss: 0.1779 - accuracy: 0.9337 - val_loss: 0.2294 - val_accuracy: 0.9197\n",
      "Epoch 27/50\n",
      "938/938 [==============================] - 7s 7ms/step - loss: 0.1762 - accuracy: 0.9325 - val_loss: 0.2323 - val_accuracy: 0.9190\n",
      "Epoch 28/50\n",
      "938/938 [==============================] - 7s 7ms/step - loss: 0.1755 - accuracy: 0.9333 - val_loss: 0.2374 - val_accuracy: 0.9184\n",
      "Epoch 29/50\n",
      "938/938 [==============================] - 7s 7ms/step - loss: 0.1701 - accuracy: 0.9343 - val_loss: 0.2307 - val_accuracy: 0.9201\n",
      "Epoch 30/50\n",
      "938/938 [==============================] - 7s 7ms/step - loss: 0.1712 - accuracy: 0.9349 - val_loss: 0.2328 - val_accuracy: 0.9187\n",
      "Epoch 31/50\n",
      "938/938 [==============================] - 7s 7ms/step - loss: 0.1666 - accuracy: 0.9374 - val_loss: 0.2345 - val_accuracy: 0.9207\n",
      "Epoch 32/50\n",
      "938/938 [==============================] - 7s 7ms/step - loss: 0.1653 - accuracy: 0.9366 - val_loss: 0.2342 - val_accuracy: 0.9198\n",
      "Epoch 33/50\n",
      "938/938 [==============================] - 7s 7ms/step - loss: 0.1667 - accuracy: 0.9362 - val_loss: 0.2382 - val_accuracy: 0.9203\n",
      "Epoch 34/50\n",
      "938/938 [==============================] - 7s 7ms/step - loss: 0.1596 - accuracy: 0.9388 - val_loss: 0.2385 - val_accuracy: 0.9194\n",
      "Epoch 35/50\n",
      "938/938 [==============================] - 6s 7ms/step - loss: 0.1610 - accuracy: 0.9399 - val_loss: 0.2483 - val_accuracy: 0.9223\n",
      "Epoch 36/50\n",
      "938/938 [==============================] - 6s 7ms/step - loss: 0.1575 - accuracy: 0.9403 - val_loss: 0.2475 - val_accuracy: 0.9179\n",
      "Epoch 37/50\n",
      "938/938 [==============================] - 6s 7ms/step - loss: 0.1567 - accuracy: 0.9398 - val_loss: 0.2654 - val_accuracy: 0.9152\n",
      "Epoch 38/50\n",
      "938/938 [==============================] - 6s 7ms/step - loss: 0.1577 - accuracy: 0.9385 - val_loss: 0.2446 - val_accuracy: 0.9206\n",
      "Epoch 39/50\n",
      "938/938 [==============================] - 6s 7ms/step - loss: 0.1567 - accuracy: 0.9390 - val_loss: 0.2350 - val_accuracy: 0.9232\n",
      "Epoch 40/50\n",
      "938/938 [==============================] - 7s 7ms/step - loss: 0.1542 - accuracy: 0.9409 - val_loss: 0.2480 - val_accuracy: 0.9211\n",
      "Epoch 41/50\n",
      "938/938 [==============================] - 6s 7ms/step - loss: 0.1532 - accuracy: 0.9413 - val_loss: 0.2388 - val_accuracy: 0.9227\n",
      "Epoch 42/50\n",
      "938/938 [==============================] - 6s 7ms/step - loss: 0.1525 - accuracy: 0.9419 - val_loss: 0.2490 - val_accuracy: 0.9160\n",
      "Epoch 43/50\n",
      "938/938 [==============================] - 6s 7ms/step - loss: 0.1479 - accuracy: 0.9429 - val_loss: 0.2350 - val_accuracy: 0.9204\n",
      "Epoch 44/50\n",
      "938/938 [==============================] - 7s 7ms/step - loss: 0.1479 - accuracy: 0.9425 - val_loss: 0.2422 - val_accuracy: 0.9216\n",
      "Epoch 45/50\n",
      "938/938 [==============================] - 6s 7ms/step - loss: 0.1516 - accuracy: 0.9414 - val_loss: 0.2409 - val_accuracy: 0.9219\n",
      "Epoch 46/50\n",
      "938/938 [==============================] - 6s 7ms/step - loss: 0.1474 - accuracy: 0.9441 - val_loss: 0.2480 - val_accuracy: 0.9217\n",
      "Epoch 47/50\n",
      "938/938 [==============================] - 6s 7ms/step - loss: 0.1479 - accuracy: 0.9424 - val_loss: 0.2438 - val_accuracy: 0.9232\n",
      "Epoch 48/50\n",
      "938/938 [==============================] - 6s 7ms/step - loss: 0.1453 - accuracy: 0.9444 - val_loss: 0.2484 - val_accuracy: 0.9226\n",
      "Epoch 49/50\n",
      "938/938 [==============================] - 6s 7ms/step - loss: 0.1463 - accuracy: 0.9442 - val_loss: 0.2590 - val_accuracy: 0.9238\n",
      "Epoch 50/50\n",
      "938/938 [==============================] - 6s 7ms/step - loss: 0.1465 - accuracy: 0.9438 - val_loss: 0.2460 - val_accuracy: 0.9193\n"
     ]
    }
   ],
   "source": [
    "history = model.fit(train_images, train_labels,batch_size=64, epochs=50, \n",
    "                    validation_data=(test_images, test_labels))"
   ]
  },
  {
   "cell_type": "code",
   "execution_count": 9,
   "id": "1a3ae0c6-0f32-49e2-aeb7-098d40599ddc",
   "metadata": {
    "tags": []
   },
   "outputs": [
    {
     "name": "stdout",
     "output_type": "stream",
     "text": [
      "313/313 - 1s - loss: 0.2460 - accuracy: 0.9193 - 1s/epoch - 4ms/step\n",
      "0.9193000197410583\n"
     ]
    }
   ],
   "source": [
    "test_loss, test_acc = model.evaluate(test_images,  test_labels, verbose=2)\n",
    "print(test_acc)"
   ]
  },
  {
   "cell_type": "code",
   "execution_count": 10,
   "id": "b9abdaf2-6e78-4fc9-82b2-26b2af91e96b",
   "metadata": {},
   "outputs": [
    {
     "name": "stdout",
     "output_type": "stream",
     "text": [
      "1875/1875 - 7s - loss: 0.0653 - accuracy: 0.9803 - 7s/epoch - 4ms/step\n",
      "0.9802500009536743\n"
     ]
    }
   ],
   "source": [
    "test_loss, test_acc = model.evaluate(train_images,  train_labels, verbose=2)\n",
    "print(test_acc)"
   ]
  },
  {
   "cell_type": "code",
   "execution_count": null,
   "id": "9ced12b1-6da6-4e33-9efb-ba3af6496f44",
   "metadata": {},
   "outputs": [],
   "source": []
  }
 ],
 "metadata": {
  "kernelspec": {
   "display_name": "Python 3",
   "language": "python",
   "name": "python3"
  },
  "language_info": {
   "codemirror_mode": {
    "name": "ipython",
    "version": 3
   },
   "file_extension": ".py",
   "mimetype": "text/x-python",
   "name": "python",
   "nbconvert_exporter": "python",
   "pygments_lexer": "ipython3",
   "version": "3.8.10"
  }
 },
 "nbformat": 4,
 "nbformat_minor": 5
}
