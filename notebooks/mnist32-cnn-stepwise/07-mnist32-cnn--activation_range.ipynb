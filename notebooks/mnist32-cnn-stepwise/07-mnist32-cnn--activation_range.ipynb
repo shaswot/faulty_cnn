{
 "cells": [
  {
   "cell_type": "code",
   "execution_count": 1,
   "id": "b646fa8b-d5ab-4948-a8a0-58d54cfac2b8",
   "metadata": {
    "tags": []
   },
   "outputs": [],
   "source": [
    "%matplotlib inline"
   ]
  },
  {
   "cell_type": "code",
   "execution_count": 2,
   "id": "5e1c5551-8517-432e-a8be-54f2def83275",
   "metadata": {},
   "outputs": [],
   "source": [
    "import os\n",
    "import sys\n",
    "import git\n",
    "import pathlib\n",
    "\n",
    "import random\n",
    "\n",
    "import numpy as np\n",
    "import tensorflow as tf\n",
    "from tensorflow import keras\n",
    "from tensorflow.keras.datasets import mnist\n",
    "\n",
    "from sklearn.metrics import confusion_matrix\n",
    "from sklearn.metrics import accuracy_score\n",
    "\n",
    "os.environ['TF_CPP_MIN_LOG_LEVEL'] = '3' \n",
    "os.environ['CUDA_VISIBLE_DEVICES'] = '0' # use GPU\n",
    "# Using GPU during inference has deterministic results (same as CPU)\n",
    "\n",
    "PROJ_ROOT_PATH = pathlib.Path(git.Repo('.', search_parent_directories=True).working_tree_dir)\n",
    "PROJ_ROOT =  str(PROJ_ROOT_PATH)\n",
    "if PROJ_ROOT not in sys.path:\n",
    "    sys.path.append(PROJ_ROOT)\n",
    "\n",
    "from libs import utils, mnist32_cnn\n",
    "from libs.constants import model_seeds"
   ]
  },
  {
   "cell_type": "code",
   "execution_count": 3,
   "id": "65a312c7-d63f-408b-91c8-31c96936b2ee",
   "metadata": {},
   "outputs": [],
   "source": [
    "# Limit GPU growth\n",
    "gpus = tf.config.experimental.list_physical_devices('GPU')\n",
    "if gpus:\n",
    "    try:\n",
    "        for gpu in gpus:\n",
    "            tf.config.experimental.set_memory_growth(gpu, True)\n",
    "    except RuntimeError as e:\n",
    "        print(e)"
   ]
  },
  {
   "cell_type": "code",
   "execution_count": 4,
   "id": "4ca7a059-2411-4277-9b0f-541a2294e9d7",
   "metadata": {
    "tags": []
   },
   "outputs": [],
   "source": [
    "# Prepare dataset\n",
    "# Combine test and train images together into one dataset\n",
    "DATASET_PATH = str(pathlib.Path(PROJ_ROOT_PATH / \"datasets\" / \"mnist.npz\" ))\n",
    "(train_images, train_labels), (test_images, test_labels) = mnist.load_data(path=DATASET_PATH)\n",
    "train_images = train_images.astype(np.float32) / 255.0\n",
    "test_images = test_images.astype(np.float32) / 255.0  \n",
    "\n",
    "all_images =np.concatenate([train_images, test_images], axis=0)\n",
    "all_labels =np.concatenate([train_labels, test_labels], axis=0)\n",
    "all_images = np.expand_dims(all_images, axis=-1)\n",
    "\n",
    "# resize the input shape , i.e. old shape: 28, new shape: 32\n",
    "image_x_size = 32\n",
    "image_y_size = 32\n",
    "all_images = tf.image.resize(all_images, [image_x_size, image_y_size]) "
   ]
  },
  {
   "cell_type": "code",
   "execution_count": 5,
   "id": "e38e837b-462c-42fb-a586-dabedc0627ab",
   "metadata": {},
   "outputs": [],
   "source": [
    "model_type = \"mnist32-cnn_1024_256_64\"\n",
    "imnum = 128*40\n",
    "images = all_images[-imnum:]"
   ]
  },
  {
   "cell_type": "code",
   "execution_count": 6,
   "id": "68c3235c-8b4c-4414-955f-275bd6d5d83d",
   "metadata": {},
   "outputs": [],
   "source": [
    "conv_out_list= []\n",
    "pool_out_list= []\n",
    "flat_out_list= []\n",
    "fc_0_out_list= []\n",
    "fc_1_out_list= []\n",
    "fc_2_out_list= []\n",
    "op_layer_out_list= []"
   ]
  },
  {
   "cell_type": "code",
   "execution_count": 7,
   "id": "342cd9f4-a9a5-4a46-aac8-332bcec47fa6",
   "metadata": {},
   "outputs": [],
   "source": [
    "model_seeds = model_seeds[0:3]"
   ]
  },
  {
   "cell_type": "code",
   "execution_count": 8,
   "id": "5841ab47-d1fb-42e2-91d4-2d6a0b37094b",
   "metadata": {},
   "outputs": [],
   "source": [
    "for model_seed in model_seeds:\n",
    "    # Get model\n",
    "    model_instance = model_type + \"-\" + str(model_seed)\n",
    "    dataset, model_arch, model_config, layer_widths, seed = utils.instancename2metadata(model_instance)\n",
    "    model_meta_type, model_type, model_instance = utils.metadata2instancenames(dataset, model_arch, layer_widths, seed)\n",
    "\n",
    "    model_folder = pathlib.Path(PROJ_ROOT_PATH / \"models\" / model_type)\n",
    "    model_filename = model_instance + \".h5\"\n",
    "    model_file = pathlib.Path(model_folder/ model_filename)\n",
    "    \n",
    "    # Load model\n",
    "    model = tf.keras.models.load_model(model_file)\n",
    "    \n",
    "    # Log output of each layer\n",
    "    conv_out = model.layers[0](images)\n",
    "    conv_out_list.append(conv_out)\n",
    "\n",
    "    pool_out = model.layers[1](\n",
    "                    model.layers[0](images))\n",
    "    pool_out_list.append(pool_out)\n",
    "\n",
    "    flat_out = model.layers[2](\n",
    "                    model.layers[1](\n",
    "                        model.layers[0](images)))\n",
    "    flat_out_list.append(flat_out)\n",
    "\n",
    "    fc_0_out = model.layers[3](\n",
    "                    model.layers[2](\n",
    "                        model.layers[1](\n",
    "                            model.layers[0](images))))\n",
    "    fc_0_out_list.append(fc_0_out)\n",
    "\n",
    "    fc_1_out = model.layers[4](\n",
    "                    model.layers[3](\n",
    "                      model.layers[2](\n",
    "                          model.layers[1](\n",
    "                              model.layers[0](images)))))\n",
    "    fc_1_out_list.append(fc_1_out)\n",
    "\n",
    "    fc_2_out = model.layers[5](\n",
    "                  model.layers[4](\n",
    "                      model.layers[3](\n",
    "                          model.layers[2](\n",
    "                              model.layers[1](\n",
    "                                  model.layers[0](images))))))\n",
    "    fc_2_out_list.append(fc_2_out)\n",
    "\n",
    "    op_layer_out = model.layers[6](\n",
    "                      model.layers[5](\n",
    "                          model.layers[4](\n",
    "                              model.layers[3](\n",
    "                                  model.layers[2](\n",
    "                                      model.layers[1](\n",
    "                                          model.layers[0](images)))))))\n",
    "    op_layer_out_list.append(op_layer_out)"
   ]
  },
  {
   "cell_type": "code",
   "execution_count": 9,
   "id": "d39f2607-6d6f-4ef0-affd-b6d64200e512",
   "metadata": {},
   "outputs": [],
   "source": [
    "# fig, ax = plt.subplots()\n",
    "\n",
    "# vp = ax.violinplot(D, [2, 4, 6], widths=2,\n",
    "#                    showmeans=False, showmedians=False, showextrema=False)"
   ]
  },
  {
   "cell_type": "code",
   "execution_count": 10,
   "id": "6c0dcee2-9670-4f3d-b9ff-cf0c0cb0fc5f",
   "metadata": {},
   "outputs": [],
   "source": [
    "all_conv_out = np.array(conv_out_list).flatten()\n",
    "all_pool_out = np.array(pool_out_list).flatten()\n",
    "all_flat_out = np.array(flat_out_list).flatten()\n",
    "all_fc_0_out = np.array(fc_0_out_list).flatten()\n",
    "all_fc_1_out = np.array(fc_1_out_list).flatten()\n",
    "all_fc_2_out = np.array(fc_2_out_list).flatten()\n",
    "all_op_layer_out = np.array(op_layer_out_list).flatten()"
   ]
  },
  {
   "cell_type": "code",
   "execution_count": 11,
   "id": "8c4d61bd-7c29-4794-90a1-0b398edc9340",
   "metadata": {},
   "outputs": [],
   "source": [
    "data = [\n",
    "        all_conv_out,\n",
    "        # all_pool_out,\n",
    "        # all_flat_out,\n",
    "        all_fc_0_out,\n",
    "        all_fc_1_out,\n",
    "        all_fc_2_out,\n",
    "        all_op_layer_out,\n",
    "       ]"
   ]
  },
  {
   "cell_type": "code",
   "execution_count": 12,
   "id": "08f74f1b-f70d-4b4b-9e02-e574e012ea21",
   "metadata": {},
   "outputs": [],
   "source": [
    "import matplotlib.pyplot as plt\n",
    "import matplotlib.gridspec as gridspec\n",
    "cm = plt.get_cmap('tab20')\n",
    "color_list = [cm(i*2-1) for i in range(cm.N)]\n",
    "\n",
    "cmdark_list = [cm(i*2+1) for i in range(cm.N)]"
   ]
  },
  {
   "cell_type": "code",
   "execution_count": 13,
   "id": "a9f1b082-7fcb-446a-a266-efb49fce2fe6",
   "metadata": {
    "tags": []
   },
   "outputs": [
    {
     "data": {
      "text/plain": [
       "Text(0.5, 0.98, 'Range of Activation Values for mnist32-cnn')"
      ]
     },
     "execution_count": 13,
     "metadata": {},
     "output_type": "execute_result"
    },
    {
     "data": {
      "image/png": "[encoded data removed]",
      "text/plain": [
       "<Figure size 500x216.316 with 3 Axes>"
      ]
     },
     "metadata": {
      "needs_background": "light"
     },
     "output_type": "display_data"
    }
   ],
   "source": [
    "# Plot figure\n",
    "fig_width = 3.125/0.9 * 2\n",
    "fig_height = fig_width / 1.618 *0.7\n",
    "\n",
    "# fig, axs = plt.subplots(nrows=1,\n",
    "#                         ncols=3,\n",
    "#                         figsize=[fig_width,fig_height], # in inches\n",
    "#                         sharex=False)\n",
    "# plt.subplots_adjust(left=None, bottom=None, right=None, top=None, wspace=None, hspace=.05)\n",
    "\n",
    "fig = plt.figure(figsize=[fig_width,fig_height]) # in inches)\n",
    "\n",
    "gs = gridspec.GridSpec(1, 3, width_ratios=[1,3,1])\n",
    "              \n",
    "ax0 = plt.subplot(gs[0])\n",
    "ax1 = plt.subplot(gs[1])\n",
    "ax2 = plt.subplot(gs[2])\n",
    "\n",
    "axs = [ax0, ax1, ax2]\n",
    "\n",
    "c0plot = axs[0].violinplot(data[0],\n",
    "                            showmeans=False, \n",
    "                            showmedians=False, \n",
    "                            showextrema=False)\n",
    "\n",
    "for idx,pc in enumerate(c0plot['bodies']):\n",
    "    pc.set_facecolor(cmdark_list[idx])\n",
    "    pc.set_edgecolor('black')\n",
    "    pc.set_alpha(0.9)\n",
    "axs[0].set_xticks([1],[\"c0\"])\n",
    "axs[0].set_yticks([0,2,4,6])\n",
    "    \n",
    "fcplot = axs[1].violinplot(data[1:-1],\n",
    "                            showmeans=False, \n",
    "                            showmedians=False, \n",
    "                            showextrema=False)\n",
    "\n",
    "for idx,pc in enumerate(fcplot['bodies']):\n",
    "    pc.set_facecolor(cmdark_list[idx+1])\n",
    "    pc.set_edgecolor('black')\n",
    "    pc.set_alpha(0.9)\n",
    "axs[1].set_xticks([1,2,3],[\"h0\",\"h1\",\"h2\"])\n",
    "axs[1].set_yticks([0,10,20])\n",
    "\n",
    "\n",
    "    \n",
    "opplot = axs[2].violinplot(data[-1],\n",
    "                            showmeans=False, \n",
    "                            showmedians=False, \n",
    "                            showextrema=False)\n",
    "\n",
    "for idx,pc in enumerate(opplot['bodies']):\n",
    "    pc.set_facecolor(cmdark_list[idx+4])\n",
    "    pc.set_edgecolor('black')\n",
    "    pc.set_alpha(0.9)\n",
    "axs[2].set_xticks([1],[\"op\"])\n",
    "axs[2].yaxis.tick_right()\n",
    "\n",
    "fig.suptitle(\"Range of Activation Values for mnist32-cnn\")\n",
    "# fig.supxlabel(\"Layer\")\n",
    "# fig.tight_layout()\n"
   ]
  },
  {
   "cell_type": "code",
   "execution_count": 20,
   "id": "798ca21c-27f2-4e13-8b26-00803a1a4d8e",
   "metadata": {},
   "outputs": [
    {
     "data": {
      "text/plain": [
       "[<matplotlib.axis.YTick at 0x7fba5e332760>,\n",
       " <matplotlib.axis.YTick at 0x7fba5e32afa0>,\n",
       " <matplotlib.axis.YTick at 0x7fba5e32a040>]"
      ]
     },
     "execution_count": 20,
     "metadata": {},
     "output_type": "execute_result"
    }
   ],
   "source": [
    "axs[0].set_yticks([0,2,4,6],[0,2,4,6])\n",
    "axs[1].set_yticks([0,10,20],[0,10,20])"
   ]
  },
  {
   "cell_type": "code",
   "execution_count": 21,
   "id": "6db3ba0c-05f9-414a-b6e2-8438df900585",
   "metadata": {},
   "outputs": [
    {
     "data": {
      "image/png": "[encoded data removed]",
      "text/plain": [
       "<Figure size 500x216.316 with 3 Axes>"
      ]
     },
     "execution_count": 21,
     "metadata": {},
     "output_type": "execute_result"
    }
   ],
   "source": [
    "fig"
   ]
  },
  {
   "cell_type": "code",
   "execution_count": 22,
   "id": "3a57bd94-eb40-47f4-8da4-6843ee425cb3",
   "metadata": {
    "tags": []
   },
   "outputs": [
    {
     "name": "stdout",
     "output_type": "stream",
     "text": [
      "/repos/faulty_cnn/figures/mnist32-cnn--activation_range\n"
     ]
    }
   ],
   "source": [
    "# Get notebook path\n",
    "import ipynbname\n",
    "nb_path = str(ipynbname.path())\n",
    "fig_filename_tag = \"mnist32-cnn--activation_range\"\n",
    "fig_folder = pathlib.Path(PROJ_ROOT_PATH / \"figures\")\n",
    "pathlib.Path(fig_folder).mkdir(parents=True, exist_ok=True)\n",
    "fig_filename = pathlib.Path(fig_folder/ fig_filename_tag)\n",
    "print(fig_filename)\n",
    "fig.savefig(fig_filename,\n",
    "    # pathlib.Path(fig_filename).with_suffix(\".png\"), \n",
    "            dpi=300, \n",
    "            bbox_inches='tight', \n",
    "            transparent=True, \n",
    "            metadata={\"genfilepath\": nb_path})"
   ]
  },
  {
   "cell_type": "code",
   "execution_count": null,
   "id": "8215d850-f4b1-4a78-8262-1ef32ff6572e",
   "metadata": {
    "tags": []
   },
   "outputs": [],
   "source": []
  },
  {
   "cell_type": "code",
   "execution_count": 15,
   "id": "24ece999-f6c3-438a-8163-f69e00d63c5b",
   "metadata": {
    "tags": []
   },
   "outputs": [],
   "source": [
    "# # Plot figure\n",
    "# fig_width = 3.125/0.8 *2.5\n",
    "# fig_height = fig_width / 1.618 *0.5\n",
    "\n",
    "# fig, axs = plt.subplots(nrows=1,\n",
    "#                         ncols=3,\n",
    "#                         figsize=[fig_width,fig_height], # in inches\n",
    "#                         sharex=False)\n",
    "# plt.subplots_adjust(left=None, bottom=None, right=None, top=None, wspace=None, hspace=.05)\n",
    "\n",
    "# axs[0].violinplot(load_data[0],\n",
    "#                 showmeans=False, \n",
    "#                 showmedians=False, \n",
    "#                 showextrema=False)"
   ]
  },
  {
   "cell_type": "code",
   "execution_count": 16,
   "id": "422d515b-9252-4ef6-8923-c311470b9958",
   "metadata": {
    "tags": []
   },
   "outputs": [],
   "source": [
    "# c0_out_log = np.log10(all_conv_out + 1e-30)\n",
    "# fc_0_out_log = np.log10(all_fc_0_out + 1e-30)\n",
    "# fc_1_out_log = np.log10(all_fc_1_out + 1e-30)\n",
    "# fc_2_out_log = np.log10(all_fc_2_out + 1e-30)\n",
    "# op_layer_out_log = np.log10(all_op_layer_out + 1e-30)\n",
    "\n",
    "# log_data = [\n",
    "#     c0_out_log,\n",
    "#     fc_0_out_log,\n",
    "#     fc_0_out_log,\n",
    "#     fc_0_out_log,\n",
    "#     op_layer_out_log,\n",
    "# ]"
   ]
  },
  {
   "cell_type": "code",
   "execution_count": 17,
   "id": "acb90fd4-29f9-4c71-952a-e1298d953cbe",
   "metadata": {},
   "outputs": [],
   "source": [
    "# # Plot figure\n",
    "# fig_width = 3.125/0.8 *2.5\n",
    "# fig_height = fig_width / 1.618 *0.5\n",
    "\n",
    "# fig, axs = plt.subplots(nrows=1,\n",
    "#                         ncols=3,\n",
    "#                         figsize=[fig_width,fig_height], # in inches\n",
    "#                         sharex=False)\n",
    "# plt.subplots_adjust(left=None, bottom=None, right=None, top=None, wspace=None, hspace=.05)\n",
    "\n",
    "# # axs.violinplot(load_data,np.arange(len(load_data)),\n",
    "# #               showmeans=False, showmedians=False, showextrema=False)\n",
    "\n",
    "# box0=axs[0].boxplot(load_data[1:-1],\n",
    "#                 notch=True,\n",
    "#                     showfliers=not False,\n",
    "#                     patch_artist=True,\n",
    "#                     # whis=0.75,\n",
    "#                     # showmeans=True,\n",
    "#                    )\n",
    "# for patch, color in zip(box0['boxes'], color_list):\n",
    "#     patch.set_facecolor(color)\n",
    "    \n",
    "\n",
    "# box0=axs[1].boxplot(load_data[0],\n",
    "#                 notch=True,\n",
    "#                     showfliers=not False,\n",
    "#                     patch_artist=True,\n",
    "#                     # whis=0.75,\n",
    "#                     # showmeans=True,\n",
    "#                    )\n",
    "# for patch, color in zip(box0['boxes'], color_list[3:]):\n",
    "#     patch.set_facecolor(color)\n",
    "    \n",
    "# box0=axs[2].boxplot(load_data[-1],\n",
    "#                 notch=True,\n",
    "#                 showfliers= not False,\n",
    "#                 patch_artist=True,\n",
    "#                 # whis=0.75,\n",
    "#                 # showmeans=True,\n",
    "#                    )\n",
    "# for patch, color in zip(box0['boxes'], color_list[4:]):\n",
    "#     patch.set_facecolor(color)\n",
    "\n",
    "# # axs[2].violinplot(load_data[-1],\n",
    "# #               showmeans=False, showmedians=False, showextrema=False)\n",
    "\n",
    "# # axs.set_xticks(np.arange(5)+1,[\"c0\", \"fc0\", \"fc1\", \"fc2\", \"op\"])\n",
    "\n",
    "# # axs.set_yscale('log')"
   ]
  }
 ],
 "metadata": {
  "kernelspec": {
   "display_name": "Python 3",
   "language": "python",
   "name": "python3"
  },
  "language_info": {
   "codemirror_mode": {
    "name": "ipython",
    "version": 3
   },
   "file_extension": ".py",
   "mimetype": "text/x-python",
   "name": "python",
   "nbconvert_exporter": "python",
   "pygments_lexer": "ipython3",
   "version": "3.8.10"
  }
 },
 "nbformat": 4,
 "nbformat_minor": 5
}
