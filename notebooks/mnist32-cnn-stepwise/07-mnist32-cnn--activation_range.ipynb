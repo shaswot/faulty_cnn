{
 "cells": [
  {
   "cell_type": "code",
   "execution_count": 1,
   "id": "5e1c5551-8517-432e-a8be-54f2def83275",
   "metadata": {},
   "outputs": [],
   "source": [
    "import os\n",
    "import sys\n",
    "import git\n",
    "import pathlib\n",
    "\n",
    "import random\n",
    "\n",
    "import numpy as np\n",
    "import tensorflow as tf\n",
    "from tensorflow import keras\n",
    "from tensorflow.keras.datasets import mnist\n",
    "\n",
    "from sklearn.metrics import confusion_matrix\n",
    "from sklearn.metrics import accuracy_score\n",
    "\n",
    "os.environ['TF_CPP_MIN_LOG_LEVEL'] = '3' \n",
    "os.environ['CUDA_VISIBLE_DEVICES'] = '0' # use GPU\n",
    "# Using GPU during inference has deterministic results (same as CPU)\n",
    "\n",
    "PROJ_ROOT_PATH = pathlib.Path(git.Repo('.', search_parent_directories=True).working_tree_dir)\n",
    "PROJ_ROOT =  str(PROJ_ROOT_PATH)\n",
    "if PROJ_ROOT not in sys.path:\n",
    "    sys.path.append(PROJ_ROOT)\n",
    "\n",
    "from libs import utils, mnist32_cnn\n",
    "from libs.constants import model_seeds"
   ]
  },
  {
   "cell_type": "code",
   "execution_count": 2,
   "id": "65a312c7-d63f-408b-91c8-31c96936b2ee",
   "metadata": {},
   "outputs": [],
   "source": [
    "# Limit GPU growth\n",
    "gpus = tf.config.experimental.list_physical_devices('GPU')\n",
    "if gpus:\n",
    "    try:\n",
    "        for gpu in gpus:\n",
    "            tf.config.experimental.set_memory_growth(gpu, True)\n",
    "    except RuntimeError as e:\n",
    "        print(e)"
   ]
  },
  {
   "cell_type": "code",
   "execution_count": 3,
   "id": "4ca7a059-2411-4277-9b0f-541a2294e9d7",
   "metadata": {},
   "outputs": [],
   "source": [
    "# Prepare dataset\n",
    "# Combine test and train images together into one dataset\n",
    "DATASET_PATH = str(pathlib.Path(PROJ_ROOT_PATH / \"datasets\" / \"mnist.npz\" ))\n",
    "(train_images, train_labels), (test_images, test_labels) = mnist.load_data(path=DATASET_PATH)\n",
    "train_images = train_images.astype(np.float32) / 255.0\n",
    "test_images = test_images.astype(np.float32) / 255.0  \n",
    "\n",
    "all_images =np.concatenate([train_images, test_images], axis=0)\n",
    "all_labels =np.concatenate([train_labels, test_labels], axis=0)\n",
    "all_images = np.expand_dims(all_images, axis=-1)\n",
    "\n",
    "# resize the input shape , i.e. old shape: 28, new shape: 32\n",
    "image_x_size = 32\n",
    "image_y_size = 32\n",
    "all_images = tf.image.resize(all_images, [image_x_size, image_y_size]) "
   ]
  },
  {
   "cell_type": "code",
   "execution_count": 4,
   "id": "e38e837b-462c-42fb-a586-dabedc0627ab",
   "metadata": {},
   "outputs": [],
   "source": [
    "model_type = \"mnist32-cnn_1024_256_64\"\n",
    "imnum = 128*40\n",
    "images = all_images[-imnum:]"
   ]
  },
  {
   "cell_type": "code",
   "execution_count": 5,
   "id": "68c3235c-8b4c-4414-955f-275bd6d5d83d",
   "metadata": {},
   "outputs": [],
   "source": [
    "conv_out_list= []\n",
    "pool_out_list= []\n",
    "flat_out_list= []\n",
    "fc_0_out_list= []\n",
    "fc_1_out_list= []\n",
    "fc_2_out_list= []\n",
    "op_layer_out_list= []"
   ]
  },
  {
   "cell_type": "code",
   "execution_count": 6,
   "id": "5841ab47-d1fb-42e2-91d4-2d6a0b37094b",
   "metadata": {},
   "outputs": [],
   "source": [
    "for model_seed in model_seeds:\n",
    "    # Get model\n",
    "    model_instance = model_type + \"-\" + str(model_seed)\n",
    "    dataset, model_arch, model_config, layer_widths, seed = utils.instancename2metadata(model_instance)\n",
    "    model_meta_type, model_type, model_instance = utils.metadata2instancenames(dataset, model_arch, layer_widths, seed)\n",
    "\n",
    "    model_folder = pathlib.Path(PROJ_ROOT_PATH / \"models\" / model_type)\n",
    "    model_filename = model_instance + \".h5\"\n",
    "    model_file = pathlib.Path(model_folder/ model_filename)\n",
    "    \n",
    "    # Load model\n",
    "    model = tf.keras.models.load_model(model_file)\n",
    "    \n",
    "    # Log output of each layer\n",
    "    conv_out = model.layers[0](images)\n",
    "    conv_out_list.append(conv_out)\n",
    "\n",
    "    pool_out = model.layers[1](\n",
    "                    model.layers[0](images))\n",
    "    pool_out_list.append(pool_out)\n",
    "\n",
    "    flat_out = model.layers[2](\n",
    "                    model.layers[1](\n",
    "                        model.layers[0](images)))\n",
    "    flat_out_list.append(flat_out)\n",
    "\n",
    "    fc_0_out = model.layers[3](\n",
    "                    model.layers[2](\n",
    "                        model.layers[1](\n",
    "                            model.layers[0](images))))\n",
    "    fc_0_out_list.append(fc_0_out)\n",
    "\n",
    "    fc_1_out = model.layers[4](\n",
    "                    model.layers[3](\n",
    "                      model.layers[2](\n",
    "                          model.layers[1](\n",
    "                              model.layers[0](images)))))\n",
    "    fc_1_out_list.append(fc_1_out)\n",
    "\n",
    "    fc_2_out = model.layers[5](\n",
    "                  model.layers[4](\n",
    "                      model.layers[3](\n",
    "                          model.layers[2](\n",
    "                              model.layers[1](\n",
    "                                  model.layers[0](images))))))\n",
    "    fc_2_out_list.append(fc_2_out)\n",
    "\n",
    "    op_layer_out = model.layers[6](\n",
    "                      model.layers[5](\n",
    "                          model.layers[4](\n",
    "                              model.layers[3](\n",
    "                                  model.layers[2](\n",
    "                                      model.layers[1](\n",
    "                                          model.layers[0](images)))))))\n",
    "    op_layer_out_list.append(op_layer_out)"
   ]
  },
  {
   "cell_type": "code",
   "execution_count": 7,
   "id": "08f74f1b-f70d-4b4b-9e02-e574e012ea21",
   "metadata": {},
   "outputs": [],
   "source": [
    "import matplotlib.pyplot as plt"
   ]
  },
  {
   "cell_type": "code",
   "execution_count": 8,
   "id": "d39f2607-6d6f-4ef0-affd-b6d64200e512",
   "metadata": {},
   "outputs": [],
   "source": [
    "# fig, ax = plt.subplots()\n",
    "\n",
    "# vp = ax.violinplot(D, [2, 4, 6], widths=2,\n",
    "#                    showmeans=False, showmedians=False, showextrema=False)"
   ]
  },
  {
   "cell_type": "code",
   "execution_count": 9,
   "id": "6c0dcee2-9670-4f3d-b9ff-cf0c0cb0fc5f",
   "metadata": {},
   "outputs": [],
   "source": [
    "all_conv_out = np.array(conv_out_list).flatten()\n",
    "all_pool_out = np.array(pool_out_list).flatten()\n",
    "all_flat_out = np.array(flat_out_list).flatten()\n",
    "all_fc_0_out = np.array(fc_0_out_list).flatten()\n",
    "all_fc_1_out = np.array(fc_1_out_list).flatten()\n",
    "all_fc_2_out = np.array(fc_2_out_list).flatten()\n",
    "all_op_layer_out = np.array(op_layer_out_list).flatten()"
   ]
  },
  {
   "cell_type": "code",
   "execution_count": 10,
   "id": "8c4d61bd-7c29-4794-90a1-0b398edc9340",
   "metadata": {},
   "outputs": [],
   "source": [
    "data = [\n",
    "        # all_conv_out,\n",
    "        # all_pool_out,\n",
    "        # all_flat_out,\n",
    "        all_fc_0_out,\n",
    "        all_fc_1_out,\n",
    "        all_fc_2_out,\n",
    "        all_op_layer_out,\n",
    "       ]"
   ]
  },
  {
   "cell_type": "code",
   "execution_count": 11,
   "id": "1a1358aa-47ca-405c-a0fe-d3e6b3bc1b35",
   "metadata": {},
   "outputs": [
    {
     "data": {
      "image/png": "[encoded data removed]",
      "text/plain": [
       "<Figure size 640x480 with 1 Axes>"
      ]
     },
     "metadata": {},
     "output_type": "display_data"
    }
   ],
   "source": [
    "plt.violinplot(data,np.arange(len(data)),\n",
    "              showmeans=False, showmedians=False, showextrema=False)\n",
    "plt.show()"
   ]
  },
  {
   "cell_type": "code",
   "execution_count": 12,
   "id": "f777ed76-5b8f-45bc-952a-f62c18d13414",
   "metadata": {},
   "outputs": [
    {
     "data": {
      "image/png": "[encoded data removed]",
      "text/plain": [
       "<Figure size 640x480 with 1 Axes>"
      ]
     },
     "metadata": {},
     "output_type": "display_data"
    }
   ],
   "source": [
    "plt.violinplot(all_conv_out,\n",
    "              showmeans=False, showmedians=False, showextrema=False)\n",
    "plt.show()"
   ]
  },
  {
   "cell_type": "code",
   "execution_count": null,
   "id": "2091cdbd-e303-49c9-93a9-acbf7fb144cf",
   "metadata": {},
   "outputs": [],
   "source": []
  }
 ],
 "metadata": {
  "kernelspec": {
   "display_name": "Python 3",
   "language": "python",
   "name": "python3"
  },
  "language_info": {
   "codemirror_mode": {
    "name": "ipython",
    "version": 3
   },
   "file_extension": ".py",
   "mimetype": "text/x-python",
   "name": "python",
   "nbconvert_exporter": "python",
   "pygments_lexer": "ipython3",
   "version": "3.8.10"
  }
 },
 "nbformat": 4,
 "nbformat_minor": 5
}
