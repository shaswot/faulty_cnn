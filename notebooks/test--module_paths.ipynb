{
 "cells": [
  {
   "cell_type": "code",
   "execution_count": 1,
   "id": "66847a31-6577-4371-a8db-35f67bde6854",
   "metadata": {},
   "outputs": [],
   "source": [
    "import sys\n",
    "import git\n",
    "from pathlib import Path\n",
    "\n",
    "# https://pwsiegel.github.io/tech/gitroot/\n",
    "# use .git to get the root folder of the repo\n",
    "# the repo root folder will used to define all other paths\n",
    "PROJ_ROOT_PATH = Path(git.Repo('.', search_parent_directories=True).working_tree_dir)\n",
    "PROJ_ROOT =  str(PROJ_ROOT_PATH)\n",
    "if PROJ_ROOT not in sys.path:\n",
    "    sys.path.append(PROJ_ROOT)"
   ]
  },
  {
   "cell_type": "code",
   "execution_count": 2,
   "id": "54fa6bce-e759-414f-832f-054fedcd5725",
   "metadata": {},
   "outputs": [
    {
     "data": {
      "text/plain": [
       "['/repos/faulty_cnn/notebooks',\n",
       " '/usr/local/lib/python3.8/dist-packages/git/ext/gitdb',\n",
       " '/usr/lib/python38.zip',\n",
       " '/usr/lib/python3.8',\n",
       " '/usr/lib/python3.8/lib-dynload',\n",
       " '',\n",
       " '/usr/local/lib/python3.8/dist-packages',\n",
       " '/usr/lib/python3/dist-packages',\n",
       " '/usr/local/lib/python3.8/dist-packages/gitdb/ext/smmap',\n",
       " '/repos/faulty_cnn']"
      ]
     },
     "execution_count": 2,
     "metadata": {},
     "output_type": "execute_result"
    }
   ],
   "source": [
    "sys.path"
   ]
  },
  {
   "cell_type": "code",
   "execution_count": 3,
   "id": "2d0222d5-6c75-4044-86ff-fc61390fec85",
   "metadata": {},
   "outputs": [],
   "source": [
    "from libs import utils"
   ]
  },
  {
   "cell_type": "code",
   "execution_count": 4,
   "id": "59b20931-7e93-4478-ae7f-923d26443976",
   "metadata": {},
   "outputs": [],
   "source": [
    "dataset = \"mnist\"\n",
    "model_arch = \"cnn\"\n",
    "layer_widths = [1024,32]\n",
    "seed = 1423"
   ]
  },
  {
   "cell_type": "code",
   "execution_count": 5,
   "id": "c65dd908-6fa6-4fd2-a06e-889f8390a610",
   "metadata": {},
   "outputs": [],
   "source": [
    "model_meta_type, model_type, model_instance = utils.metadata2instancenames(dataset, model_arch, layer_widths, seed)"
   ]
  },
  {
   "cell_type": "code",
   "execution_count": 6,
   "id": "c25eb6f8-db9c-4cc1-ba95-4d70a9c89eee",
   "metadata": {},
   "outputs": [
    {
     "data": {
      "text/plain": [
       "'mnist-cnn'"
      ]
     },
     "execution_count": 6,
     "metadata": {},
     "output_type": "execute_result"
    }
   ],
   "source": [
    "model_meta_type"
   ]
  },
  {
   "cell_type": "code",
   "execution_count": 7,
   "id": "033c6e57-2ff4-4962-a82f-0d8c9d7a053e",
   "metadata": {},
   "outputs": [
    {
     "data": {
      "text/plain": [
       "'mnist-cnn_1024_32'"
      ]
     },
     "execution_count": 7,
     "metadata": {},
     "output_type": "execute_result"
    }
   ],
   "source": [
    "model_type"
   ]
  },
  {
   "cell_type": "code",
   "execution_count": 8,
   "id": "74b77c3d-dd88-4f9b-8d5f-f63cee093be8",
   "metadata": {},
   "outputs": [
    {
     "data": {
      "text/plain": [
       "'mnist-cnn_1024_32-1423'"
      ]
     },
     "execution_count": 8,
     "metadata": {},
     "output_type": "execute_result"
    }
   ],
   "source": [
    "model_instance"
   ]
  },
  {
   "cell_type": "code",
   "execution_count": 9,
   "id": "8d5cde34-6b25-4021-af3d-26e295b9fa91",
   "metadata": {},
   "outputs": [
    {
     "data": {
      "text/plain": [
       "['mnist', 'cnn', '1024_32', [1024, 32], 1423]"
      ]
     },
     "execution_count": 9,
     "metadata": {},
     "output_type": "execute_result"
    }
   ],
   "source": [
    "utils.instancename2metadata(model_instance)"
   ]
  },
  {
   "cell_type": "code",
   "execution_count": null,
   "id": "8c83f51f-cf77-4d7d-b9a9-6c1da8ea9240",
   "metadata": {},
   "outputs": [],
   "source": []
  }
 ],
 "metadata": {
  "kernelspec": {
   "display_name": "Python 3",
   "language": "python",
   "name": "python3"
  },
  "language_info": {
   "codemirror_mode": {
    "name": "ipython",
    "version": 3
   },
   "file_extension": ".py",
   "mimetype": "text/x-python",
   "name": "python",
   "nbconvert_exporter": "python",
   "pygments_lexer": "ipython3",
   "version": "3.8.10"
  }
 },
 "nbformat": 4,
 "nbformat_minor": 5
}
