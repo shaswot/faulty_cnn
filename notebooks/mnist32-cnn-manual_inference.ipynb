{
 "cells": [
  {
   "cell_type": "code",
   "execution_count": null,
   "id": "c7a46ff8-1aeb-40a9-ab2e-53dbddabbf6b",
   "metadata": {},
   "outputs": [],
   "source": [
    "import os\n",
    "import sys\n",
    "import git\n",
    "import pathlib\n",
    "\n",
    "import random\n",
    "\n",
    "import numpy as np\n",
    "import tensorflow as tf\n",
    "from tensorflow import keras\n",
    "from tensorflow.keras.datasets import mnist\n",
    "\n",
    "from sklearn.metrics import confusion_matrix\n",
    "from sklearn.metrics import accuracy_score\n",
    "\n",
    "os.environ['TF_CPP_MIN_LOG_LEVEL'] = '3' \n",
    "os.environ['CUDA_VISIBLE_DEVICES'] = '0' # use GPU\n",
    "# Using GPU during inference has deterministic results (same as CPU)\n",
    "\n",
    "PROJ_ROOT_PATH = pathlib.Path(git.Repo('.', search_parent_directories=True).working_tree_dir)\n",
    "PROJ_ROOT =  str(PROJ_ROOT_PATH)\n",
    "if PROJ_ROOT not in sys.path:\n",
    "    sys.path.append(PROJ_ROOT)\n",
    "\n",
    "from libs import utils, mnist32_cnn\n",
    "from libs.constants import model_seeds"
   ]
  },
  {
   "cell_type": "code",
   "execution_count": null,
   "id": "24272124-9be7-4c55-ba5a-a6dcbb471c43",
   "metadata": {},
   "outputs": [],
   "source": [
    "# Limit GPU growth\n",
    "gpus = tf.config.experimental.list_physical_devices('GPU')\n",
    "if gpus:\n",
    "    try:\n",
    "        for gpu in gpus:\n",
    "            tf.config.experimental.set_memory_growth(gpu, True)\n",
    "    except RuntimeError as e:\n",
    "        print(e)"
   ]
  },
  {
   "cell_type": "code",
   "execution_count": null,
   "id": "9f356eba-dd9c-4461-8db2-8274fdd1fe1c",
   "metadata": {},
   "outputs": [],
   "source": [
    "model_type = \"mnist32-cnn_1024_256_64\""
   ]
  },
  {
   "cell_type": "code",
   "execution_count": null,
   "id": "3ec12553-5838-48be-982f-d2200d840956",
   "metadata": {},
   "outputs": [],
   "source": [
    "model_seed = model_seeds[0]"
   ]
  },
  {
   "cell_type": "code",
   "execution_count": null,
   "id": "21889685-40c8-4fc0-bf1c-c75d4533e240",
   "metadata": {},
   "outputs": [],
   "source": [
    "dsfsd"
   ]
  },
  {
   "cell_type": "code",
   "execution_count": null,
   "id": "3fc43e15-454d-4b7c-b0fa-39c1de941f29",
   "metadata": {},
   "outputs": [],
   "source": [
    "model_instance = model_type + \"-\" + str(seed)\n",
    "dataset, model_arch, model_config, layer_widths, seed = utils.instancename2metadata(model_instance)\n",
    "model_meta_type, model_type, model_instance = utils.metadata2instancenames(dataset, model_arch, layer_widths, seed)\n",
    "\n",
    "model_folder = pathlib.Path(PROJ_ROOT_PATH / \"models\" / model_meta_type / model_type)\n",
    "model_filename = model_instance + \".h5\"\n",
    "model_file = pathlib.Path(model_folder/ model_filename)\n",
    "\n",
    "[accuracy, conf_matrix] = mnist32_cnn.test_mnist32(model_file, show_summary=False)\n",
    "print(f\"Model: {model_instance} \\t Accuracy:{accuracy*100:0.3f}%\")"
   ]
  },
  {
   "cell_type": "code",
   "execution_count": null,
   "id": "5c49674c-0df3-43d7-842b-9b7f3329c046",
   "metadata": {},
   "outputs": [],
   "source": [
    "def test_mnist32(model_file, show_summary=False):\n",
    "\n",
    "    # Prepare dataset\n",
    "    # Combine test and train images together into one dataset\n",
    "    DATASET_PATH = str(pathlib.Path(PROJ_ROOT_PATH / \"datasets\" / \"mnist.npz\" ))\n",
    "    (train_images, train_labels), (test_images, test_labels) = mnist.load_data(path=DATASET_PATH)\n",
    "    train_images = train_images.astype(np.float32) / 255.0\n",
    "    test_images = test_images.astype(np.float32) / 255.0  \n",
    "\n",
    "    all_images =np.concatenate([train_images, test_images], axis=0)\n",
    "    all_labels =np.concatenate([train_labels, test_labels], axis=0)\n",
    "    all_images = np.expand_dims(all_images, axis=-1)\n",
    "    \n",
    "    # resize the input shape , i.e. old shape: 28, new shape: 32\n",
    "    image_x_size = 32\n",
    "    image_y_size = 32\n",
    "    all_images = tf.image.resize(all_images, [image_x_size, image_y_size]) \n",
    "\n",
    "    # Load model\n",
    "    model = tf.keras.models.load_model(model_file)\n",
    "    if show_summary:\n",
    "        model.summary()\n",
    "\n",
    "    # Evaluate model\n",
    "    y_pred = model.predict(all_images) # Predict encoded label as 2 => [0, 0, 1, 0, 0, 0, 0, 0, 0, 0]\n",
    "    Y_pred = np.argmax(y_pred, 1) # Decode Predicted labels\n",
    "\n",
    "    accuracy = accuracy_score(y_true=all_labels, y_pred=Y_pred)\n",
    "    conf_matrix = confusion_matrix(y_true=all_labels, y_pred=Y_pred) \n",
    "          \n",
    "    return [accuracy, conf_matrix]\n",
    "\n",
    "#############################################################################################"
   ]
  }
 ],
 "metadata": {
  "kernelspec": {
   "display_name": "Python 3",
   "language": "python",
   "name": "python3"
  },
  "language_info": {
   "codemirror_mode": {
    "name": "ipython",
    "version": 3
   },
   "file_extension": ".py",
   "mimetype": "text/x-python",
   "name": "python",
   "nbconvert_exporter": "python",
   "pygments_lexer": "ipython3",
   "version": "3.8.10"
  }
 },
 "nbformat": 4,
 "nbformat_minor": 5
}
