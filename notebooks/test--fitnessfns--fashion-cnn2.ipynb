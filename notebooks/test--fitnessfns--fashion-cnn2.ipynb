{
 "cells": [
  {
   "cell_type": "code",
   "execution_count": 1,
   "id": "01a4b070-9c1b-4b62-8ab5-4344b0d22fa9",
   "metadata": {},
   "outputs": [],
   "source": [
    "import os\n",
    "import sys\n",
    "import git\n",
    "import pathlib\n",
    "\n",
    "import random\n",
    "\n",
    "import numpy as np\n",
    "import tensorflow as tf\n",
    "from tensorflow import keras\n",
    "from tensorflow.keras.datasets import mnist\n",
    "\n",
    "os.environ['TF_CPP_MIN_LOG_LEVEL'] = '3' \n",
    "\n",
    "PROJ_ROOT_PATH = pathlib.Path(git.Repo('.', search_parent_directories=True).working_tree_dir)\n",
    "PROJ_ROOT =  str(PROJ_ROOT_PATH)\n",
    "if PROJ_ROOT not in sys.path:\n",
    "    sys.path.append(PROJ_ROOT)\n",
    "\n",
    "from libs import utils, fashion_cnn2\n",
    "from libs.constants import model_seeds\n",
    "\n",
    "from timeit import default_timer as timer"
   ]
  },
  {
   "cell_type": "code",
   "execution_count": 2,
   "id": "a822a143-040b-4aad-b4d5-aab4cbf3dd82",
   "metadata": {},
   "outputs": [],
   "source": [
    "# Limit GPU growth\n",
    "gpus = tf.config.experimental.list_physical_devices('GPU')\n",
    "if gpus:\n",
    "    try:\n",
    "        for gpu in gpus:\n",
    "            tf.config.experimental.set_memory_growth(gpu, True)\n",
    "    except RuntimeError as e:\n",
    "        print(e)"
   ]
  },
  {
   "cell_type": "code",
   "execution_count": 3,
   "id": "3193f65f-df7e-495a-b4d7-45b32189d946",
   "metadata": {
    "tags": []
   },
   "outputs": [],
   "source": [
    "# load dataset  \n",
    "fashion_mnist = tf.keras.datasets.fashion_mnist\n",
    "(train_images, train_labels), (test_images, test_labels) = fashion_mnist.load_data()\n",
    "\n",
    "train_images = train_images.astype('float32') / 255.0\n",
    "test_images = test_images.astype('float32') / 255.0\n",
    "\n",
    "train_images = np.expand_dims(train_images, axis=-1)\n",
    "test_images = np.expand_dims(test_images, axis=-1)"
   ]
  },
  {
   "cell_type": "code",
   "execution_count": 4,
   "id": "9c7d65de-1fe1-41f2-bfcb-41467826fb3a",
   "metadata": {
    "tags": []
   },
   "outputs": [],
   "source": [
    "model_type = \"fashion-cnn2_1024\"\n",
    "model_seed = model_seeds[0]"
   ]
  },
  {
   "cell_type": "code",
   "execution_count": 5,
   "id": "247211ec-d4f8-431a-b188-7b04effb6088",
   "metadata": {
    "tags": []
   },
   "outputs": [],
   "source": [
    "# Get model\n",
    "model_instance = model_type + \"-\" + str(model_seed)\n",
    "model_folder = pathlib.Path(PROJ_ROOT_PATH / \"models\" / model_type)\n",
    "model_filename = model_instance + \".h5\"\n",
    "model_file = str(pathlib.Path(model_folder/ model_filename))\n",
    "# Load model\n",
    "model = tf.keras.models.load_model(model_file)"
   ]
  },
  {
   "cell_type": "code",
   "execution_count": 6,
   "id": "2e37ce52-7822-4ea3-8241-57ae2bd3f74a",
   "metadata": {
    "tags": []
   },
   "outputs": [],
   "source": [
    "no_im = 32 # no of images per batch\n",
    "b_images = test_images[0:no_im]\n",
    "b_labels = test_labels[0:no_im]\n",
    "# image = tf.expand_dims(all_images[0],axis=0)"
   ]
  },
  {
   "cell_type": "code",
   "execution_count": 7,
   "id": "0ebccfdc-2d17-4d11-b755-4d7665ae4b1f",
   "metadata": {
    "tags": []
   },
   "outputs": [
    {
     "name": "stdout",
     "output_type": "stream",
     "text": [
      "Model: \"sequential\"\n",
      "_________________________________________________________________\n",
      " Layer (type)                Output Shape              Param #   \n",
      "=================================================================\n",
      " c0 (Conv2D)                 (None, 28, 28, 32)        544       \n",
      "                                                                 \n",
      " p0 (MaxPooling2D)           (None, 14, 14, 32)        0         \n",
      "                                                                 \n",
      " dropout (Dropout)           (None, 14, 14, 32)        0         \n",
      "                                                                 \n",
      " c1 (Conv2D)                 (None, 14, 14, 32)        16416     \n",
      "                                                                 \n",
      " p1 (MaxPooling2D)           (None, 7, 7, 32)          0         \n",
      "                                                                 \n",
      " dropout_1 (Dropout)         (None, 7, 7, 32)          0         \n",
      "                                                                 \n",
      " flatten (Flatten)           (None, 1568)              0         \n",
      "                                                                 \n",
      " h0 (Dense)                  (None, 1024)              1606656   \n",
      "                                                                 \n",
      " dropout_2 (Dropout)         (None, 1024)              0         \n",
      "                                                                 \n",
      " op (Dense)                  (None, 10)                10250     \n",
      "                                                                 \n",
      "=================================================================\n",
      "Total params: 1,633,866\n",
      "Trainable params: 1,633,866\n",
      "Non-trainable params: 0\n",
      "_________________________________________________________________\n"
     ]
    }
   ],
   "source": [
    "# Load model\n",
    "model = tf.keras.models.load_model(model_file)\n",
    "model.summary()"
   ]
  },
  {
   "cell_type": "code",
   "execution_count": 8,
   "id": "038a9b05-5fae-45f2-a023-90ea568f710e",
   "metadata": {
    "tags": []
   },
   "outputs": [
    {
     "name": "stdout",
     "output_type": "stream",
     "text": [
      "tf.Tensor(2, shape=(), dtype=int64)\n"
     ]
    }
   ],
   "source": [
    "# testing batch_fashion_cnn2_ERR\n",
    "from libs.fitnessfns import batch_fashion_cnn2_ERR\n",
    "error_profile_c0 = None\n",
    "error_profile_c1 = None\n",
    "error_profile_h0 = None\n",
    "error_profile_op = None\n",
    "ERR_PARAM_TF = None\n",
    "shuffle_order_c0 = None\n",
    "shuffle_order_c1 = None\n",
    "shuffle_order_h0 = None\n",
    "shuffle_order_op = None\n",
    "                                        \n",
    "manual_output = batch_fashion_cnn2_ERR( b_images,\n",
    "                                        b_labels,\n",
    "                                        model,\n",
    "                                        error_profile_c0,\n",
    "                                        error_profile_c1,\n",
    "                                        error_profile_h0,\n",
    "                                        error_profile_op,\n",
    "                                        ERR_PARAM_TF,\n",
    "                                        shuffle_order_c0,\n",
    "                                        shuffle_order_c1,\n",
    "                                        shuffle_order_h0,\n",
    "                                        shuffle_order_op)\n",
    "\n",
    "print(manual_output)"
   ]
  },
  {
   "cell_type": "code",
   "execution_count": 9,
   "id": "8f1cea39-ef5e-4cb3-883c-e603f237e3a9",
   "metadata": {},
   "outputs": [
    {
     "name": "stdout",
     "output_type": "stream",
     "text": [
      "tf.Tensor(0.9258814102564102, shape=(), dtype=float64)\n"
     ]
    }
   ],
   "source": [
    "# testing ff_fashion_cnn2_ERR\n",
    "from libs.fitnessfns import ff_fashion_cnn2_ERR\n",
    "error_profile_c0 = None\n",
    "error_profile_c1 = None\n",
    "error_profile_h0 = None\n",
    "error_profile_op = None\n",
    "ERR_PARAM = None\n",
    "shuffle_order_c0 = None\n",
    "shuffle_order_c1 = None\n",
    "shuffle_order_h0 = None\n",
    "shuffle_order_op = None\n",
    "test_set = (test_images, test_labels)\n",
    "batchsize = 128\n",
    "                                        \n",
    "acc = ff_fashion_cnn2_ERR(model,\n",
    "                    error_profile_c0,\n",
    "                    error_profile_c1,\n",
    "                    error_profile_h0,\n",
    "                    error_profile_op,\n",
    "                    ERR_PARAM,\n",
    "                    shuffle_order_c0,\n",
    "                    shuffle_order_c1,\n",
    "                    shuffle_order_h0,\n",
    "                    shuffle_order_op,\n",
    "                    test_set,\n",
    "                    batchsize)\n",
    "\n",
    "print(acc)"
   ]
  },
  {
   "cell_type": "code",
   "execution_count": 10,
   "id": "a59055f7-10aa-4a19-9115-99a1cef22bd0",
   "metadata": {
    "tags": []
   },
   "outputs": [
    {
     "name": "stdout",
     "output_type": "stream",
     "text": [
      "0.9258814102564102 0.0\n"
     ]
    }
   ],
   "source": [
    "# testing eval_fashion_cnn2_ERR\n",
    "from libs.fitnessfns import eval_fashion_cnn2_ERR\n",
    "\n",
    "error_profile_c0 = None\n",
    "error_profile_c1 = None\n",
    "error_profile_h0 = None\n",
    "error_profile_op = None\n",
    "ERR_PARAM = None\n",
    "shuffle_order_c0 = None\n",
    "shuffle_order_c1 = None\n",
    "shuffle_order_h0 = None\n",
    "shuffle_order_op = None\n",
    "test_set = (test_images, test_labels)\n",
    "\n",
    "acc_mean, acc_std = eval_fashion_cnn2_ERR(model,\n",
    "                        error_profile_c0,\n",
    "                        error_profile_c1,\n",
    "                        error_profile_h0,\n",
    "                        error_profile_op,\n",
    "                        ERR_PARAM,\n",
    "                        shuffle_order_c0,\n",
    "                        shuffle_order_c1,\n",
    "                        shuffle_order_h0,\n",
    "                        shuffle_order_op,\n",
    "                        test_set)\n",
    "\n",
    "print(acc_mean, acc_std)"
   ]
  },
  {
   "cell_type": "code",
   "execution_count": 11,
   "id": "7ade99dd-ecd3-468c-a925-3a9db26fc4a6",
   "metadata": {
    "tags": []
   },
   "outputs": [
    {
     "name": "stdout",
     "output_type": "stream",
     "text": [
      "0.9258814102564102 0.0\n"
     ]
    }
   ],
   "source": [
    "# testing eval_fashion_cnn2_ERR with dummy error profile and shuffle order\n",
    "dummy_error_profile = np.zeros((20_000,32), dtype=\"float32\")\n",
    "error_profile_c0 = dummy_error_profile#None\n",
    "error_profile_c1 = dummy_error_profile#None\n",
    "error_profile_h0 = dummy_error_profile#None\n",
    "error_profile_op = dummy_error_profile#None\n",
    "shuffle_order_c0 = np.arange(model.get_layer(\"c0\").weights[0].shape[-1])\n",
    "shuffle_order_c1 = np.arange(model.get_layer(\"c1\").weights[0].shape[-1])\n",
    "shuffle_order_h0 = np.arange(model.get_layer(\"h0\").weights[0].shape[-1])\n",
    "shuffle_order_op = np.arange(model.get_layer(\"op\").weights[0].shape[-1])\n",
    "ERR_PARAM = -1\n",
    "np.random.shuffle(shuffle_order_c0)\n",
    "np.random.shuffle(shuffle_order_c1)\n",
    "np.random.shuffle(shuffle_order_h0)\n",
    "np.random.shuffle(shuffle_order_op)\n",
    "test_set = (test_images, test_labels)\n",
    "acc_mean, acc_std = eval_fashion_cnn2_ERR(model,\n",
    "                        error_profile_c0,\n",
    "                        error_profile_c1,\n",
    "                        error_profile_h0,\n",
    "                        error_profile_op,\n",
    "                        ERR_PARAM,\n",
    "                        shuffle_order_c0,\n",
    "                        shuffle_order_c1,\n",
    "                        shuffle_order_h0,\n",
    "                        shuffle_order_op,\n",
    "                        test_set)\n",
    "\n",
    "print(acc_mean, acc_std)"
   ]
  }
 ],
 "metadata": {
  "kernelspec": {
   "display_name": "Python 3",
   "language": "python",
   "name": "python3"
  },
  "language_info": {
   "codemirror_mode": {
    "name": "ipython",
    "version": 3
   },
   "file_extension": ".py",
   "mimetype": "text/x-python",
   "name": "python",
   "nbconvert_exporter": "python",
   "pygments_lexer": "ipython3",
   "version": "3.8.10"
  }
 },
 "nbformat": 4,
 "nbformat_minor": 5
}
