{
 "cells": [
  {
   "cell_type": "code",
   "execution_count": 1,
   "id": "e6dca79a-4d5d-468f-9908-9dadce3b7173",
   "metadata": {},
   "outputs": [],
   "source": [
    "%matplotlib inline"
   ]
  },
  {
   "cell_type": "code",
   "execution_count": 2,
   "id": "47d85be5-3cdc-4eb8-b4d0-01533b5c30ce",
   "metadata": {},
   "outputs": [],
   "source": [
    "import tensorflow as tf\n",
    "import numpy as np\n",
    "import matplotlib.pyplot as plt"
   ]
  },
  {
   "cell_type": "code",
   "execution_count": 3,
   "id": "2d628d66-c59e-4e5e-bf4e-6755cb078505",
   "metadata": {},
   "outputs": [],
   "source": [
    "# Tensorflow Limit GPU usage\n",
    "gpus = tf.config.experimental.list_physical_devices('GPU')\n",
    "if gpus:\n",
    "    try:\n",
    "        for gpu in gpus:\n",
    "            tf.config.experimental.set_memory_growth(gpu, True)\n",
    "    except RuntimeError as e:\n",
    "        print(e)"
   ]
  },
  {
   "cell_type": "code",
   "execution_count": 4,
   "id": "7f8dffb7-77e3-4f22-8c2e-2ea77bf5dc7b",
   "metadata": {},
   "outputs": [],
   "source": [
    "# Dimension constants\n",
    "im_ht = 4\n",
    "im_wt = 4\n",
    "\n",
    "kr_ht = 2\n",
    "kr_wt = 2\n",
    "\n",
    "no_ch = 3\n",
    "no_im = 1\n",
    "no_kr = 1\n",
    "\n",
    "y_ht = im_ht - kr_ht + 1\n",
    "y_wt = im_wt - kr_wt + 1\n",
    "\n",
    "no_ph = y_ht*y_wt"
   ]
  },
  {
   "cell_type": "code",
   "execution_count": null,
   "id": "e9bfab2b-f754-42cb-a0ab-02b20c098700",
   "metadata": {},
   "outputs": [],
   "source": [
    "# creating 1x4x4x3 image #[batch_no, in_height, in_width, in_channels]"
   ]
  },
  {
   "cell_type": "code",
   "execution_count": 5,
   "id": "e6513bcd-ce7a-4593-be8a-2899e7207283",
   "metadata": {},
   "outputs": [
    {
     "data": {
      "text/plain": [
       "array([ 0.,  1.,  2.,  3.,  4.,  5.,  6.,  7.,  8.,  9., 10., 11., 12.,\n",
       "       13., 14., 15.], dtype=float32)"
      ]
     },
     "execution_count": 5,
     "metadata": {},
     "output_type": "execute_result"
    }
   ],
   "source": [
    "b0_chr = np.arange(im_ht * im_wt, dtype=\"float32\")\n",
    "b0_chr"
   ]
  },
  {
   "cell_type": "code",
   "execution_count": 6,
   "id": "a6c70e0f-fe0b-482e-9a13-f80e2934a826",
   "metadata": {},
   "outputs": [
    {
     "data": {
      "text/plain": [
       "array([  5.,  15.,  25.,  35.,  45.,  55.,  65.,  75.,  85.,  95., 105.,\n",
       "       115., 125., 135., 145., 155.], dtype=float32)"
      ]
     },
     "execution_count": 6,
     "metadata": {},
     "output_type": "execute_result"
    }
   ],
   "source": [
    "b0_chg = b0_chr*10 + 5\n",
    "b0_chg"
   ]
  },
  {
   "cell_type": "code",
   "execution_count": 7,
   "id": "47380e89-cec7-459d-b3e2-db1726678f3b",
   "metadata": {},
   "outputs": [
    {
     "data": {
      "text/plain": [
       "array([  7.,  17.,  27.,  37.,  47.,  57.,  67.,  77.,  87.,  97., 107.,\n",
       "       117., 127., 137., 147., 157.], dtype=float32)"
      ]
     },
     "execution_count": 7,
     "metadata": {},
     "output_type": "execute_result"
    }
   ],
   "source": [
    "b0_chb = b0_chr*10 + 7\n",
    "b0_chb"
   ]
  },
  {
   "cell_type": "code",
   "execution_count": 8,
   "id": "67a0e9ab-b1be-4ec7-a942-9f791a326b53",
   "metadata": {},
   "outputs": [],
   "source": [
    "image = np.stack((b0_chr, b0_chg, b0_chb), axis = 1)\n",
    "image = tf.constant(image)"
   ]
  },
  {
   "cell_type": "code",
   "execution_count": 9,
   "id": "7a29094f-1a7a-4a19-9400-dbc39101edbc",
   "metadata": {},
   "outputs": [
    {
     "data": {
      "text/plain": [
       "<tf.Tensor: shape=(1, 4, 4, 3), dtype=float32, numpy=\n",
       "array([[[[  0.,   5.,   7.],\n",
       "         [  1.,  15.,  17.],\n",
       "         [  2.,  25.,  27.],\n",
       "         [  3.,  35.,  37.]],\n",
       "\n",
       "        [[  4.,  45.,  47.],\n",
       "         [  5.,  55.,  57.],\n",
       "         [  6.,  65.,  67.],\n",
       "         [  7.,  75.,  77.]],\n",
       "\n",
       "        [[  8.,  85.,  87.],\n",
       "         [  9.,  95.,  97.],\n",
       "         [ 10., 105., 107.],\n",
       "         [ 11., 115., 117.]],\n",
       "\n",
       "        [[ 12., 125., 127.],\n",
       "         [ 13., 135., 137.],\n",
       "         [ 14., 145., 147.],\n",
       "         [ 15., 155., 157.]]]], dtype=float32)>"
      ]
     },
     "execution_count": 9,
     "metadata": {},
     "output_type": "execute_result"
    }
   ],
   "source": [
    "image = tf.reshape(image, (no_im, im_ht, im_wt, no_ch))\n",
    "image"
   ]
  },
  {
   "cell_type": "code",
   "execution_count": 10,
   "id": "b546712f-0582-45ad-95e3-fec088272ba1",
   "metadata": {},
   "outputs": [
    {
     "data": {
      "text/plain": [
       "TensorShape([1, 4, 4, 3])"
      ]
     },
     "execution_count": 10,
     "metadata": {},
     "output_type": "execute_result"
    }
   ],
   "source": [
    "image.shape"
   ]
  },
  {
   "cell_type": "code",
   "execution_count": null,
   "id": "73f693d7-19a0-438f-a9c1-f93b02805a57",
   "metadata": {},
   "outputs": [],
   "source": [
    "# creating 2x2x3x1 kernel # [filter_height, filter_width, in_channels, out_channels]"
   ]
  },
  {
   "cell_type": "code",
   "execution_count": 11,
   "id": "b95351dc-0dc1-4231-aa53-115b48ce6a05",
   "metadata": {},
   "outputs": [
    {
     "data": {
      "text/plain": [
       "array([[5., 5.],\n",
       "       [6., 6.]], dtype=float32)"
      ]
     },
     "execution_count": 11,
     "metadata": {},
     "output_type": "execute_result"
    }
   ],
   "source": [
    "kr_r = np.array([[5,5],[6,6]], dtype='float32')\n",
    "kr_r"
   ]
  },
  {
   "cell_type": "code",
   "execution_count": 12,
   "id": "08649b7a-72f0-44fc-be0c-22db71fa0a24",
   "metadata": {},
   "outputs": [
    {
     "data": {
      "text/plain": [
       "array([[51., 51.],\n",
       "       [61., 61.]], dtype=float32)"
      ]
     },
     "execution_count": 12,
     "metadata": {},
     "output_type": "execute_result"
    }
   ],
   "source": [
    "kr_g = kr_r*10+1\n",
    "kr_g"
   ]
  },
  {
   "cell_type": "code",
   "execution_count": 13,
   "id": "3ce34ca6-b75a-447b-b0ea-ed583e5e3b6f",
   "metadata": {},
   "outputs": [
    {
     "data": {
      "text/plain": [
       "array([[-5., -5.],\n",
       "       [-6., -6.]], dtype=float32)"
      ]
     },
     "execution_count": 13,
     "metadata": {},
     "output_type": "execute_result"
    }
   ],
   "source": [
    "kr_b = -kr_r\n",
    "kr_b"
   ]
  },
  {
   "cell_type": "code",
   "execution_count": 14,
   "id": "ed59b401-426a-4524-b243-95e2eb5dcf38",
   "metadata": {},
   "outputs": [],
   "source": [
    "kr = tf.constant(np.stack([kr_r, kr_g, kr_b], axis=2))"
   ]
  },
  {
   "cell_type": "code",
   "execution_count": 15,
   "id": "adb30281-4348-4054-8272-5aa8f24c4ff4",
   "metadata": {},
   "outputs": [
    {
     "data": {
      "text/plain": [
       "<tf.Tensor: shape=(2, 2, 3, 1), dtype=float32, numpy=\n",
       "array([[[[ 5.],\n",
       "         [51.],\n",
       "         [-5.]],\n",
       "\n",
       "        [[ 5.],\n",
       "         [51.],\n",
       "         [-5.]]],\n",
       "\n",
       "\n",
       "       [[[ 6.],\n",
       "         [61.],\n",
       "         [-6.]],\n",
       "\n",
       "        [[ 6.],\n",
       "         [61.],\n",
       "         [-6.]]]], dtype=float32)>"
      ]
     },
     "execution_count": 15,
     "metadata": {},
     "output_type": "execute_result"
    }
   ],
   "source": [
    "kr = tf.reshape(kr, (kr_ht, kr_wt, no_ch, no_kr))\n",
    "kr"
   ]
  },
  {
   "cell_type": "code",
   "execution_count": null,
   "id": "84379bf8-818e-4f96-a96f-fd3d5f611bce",
   "metadata": {},
   "outputs": [],
   "source": [
    "# extracting image patches"
   ]
  },
  {
   "cell_type": "code",
   "execution_count": 16,
   "id": "c33e9cd7-1eed-43df-9a46-2b5190c24c58",
   "metadata": {},
   "outputs": [
    {
     "data": {
      "text/plain": [
       "<tf.Tensor: shape=(1, 3, 3, 12), dtype=float32, numpy=\n",
       "array([[[[  0.,   5.,   7.,   1.,  15.,  17.,   4.,  45.,  47.,   5.,\n",
       "           55.,  57.],\n",
       "         [  1.,  15.,  17.,   2.,  25.,  27.,   5.,  55.,  57.,   6.,\n",
       "           65.,  67.],\n",
       "         [  2.,  25.,  27.,   3.,  35.,  37.,   6.,  65.,  67.,   7.,\n",
       "           75.,  77.]],\n",
       "\n",
       "        [[  4.,  45.,  47.,   5.,  55.,  57.,   8.,  85.,  87.,   9.,\n",
       "           95.,  97.],\n",
       "         [  5.,  55.,  57.,   6.,  65.,  67.,   9.,  95.,  97.,  10.,\n",
       "          105., 107.],\n",
       "         [  6.,  65.,  67.,   7.,  75.,  77.,  10., 105., 107.,  11.,\n",
       "          115., 117.]],\n",
       "\n",
       "        [[  8.,  85.,  87.,   9.,  95.,  97.,  12., 125., 127.,  13.,\n",
       "          135., 137.],\n",
       "         [  9.,  95.,  97.,  10., 105., 107.,  13., 135., 137.,  14.,\n",
       "          145., 147.],\n",
       "         [ 10., 105., 107.,  11., 115., 117.,  14., 145., 147.,  15.,\n",
       "          155., 157.]]]], dtype=float32)>"
      ]
     },
     "execution_count": 16,
     "metadata": {},
     "output_type": "execute_result"
    }
   ],
   "source": [
    "patches = tf.image.extract_patches(images=image,\n",
    "                                     sizes=[1, kr_ht, kr_wt, 1],\n",
    "                                     strides=[1, 1, 1, 1],\n",
    "                                     rates=[1, 1, 1, 1],\n",
    "                                     padding='VALID')\n",
    "\n",
    "ph_len = patches.shape[-1]\n",
    "patches"
   ]
  },
  {
   "cell_type": "code",
   "execution_count": null,
   "id": "09d7575c-2356-40cb-aaf4-91b611a72abe",
   "metadata": {},
   "outputs": [],
   "source": [
    "# convolution without reordering image into different channels"
   ]
  },
  {
   "cell_type": "code",
   "execution_count": 17,
   "id": "369e145a-9166-4f9b-b583-b5e697a52529",
   "metadata": {},
   "outputs": [
    {
     "data": {
      "text/plain": [
       "<tf.Tensor: shape=(1, 12), dtype=float32, numpy=\n",
       "array([[ 5., 51., -5.,  5., 51., -5.,  6., 61., -6.,  6., 61., -6.]],\n",
       "      dtype=float32)>"
      ]
     },
     "execution_count": 17,
     "metadata": {},
     "output_type": "execute_result"
    }
   ],
   "source": [
    "kr_2 = tf.reshape(kr, (no_kr, kr_ht*kr_wt*no_ch))\n",
    "kr_2"
   ]
  },
  {
   "cell_type": "code",
   "execution_count": 18,
   "id": "2d489002-5493-45b2-bac1-f4024965573d",
   "metadata": {},
   "outputs": [
    {
     "data": {
      "text/plain": [
       "<tf.Tensor: shape=(12, 9), dtype=float32, numpy=\n",
       "array([[  0.,   1.,   2.,   4.,   5.,   6.,   8.,   9.,  10.],\n",
       "       [  5.,  15.,  25.,  45.,  55.,  65.,  85.,  95., 105.],\n",
       "       [  7.,  17.,  27.,  47.,  57.,  67.,  87.,  97., 107.],\n",
       "       [  1.,   2.,   3.,   5.,   6.,   7.,   9.,  10.,  11.],\n",
       "       [ 15.,  25.,  35.,  55.,  65.,  75.,  95., 105., 115.],\n",
       "       [ 17.,  27.,  37.,  57.,  67.,  77.,  97., 107., 117.],\n",
       "       [  4.,   5.,   6.,   8.,   9.,  10.,  12.,  13.,  14.],\n",
       "       [ 45.,  55.,  65.,  85.,  95., 105., 125., 135., 145.],\n",
       "       [ 47.,  57.,  67.,  87.,  97., 107., 127., 137., 147.],\n",
       "       [  5.,   6.,   7.,   9.,  10.,  11.,  13.,  14.,  15.],\n",
       "       [ 55.,  65.,  75.,  95., 105., 115., 135., 145., 155.],\n",
       "       [ 57.,  67.,  77.,  97., 107., 117., 137., 147., 157.]],\n",
       "      dtype=float32)>"
      ]
     },
     "execution_count": 18,
     "metadata": {},
     "output_type": "execute_result"
    }
   ],
   "source": [
    "patches_2 = tf.reshape(patches, (no_ph,-1))\n",
    "patches_2 = tf.transpose(patches_2, (1,0))\n",
    "patches_2"
   ]
  },
  {
   "cell_type": "code",
   "execution_count": 19,
   "id": "86f487ab-5828-4a0a-8a94-30387aef2851",
   "metadata": {},
   "outputs": [
    {
     "data": {
      "text/plain": [
       "<tf.Tensor: shape=(3, 3), dtype=float32, numpy=\n",
       "array([[ 6435.,  8477., 10519.],\n",
       "       [14603., 16645., 18687.],\n",
       "       [22771., 24813., 26855.]], dtype=float32)>"
      ]
     },
     "execution_count": 19,
     "metadata": {},
     "output_type": "execute_result"
    }
   ],
   "source": [
    "conv_out_2= kr_2@patches_2\n",
    "conv_out_2 = tf.reshape(conv_out_2, (y_ht,y_wt))\n",
    "conv_out_2"
   ]
  },
  {
   "cell_type": "code",
   "execution_count": null,
   "id": "fc25f431-406c-4f34-a6da-aa31a4d9613c",
   "metadata": {},
   "outputs": [],
   "source": []
  },
  {
   "cell_type": "code",
   "execution_count": null,
   "id": "5d9e781b-b9f1-460b-996d-4b774001f588",
   "metadata": {},
   "outputs": [],
   "source": [
    "# convolution after reordering image and kernels into RGB sections"
   ]
  },
  {
   "cell_type": "code",
   "execution_count": null,
   "id": "84d8c4fb-6439-4ebb-8cdc-2da6b8792b55",
   "metadata": {},
   "outputs": [],
   "source": [
    "# reordering patches in images"
   ]
  },
  {
   "cell_type": "code",
   "execution_count": 20,
   "id": "a5852d5e-1c50-4fe8-a620-e5647c39254b",
   "metadata": {},
   "outputs": [
    {
     "data": {
      "text/plain": [
       "<tf.Tensor: shape=(9, 12), dtype=float32, numpy=\n",
       "array([[  0.,   5.,   7.,   1.,  15.,  17.,   4.,  45.,  47.,   5.,  55.,\n",
       "         57.],\n",
       "       [  1.,  15.,  17.,   2.,  25.,  27.,   5.,  55.,  57.,   6.,  65.,\n",
       "         67.],\n",
       "       [  2.,  25.,  27.,   3.,  35.,  37.,   6.,  65.,  67.,   7.,  75.,\n",
       "         77.],\n",
       "       [  4.,  45.,  47.,   5.,  55.,  57.,   8.,  85.,  87.,   9.,  95.,\n",
       "         97.],\n",
       "       [  5.,  55.,  57.,   6.,  65.,  67.,   9.,  95.,  97.,  10., 105.,\n",
       "        107.],\n",
       "       [  6.,  65.,  67.,   7.,  75.,  77.,  10., 105., 107.,  11., 115.,\n",
       "        117.],\n",
       "       [  8.,  85.,  87.,   9.,  95.,  97.,  12., 125., 127.,  13., 135.,\n",
       "        137.],\n",
       "       [  9.,  95.,  97.,  10., 105., 107.,  13., 135., 137.,  14., 145.,\n",
       "        147.],\n",
       "       [ 10., 105., 107.,  11., 115., 117.,  14., 145., 147.,  15., 155.,\n",
       "        157.]], dtype=float32)>"
      ]
     },
     "execution_count": 20,
     "metadata": {},
     "output_type": "execute_result"
    }
   ],
   "source": [
    "ip_flat = tf.reshape(patches, (no_ph, ph_len))\n",
    "ip_flat"
   ]
  },
  {
   "cell_type": "code",
   "execution_count": 21,
   "id": "8a3000fe-ce35-47ca-86f9-0d6f1e745a61",
   "metadata": {},
   "outputs": [
    {
     "data": {
      "text/plain": [
       "<tf.Tensor: shape=(9, 2, 2, 3), dtype=float32, numpy=\n",
       "array([[[[  0.,   5.,   7.],\n",
       "         [  1.,  15.,  17.]],\n",
       "\n",
       "        [[  4.,  45.,  47.],\n",
       "         [  5.,  55.,  57.]]],\n",
       "\n",
       "\n",
       "       [[[  1.,  15.,  17.],\n",
       "         [  2.,  25.,  27.]],\n",
       "\n",
       "        [[  5.,  55.,  57.],\n",
       "         [  6.,  65.,  67.]]],\n",
       "\n",
       "\n",
       "       [[[  2.,  25.,  27.],\n",
       "         [  3.,  35.,  37.]],\n",
       "\n",
       "        [[  6.,  65.,  67.],\n",
       "         [  7.,  75.,  77.]]],\n",
       "\n",
       "\n",
       "       [[[  4.,  45.,  47.],\n",
       "         [  5.,  55.,  57.]],\n",
       "\n",
       "        [[  8.,  85.,  87.],\n",
       "         [  9.,  95.,  97.]]],\n",
       "\n",
       "\n",
       "       [[[  5.,  55.,  57.],\n",
       "         [  6.,  65.,  67.]],\n",
       "\n",
       "        [[  9.,  95.,  97.],\n",
       "         [ 10., 105., 107.]]],\n",
       "\n",
       "\n",
       "       [[[  6.,  65.,  67.],\n",
       "         [  7.,  75.,  77.]],\n",
       "\n",
       "        [[ 10., 105., 107.],\n",
       "         [ 11., 115., 117.]]],\n",
       "\n",
       "\n",
       "       [[[  8.,  85.,  87.],\n",
       "         [  9.,  95.,  97.]],\n",
       "\n",
       "        [[ 12., 125., 127.],\n",
       "         [ 13., 135., 137.]]],\n",
       "\n",
       "\n",
       "       [[[  9.,  95.,  97.],\n",
       "         [ 10., 105., 107.]],\n",
       "\n",
       "        [[ 13., 135., 137.],\n",
       "         [ 14., 145., 147.]]],\n",
       "\n",
       "\n",
       "       [[[ 10., 105., 107.],\n",
       "         [ 11., 115., 117.]],\n",
       "\n",
       "        [[ 14., 145., 147.],\n",
       "         [ 15., 155., 157.]]]], dtype=float32)>"
      ]
     },
     "execution_count": 21,
     "metadata": {},
     "output_type": "execute_result"
    }
   ],
   "source": [
    "ip_flat = tf.reshape(ip_flat, (no_ph, kr_ht, kr_wt, no_ch))\n",
    "ip_flat"
   ]
  },
  {
   "cell_type": "code",
   "execution_count": 22,
   "id": "1e87c7de-2f30-4cc3-b7b0-41d480fb10b8",
   "metadata": {},
   "outputs": [
    {
     "data": {
      "text/plain": [
       "<tf.Tensor: shape=(9, 3, 2, 2), dtype=float32, numpy=\n",
       "array([[[[  0.,   1.],\n",
       "         [  4.,   5.]],\n",
       "\n",
       "        [[  5.,  15.],\n",
       "         [ 45.,  55.]],\n",
       "\n",
       "        [[  7.,  17.],\n",
       "         [ 47.,  57.]]],\n",
       "\n",
       "\n",
       "       [[[  1.,   2.],\n",
       "         [  5.,   6.]],\n",
       "\n",
       "        [[ 15.,  25.],\n",
       "         [ 55.,  65.]],\n",
       "\n",
       "        [[ 17.,  27.],\n",
       "         [ 57.,  67.]]],\n",
       "\n",
       "\n",
       "       [[[  2.,   3.],\n",
       "         [  6.,   7.]],\n",
       "\n",
       "        [[ 25.,  35.],\n",
       "         [ 65.,  75.]],\n",
       "\n",
       "        [[ 27.,  37.],\n",
       "         [ 67.,  77.]]],\n",
       "\n",
       "\n",
       "       [[[  4.,   5.],\n",
       "         [  8.,   9.]],\n",
       "\n",
       "        [[ 45.,  55.],\n",
       "         [ 85.,  95.]],\n",
       "\n",
       "        [[ 47.,  57.],\n",
       "         [ 87.,  97.]]],\n",
       "\n",
       "\n",
       "       [[[  5.,   6.],\n",
       "         [  9.,  10.]],\n",
       "\n",
       "        [[ 55.,  65.],\n",
       "         [ 95., 105.]],\n",
       "\n",
       "        [[ 57.,  67.],\n",
       "         [ 97., 107.]]],\n",
       "\n",
       "\n",
       "       [[[  6.,   7.],\n",
       "         [ 10.,  11.]],\n",
       "\n",
       "        [[ 65.,  75.],\n",
       "         [105., 115.]],\n",
       "\n",
       "        [[ 67.,  77.],\n",
       "         [107., 117.]]],\n",
       "\n",
       "\n",
       "       [[[  8.,   9.],\n",
       "         [ 12.,  13.]],\n",
       "\n",
       "        [[ 85.,  95.],\n",
       "         [125., 135.]],\n",
       "\n",
       "        [[ 87.,  97.],\n",
       "         [127., 137.]]],\n",
       "\n",
       "\n",
       "       [[[  9.,  10.],\n",
       "         [ 13.,  14.]],\n",
       "\n",
       "        [[ 95., 105.],\n",
       "         [135., 145.]],\n",
       "\n",
       "        [[ 97., 107.],\n",
       "         [137., 147.]]],\n",
       "\n",
       "\n",
       "       [[[ 10.,  11.],\n",
       "         [ 14.,  15.]],\n",
       "\n",
       "        [[105., 115.],\n",
       "         [145., 155.]],\n",
       "\n",
       "        [[107., 117.],\n",
       "         [147., 157.]]]], dtype=float32)>"
      ]
     },
     "execution_count": 22,
     "metadata": {},
     "output_type": "execute_result"
    }
   ],
   "source": [
    "ip_flat = tf.transpose(ip_flat, perm=(0,3,1,2))\n",
    "ip_flat"
   ]
  },
  {
   "cell_type": "code",
   "execution_count": 23,
   "id": "8c48d47a-b414-4ffd-af0a-bf7cdf199f29",
   "metadata": {},
   "outputs": [
    {
     "data": {
      "text/plain": [
       "<tf.Tensor: shape=(9, 12), dtype=float32, numpy=\n",
       "array([[  0.,   1.,   4.,   5.,   5.,  15.,  45.,  55.,   7.,  17.,  47.,\n",
       "         57.],\n",
       "       [  1.,   2.,   5.,   6.,  15.,  25.,  55.,  65.,  17.,  27.,  57.,\n",
       "         67.],\n",
       "       [  2.,   3.,   6.,   7.,  25.,  35.,  65.,  75.,  27.,  37.,  67.,\n",
       "         77.],\n",
       "       [  4.,   5.,   8.,   9.,  45.,  55.,  85.,  95.,  47.,  57.,  87.,\n",
       "         97.],\n",
       "       [  5.,   6.,   9.,  10.,  55.,  65.,  95., 105.,  57.,  67.,  97.,\n",
       "        107.],\n",
       "       [  6.,   7.,  10.,  11.,  65.,  75., 105., 115.,  67.,  77., 107.,\n",
       "        117.],\n",
       "       [  8.,   9.,  12.,  13.,  85.,  95., 125., 135.,  87.,  97., 127.,\n",
       "        137.],\n",
       "       [  9.,  10.,  13.,  14.,  95., 105., 135., 145.,  97., 107., 137.,\n",
       "        147.],\n",
       "       [ 10.,  11.,  14.,  15., 105., 115., 145., 155., 107., 117., 147.,\n",
       "        157.]], dtype=float32)>"
      ]
     },
     "execution_count": 23,
     "metadata": {},
     "output_type": "execute_result"
    }
   ],
   "source": [
    "ip_flat = tf.reshape(ip_flat, (no_ph,-1))\n",
    "ip_flat"
   ]
  },
  {
   "cell_type": "code",
   "execution_count": 24,
   "id": "7c91b951-873b-46da-b749-3e4a421451ee",
   "metadata": {},
   "outputs": [
    {
     "data": {
      "text/plain": [
       "<tf.Tensor: shape=(12, 9), dtype=float32, numpy=\n",
       "array([[  0.,   1.,   2.,   4.,   5.,   6.,   8.,   9.,  10.],\n",
       "       [  1.,   2.,   3.,   5.,   6.,   7.,   9.,  10.,  11.],\n",
       "       [  4.,   5.,   6.,   8.,   9.,  10.,  12.,  13.,  14.],\n",
       "       [  5.,   6.,   7.,   9.,  10.,  11.,  13.,  14.,  15.],\n",
       "       [  5.,  15.,  25.,  45.,  55.,  65.,  85.,  95., 105.],\n",
       "       [ 15.,  25.,  35.,  55.,  65.,  75.,  95., 105., 115.],\n",
       "       [ 45.,  55.,  65.,  85.,  95., 105., 125., 135., 145.],\n",
       "       [ 55.,  65.,  75.,  95., 105., 115., 135., 145., 155.],\n",
       "       [  7.,  17.,  27.,  47.,  57.,  67.,  87.,  97., 107.],\n",
       "       [ 17.,  27.,  37.,  57.,  67.,  77.,  97., 107., 117.],\n",
       "       [ 47.,  57.,  67.,  87.,  97., 107., 127., 137., 147.],\n",
       "       [ 57.,  67.,  77.,  97., 107., 117., 137., 147., 157.]],\n",
       "      dtype=float32)>"
      ]
     },
     "execution_count": 24,
     "metadata": {},
     "output_type": "execute_result"
    }
   ],
   "source": [
    "ip_flat = tf.transpose(ip_flat, [1,0])\n",
    "ip_flat"
   ]
  },
  {
   "cell_type": "code",
   "execution_count": null,
   "id": "efac828d-8011-4a94-98d9-d41508716178",
   "metadata": {},
   "outputs": [],
   "source": [
    "# reordering kernels into rgb channels"
   ]
  },
  {
   "cell_type": "code",
   "execution_count": 25,
   "id": "156f7a52-f5ad-46ae-a735-9928f1bf4122",
   "metadata": {},
   "outputs": [
    {
     "data": {
      "text/plain": [
       "<tf.Tensor: shape=(2, 2, 3, 1), dtype=float32, numpy=\n",
       "array([[[[ 5.],\n",
       "         [51.],\n",
       "         [-5.]],\n",
       "\n",
       "        [[ 5.],\n",
       "         [51.],\n",
       "         [-5.]]],\n",
       "\n",
       "\n",
       "       [[[ 6.],\n",
       "         [61.],\n",
       "         [-6.]],\n",
       "\n",
       "        [[ 6.],\n",
       "         [61.],\n",
       "         [-6.]]]], dtype=float32)>"
      ]
     },
     "execution_count": 25,
     "metadata": {},
     "output_type": "execute_result"
    }
   ],
   "source": [
    "kr"
   ]
  },
  {
   "cell_type": "code",
   "execution_count": 35,
   "id": "d2c10bba-2037-4380-8ef0-d7b3ef0dc29d",
   "metadata": {},
   "outputs": [
    {
     "data": {
      "text/plain": [
       "<tf.Tensor: shape=(3, 2, 2, 1), dtype=float32, numpy=\n",
       "array([[[[ 5.],\n",
       "         [ 5.]],\n",
       "\n",
       "        [[ 6.],\n",
       "         [ 6.]]],\n",
       "\n",
       "\n",
       "       [[[51.],\n",
       "         [51.]],\n",
       "\n",
       "        [[61.],\n",
       "         [61.]]],\n",
       "\n",
       "\n",
       "       [[[-5.],\n",
       "         [-5.]],\n",
       "\n",
       "        [[-6.],\n",
       "         [-6.]]]], dtype=float32)>"
      ]
     },
     "execution_count": 35,
     "metadata": {},
     "output_type": "execute_result"
    }
   ],
   "source": [
    "kr_flat = tf.transpose(kr, perm=(2,0,1,3))\n",
    "kr_flat"
   ]
  },
  {
   "cell_type": "code",
   "execution_count": 37,
   "id": "4e6d0e7d-9ce1-43b5-975f-20a545b117fe",
   "metadata": {},
   "outputs": [
    {
     "data": {
      "text/plain": [
       "<tf.Tensor: shape=(1, 12), dtype=float32, numpy=\n",
       "array([[ 5.,  5.,  6.,  6., 51., 51., 61., 61., -5., -5., -6., -6.]],\n",
       "      dtype=float32)>"
      ]
     },
     "execution_count": 37,
     "metadata": {},
     "output_type": "execute_result"
    }
   ],
   "source": [
    "kr_flat = tf.reshape(kr_flat, [no_kr,-1])\n",
    "kr_flat"
   ]
  },
  {
   "cell_type": "code",
   "execution_count": 38,
   "id": "58b4789b-67ed-4a29-a277-2b6ca9672614",
   "metadata": {},
   "outputs": [
    {
     "data": {
      "text/plain": [
       "TensorShape([1, 12])"
      ]
     },
     "execution_count": 38,
     "metadata": {},
     "output_type": "execute_result"
    }
   ],
   "source": [
    "kr_flat.shape"
   ]
  },
  {
   "cell_type": "code",
   "execution_count": 39,
   "id": "01409b81-bb16-4096-9c21-f3e44640a756",
   "metadata": {},
   "outputs": [
    {
     "data": {
      "text/plain": [
       "TensorShape([12, 9])"
      ]
     },
     "execution_count": 39,
     "metadata": {},
     "output_type": "execute_result"
    }
   ],
   "source": [
    "ip_flat.shape"
   ]
  },
  {
   "cell_type": "code",
   "execution_count": 40,
   "id": "3a259331-bb81-4066-883c-1c025bcabbe3",
   "metadata": {},
   "outputs": [
    {
     "data": {
      "text/plain": [
       "<tf.Tensor: shape=(3, 3), dtype=float32, numpy=\n",
       "array([[ 6435.,  8477., 10519.],\n",
       "       [14603., 16645., 18687.],\n",
       "       [22771., 24813., 26855.]], dtype=float32)>"
      ]
     },
     "execution_count": 40,
     "metadata": {},
     "output_type": "execute_result"
    }
   ],
   "source": [
    "conv_out = kr_flat@ip_flat\n",
    "conv_out = tf.reshape(conv_out, (y_ht,y_wt))\n",
    "conv_out"
   ]
  },
  {
   "cell_type": "code",
   "execution_count": null,
   "id": "029e5627-47e0-4835-8959-af7d86f29b98",
   "metadata": {},
   "outputs": [],
   "source": []
  },
  {
   "cell_type": "code",
   "execution_count": null,
   "id": "14572ac8-7f34-42e0-90f8-ae092e204509",
   "metadata": {},
   "outputs": [],
   "source": [
    "# using tensorflow built-in method"
   ]
  },
  {
   "cell_type": "code",
   "execution_count": 41,
   "id": "3a5dc32f-4f48-4a7d-a496-523f271fe610",
   "metadata": {},
   "outputs": [
    {
     "data": {
      "text/plain": [
       "TensorShape([1, 4, 4, 3])"
      ]
     },
     "execution_count": 41,
     "metadata": {},
     "output_type": "execute_result"
    }
   ],
   "source": [
    "image.shape #[batch_no, in_height, in_width, in_channels]"
   ]
  },
  {
   "cell_type": "code",
   "execution_count": 32,
   "id": "90e4abeb-4076-443b-9b8b-90df515fd4e0",
   "metadata": {},
   "outputs": [
    {
     "data": {
      "text/plain": [
       "TensorShape([2, 2, 3, 1])"
      ]
     },
     "execution_count": 32,
     "metadata": {},
     "output_type": "execute_result"
    }
   ],
   "source": [
    "kr.shape # [filter_height, filter_width, in_channels, out_channels]"
   ]
  },
  {
   "cell_type": "code",
   "execution_count": 43,
   "id": "6ca9fc53-e630-4fc0-b168-5ebc94d6764d",
   "metadata": {},
   "outputs": [],
   "source": [
    "tf_conv_out = tf.nn.conv2d(input=image,\n",
    "                            filters=kr,\n",
    "                            strides=[1,1,1,1],\n",
    "                            padding=\"VALID\",\n",
    "                            data_format='NHWC',\n",
    "                            dilations=None,\n",
    "                            name=None\n",
    "                        )"
   ]
  },
  {
   "cell_type": "code",
   "execution_count": 44,
   "id": "2eb7ceab-fc8e-4dd9-b8ac-06863bcd4681",
   "metadata": {},
   "outputs": [
    {
     "data": {
      "text/plain": [
       "<tf.Tensor: shape=(1, 3, 3, 1), dtype=float32, numpy=\n",
       "array([[[[ 6435.],\n",
       "         [ 8477.],\n",
       "         [10519.]],\n",
       "\n",
       "        [[14603.],\n",
       "         [16645.],\n",
       "         [18687.]],\n",
       "\n",
       "        [[22771.],\n",
       "         [24813.],\n",
       "         [26855.]]]], dtype=float32)>"
      ]
     },
     "execution_count": 44,
     "metadata": {},
     "output_type": "execute_result"
    }
   ],
   "source": [
    "tf_conv_out"
   ]
  },
  {
   "cell_type": "code",
   "execution_count": null,
   "id": "848fd6c8-9b02-48b5-b236-602bcc4bf8c4",
   "metadata": {},
   "outputs": [],
   "source": []
  },
  {
   "cell_type": "code",
   "execution_count": null,
   "id": "cad7b8e9-a1c4-4cbf-88fe-2b7a9dbceb1c",
   "metadata": {},
   "outputs": [],
   "source": []
  },
  {
   "cell_type": "code",
   "execution_count": null,
   "id": "ba17d192-80ed-4c3a-bae1-cb7dd5581123",
   "metadata": {},
   "outputs": [],
   "source": []
  },
  {
   "cell_type": "code",
   "execution_count": null,
   "id": "bc9abfc7-372b-4b8c-a23d-f3bb220d2ff0",
   "metadata": {},
   "outputs": [],
   "source": [
    "sdfd"
   ]
  },
  {
   "cell_type": "code",
   "execution_count": null,
   "id": "f2a66e40-db6a-4f75-aa82-2359cd9c1cd8",
   "metadata": {},
   "outputs": [],
   "source": [
    "patch0 = patches[0,0,0,:]"
   ]
  },
  {
   "cell_type": "code",
   "execution_count": null,
   "id": "190dc0eb-c393-4bab-afd7-2cc25d6a75f1",
   "metadata": {},
   "outputs": [],
   "source": [
    "patch0"
   ]
  },
  {
   "cell_type": "code",
   "execution_count": null,
   "id": "b1478606-4005-4bf3-aa21-be61a18ee76a",
   "metadata": {},
   "outputs": [],
   "source": [
    "# convert to rgb patch\n",
    "y = tf.reshape(patch0, (kr_ht, kr_wt, no_ch))"
   ]
  },
  {
   "cell_type": "code",
   "execution_count": null,
   "id": "d877d8c3-258e-429a-adf9-5fae4ed294e1",
   "metadata": {},
   "outputs": [],
   "source": [
    "# rearrange the image channel wise\n",
    "y = tf.transpose(y, (2,0,1))\n",
    "y"
   ]
  },
  {
   "cell_type": "code",
   "execution_count": null,
   "id": "18db7dcf-4717-4044-8215-a71799d63e49",
   "metadata": {},
   "outputs": [],
   "source": [
    "# flatten patch\n",
    "y = tf.reshape(y, (kr_ht*kr_wt*no_ch,-1))"
   ]
  },
  {
   "cell_type": "code",
   "execution_count": null,
   "id": "f1e59257-51e1-4918-a6b7-e4b517095821",
   "metadata": {},
   "outputs": [],
   "source": [
    "y"
   ]
  },
  {
   "cell_type": "code",
   "execution_count": null,
   "id": "31a9ae6e-8648-41d5-a02e-501634d0d186",
   "metadata": {},
   "outputs": [],
   "source": []
  }
 ],
 "metadata": {
  "kernelspec": {
   "display_name": "Python 3",
   "language": "python",
   "name": "python3"
  },
  "language_info": {
   "codemirror_mode": {
    "name": "ipython",
    "version": 3
   },
   "file_extension": ".py",
   "mimetype": "text/x-python",
   "name": "python",
   "nbconvert_exporter": "python",
   "pygments_lexer": "ipython3",
   "version": "3.8.10"
  }
 },
 "nbformat": 4,
 "nbformat_minor": 5
}
