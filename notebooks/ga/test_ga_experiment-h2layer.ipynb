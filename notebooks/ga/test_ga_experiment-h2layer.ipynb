{
 "cells": [
  {
   "cell_type": "code",
   "execution_count": 1,
   "id": "d56e9e44-df89-4081-96ce-3f1d1f5d89c9",
   "metadata": {
    "jupyter": {
     "source_hidden": true
    },
    "tags": []
   },
   "outputs": [],
   "source": [
    "import os\n",
    "import sys\n",
    "import git\n",
    "import pathlib\n",
    "\n",
    "import random\n",
    "import time\n",
    "\n",
    "import numpy as np\n",
    "import tensorflow as tf\n",
    "from tensorflow.keras.datasets import mnist\n",
    "import argparse\n",
    "\n",
    "PROJ_ROOT_PATH = pathlib.Path(git.Repo('.', search_parent_directories=True).working_tree_dir)\n",
    "PROJ_ROOT =  str(PROJ_ROOT_PATH)\n",
    "if PROJ_ROOT not in sys.path:\n",
    "    sys.path.append(PROJ_ROOT)\n",
    "    \n",
    "from libs import utils"
   ]
  },
  {
   "cell_type": "code",
   "execution_count": 2,
   "id": "2ff72e2d-faf1-4072-a3eb-1b1155348469",
   "metadata": {
    "jupyter": {
     "source_hidden": true
    }
   },
   "outputs": [],
   "source": [
    "# set seed\n",
    "this_seed = 84376\n",
    "tf.random.set_seed(this_seed)\n",
    "np.random.seed(this_seed)\n",
    "random.seed(this_seed)\n",
    "os.environ['PYTHONHASHSEED']=str(this_seed)"
   ]
  },
  {
   "cell_type": "code",
   "execution_count": 3,
   "id": "9c2a33ee-c19a-418b-9dab-5b054ffa600d",
   "metadata": {
    "jupyter": {
     "source_hidden": true
    }
   },
   "outputs": [],
   "source": [
    "# Tensorflow Limit GPU usage\n",
    "gpus = tf.config.experimental.list_physical_devices('GPU')\n",
    "if gpus:\n",
    "    try:\n",
    "        for gpu in gpus:\n",
    "            tf.config.experimental.set_memory_growth(gpu, True)\n",
    "    except RuntimeError as e:\n",
    "        print(e)\n",
    "        "
   ]
  },
  {
   "cell_type": "code",
   "execution_count": 4,
   "id": "de6cb34e-f37d-449f-89a9-be6728906373",
   "metadata": {
    "jupyter": {
     "source_hidden": true
    }
   },
   "outputs": [],
   "source": [
    "# Extract model\n",
    "# parser = argparse.ArgumentParser()\n",
    "# parser.add_argument('model_instance')\n",
    "# parser.add_argument('error_profile_tag')\n",
    "# args= parser.parse_args()\n",
    "model_instance = \"mnist32-cnn_1024_256_64-1023\"   #args.model_instance\n",
    "error_profile_tag = \"LIM_01-2188\"                 #args.error_profile_tag"
   ]
  },
  {
   "cell_type": "code",
   "execution_count": 5,
   "id": "a526cd05-7e44-43ee-84f5-1e8a6f43cf27",
   "metadata": {
    "jupyter": {
     "source_hidden": true
    }
   },
   "outputs": [],
   "source": [
    "# Prepare dataset\n",
    "# Combine test and train images together into one dataset\n",
    "DATASET_PATH = str(pathlib.Path(PROJ_ROOT_PATH / \"datasets\" / \"mnist.npz\" ))\n",
    "(train_images, train_labels), (test_images, test_labels) = mnist.load_data(path=DATASET_PATH)\n",
    "train_images = train_images.astype(np.float32) / 255.0\n",
    "test_images = test_images.astype(np.float32) / 255.0  \n",
    "\n",
    "all_images =np.concatenate([train_images, test_images], axis=0)\n",
    "all_labels =np.concatenate([train_labels, test_labels], axis=0)\n",
    "all_images = np.expand_dims(all_images, axis=-1)\n",
    "\n",
    "# resize the input shape , i.e. old shape: 28, new shape: 32\n",
    "image_x_size = 32\n",
    "image_y_size = 32\n",
    "all_images = tf.image.resize(all_images, [image_x_size, image_y_size]) "
   ]
  },
  {
   "cell_type": "code",
   "execution_count": 6,
   "id": "6fa18a3b-83e1-4d9a-b882-f4f14d3b0725",
   "metadata": {
    "jupyter": {
     "source_hidden": true
    }
   },
   "outputs": [],
   "source": [
    "# Get model\n",
    "dataset, model_arch, model_config, layer_widths, seed = utils.instancename2metadata(model_instance)\n",
    "model_meta_type, model_type, model_instance = utils.metadata2instancenames(dataset, model_arch, layer_widths, seed)\n",
    "model_folder = pathlib.Path(PROJ_ROOT_PATH / \"models\" / model_meta_type / model_type)\n",
    "model_filename = model_instance + \".h5\"\n",
    "model_file = pathlib.Path(model_folder/ model_filename)"
   ]
  },
  {
   "cell_type": "code",
   "execution_count": 7,
   "id": "6d55b5ce-c365-45bb-beb3-96f165e160eb",
   "metadata": {
    "jupyter": {
     "source_hidden": true
    }
   },
   "outputs": [],
   "source": [
    "# Load model\n",
    "model = tf.keras.models.load_model(model_file)"
   ]
  },
  {
   "cell_type": "code",
   "execution_count": 8,
   "id": "7eb47af6-e150-4362-a696-432edee1e46c",
   "metadata": {
    "jupyter": {
     "source_hidden": true
    }
   },
   "outputs": [],
   "source": [
    "# Load error profile\n",
    "error_profile_folder = pathlib.Path(PROJ_ROOT_PATH / \"error_profiles\")\n",
    "error_profile_filename = error_profile_tag + \".npy\"\n",
    "error_profile_file = pathlib.Path(error_profile_folder/ error_profile_filename)\n",
    "error_profile = np.load(error_profile_file)"
   ]
  },
  {
   "cell_type": "code",
   "execution_count": 9,
   "id": "e4cb7827-016b-46be-8ad9-0a640269dc2d",
   "metadata": {
    "jupyter": {
     "source_hidden": true
    }
   },
   "outputs": [],
   "source": [
    "# Batchsize for evaluation\n",
    "EVAL_BATCHSIZE = 128"
   ]
  },
  {
   "cell_type": "code",
   "execution_count": 10,
   "id": "df77065d-3c48-4ab2-a3e2-14092926b76e",
   "metadata": {
    "jupyter": {
     "source_hidden": true
    }
   },
   "outputs": [],
   "source": [
    "# Load test set\n",
    "# Testing with only the last 12_80 images\n",
    "test_set = (all_images[-12_80:], all_labels[-12_80:])"
   ]
  },
  {
   "cell_type": "code",
   "execution_count": 11,
   "id": "5d8dc82a-eaad-4e82-995a-ebd9c94036ae",
   "metadata": {
    "jupyter": {
     "source_hidden": true
    },
    "tags": []
   },
   "outputs": [
    {
     "name": "stdout",
     "output_type": "stream",
     "text": [
      "Population:  5\n",
      "Generations:  7\n",
      "Crossover Rate:  0.6\n",
      "Mutation Rate:  0.2\n",
      "####################\n",
      "Experiment number 1\n",
      "Logfile:  /repos/faulty_cnn/logging/vanilla/lenet_3hidden_ERRexpbitflips/mnist32-cnn_1024_256_64-1023--LIM_01-2188/all-RowShuffle_h2layer_lenet_3hidden_ERRexpbitflips_-1/mnist32-cnn_1024_256_64-1023--LIM_01-2188--ga_84376_0.csv\n",
      "Start running GA...\n",
      "GA: initializing first population\n",
      "GA: start main loop...\n",
      "GA: Generation 1: took 2.61(s)\n",
      "\tBest fitness: 0.985417\n",
      "\tNo improvement for 1 gen(s)\n",
      "GA: Generation 2: took 2.41(s)\n",
      "\tBest fitness: 0.985937\n",
      "GA: Generation 3: took 2.43(s)\n",
      "\tBest fitness: 0.985937\n",
      "\tNo improvement for 1 gen(s)\n",
      "GA: Generation 4: took 3.41(s)\n",
      "\tBest fitness: 0.985937\n",
      "\tNo improvement for 2 gen(s)\n",
      "GA: Generation 5: took 2.92(s)\n",
      "\tBest fitness: 0.985937\n",
      "\tNo improvement for 3 gen(s)\n",
      "GA: Generation 6: took 5.35(s)\n",
      "\tBest fitness: 0.986979\n",
      "GA: Generation 7: took 2.87(s)\n",
      "\tBest fitness: 0.986979\n",
      "\tNo improvement for 1 gen(s)\n",
      "Write result to csv file...\n",
      "Done\n",
      "Experiment number 1: took 28.241484(s)\n",
      "####################\n",
      "Experiment number 2\n",
      "Logfile:  /repos/faulty_cnn/logging/vanilla/lenet_3hidden_ERRexpbitflips/mnist32-cnn_1024_256_64-1023--LIM_01-2188/all-RowShuffle_h2layer_lenet_3hidden_ERRexpbitflips_-1/mnist32-cnn_1024_256_64-1023--LIM_01-2188--ga_84376_1.csv\n",
      "Start running GA...\n",
      "GA: initializing first population\n",
      "GA: start main loop...\n",
      "GA: Generation 1: took 3.89(s)\n",
      "\tBest fitness: 0.986719\n",
      "\tNo improvement for 1 gen(s)\n",
      "GA: Generation 2: took 3.36(s)\n",
      "\tBest fitness: 0.986719\n",
      "\tNo improvement for 2 gen(s)\n",
      "GA: Generation 3: took 3.35(s)\n",
      "\tBest fitness: 0.986719\n",
      "\tNo improvement for 3 gen(s)\n",
      "GA: Generation 4: took 2.86(s)\n",
      "\tBest fitness: 0.986719\n",
      "\tNo improvement for 4 gen(s)\n",
      "GA: Generation 5: took 3.77(s)\n",
      "\tBest fitness: 0.986719\n",
      "\tNo improvement for 5 gen(s)\n",
      "GA: Generation 6: took 2.85(s)\n",
      "\tBest fitness: 0.987500\n",
      "GA: Generation 7: took 2.39(s)\n",
      "\tBest fitness: 0.987500\n",
      "\tNo improvement for 1 gen(s)\n",
      "Write result to csv file...\n",
      "Done\n",
      "Experiment number 2: took 24.895641(s)\n"
     ]
    }
   ],
   "source": [
    "# No. of times to repeat experiments\n",
    "K = 2\n",
    "\n",
    "POP_SIZE = 5\n",
    "N_GENERATIONS = 7\n",
    "\n",
    "CR = 0.6\n",
    "MR = 0.2\n",
    "\n",
    "print(\"Population: \", POP_SIZE)\n",
    "print(\"Generations: \", N_GENERATIONS)\n",
    "print(\"Crossover Rate: \", CR)\n",
    "print(\"Mutation Rate: \", MR)\n",
    "\n",
    "# Run GA experiment\n",
    "from libs.ga.ga_experiments import RowShuffle_h2layer_lenet_3hidden_ERRexpbitflips\n",
    "\n",
    "error_param = -1 # bitflips\n",
    "optim_type = \"all\" # (q1, q2, q3, q4)\n",
    "layer = \"h2layer\"\n",
    "\n",
    "META_RS = \"vanilla\" # type of dataset segregation (qent, qmean)\n",
    "archerr_type = \"lenet_3hidden_ERRexpbitflips\"\n",
    "meta_experiment_name = model_instance + '--' + error_profile_tag\n",
    "RS_experiment_type = optim_type + \"-\" + \"RowShuffle_\" + layer + \"_\" + archerr_type + \"_\" + str(error_param)\n",
    "ga_experiment_name = meta_experiment_name + '--ga_' + str(this_seed)\n",
    "\n",
    "# Folder to save log files\n",
    "logging_folder = pathlib.Path(PROJ_ROOT_PATH / \"logging\" / META_RS / archerr_type /  meta_experiment_name / RS_experiment_type )\n",
    "if not os.path.exists(logging_folder):\n",
    "    os.makedirs(logging_folder)\n",
    "    \n",
    "logging_filename_tag = pathlib.Path(logging_folder / ga_experiment_name)\n",
    "\n",
    "for i in range(K):\n",
    "    print('#' * 20)\n",
    "    print('Experiment number %d' % (i+1))\n",
    "    # time_tag = time.strftime(\"%m%d_%H%M%S\")\n",
    "    logging_filename = str(logging_filename_tag)  + '_' + str(i) + '.csv'\n",
    "    print(\"Logfile: \",logging_filename)\n",
    "\n",
    "    experiment = RowShuffle_h2layer_lenet_3hidden_ERRexpbitflips(   model=model,\n",
    "                                                                    error_profile=error_profile,\n",
    "                                                                    ERR_PARAM=error_param,\n",
    "                                                                    test_set=test_set,\n",
    "                                                                    log_file=logging_filename,\n",
    "                                                                    pop_size=POP_SIZE,\n",
    "                                                                    n_generations=N_GENERATIONS,\n",
    "                                                                    crossover_rate=CR,\n",
    "                                                                    mutation_rate=MR,\n",
    "                                                                    experiment_tag=str(i))\n",
    "\n",
    "    start = time.perf_counter()\n",
    "    experiment.run()\n",
    "    t = time.perf_counter() - start\n",
    "    print('Experiment number %d: took %f(s)' % (i+1, t))"
   ]
  },
  {
   "cell_type": "code",
   "execution_count": null,
   "id": "a32df106-a101-4b2a-af51-51a19fbe4a3b",
   "metadata": {
    "jupyter": {
     "source_hidden": true
    },
    "tags": []
   },
   "outputs": [],
   "source": []
  }
 ],
 "metadata": {
  "kernelspec": {
   "display_name": "Python 3",
   "language": "python",
   "name": "python3"
  },
  "language_info": {
   "codemirror_mode": {
    "name": "ipython",
    "version": 3
   },
   "file_extension": ".py",
   "mimetype": "text/x-python",
   "name": "python",
   "nbconvert_exporter": "python",
   "pygments_lexer": "ipython3",
   "version": "3.8.10"
  }
 },
 "nbformat": 4,
 "nbformat_minor": 5
}
