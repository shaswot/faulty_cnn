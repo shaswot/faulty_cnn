{
 "cells": [
  {
   "cell_type": "code",
   "execution_count": 1,
   "id": "90518e9c-f282-4253-99c8-17c78f63c33d",
   "metadata": {
    "jupyter": {
     "source_hidden": true
    },
    "tags": []
   },
   "outputs": [],
   "source": [
    "import os\n",
    "import sys\n",
    "import git\n",
    "import pathlib\n",
    "\n",
    "import random\n",
    "import time\n",
    "import glob\n",
    "\n",
    "import numpy as np\n",
    "import tensorflow as tf\n",
    "from tensorflow.keras.datasets import mnist\n",
    "\n",
    "\n",
    "PROJ_ROOT_PATH = pathlib.Path(git.Repo('.', search_parent_directories=True).working_tree_dir)\n",
    "PROJ_ROOT =  str(PROJ_ROOT_PATH)\n",
    "if PROJ_ROOT not in sys.path:\n",
    "    sys.path.append(PROJ_ROOT)\n",
    "\n",
    "from libs import utils\n",
    "from libs.ga.ga_utils import get_chromosomes"
   ]
  },
  {
   "cell_type": "code",
   "execution_count": 2,
   "id": "b2816169-cef9-4475-950a-c9f177bca985",
   "metadata": {
    "jupyter": {
     "source_hidden": true
    }
   },
   "outputs": [],
   "source": [
    "# set seed\n",
    "this_seed = 84376\n",
    "tf.random.set_seed(this_seed)\n",
    "np.random.seed(this_seed)\n",
    "random.seed(this_seed)\n",
    "os.environ['PYTHONHASHSEED']=str(this_seed)"
   ]
  },
  {
   "cell_type": "code",
   "execution_count": 3,
   "id": "d28232e2-a118-4940-b07d-6c4cfba0b9c6",
   "metadata": {
    "jupyter": {
     "source_hidden": true
    }
   },
   "outputs": [],
   "source": [
    "# Tensorflow Limit GPU usage\n",
    "gpus = tf.config.experimental.list_physical_devices('GPU')\n",
    "if gpus:\n",
    "    try:\n",
    "        for gpu in gpus:\n",
    "            tf.config.experimental.set_memory_growth(gpu, True)\n",
    "    except RuntimeError as e:\n",
    "        print(e)\n",
    "        "
   ]
  },
  {
   "cell_type": "code",
   "execution_count": 4,
   "id": "f4dbb3ed-1ccd-4d7a-8fd3-b1684d9d12d0",
   "metadata": {
    "jupyter": {
     "source_hidden": true
    },
    "tags": []
   },
   "outputs": [],
   "source": [
    "# Extract model\n",
    "# parser = argparse.ArgumentParser()\n",
    "# parser.add_argument('model_instance')\n",
    "# parser.add_argument('error_profile_tag')\n",
    "# args= parser.parse_args()\n",
    "# model_instance = args.model_instance\n",
    "# error_profile_tag = args.error_profile_tag"
   ]
  },
  {
   "cell_type": "code",
   "execution_count": 5,
   "id": "16a82ea8-d6fb-48c0-96fc-f5e3b2623560",
   "metadata": {
    "tags": []
   },
   "outputs": [
    {
     "name": "stdout",
     "output_type": "stream",
     "text": [
      "mnist32-cnn_1024_256_64-7278--LIM_05-2188\n"
     ]
    }
   ],
   "source": [
    "experiment = \"mnist32-cnn_1024_256_64-7278--LIM_05-2188\"\n",
    "print(experiment)\n",
    "model_instance, error_profile_tag = experiment.split(\"--\")"
   ]
  },
  {
   "cell_type": "code",
   "execution_count": 6,
   "id": "f4d06c02-9263-47d5-b0ba-d8f9fc13ce42",
   "metadata": {
    "jupyter": {
     "source_hidden": true
    }
   },
   "outputs": [
    {
     "name": "stdout",
     "output_type": "stream",
     "text": [
      "ERR_PARAM:\t -1\n",
      "OPTIM_TYPE:\t all\n",
      "META_RS:\t vanilla\n"
     ]
    }
   ],
   "source": [
    "error_param = -1 # bitflips\n",
    "optim_type = \"all\"\n",
    "META_RS = \"vanilla\"\n",
    "print(\"ERR_PARAM:\\t\", error_param)\n",
    "print(\"OPTIM_TYPE:\\t\", optim_type)\n",
    "print(\"META_RS:\\t\", META_RS)"
   ]
  },
  {
   "cell_type": "code",
   "execution_count": 7,
   "id": "72aba586-ff9d-4e23-b152-000ab4cc3dcf",
   "metadata": {
    "jupyter": {
     "source_hidden": true
    },
    "tags": []
   },
   "outputs": [],
   "source": [
    "# Prepare dataset\n",
    "# Combine test and train images together into one dataset\n",
    "DATASET_PATH = str(pathlib.Path(PROJ_ROOT_PATH / \"datasets\" / \"mnist.npz\" ))\n",
    "(train_images, train_labels), (test_images, test_labels) = mnist.load_data(path=DATASET_PATH)\n",
    "train_images = train_images.astype(np.float32) / 255.0\n",
    "test_images = test_images.astype(np.float32) / 255.0  \n",
    "\n",
    "all_images =np.concatenate([train_images, test_images], axis=0)\n",
    "all_labels =np.concatenate([train_labels, test_labels], axis=0)\n",
    "all_images = np.expand_dims(all_images, axis=-1)\n",
    "\n",
    "# resize the input shape , i.e. old shape: 28, new shape: 32\n",
    "image_x_size = 32\n",
    "image_y_size = 32\n",
    "all_images = tf.image.resize(all_images, [image_x_size, image_y_size]) "
   ]
  },
  {
   "cell_type": "code",
   "execution_count": 8,
   "id": "a2f040f5-8274-445e-a484-8ce7e835ca3c",
   "metadata": {
    "jupyter": {
     "source_hidden": true
    }
   },
   "outputs": [],
   "source": [
    "# Get model\n",
    "dataset, model_arch, model_config, layer_widths, seed = utils.instancename2metadata(model_instance)\n",
    "model_meta_type, model_type, model_instance = utils.metadata2instancenames(dataset, model_arch, layer_widths, seed)\n",
    "model_folder = pathlib.Path(PROJ_ROOT_PATH / \"models\" / model_meta_type / model_type)\n",
    "model_filename = model_instance + \".h5\"\n",
    "model_file = pathlib.Path(model_folder/ model_filename)"
   ]
  },
  {
   "cell_type": "code",
   "execution_count": 9,
   "id": "b091bf7c-33b3-4773-8f8a-865b879a7f8d",
   "metadata": {
    "jupyter": {
     "source_hidden": true
    }
   },
   "outputs": [],
   "source": [
    "# Load model\n",
    "model = tf.keras.models.load_model(model_file)"
   ]
  },
  {
   "cell_type": "code",
   "execution_count": 10,
   "id": "47e7766f-a8ca-4359-bbb4-06eacb02f275",
   "metadata": {
    "jupyter": {
     "source_hidden": true
    }
   },
   "outputs": [],
   "source": [
    "# Load error profile\n",
    "error_profile_folder = pathlib.Path(PROJ_ROOT_PATH / \"error_profiles\")\n",
    "error_profile_filename = error_profile_tag + \".npy\"\n",
    "error_profile_file = pathlib.Path(error_profile_folder/ error_profile_filename)\n",
    "error_profile = np.load(error_profile_file)"
   ]
  },
  {
   "cell_type": "code",
   "execution_count": 11,
   "id": "46750a5b-5983-4b74-8aaf-ce8ff5951262",
   "metadata": {
    "jupyter": {
     "source_hidden": true
    }
   },
   "outputs": [],
   "source": [
    "# Batchsize for evaluation\n",
    "EVAL_BATCHSIZE = 128"
   ]
  },
  {
   "cell_type": "code",
   "execution_count": 12,
   "id": "23c39216-0e7e-4a9b-a6e4-e0ec89c5b063",
   "metadata": {
    "jupyter": {
     "source_hidden": true
    },
    "tags": []
   },
   "outputs": [],
   "source": [
    "# Load test set\n",
    "# Testing with only the last 12_80 images\n",
    "test_set = (all_images[-12_80:], all_labels[-12_80:])\n",
    "# test_set = (all_images, all_labels)"
   ]
  },
  {
   "cell_type": "code",
   "execution_count": 13,
   "id": "339af66d-193c-4b6d-b569-57b576aa4670",
   "metadata": {
    "jupyter": {
     "source_hidden": true
    },
    "tags": []
   },
   "outputs": [],
   "source": [
    "def extract_best_worst_chromosomes(optim_type, # (q1, q2, q3, q4)\n",
    "                                   META_RS, # (vanilla, qent, qmean)\n",
    "                                   layer, \n",
    "                                   error_param, \n",
    "                                   model_instance, \n",
    "                                   error_profile_tag, \n",
    "                                   this_seed):\n",
    "    \n",
    "    META_RS = \"vanilla\" # type of dataset segregation (qent, qmean)\n",
    "    archerr_type = \"lenet_3hidden_ERRexpbitflips\"\n",
    "    meta_experiment_name = model_instance + '--' + error_profile_tag\n",
    "    RS_experiment_type = optim_type + \"-\" + \"RowShuffle_\" + layer + \"_\" + archerr_type + \"_\" + str(error_param)\n",
    "    ga_experiment_name = meta_experiment_name + '--ga_' + str(this_seed)\n",
    "   \n",
    "    # Folder to load log files\n",
    "    logging_folder = pathlib.Path(PROJ_ROOT_PATH / \"logging\" / META_RS / archerr_type /  meta_experiment_name / RS_experiment_type )\n",
    "\n",
    "    ga_logging_filename_tag = pathlib.Path(logging_folder/ ga_experiment_name)\n",
    "\n",
    "    # ga outputs\n",
    "    ga_output_files = glob.glob(str(ga_logging_filename_tag) + \"*.log\")\n",
    "\n",
    "    # get chromosomes strings\n",
    "    best_chromosome, worst_chromosome = get_chromosomes(ga_output_files)\n",
    "    \n",
    "    return(best_chromosome, worst_chromosome)"
   ]
  },
  {
   "cell_type": "code",
   "execution_count": 14,
   "id": "865d028d-64e5-4b27-a53c-1070a6f595d0",
   "metadata": {
    "jupyter": {
     "source_hidden": true
    },
    "tags": []
   },
   "outputs": [],
   "source": [
    "# get best and worst chromosomes for c0layer\n",
    "layer = \"c0layer\"\n",
    "c0layer_best_chromosome, c0layer_worst_chromosome = extract_best_worst_chromosomes(optim_type, \n",
    "                                                                                   META_RS,\n",
    "                                                                                   layer, \n",
    "                                                                                   error_param, \n",
    "                                                                                   model_instance, \n",
    "                                                                                   error_profile_tag, \n",
    "                                                                                   this_seed)\n",
    "\n",
    "# get best and worst chromosomes for h2layer\n",
    "layer = \"h2layer\"\n",
    "h2layer_best_chromosome, h2layer_worst_chromosome = extract_best_worst_chromosomes(optim_type, \n",
    "                                                                                   META_RS,\n",
    "                                                                                   layer, \n",
    "                                                                                   error_param, \n",
    "                                                                                   model_instance, \n",
    "                                                                                   error_profile_tag, \n",
    "                                                                                   this_seed)"
   ]
  },
  {
   "cell_type": "code",
   "execution_count": 15,
   "id": "96d2b8e7-6962-4f7e-b321-32554630fe99",
   "metadata": {
    "jupyter": {
     "source_hidden": true
    },
    "tags": []
   },
   "outputs": [],
   "source": [
    "from libs.fitnessfns import eval_lenet_3hidden_ERRexpbitflips"
   ]
  },
  {
   "cell_type": "code",
   "execution_count": 16,
   "id": "b0208e84-52f8-4955-90cc-8754a50cf3c1",
   "metadata": {
    "jupyter": {
     "source_hidden": true
    },
    "tags": []
   },
   "outputs": [],
   "source": [
    "# accuracy after error-injection to layers [c0, h2]\n",
    "def eval_error_injected_with_shuffle(model, \n",
    "                                      layer_error_profiles, \n",
    "                                      ERR_PARAM,\n",
    "                                      shuffle_orders,\n",
    "                                      test_set,\n",
    "                                      batchsize):\n",
    "    # intialize to None\n",
    "    error_profile_c0=None\n",
    "    error_profile_h0=None\n",
    "    error_profile_h1=None\n",
    "    error_profile_h2=None\n",
    "    error_profile_op=None\n",
    "\n",
    "    [error_profile_c0,\n",
    "    error_profile_h0,\n",
    "    error_profile_h1,\n",
    "    error_profile_h2,\n",
    "    error_profile_op] = layer_error_profiles\n",
    "\n",
    "    \n",
    "    # intialize to None\n",
    "    clayer0_shuffle_order=None\n",
    "    hlayer0_shuffle_order=None\n",
    "    hlayer1_shuffle_order=None\n",
    "    hlayer2_shuffle_order=None\n",
    "    oplayer_shuffle_order=None\n",
    "                    \n",
    "    [clayer0_shuffle_order,\n",
    "    hlayer0_shuffle_order,\n",
    "    hlayer1_shuffle_order,\n",
    "    hlayer2_shuffle_order,\n",
    "    oplayer_shuffle_order] = shuffle_orders\n",
    "        \n",
    "    acc_list = []\n",
    "    for _ in range(3):\n",
    "        acc, std = eval_lenet_3hidden_ERRexpbitflips(model,\n",
    "                                                    error_profile_c0,\n",
    "                                                    error_profile_h0,\n",
    "                                                    error_profile_h1,\n",
    "                                                    error_profile_h2,\n",
    "                                                    error_profile_op,\n",
    "                                                    ERR_PARAM,\n",
    "                                                    clayer0_shuffle_order,\n",
    "                                                    hlayer0_shuffle_order,\n",
    "                                                    hlayer1_shuffle_order,\n",
    "                                                    hlayer2_shuffle_order,\n",
    "                                                    oplayer_shuffle_order,\n",
    "                                                    test_set)\n",
    "        acc_list.append(acc)\n",
    "    return np.mean(acc_list)"
   ]
  },
  {
   "cell_type": "code",
   "execution_count": 17,
   "id": "e64dbaae-8d55-4aff-93e7-a24451edec5b",
   "metadata": {
    "jupyter": {
     "source_hidden": true
    },
    "tags": []
   },
   "outputs": [
    {
     "name": "stdout",
     "output_type": "stream",
     "text": [
      "Original ACC:  0.98984375\n"
     ]
    }
   ],
   "source": [
    "error_profiles = [None, None, None, None, None]\n",
    "ERR_PARAM = None\n",
    "shuffle_orders = [None, None, None,None, None]\n",
    "test_set = test_set\n",
    "batchsize = EVAL_BATCHSIZE\n",
    "eval_acc  = eval_error_injected_with_shuffle(model, \n",
    "                                  error_profiles, \n",
    "                                  ERR_PARAM,\n",
    "                                  shuffle_orders,\n",
    "                                  test_set,\n",
    "                                  batchsize)\n",
    "print(\"Original ACC: \", eval_acc)"
   ]
  },
  {
   "cell_type": "code",
   "execution_count": 18,
   "id": "278ef638-209b-4742-826c-39acce9a3b6b",
   "metadata": {
    "jupyter": {
     "source_hidden": true
    },
    "tags": []
   },
   "outputs": [
    {
     "name": "stdout",
     "output_type": "stream",
     "text": [
      "Faulty ACC [Only c0]:  0.5872395833333334\n"
     ]
    }
   ],
   "source": [
    "# injecting in c0 layer only\n",
    "error_profiles = [error_profile, None, None, None, None]\n",
    "ERR_PARAM = -1\n",
    "shuffle_orders = [None, None, None,None, None]\n",
    "test_set = test_set\n",
    "batchsize = EVAL_BATCHSIZE\n",
    "eval_acc  = eval_error_injected_with_shuffle(model, \n",
    "                                  error_profiles, \n",
    "                                  ERR_PARAM,\n",
    "                                  shuffle_orders,\n",
    "                                  test_set,\n",
    "                                  batchsize)\n",
    "print(\"Faulty ACC [Only c0]: \", eval_acc)"
   ]
  },
  {
   "cell_type": "code",
   "execution_count": 19,
   "id": "e2e3320f-3a41-40e7-9a33-d08e3c99d380",
   "metadata": {
    "jupyter": {
     "source_hidden": true
    }
   },
   "outputs": [
    {
     "name": "stdout",
     "output_type": "stream",
     "text": [
      "GA ACC [Only c0 - best]:  0.8986979166666665\n"
     ]
    }
   ],
   "source": [
    "# injecting in c0 layer only with best GA optimization\n",
    "error_profiles = [error_profile, None, None, None, None]\n",
    "ERR_PARAM = -1\n",
    "shuffle_orders = [c0layer_best_chromosome, None, None,None, None]\n",
    "test_set = test_set\n",
    "batchsize = EVAL_BATCHSIZE\n",
    "eval_acc  = eval_error_injected_with_shuffle(model, \n",
    "                                  error_profiles, \n",
    "                                  ERR_PARAM,\n",
    "                                  shuffle_orders,\n",
    "                                  test_set,\n",
    "                                  batchsize)\n",
    "print(\"GA ACC [Only c0 - best]: \", eval_acc)"
   ]
  },
  {
   "cell_type": "code",
   "execution_count": 20,
   "id": "ae2463ec",
   "metadata": {
    "jupyter": {
     "source_hidden": true
    }
   },
   "outputs": [
    {
     "name": "stdout",
     "output_type": "stream",
     "text": [
      "GA ACC [Only c0 - worst]:  0.8421875\n"
     ]
    }
   ],
   "source": [
    "# injecting in c0 layer only with worst GA optimization\n",
    "error_profiles = [error_profile, None, None, None, None]\n",
    "ERR_PARAM = -1\n",
    "shuffle_orders = [c0layer_worst_chromosome, None, None,None, None]\n",
    "test_set = test_set\n",
    "batchsize = EVAL_BATCHSIZE\n",
    "eval_acc  = eval_error_injected_with_shuffle(model, \n",
    "                                  error_profiles, \n",
    "                                  ERR_PARAM,\n",
    "                                  shuffle_orders,\n",
    "                                  test_set,\n",
    "                                  batchsize)\n",
    "print(\"GA ACC [Only c0 - worst]: \", eval_acc)"
   ]
  },
  {
   "cell_type": "code",
   "execution_count": 21,
   "id": "3d02aaf5-b8e1-4095-871c-ae9c2ed5e6ae",
   "metadata": {
    "jupyter": {
     "source_hidden": true
    },
    "tags": []
   },
   "outputs": [
    {
     "name": "stdout",
     "output_type": "stream",
     "text": [
      "Faulty ACC [Only h2]:  0.9497395833333334\n"
     ]
    }
   ],
   "source": [
    "# injecting in fc_2 layer only\n",
    "error_profiles = [None, None, None, error_profile, None]\n",
    "ERR_PARAM = -1\n",
    "shuffle_orders = [None, None, None,None, None]\n",
    "test_set = test_set\n",
    "batchsize = EVAL_BATCHSIZE\n",
    "eval_acc  = eval_error_injected_with_shuffle(model, \n",
    "                                  error_profiles, \n",
    "                                  ERR_PARAM,\n",
    "                                  shuffle_orders,\n",
    "                                  test_set,\n",
    "                                  batchsize)\n",
    "print(\"Faulty ACC [Only h2]: \", eval_acc)"
   ]
  },
  {
   "cell_type": "code",
   "execution_count": 22,
   "id": "f24c2fc5-0f59-437b-9dd7-a5ee25c6f857",
   "metadata": {
    "jupyter": {
     "source_hidden": true
    }
   },
   "outputs": [
    {
     "name": "stdout",
     "output_type": "stream",
     "text": [
      "GA ACC [Only h2 - best]:  0.9565972222222223\n"
     ]
    }
   ],
   "source": [
    "# injecting in fc_2 layer only with best GA optimization\n",
    "error_profiles = [None, None, None, error_profile, None]\n",
    "ERR_PARAM = -1\n",
    "shuffle_orders = [None, None, None,h2layer_best_chromosome, None]\n",
    "test_set = test_set\n",
    "batchsize = EVAL_BATCHSIZE\n",
    "eval_acc  = eval_error_injected_with_shuffle(model, \n",
    "                                  error_profiles, \n",
    "                                  ERR_PARAM,\n",
    "                                  shuffle_orders,\n",
    "                                  test_set,\n",
    "                                  batchsize)\n",
    "print(\"GA ACC [Only h2 - best]: \", eval_acc)"
   ]
  },
  {
   "cell_type": "code",
   "execution_count": 23,
   "id": "4dae4bc4-ac38-4e78-b173-447133f0e03e",
   "metadata": {
    "jupyter": {
     "source_hidden": true
    },
    "tags": []
   },
   "outputs": [
    {
     "name": "stdout",
     "output_type": "stream",
     "text": [
      "GA ACC [Only h2 - worst]:  0.9561631944444445\n"
     ]
    }
   ],
   "source": [
    "# injecting in fc_2 layer only with worst GA optimization\n",
    "error_profiles = [None, None, None, error_profile, None]\n",
    "ERR_PARAM = -1\n",
    "shuffle_orders = [None, None, None,h2layer_worst_chromosome, None]\n",
    "test_set = test_set\n",
    "batchsize = EVAL_BATCHSIZE\n",
    "eval_acc  = eval_error_injected_with_shuffle(model, \n",
    "                                  error_profiles, \n",
    "                                  ERR_PARAM,\n",
    "                                  shuffle_orders,\n",
    "                                  test_set,\n",
    "                                  batchsize)\n",
    "print(\"GA ACC [Only h2 - worst]: \", eval_acc)"
   ]
  },
  {
   "cell_type": "code",
   "execution_count": 24,
   "id": "2d3bedb5-a569-48ba-bbc6-4d3d0beb7e7b",
   "metadata": {
    "jupyter": {
     "source_hidden": true
    },
    "tags": []
   },
   "outputs": [
    {
     "name": "stdout",
     "output_type": "stream",
     "text": [
      "Faulty ACC [c0 AND h2]:  0.5638020833333331\n"
     ]
    }
   ],
   "source": [
    "# injecting in c0 AND fc_2 layer\n",
    "error_profiles = [error_profile, None, None, error_profile, None]\n",
    "ERR_PARAM = -1\n",
    "shuffle_orders = [None, None, None,None, None]\n",
    "test_set = test_set\n",
    "batchsize = EVAL_BATCHSIZE\n",
    "eval_acc  = eval_error_injected_with_shuffle(model, \n",
    "                                  error_profiles, \n",
    "                                  ERR_PARAM,\n",
    "                                  shuffle_orders,\n",
    "                                  test_set,\n",
    "                                  batchsize)\n",
    "print(\"Faulty ACC [c0 AND h2]: \", eval_acc)"
   ]
  },
  {
   "cell_type": "code",
   "execution_count": 25,
   "id": "d2d175e3-d460-4fc7-bea6-c9c7ef5017c5",
   "metadata": {
    "jupyter": {
     "source_hidden": true
    },
    "tags": []
   },
   "outputs": [
    {
     "name": "stdout",
     "output_type": "stream",
     "text": [
      "GA ACC [c0 AND h2] -best :  0.8689236111111112\n"
     ]
    }
   ],
   "source": [
    "# injecting in c0 AND fc_2 layer with best GA optimization\n",
    "error_profiles = [error_profile, None, None, error_profile, None]\n",
    "ERR_PARAM = -1\n",
    "shuffle_orders = [c0layer_best_chromosome, None, None,h2layer_best_chromosome, None]\n",
    "test_set = test_set\n",
    "batchsize = EVAL_BATCHSIZE\n",
    "eval_acc  = eval_error_injected_with_shuffle(model, \n",
    "                                  error_profiles, \n",
    "                                  ERR_PARAM,\n",
    "                                  shuffle_orders,\n",
    "                                  test_set,\n",
    "                                  batchsize)\n",
    "print(\"GA ACC [c0 AND h2] -best : \", eval_acc)"
   ]
  },
  {
   "cell_type": "code",
   "execution_count": 26,
   "id": "65297e72-df17-43c3-80ba-c487454fead6",
   "metadata": {
    "jupyter": {
     "source_hidden": true
    },
    "tags": []
   },
   "outputs": [
    {
     "name": "stdout",
     "output_type": "stream",
     "text": [
      "GA ACC [c0 AND h2] -worst :  0.8113715277777779\n"
     ]
    }
   ],
   "source": [
    "# injecting in c0 AND fc_2 layer with worst GA optimization\n",
    "error_profiles = [error_profile, None, None, error_profile, None]\n",
    "ERR_PARAM = -1\n",
    "shuffle_orders = [c0layer_worst_chromosome, None, None,h2layer_worst_chromosome, None]\n",
    "test_set = test_set\n",
    "batchsize = EVAL_BATCHSIZE\n",
    "eval_acc  = eval_error_injected_with_shuffle(model, \n",
    "                                  error_profiles, \n",
    "                                  ERR_PARAM,\n",
    "                                  shuffle_orders,\n",
    "                                  test_set,\n",
    "                                  batchsize)\n",
    "print(\"GA ACC [c0 AND h2] -worst : \", eval_acc)"
   ]
  },
  {
   "cell_type": "code",
   "execution_count": null,
   "id": "1f091f58-f36e-4641-9211-75952eb2b0ab",
   "metadata": {
    "jupyter": {
     "source_hidden": true
    },
    "tags": []
   },
   "outputs": [],
   "source": []
  }
 ],
 "metadata": {
  "kernelspec": {
   "display_name": "Python 3",
   "language": "python",
   "name": "python3"
  },
  "language_info": {
   "codemirror_mode": {
    "name": "ipython",
    "version": 3
   },
   "file_extension": ".py",
   "mimetype": "text/x-python",
   "name": "python",
   "nbconvert_exporter": "python",
   "pygments_lexer": "ipython3",
   "version": "3.8.10"
  }
 },
 "nbformat": 4,
 "nbformat_minor": 5
}
