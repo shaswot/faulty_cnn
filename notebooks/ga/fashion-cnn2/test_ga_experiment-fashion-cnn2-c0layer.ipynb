{
 "cells": [
  {
   "cell_type": "code",
   "execution_count": 1,
   "id": "d56e9e44-df89-4081-96ce-3f1d1f5d89c9",
   "metadata": {
    "jupyter": {
     "source_hidden": true
    },
    "tags": []
   },
   "outputs": [],
   "source": [
    "import os\n",
    "import sys\n",
    "import git\n",
    "import pathlib\n",
    "\n",
    "import random\n",
    "import time\n",
    "\n",
    "import numpy as np\n",
    "import tensorflow as tf\n",
    "from tensorflow.keras.datasets import mnist\n",
    "import argparse\n",
    "import importlib\n",
    "\n",
    "PROJ_ROOT_PATH = pathlib.Path(git.Repo('.', search_parent_directories=True).working_tree_dir)\n",
    "PROJ_ROOT =  str(PROJ_ROOT_PATH)\n",
    "if PROJ_ROOT not in sys.path:\n",
    "    sys.path.append(PROJ_ROOT)\n",
    "    \n",
    "from libs import utils"
   ]
  },
  {
   "cell_type": "code",
   "execution_count": 2,
   "id": "2ff72e2d-faf1-4072-a3eb-1b1155348469",
   "metadata": {
    "jupyter": {
     "source_hidden": true
    }
   },
   "outputs": [],
   "source": [
    "# set seed\n",
    "this_seed = 84376\n",
    "tf.random.set_seed(this_seed)\n",
    "np.random.seed(this_seed)\n",
    "random.seed(this_seed)\n",
    "os.environ['PYTHONHASHSEED']=str(this_seed)"
   ]
  },
  {
   "cell_type": "code",
   "execution_count": 3,
   "id": "9c2a33ee-c19a-418b-9dab-5b054ffa600d",
   "metadata": {
    "jupyter": {
     "source_hidden": true
    },
    "tags": []
   },
   "outputs": [],
   "source": [
    "# Tensorflow Limit GPU usage\n",
    "gpus = tf.config.experimental.list_physical_devices('GPU')\n",
    "if gpus:\n",
    "    try:\n",
    "        for gpu in gpus:\n",
    "            tf.config.experimental.set_memory_growth(gpu, True)\n",
    "    except RuntimeError as e:\n",
    "        print(e)\n",
    "        "
   ]
  },
  {
   "cell_type": "code",
   "execution_count": 4,
   "id": "de6cb34e-f37d-449f-89a9-be6728906373",
   "metadata": {
    "jupyter": {
     "source_hidden": true
    },
    "tags": []
   },
   "outputs": [],
   "source": [
    "# Extract model\n",
    "# parser = argparse.ArgumentParser()\n",
    "# parser.add_argument('model_instance')\n",
    "# parser.add_argument('error_profile_tag')\n",
    "# args= parser.parse_args()\n",
    "model_instance = \"fashion-cnn2_1024-1023\"   #args.model_instance\n",
    "error_profile_tag = \"LIM_500-2188\"          #args.error_profile_tag"
   ]
  },
  {
   "cell_type": "code",
   "execution_count": 5,
   "id": "dd39fd02-d091-4862-8bf4-955d272b5314",
   "metadata": {
    "jupyter": {
     "source_hidden": true
    }
   },
   "outputs": [
    {
     "name": "stdout",
     "output_type": "stream",
     "text": [
      "fashion-cnn2_1024-1023 LIM_500-2188\n"
     ]
    }
   ],
   "source": [
    "print(model_instance, error_profile_tag)"
   ]
  },
  {
   "cell_type": "code",
   "execution_count": 6,
   "id": "a526cd05-7e44-43ee-84f5-1e8a6f43cf27",
   "metadata": {
    "jupyter": {
     "source_hidden": true
    },
    "tags": []
   },
   "outputs": [],
   "source": [
    "# Prepare dataset\n",
    "# Combine test and train images together into one dataset\n",
    "fashion_mnist = tf.keras.datasets.fashion_mnist\n",
    "(train_images, train_labels), (test_images, test_labels) = fashion_mnist.load_data()\n",
    "\n",
    "train_images = train_images.astype('float32') / 255.0\n",
    "test_images = test_images.astype('float32') / 255.0\n",
    "\n",
    "train_images = np.expand_dims(train_images, axis=-1)\n",
    "test_images = np.expand_dims(test_images, axis=-1)"
   ]
  },
  {
   "cell_type": "code",
   "execution_count": 7,
   "id": "6fa18a3b-83e1-4d9a-b882-f4f14d3b0725",
   "metadata": {
    "jupyter": {
     "source_hidden": true
    }
   },
   "outputs": [],
   "source": [
    "# Get model\n",
    "dataset, model_arch, model_config, layer_widths, seed = utils.instancename2metadata(model_instance)\n",
    "model_meta_type, model_type, model_instance = utils.metadata2instancenames(dataset, model_arch, layer_widths, seed)\n",
    "model_folder = pathlib.Path(PROJ_ROOT_PATH / \"models\" / model_type)\n",
    "model_filename = model_instance + \".h5\"\n",
    "model_file = pathlib.Path(model_folder/ model_filename)"
   ]
  },
  {
   "cell_type": "code",
   "execution_count": 8,
   "id": "6d55b5ce-c365-45bb-beb3-96f165e160eb",
   "metadata": {
    "jupyter": {
     "source_hidden": true
    }
   },
   "outputs": [],
   "source": [
    "# Load model\n",
    "model = tf.keras.models.load_model(model_file)"
   ]
  },
  {
   "cell_type": "code",
   "execution_count": 9,
   "id": "7eb47af6-e150-4362-a696-432edee1e46c",
   "metadata": {
    "jupyter": {
     "source_hidden": true
    }
   },
   "outputs": [],
   "source": [
    "# Load error profile\n",
    "error_profile_folder = pathlib.Path(PROJ_ROOT_PATH / \"error_profiles\")\n",
    "error_profile_filename = error_profile_tag + \".npy\"\n",
    "error_profile_file = pathlib.Path(error_profile_folder/ error_profile_filename)\n",
    "error_profile = np.load(error_profile_file)\n",
    "error_lim, error_seed = error_profile_tag.split('-')"
   ]
  },
  {
   "cell_type": "code",
   "execution_count": 10,
   "id": "e4cb7827-016b-46be-8ad9-0a640269dc2d",
   "metadata": {
    "jupyter": {
     "source_hidden": true
    }
   },
   "outputs": [],
   "source": [
    "# Batchsize for evaluation\n",
    "EVAL_BATCHSIZE = 128"
   ]
  },
  {
   "cell_type": "code",
   "execution_count": 11,
   "id": "df77065d-3c48-4ab2-a3e2-14092926b76e",
   "metadata": {
    "jupyter": {
     "source_hidden": true
    }
   },
   "outputs": [],
   "source": [
    "# Load test set\n",
    "# Testing with only im_num images\n",
    "im_num = 128*40#128*40=5120 #[128*78 = 9984]\n",
    "test_set = (test_images[im_num:], \n",
    "            test_labels[im_num:])"
   ]
  },
  {
   "cell_type": "code",
   "execution_count": 12,
   "id": "1abf50a0-0fd8-495e-8d90-596cbf3879f6",
   "metadata": {
    "jupyter": {
     "source_hidden": true
    },
    "tags": []
   },
   "outputs": [],
   "source": [
    "error_param = -1 # types of error to optimize for\n",
    "layer = \"c1\" # layers to optimize with GA optimization"
   ]
  },
  {
   "cell_type": "code",
   "execution_count": 13,
   "id": "812056c5-d277-4029-917f-4ee5ef629450",
   "metadata": {
    "jupyter": {
     "source_hidden": true
    },
    "tags": []
   },
   "outputs": [],
   "source": [
    "# meta_optim = avg, ent\n",
    "# quadrant = q1, q2, q3, q4\n",
    "# dataset_seg_type = meta_optim +quadrant\n",
    "dataset_seg_type = \"all\" # type of dataset segregation"
   ]
  },
  {
   "cell_type": "code",
   "execution_count": 14,
   "id": "c583b5cb-5247-45cf-9b52-8b4503e7538b",
   "metadata": {
    "jupyter": {
     "source_hidden": true
    },
    "tags": []
   },
   "outputs": [
    {
     "name": "stdout",
     "output_type": "stream",
     "text": [
      "ERR_-1\n",
      "Layer:  c1\n"
     ]
    }
   ],
   "source": [
    "error_type = \"ERR_\"+str(error_param)\n",
    "print(error_type)\n",
    "print(\"Layer: \", layer)"
   ]
  },
  {
   "cell_type": "code",
   "execution_count": 15,
   "id": "4a8c3de1-e1b9-43f0-9904-fec2a643bccd",
   "metadata": {
    "jupyter": {
     "source_hidden": true
    },
    "tags": []
   },
   "outputs": [
    {
     "name": "stdout",
     "output_type": "stream",
     "text": [
      "Population:  3\n",
      "Generations:  4\n",
      "Crossover Rate:  0.6\n",
      "Mutation Rate:  0.2\n",
      "####################\n",
      "Experiment number 1\n",
      "Logfile:  /repos/faulty_cnn/logging/all/fashion-cnn2_1024/fashion-cnn2_1024-1023/LIM_500/LIM_500-2188/ERR_-1/c1/all_fashion-cnn2_1024-1023--LIM_500-2188--ERR_-1--c1--ga_84376--0.csv\n",
      "Starting GA experiment...\n",
      "GA: initializing first population\n",
      "GA: start main loop...\n",
      "GA: Generation 1: took 114.53(s)\n",
      "\tBest fitness: 0.789611\n",
      "GA: Generation 2: took 153.46(s)\n",
      "\tBest fitness: 0.790913\n",
      "GA: Generation 3: took 77.19(s)\n",
      "\tBest fitness: 0.790913\n",
      "\tNo improvement for 1 gen(s)\n",
      "GA: Generation 4: took 153.30(s)\n",
      "\tBest fitness: 0.792283\n",
      "Writing result to csv file...\n",
      "Done\n",
      "Experiment number 1: took 632.986697(s)\n",
      "\n",
      "####################\n",
      "Experiment number 2\n",
      "Logfile:  /repos/faulty_cnn/logging/all/fashion-cnn2_1024/fashion-cnn2_1024-1023/LIM_500/LIM_500-2188/ERR_-1/c1/all_fashion-cnn2_1024-1023--LIM_500-2188--ERR_-1--c1--ga_84376--1.csv\n",
      "Starting GA experiment...\n",
      "GA: initializing first population\n",
      "GA: start main loop...\n",
      "GA: Generation 1: took 191.48(s)\n",
      "\tBest fitness: 0.801192\n",
      "\tNo improvement for 1 gen(s)\n",
      "GA: Generation 2: took 153.05(s)\n",
      "\tBest fitness: 0.801192\n",
      "\tNo improvement for 2 gen(s)\n",
      "GA: Generation 3: took 230.48(s)\n",
      "\tBest fitness: 0.801192\n",
      "\tNo improvement for 3 gen(s)\n",
      "GA: Generation 4: took 191.15(s)\n",
      "\tBest fitness: 0.801192\n",
      "\tNo improvement for 4 gen(s)\n",
      "Writing result to csv file...\n",
      "Done\n",
      "Experiment number 2: took 881.865459(s)\n",
      "\n"
     ]
    }
   ],
   "source": [
    "# RUN Experiment\n",
    "# Load GA experiment from module depending on layer name\n",
    "ga_func_name = \"EXP_fashion_cnn2_ERR_\" + layer\n",
    "module_name = 'libs.ga.ga_experiments'\n",
    "module = importlib.import_module(module_name)\n",
    "ga_func = getattr(module, ga_func_name)\n",
    "        \n",
    "# No. of times to repeat experiments\n",
    "K = 2\n",
    "POP_SIZE = 3\n",
    "N_GENERATIONS = 4\n",
    "CR = 0.6\n",
    "MR = 0.2\n",
    "\n",
    "print(\"Population: \", POP_SIZE)\n",
    "print(\"Generations: \", N_GENERATIONS)\n",
    "print(\"Crossover Rate: \", CR)\n",
    "print(\"Mutation Rate: \", MR)\n",
    "\n",
    "# Run GA experiment\n",
    "dataset, model_arch, model_config, layer_widths, seed = utils.instancename2metadata(model_instance)\n",
    "# model_instance = dataset-modelarch_modelconfig-seed\n",
    "model_meta_type, model_type, model_instance = utils.metadata2instancenames(dataset, \n",
    "                                                                           model_arch, \n",
    "                                                                           layer_widths, \n",
    "                                                                           seed)\n",
    "\n",
    "# model_arch = 'cnn'\n",
    "# model_config = '1024_256_64'\n",
    "# model_type: 'mnist32-cnn_1024_256_64'\n",
    "# model_meta_type: 'mnist32-cnn'\n",
    "\n",
    "EXP_TYPE           = dataset_seg_type + \"_\"  + model_meta_type + \"_\" + layer + \"_\" + error_type\n",
    "experiment_name    = model_instance   + '--' + error_profile_tag\n",
    "ga_experiment_name = dataset_seg_type + \"_\"  + experiment_name + \"--\" + error_type + '--' + layer + '--ga_' + str(this_seed)\n",
    "# File/Folder to save log files\n",
    "logging_folder = pathlib.Path(PROJ_ROOT_PATH / \"logging\" / dataset_seg_type / model_type / model_instance / error_lim / error_profile_tag / error_type / layer )\n",
    "\n",
    "if not os.path.exists(logging_folder):\n",
    "    os.makedirs(logging_folder, exist_ok = True)\n",
    "logging_filename_tag = pathlib.Path(logging_folder / ga_experiment_name)\n",
    "\n",
    "for i in range(K):\n",
    "    print('#' * 20)\n",
    "    print('Experiment number %d' % (i+1))\n",
    "    # time_tag = time.strftime(\"%m%d_%H%M%S\")\n",
    "    logging_filename = str(logging_filename_tag)  + '--' + str(i) + '.csv'\n",
    "    print(\"Logfile: \",logging_filename)\n",
    "\n",
    "    experiment = ga_func(model=model,\n",
    "                        error_profile=error_profile,\n",
    "                        ERR_PARAM=error_param,\n",
    "                        test_set=test_set,\n",
    "                        log_file=logging_filename,\n",
    "                        pop_size=POP_SIZE,\n",
    "                        n_generations=N_GENERATIONS,\n",
    "                        crossover_rate=CR,\n",
    "                        mutation_rate=MR,\n",
    "                        experiment_tag=str(i))\n",
    "\n",
    "    start = time.perf_counter()\n",
    "    experiment.run()\n",
    "    t = time.perf_counter() - start\n",
    "    print('Experiment number %d: took %f(s)' % (i+1, t))\n",
    "    print()"
   ]
  }
 ],
 "metadata": {
  "kernelspec": {
   "display_name": "Python 3",
   "language": "python",
   "name": "python3"
  },
  "language_info": {
   "codemirror_mode": {
    "name": "ipython",
    "version": 3
   },
   "file_extension": ".py",
   "mimetype": "text/x-python",
   "name": "python",
   "nbconvert_exporter": "python",
   "pygments_lexer": "ipython3",
   "version": "3.8.10"
  }
 },
 "nbformat": 4,
 "nbformat_minor": 5
}
