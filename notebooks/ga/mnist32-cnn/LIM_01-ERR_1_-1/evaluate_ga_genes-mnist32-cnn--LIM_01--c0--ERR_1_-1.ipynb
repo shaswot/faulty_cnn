{
 "cells": [
  {
   "cell_type": "code",
   "execution_count": 1,
   "id": "90518e9c-f282-4253-99c8-17c78f63c33d",
   "metadata": {
    "tags": []
   },
   "outputs": [],
   "source": [
    "import os\n",
    "import sys\n",
    "import git\n",
    "import pathlib\n",
    "\n",
    "import random\n",
    "import time\n",
    "\n",
    "\n",
    "import numpy as np\n",
    "import tensorflow as tf\n",
    "from tensorflow.keras.datasets import mnist\n",
    "\n",
    "\n",
    "PROJ_ROOT_PATH = pathlib.Path(git.Repo('.', search_parent_directories=True).working_tree_dir)\n",
    "PROJ_ROOT =  str(PROJ_ROOT_PATH)\n",
    "if PROJ_ROOT not in sys.path:\n",
    "    sys.path.append(PROJ_ROOT)\n",
    "\n",
    "from libs.constants import model_seeds, error_seeds\n",
    "from libs import utils\n",
    "from libs.fitnessfns import ff_mnist32_cnn_ERR, eval_mnist32_cnn_ERR\n",
    "from libs.ga.ga_utils import extract_best_worst_chromosomes"
   ]
  },
  {
   "cell_type": "code",
   "execution_count": 2,
   "id": "b2816169-cef9-4475-950a-c9f177bca985",
   "metadata": {},
   "outputs": [],
   "source": [
    "# set seed\n",
    "this_seed = 84376\n",
    "tf.random.set_seed(this_seed)\n",
    "np.random.seed(this_seed)\n",
    "random.seed(this_seed)\n",
    "os.environ['PYTHONHASHSEED']=str(this_seed)"
   ]
  },
  {
   "cell_type": "code",
   "execution_count": 3,
   "id": "d28232e2-a118-4940-b07d-6c4cfba0b9c6",
   "metadata": {},
   "outputs": [],
   "source": [
    "# Tensorflow Limit GPU usage\n",
    "gpus = tf.config.experimental.list_physical_devices('GPU')\n",
    "if gpus:\n",
    "    try:\n",
    "        for gpu in gpus:\n",
    "            tf.config.experimental.set_memory_growth(gpu, True)\n",
    "    except RuntimeError as e:\n",
    "        print(e)\n",
    "        "
   ]
  },
  {
   "cell_type": "code",
   "execution_count": 4,
   "id": "f4dbb3ed-1ccd-4d7a-8fd3-b1684d9d12d0",
   "metadata": {
    "tags": []
   },
   "outputs": [],
   "source": [
    "# Prepare dataset\n",
    "# Use only test images\n",
    "DATASET_PATH = str(pathlib.Path(PROJ_ROOT_PATH / \"datasets\" / \"mnist.npz\" ))\n",
    "(train_images, train_labels), (test_images, test_labels) = mnist.load_data(path=DATASET_PATH)\n",
    "test_images = test_images.astype(np.float32) / 255.0  \n",
    "test_images = np.expand_dims(test_images, axis=-1)\n",
    "# resize the input shape , i.e. old shape: 28, new shape: 32\n",
    "image_x_size = 32\n",
    "image_y_size = 32\n",
    "test_images = tf.image.resize(test_images, [image_x_size, image_y_size])"
   ]
  },
  {
   "cell_type": "code",
   "execution_count": 5,
   "id": "cb76b41a-3f1d-4bbb-ad66-da6cb1f2bfdb",
   "metadata": {},
   "outputs": [],
   "source": [
    "# Load test set\n",
    "# Testing with only im_num images\n",
    "im_num = 128*40#128*40=5120 #[128*78 = 9984]\n",
    "test_set = (test_images[im_num:], \n",
    "            test_labels[im_num:])"
   ]
  },
  {
   "cell_type": "code",
   "execution_count": 6,
   "id": "9c7eff0c-bbbb-43df-9eb6-cd905cb30c43",
   "metadata": {
    "tags": []
   },
   "outputs": [],
   "source": [
    "error_profile_tag_list = []\n",
    "ERR_PARAM_list = [-1,1]\n",
    "MAX_FAULT_PROB_LIST = [1E-3]\n",
    "error_layer_list = [\"c0\"]\n",
    "\n",
    "for MAX_FAULT_PROB in MAX_FAULT_PROB_LIST:\n",
    "    for seed in error_seeds[0:3]:\n",
    "        err_tag = \"LIM_\" + f\"{int(MAX_FAULT_PROB*1E3):02d}\" + \"-\" +str(seed)\n",
    "        error_profile_tag_list.append(err_tag)"
   ]
  },
  {
   "cell_type": "code",
   "execution_count": 7,
   "id": "b0208e84-52f8-4955-90cc-8754a50cf3c1",
   "metadata": {
    "tags": []
   },
   "outputs": [],
   "source": [
    "def eval_error_injected_with_shuffle(model, \n",
    "                                      layer_error_profiles, \n",
    "                                      ERR_PARAM,\n",
    "                                      shuffle_orders,\n",
    "                                      test_set):\n",
    "    # intialize to None\n",
    "    error_profile_c0=None\n",
    "    error_profile_h0=None\n",
    "    error_profile_h1=None\n",
    "    error_profile_h2=None\n",
    "    error_profile_op=None\n",
    "\n",
    "    error_profile_c0 = layer_error_profiles[\"c0\"]\n",
    "    error_profile_h0 = layer_error_profiles[\"h0\"]\n",
    "    error_profile_h1 = layer_error_profiles[\"h1\"]\n",
    "    error_profile_h2 = layer_error_profiles[\"h2\"]\n",
    "    error_profile_op = layer_error_profiles[\"op\"]\n",
    "\n",
    "    \n",
    "    # intialize to None\n",
    "    shuffle_order_c0 = None\n",
    "    shuffle_order_h0 = None\n",
    "    shuffle_order_h1 = None\n",
    "    shuffle_order_h2 = None\n",
    "    shuffle_order_op = None\n",
    "                    \n",
    "    shuffle_order_c0 = shuffle_orders[\"c0\"]\n",
    "    shuffle_order_h0 = shuffle_orders[\"h0\"]\n",
    "    shuffle_order_h1 = shuffle_orders[\"h1\"]\n",
    "    shuffle_order_h2 = shuffle_orders[\"h2\"]\n",
    "    shuffle_order_op = shuffle_orders[\"op\"]\n",
    "        \n",
    "    \n",
    "    avg, std = eval_mnist32_cnn_ERR(model,\n",
    "                                    error_profile_c0,\n",
    "                                    error_profile_h0,\n",
    "                                    error_profile_h1,\n",
    "                                    error_profile_h2,\n",
    "                                    error_profile_op,\n",
    "                                    ERR_PARAM,\n",
    "                                    shuffle_order_c0,\n",
    "                                    shuffle_order_h0,\n",
    "                                    shuffle_order_h1,\n",
    "                                    shuffle_order_h2,\n",
    "                                    shuffle_order_op,\n",
    "                                    test_set)\n",
    "        \n",
    "    return avg"
   ]
  },
  {
   "cell_type": "code",
   "execution_count": 8,
   "id": "7cd644c5-7de2-4112-a104-d0494a96d9e0",
   "metadata": {
    "tags": []
   },
   "outputs": [],
   "source": [
    "def reset_dict_values():\n",
    "    dummy_dict =  {\"c0\":None,\n",
    "             \"h0\":None,\n",
    "             \"h1\":None,\n",
    "             \"h2\":None,\n",
    "             \"op\":None}\n",
    "    return dummy_dict"
   ]
  },
  {
   "cell_type": "code",
   "execution_count": 9,
   "id": "d4b8fcad-9364-42e3-a542-f04726febd09",
   "metadata": {
    "tags": []
   },
   "outputs": [
    {
     "name": "stdout",
     "output_type": "stream",
     "text": [
      "DATASET TYPE:\t all\n"
     ]
    }
   ],
   "source": [
    "dataset_seg_type = \"all\"\n",
    "print(\"DATASET TYPE:\\t\", dataset_seg_type)"
   ]
  },
  {
   "cell_type": "code",
   "execution_count": 10,
   "id": "be19d8fc-007d-4ab0-9244-95b1c0ed9b17",
   "metadata": {
    "tags": []
   },
   "outputs": [
    {
     "name": "stdout",
     "output_type": "stream",
     "text": [
      "mnist32-cnn_1024_256_64-1023\n",
      "Original ACC:  0.993421052631579\n",
      "LIM_01-2188\n",
      "ERR_PARAM:\t -1\n",
      "Faulty ACC:  0.8760964912280702\n",
      "GA ACC:  0.9799205043859649\n",
      "ERR_PARAM:\t 1\n",
      "Faulty ACC:  0.8754797149122807\n",
      "GA ACC:  0.9654605263157894\n",
      "LIM_01-3987\n",
      "ERR_PARAM:\t -1\n",
      "Faulty ACC:  0.8027001096491228\n",
      "GA ACC:  0.9060444078947368\n",
      "ERR_PARAM:\t 1\n",
      "Faulty ACC:  0.8470394736842106\n",
      "GA ACC:  0.9595668859649124\n",
      "LIM_01-4981\n",
      "ERR_PARAM:\t -1\n",
      "Faulty ACC:  0.8625959429824562\n",
      "GA ACC:  0.9795093201754387\n",
      "ERR_PARAM:\t 1\n",
      "Faulty ACC:  0.8834978070175438\n",
      "GA ACC:  0.9729303728070176\n",
      "mnist32-cnn_1024_256_64-2920\n",
      "Original ACC:  0.9928042763157895\n",
      "LIM_01-2188\n",
      "ERR_PARAM:\t -1\n",
      "Faulty ACC:  0.9012472587719298\n",
      "GA ACC:  0.9576480263157895\n",
      "ERR_PARAM:\t 1\n",
      "Faulty ACC:  0.9141995614035089\n",
      "GA ACC:  0.9784813596491229\n",
      "LIM_01-3987\n",
      "ERR_PARAM:\t -1\n",
      "Faulty ACC:  0.9093338815789473\n",
      "GA ACC:  0.9463404605263158\n",
      "ERR_PARAM:\t 1\n",
      "Faulty ACC:  0.9242735745614036\n",
      "GA ACC:  0.9699835526315789\n",
      "LIM_01-4981\n",
      "ERR_PARAM:\t -1\n",
      "Faulty ACC:  0.9360608552631579\n",
      "GA ACC:  0.9759457236842106\n",
      "ERR_PARAM:\t 1\n",
      "Faulty ACC:  0.9389391447368421\n",
      "GA ACC:  0.9823876096491229\n"
     ]
    }
   ],
   "source": [
    "model_type = \"mnist32-cnn_1024_256_64\"\n",
    "results = {}\n",
    "results_filename = 'evaluate_ga_genes-mnist32-cnn--LIM_01--c0--ERR_1_-1.npy'\n",
    "\n",
    "for model_seed in model_seeds[0:2]:#model_seeds[0:2]:\n",
    "    results[model_seed] = {}\n",
    "    # Get model\n",
    "    model_instance = model_type + \"-\" + str(model_seed)\n",
    "    dataset, model_arch, model_config, layer_widths, seed = utils.instancename2metadata(model_instance)\n",
    "    model_meta_type, model_type, model_instance = utils.metadata2instancenames(dataset, model_arch, layer_widths, seed)\n",
    "    model_folder = pathlib.Path(PROJ_ROOT_PATH / \"models\" / model_type)\n",
    "    model_filename = model_instance + \".h5\"\n",
    "    model_file = pathlib.Path(model_folder/ model_filename)\n",
    "    # Load model\n",
    "    model = tf.keras.models.load_model(model_file)\n",
    "    print(model_instance)\n",
    "    \n",
    "    # Original Accuracy\n",
    "    error_profiles = reset_dict_values()\n",
    "    ERR_PARAM = None\n",
    "    shuffle_orders = reset_dict_values()\n",
    "    test_set = test_set\n",
    "    original_accuracy = ff_mnist32_cnn_ERR(model,\n",
    "                                            error_profile_c0=None,\n",
    "                                            error_profile_h0=None,\n",
    "                                            error_profile_h1=None,\n",
    "                                            error_profile_h2=None,\n",
    "                                            error_profile_op=None,\n",
    "                                            ERR_PARAM=None,\n",
    "                                            shuffle_order_c0=None,\n",
    "                                            shuffle_order_h0=None,\n",
    "                                            shuffle_order_h1=None,\n",
    "                                            shuffle_order_h2=None,\n",
    "                                            shuffle_order_op=None,\n",
    "                                            test_set=test_set,\n",
    "                                            batchsize=128).numpy()\n",
    "    print(\"Original ACC: \", original_accuracy)\n",
    "    results[model_seed][\"original_acc\"] = original_accuracy\n",
    "    \n",
    "    for error_profile_tag in error_profile_tag_list:\n",
    "        print(error_profile_tag)\n",
    "        results[model_seed][error_profile_tag] = {}\n",
    "        # Load error profile\n",
    "        error_profile_folder = pathlib.Path(PROJ_ROOT_PATH / \"error_profiles\")\n",
    "        error_profile_filename = error_profile_tag + \".npy\"\n",
    "        error_profile_file = pathlib.Path(error_profile_folder/ error_profile_filename)\n",
    "        error_profile = np.load(error_profile_file)\n",
    "\n",
    "        for ERR_PARAM in ERR_PARAM_list:\n",
    "            print(\"ERR_PARAM:\\t\", ERR_PARAM)\n",
    "            results[model_seed][error_profile_tag][ERR_PARAM]={}\n",
    "            for error_layer in error_layer_list:\n",
    "                results[model_seed][error_profile_tag][ERR_PARAM][error_layer]={}\n",
    "                # Reset error profiles and shuffle orders for all layers\n",
    "                error_profiles = reset_dict_values()\n",
    "                shuffle_orders = reset_dict_values()\n",
    "                \n",
    "                # Inject error and observe degradation\n",
    "                error_profiles[error_layer] = error_profile\n",
    "                eval_acc  = eval_error_injected_with_shuffle(model, \n",
    "                                                              error_profiles, \n",
    "                                                              ERR_PARAM,\n",
    "                                                              shuffle_orders,\n",
    "                                                              test_set)\n",
    "                results[model_seed][error_profile_tag][ERR_PARAM][error_layer][\"faulty\"] = eval_acc\n",
    "                np.save(results_filename, results) \n",
    "                print(\"Faulty ACC: \", eval_acc)\n",
    "                \n",
    "                # Use the best chromosome and observe recovered value\n",
    "                best, worst = extract_best_worst_chromosomes(dataset_seg_type, # (all, qmean1, qent2)\n",
    "                                                                   error_layer, \n",
    "                                                                   ERR_PARAM, \n",
    "                                                                   model_instance, \n",
    "                                                                   error_profile_tag, \n",
    "                                                                   this_seed)\n",
    "                # using best chromosome\n",
    "                shuffle_orders[error_layer] = best\n",
    "                eval_acc  = eval_error_injected_with_shuffle(model, \n",
    "                                                              error_profiles, \n",
    "                                                              ERR_PARAM,\n",
    "                                                              shuffle_orders,\n",
    "                                                              test_set)\n",
    "                results[model_seed][error_profile_tag][ERR_PARAM][error_layer][\"ga_optim\"] = eval_acc\n",
    "                np.save(results_filename, results) \n",
    "                print(\"GA ACC: \", eval_acc)\n",
    "        print()\n",
    "    print()"
   ]
  },
  {
   "cell_type": "code",
   "execution_count": 12,
   "id": "391e729f-3167-48a4-8cfd-2320369876e3",
   "metadata": {},
   "outputs": [
    {
     "name": "stdout",
     "output_type": "stream",
     "text": [
      "/repos/faulty_cnn/notebooks/ga/mnist32-cnn/LIM_01-ERR_1\n"
     ]
    }
   ],
   "source": [
    "!pwd"
   ]
  },
  {
   "cell_type": "code",
   "execution_count": null,
   "id": "10224e50-b3c4-4c63-b5ac-612f9fec27ac",
   "metadata": {},
   "outputs": [],
   "source": []
  }
 ],
 "metadata": {
  "kernelspec": {
   "display_name": "Python 3",
   "language": "python",
   "name": "python3"
  },
  "language_info": {
   "codemirror_mode": {
    "name": "ipython",
    "version": 3
   },
   "file_extension": ".py",
   "mimetype": "text/x-python",
   "name": "python",
   "nbconvert_exporter": "python",
   "pygments_lexer": "ipython3",
   "version": "3.8.10"
  }
 },
 "nbformat": 4,
 "nbformat_minor": 5
}
