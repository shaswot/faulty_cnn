{
 "cells": [
  {
   "cell_type": "code",
   "execution_count": 1,
   "id": "1601b7c0-acab-41ca-9411-57bb94e87895",
   "metadata": {},
   "outputs": [],
   "source": [
    "%matplotlib inline"
   ]
  },
  {
   "cell_type": "code",
   "execution_count": 2,
   "id": "80c01360-c697-4f5a-897f-b8fa57417921",
   "metadata": {},
   "outputs": [],
   "source": [
    "import numpy as np\n",
    "import pandas as pd\n",
    "import matplotlib\n",
    "import matplotlib.pyplot as plt"
   ]
  },
  {
   "cell_type": "code",
   "execution_count": 3,
   "id": "692352cb-b82a-421f-b6f9-e2b551042f36",
   "metadata": {},
   "outputs": [],
   "source": [
    "import os\n",
    "import sys\n",
    "import git\n",
    "import pathlib\n",
    "\n",
    "PROJ_ROOT_PATH = pathlib.Path(git.Repo('.', search_parent_directories=True).working_tree_dir)\n",
    "PROJ_ROOT =  str(PROJ_ROOT_PATH)\n",
    "if PROJ_ROOT not in sys.path:\n",
    "    sys.path.append(PROJ_ROOT)\n",
    "    \n",
    "from libs.constants import model_seeds, error_seeds"
   ]
  },
  {
   "cell_type": "code",
   "execution_count": 4,
   "id": "bf40d4da-f885-4284-a7d7-f9d7ff6b0065",
   "metadata": {},
   "outputs": [],
   "source": [
    "model_meta_type = \"mnist32-cnn\"\n",
    "error_layer = \"c0\"\n",
    "MAX_FAULT_PROB_list = [1E-3]\n",
    "ERR_PARAM_list = [1,-1]\n",
    "ERR_NAME_LIST = {1:\"Flip-to-1\",\n",
    "                -1:\"Bitflip\"}\n",
    "\n",
    "# err_tag = \"LIM_\" + f\"{int(MAX_FAULT_PROB*1E3):02d}\"\n",
    "err_tag_list = [\"LIM_\" + f\"{int(MAX_FAULT_PROB*1E3):02d}\" for MAX_FAULT_PROB in MAX_FAULT_PROB_list]\n",
    "    \n",
    "param_tag = \"ERR\"\n",
    "for ERR_PARAM in ERR_PARAM_list:\n",
    "    param_tag = param_tag + \"_\"+ str(ERR_PARAM)    \n",
    "    \n",
    "#################\n",
    "#HANDIPLAST\n",
    "###################\n",
    "MAX_FAULT_PROB = 1E-3\n",
    "error_meta_type = \"LIM_\" + f\"{int(MAX_FAULT_PROB*1E3):02d}\" + \"-\" + param_tag"
   ]
  },
  {
   "cell_type": "code",
   "execution_count": 5,
   "id": "4afe460e-07be-4e2d-bf4e-abeb162feff2",
   "metadata": {},
   "outputs": [],
   "source": [
    "results_folder = pathlib.Path(PROJ_ROOT_PATH / \"notebooks\"/ \"ga\" / model_meta_type /error_meta_type )\n",
    "results_filename = 'evaluate_ga_optim-mnist32-cnn--LIM_01--c0--ERR_1_-1.npy'\n",
    "results_file = pathlib.Path(results_folder / results_filename )\n",
    "results = np.load(str(results_file), allow_pickle='TRUE').item()"
   ]
  },
  {
   "cell_type": "code",
   "execution_count": 6,
   "id": "91b72927-1675-4806-9984-e2cb18cbbfae",
   "metadata": {},
   "outputs": [],
   "source": [
    "model_seeds = list(results.keys())\n",
    "error_profiles = list(results[model_seeds[0]].keys())[1:]"
   ]
  },
  {
   "cell_type": "code",
   "execution_count": 7,
   "id": "65cf4212-b35b-4b62-8e66-741b19f235cc",
   "metadata": {},
   "outputs": [],
   "source": [
    "# given err_tag\n",
    "# for all model seeds\n",
    "# for all error seeds"
   ]
  },
  {
   "cell_type": "code",
   "execution_count": 8,
   "id": "fbade9df-ed38-4dc6-b2d2-04465edb3dd7",
   "metadata": {},
   "outputs": [],
   "source": [
    "fig_values = {}"
   ]
  },
  {
   "cell_type": "code",
   "execution_count": 9,
   "id": "c94ff438-14df-43e4-b459-b7d0b26b8091",
   "metadata": {},
   "outputs": [],
   "source": [
    "fig_values[\"original_accs\"] = {}\n",
    "dummy = []\n",
    "for model_seed in model_seeds:\n",
    "    dummy.append(results[model_seed][\"original_acc\"])\n",
    "fig_values[\"original_accs\"][\"avg\"] = np.mean(dummy)\n",
    "fig_values[\"original_accs\"][\"std\"] = np.std(dummy)"
   ]
  },
  {
   "cell_type": "code",
   "execution_count": 10,
   "id": "6063d04c-82c7-4264-b311-2048e3d581b9",
   "metadata": {},
   "outputs": [],
   "source": [
    "\n",
    "for ERR_PARAM in ERR_PARAM_list:\n",
    "    fig_values[ERR_PARAM] = {}\n",
    "    for err_tag in err_tag_list:\n",
    "        fig_values[ERR_PARAM][err_tag] = {}\n",
    "        fig_values[ERR_PARAM][err_tag][\"faulty\"] = {}\n",
    "        fig_values[ERR_PARAM][err_tag][\"ga_optim\"] = {}\n",
    "        fig_values[ERR_PARAM][err_tag][\"recovery\"] = {}\n",
    "\n",
    "        dummy_faulty = []\n",
    "        dummy_ga_optim = []\n",
    "        dummy_recovery = []\n",
    "        for model_seed in model_seeds[0:2]:\n",
    "            for error_seed in error_seeds[0:2]:\n",
    "                error_profile_tag = err_tag+\"-\"+str(error_seed)\n",
    "                \n",
    "                faulty = results[model_seed][error_profile_tag][ERR_PARAM][error_layer][\"faulty\"]\n",
    "                ga_optim = results[model_seed][error_profile_tag][ERR_PARAM][error_layer][\"ga_optim\"]\n",
    "                recovery = ga_optim - faulty\n",
    "                \n",
    "                dummy_faulty.append(faulty)\n",
    "                dummy_ga_optim.append(ga_optim)\n",
    "                dummy_recovery.append(recovery)\n",
    "                \n",
    "                \n",
    "        fig_values[ERR_PARAM][err_tag][\"faulty\"][\"avg\"] = np.mean(dummy_faulty)\n",
    "        fig_values[ERR_PARAM][err_tag][\"faulty\"][\"std\"] = np.std(dummy_faulty)\n",
    "        \n",
    "        fig_values[ERR_PARAM][err_tag][\"ga_optim\"][\"avg\"] = np.mean(dummy_ga_optim)\n",
    "        fig_values[ERR_PARAM][err_tag][\"ga_optim\"][\"std\"] = np.std(dummy_ga_optim)\n",
    "        \n",
    "        fig_values[ERR_PARAM][err_tag][\"recovery\"][\"avg\"] = np.mean(dummy_recovery)\n",
    "        fig_values[ERR_PARAM][err_tag][\"recovery\"][\"std\"] = np.std(dummy_recovery)"
   ]
  },
  {
   "cell_type": "code",
   "execution_count": 11,
   "id": "0b1d3282-ad60-42d5-9ee8-31377792c769",
   "metadata": {},
   "outputs": [
    {
     "data": {
      "text/plain": [
       "{'original_accs': {'avg': 0.9931126644736843, 'std': 0.0003083881578947456},\n",
       " 1: {'LIM_01': {'faulty': {'avg': 0.890248081140351,\n",
       "    'std': 0.030888897717010602},\n",
       "   'ga_optim': {'avg': 0.9683730811403508, 'std': 0.0069065722668512075},\n",
       "   'recovery': {'avg': 0.07812499999999992, 'std': 0.02533009137513422}}},\n",
       " -1: {'LIM_01': {'faulty': {'avg': 0.8723444353070176,\n",
       "    'std': 0.04203570613099497},\n",
       "   'ga_optim': {'avg': 0.9474883497807017, 'std': 0.0268047647276789},\n",
       "   'recovery': {'avg': 0.07514391447368424, 'std': 0.02925564741763525}}}}"
      ]
     },
     "execution_count": 11,
     "metadata": {},
     "output_type": "execute_result"
    }
   ],
   "source": [
    "fig_values"
   ]
  },
  {
   "cell_type": "code",
   "execution_count": 26,
   "id": "11e1f212-5a75-4d67-8f81-5d12807dd514",
   "metadata": {},
   "outputs": [
    {
     "data": {
      "text/plain": [
       "<matplotlib.legend.Legend at 0x7ff7c4badbb0>"
      ]
     },
     "execution_count": 26,
     "metadata": {},
     "output_type": "execute_result"
    },
    {
     "data": {
      "image/png": "[encoded data removed]",
      "text/plain": [
       "<Figure size 562.5x231.768 with 2 Axes>"
      ]
     },
     "metadata": {
      "needs_background": "light"
     },
     "output_type": "display_data"
    }
   ],
   "source": [
    "# Plot figure\n",
    "fig_width = 3.125/0.8 * 2\n",
    "fig_height = fig_width / 1.618 /1.5\n",
    "n_rows = 1\n",
    "n_cols = len(ERR_PARAM_list)\n",
    "fig, axs = plt.subplots(nrows=n_rows,\n",
    "                        ncols=n_cols,\n",
    "                        figsize=[fig_width,fig_height], # in inches\n",
    "                        sharex=True,\n",
    "                        sharey=True,\n",
    "                        constrained_layout=False, \n",
    "                        # tight_layout=True\n",
    "                       )\n",
    "plt.subplots_adjust(left=0.1, bottom=None, right=None, top=None, wspace=0.05, hspace=0.1)\n",
    "\n",
    "for idx, ERR_PARAM in enumerate(ERR_PARAM_list):\n",
    "    ax = axs[idx]\n",
    "    \n",
    "    # Print type of error\n",
    "    text = ERR_NAME_LIST[ERR_PARAM]\n",
    "    ax.text(0.5, 0.25, \n",
    "           text, \n",
    "           horizontalalignment='center', \n",
    "           verticalalignment='center', \n",
    "           transform=ax.transAxes)\n",
    "    \n",
    "    \n",
    "    ax.set_xticks( [],[])   \n",
    "    ax.set_xlabel(err_tag)\n",
    "    \n",
    "    # Plot original accuracy line\n",
    "    ax.axhline(y=fig_values[\"original_accs\"][\"avg\"])\n",
    "    ax.axhspan(fig_values[\"original_accs\"][\"avg\"] - fig_values[\"original_accs\"][\"std\"], \n",
    "               fig_values[\"original_accs\"][\"avg\"] + fig_values[\"original_accs\"][\"std\"], alpha=0.5)\n",
    "\n",
    "    # Plot faulty + recovery\n",
    "    y_offset = 0\n",
    "    for val_type in [\"faulty\", \"recovery\"]:\n",
    "        x_root = 0\n",
    "        x_offset = 0\n",
    "        ax.set_ylim(0.8,1.0)\n",
    "        ax.set_yticks([0.8,0.85,0.9,0.95,1.0])\n",
    "        ax.bar(x=x_root+x_offset,\n",
    "               height=fig_values[ERR_PARAM][err_tag][val_type][\"avg\"],\n",
    "               width=0.3,\n",
    "               bottom=y_offset,\n",
    "               yerr=fig_values[ERR_PARAM][err_tag][val_type][\"std\"],\n",
    "               label=val_type,\n",
    "               error_kw=dict(ecolor='black', lw=1, capsize=5, capthick=1, alpha=0.7))\n",
    "\n",
    "        y_offset = y_offset + fig_values[ERR_PARAM][err_tag][val_type][\"avg\"]\n",
    "ax.legend()"
   ]
  },
  {
   "cell_type": "code",
   "execution_count": null,
   "id": "ca78ced2-45b4-4f22-833c-3f42332af5ae",
   "metadata": {},
   "outputs": [],
   "source": []
  }
 ],
 "metadata": {
  "kernelspec": {
   "display_name": "Python 3",
   "language": "python",
   "name": "python3"
  },
  "language_info": {
   "codemirror_mode": {
    "name": "ipython",
    "version": 3
   },
   "file_extension": ".py",
   "mimetype": "text/x-python",
   "name": "python",
   "nbconvert_exporter": "python",
   "pygments_lexer": "ipython3",
   "version": "3.8.10"
  }
 },
 "nbformat": 4,
 "nbformat_minor": 5
}
