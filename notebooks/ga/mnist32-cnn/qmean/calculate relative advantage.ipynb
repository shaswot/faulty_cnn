{
 "cells": [
  {
   "cell_type": "code",
   "execution_count": 1,
   "id": "0c859bcc-4458-44d9-939c-7f0365fd72f8",
   "metadata": {},
   "outputs": [],
   "source": [
    "%matplotlib inline"
   ]
  },
  {
   "cell_type": "code",
   "execution_count": 2,
   "id": "82106de4-e4fc-4a85-a457-d1f238b346c7",
   "metadata": {},
   "outputs": [],
   "source": [
    "import numpy as np\n",
    "import pandas as pd\n",
    "import matplotlib\n",
    "import matplotlib.pyplot as plt"
   ]
  },
  {
   "cell_type": "code",
   "execution_count": 3,
   "id": "d6597e06-a609-4922-843f-e9f6f90b0265",
   "metadata": {},
   "outputs": [],
   "source": [
    "import os\n",
    "import sys\n",
    "import git\n",
    "import pathlib\n",
    "\n",
    "PROJ_ROOT_PATH = pathlib.Path(git.Repo('.', search_parent_directories=True).working_tree_dir)\n",
    "PROJ_ROOT =  str(PROJ_ROOT_PATH)\n",
    "if PROJ_ROOT not in sys.path:\n",
    "    sys.path.append(PROJ_ROOT)\n",
    "    \n",
    "from libs.constants import model_seeds, error_seeds"
   ]
  },
  {
   "cell_type": "code",
   "execution_count": 4,
   "id": "4c5e8ae6-f5e2-46a3-b120-49d35965dfa6",
   "metadata": {},
   "outputs": [],
   "source": [
    "model_seeds = model_seeds[0:3]\n",
    "error_seeds = [error_seeds[0], error_seeds[2]]"
   ]
  },
  {
   "cell_type": "code",
   "execution_count": 5,
   "id": "e79984df-f9fb-4d7a-afed-2a2705e67619",
   "metadata": {},
   "outputs": [],
   "source": [
    "results_filename = 'evaluate_ga_optim-mnist32-cnn--qmean-c0--LIM_05-ERR_-1.npy'\n",
    "results = np.load(str(results_filename), allow_pickle='TRUE').item()"
   ]
  },
  {
   "cell_type": "code",
   "execution_count": 6,
   "id": "303304c4-915d-4031-943a-e96fcfc4ed14",
   "metadata": {},
   "outputs": [],
   "source": [
    "error_profile_list = [\"LIM_05-2188\",\"LIM_05-4981\" ]\n",
    "test_set_list = [\"q1\",\"q2\",\"q3\",\"q4\",\"all\"]\n",
    "optim_type_list = [\"qmean1\",\"qmean2\",\"qmean3\",\"qmean4\"]"
   ]
  },
  {
   "cell_type": "code",
   "execution_count": 7,
   "id": "0980feac-ce75-485a-9c58-64c52d7efe1e",
   "metadata": {},
   "outputs": [
    {
     "data": {
      "text/plain": [
       "dict_keys(['qmean1', 'qmean2', 'qmean3', 'qmean4', 'all'])"
      ]
     },
     "execution_count": 7,
     "metadata": {},
     "output_type": "execute_result"
    }
   ],
   "source": [
    "results[\"q1\"].keys()"
   ]
  },
  {
   "cell_type": "code",
   "execution_count": 8,
   "id": "484a1ea1-37f8-4629-8754-401ad6bcea47",
   "metadata": {},
   "outputs": [],
   "source": [
    "advantage_dict = {}"
   ]
  },
  {
   "cell_type": "code",
   "execution_count": 9,
   "id": "ddeedbd5-a087-429f-a979-d1bbb8bd53b7",
   "metadata": {},
   "outputs": [],
   "source": [
    "ERR_PARAM = -1\n",
    "layer = \"c0\"\n",
    "for test_set in test_set_list:\n",
    "    advantage_dict[test_set] = {}\n",
    "    for optim_type in  optim_type_list:\n",
    "        advantage_dict[test_set][optim_type] = {}\n",
    "        dummy = []\n",
    "        for model_seed in model_seeds:\n",
    "            for error_profile in error_profile_list:\n",
    "                baseline = results[test_set][\"all\"][model_seed][error_profile][ERR_PARAM][layer][\"ga_optim\"]\n",
    "                value = results[test_set][optim_type][model_seed][error_profile][ERR_PARAM][layer][\"ga_optim\"]\n",
    "                advantage = value - baseline\n",
    "                dummy.append(advantage)\n",
    "        advantage_dict[test_set][optim_type][\"avg\"]=np.mean(dummy)\n",
    "        advantage_dict[test_set][optim_type][\"std\"]=np.std(dummy)"
   ]
  },
  {
   "cell_type": "code",
   "execution_count": 11,
   "id": "ecf9d3c2-3cf7-4fc6-a021-20c0e2f83f09",
   "metadata": {},
   "outputs": [
    {
     "data": {
      "text/plain": [
       "[<matplotlib.axis.YTick at 0x7f78b7ffa250>,\n",
       " <matplotlib.axis.YTick at 0x7f78b7feb7c0>,\n",
       " <matplotlib.axis.YTick at 0x7f78b7fe0a30>,\n",
       " <matplotlib.axis.YTick at 0x7f78b7f76fa0>]"
      ]
     },
     "execution_count": 11,
     "metadata": {},
     "output_type": "execute_result"
    },
    {
     "data": {
      "image/png": "[encoded data removed]",
      "text/plain": [
       "<Figure size 432x288 with 1 Axes>"
      ]
     },
     "metadata": {
      "needs_background": "light"
     },
     "output_type": "display_data"
    }
   ],
   "source": [
    "fig, ax = plt.subplots()\n",
    "for idx, optim_type in enumerate(optim_type_list):\n",
    "    avgs = [advantage_dict[test_set][optim_type][\"avg\"] for test_set in test_set_list]\n",
    "    stds = [advantage_dict[test_set][optim_type][\"std\"] for test_set in test_set_list]\n",
    "    x_roots = np.arange(len(test_set_list)) # 5 datasets\n",
    "    width = 0.8\n",
    "    barwidth = width/len(optim_type_list)\n",
    "    x_offsets = idx * barwidth\n",
    "    x_poss = x_roots + x_offsets\n",
    "    ax.bar(x_poss,\n",
    "              avgs,\n",
    "               width=barwidth,\n",
    "               yerr=stds,\n",
    "               label=optim_type,\n",
    "               # color=color_dict[error_layer][val_type],\n",
    "              error_kw=dict(ecolor='black', lw=1, capsize=5, capthick=1, alpha=0.7))\n",
    "ax.legend(ncol=4,loc = \"upper left\",bbox_to_anchor=(0.05, 1.1, 0, 0.))\n",
    "ax.set_xticks(np.arange(len(test_set_list)), test_set_list)\n",
    "ax.set_xlabel(\"Test Dataset Type\")\n",
    "ax.set_ylabel(\"Advantage w.r.t. HAS optimized using non-segregated dataset\")\n",
    "text = \"Types of HAS optimized using mean segregated datasets\"\n",
    "ax.text(0.5, 1.125, \n",
    "       text, \n",
    "       horizontalalignment='center', \n",
    "       verticalalignment='center', \n",
    "       transform=ax.transAxes)\n",
    "ax.set_yticks([-0.04, -0.02, 0.0, 0.02],[\"-4%\",\"-2%\",\"0\",\"+2%\"])"
   ]
  },
  {
   "cell_type": "code",
   "execution_count": null,
   "id": "026526ec-3f2b-4ae0-8cbb-40ee44b14992",
   "metadata": {},
   "outputs": [],
   "source": []
  }
 ],
 "metadata": {
  "kernelspec": {
   "display_name": "Python 3",
   "language": "python",
   "name": "python3"
  },
  "language_info": {
   "codemirror_mode": {
    "name": "ipython",
    "version": 3
   },
   "file_extension": ".py",
   "mimetype": "text/x-python",
   "name": "python",
   "nbconvert_exporter": "python",
   "pygments_lexer": "ipython3",
   "version": "3.8.10"
  }
 },
 "nbformat": 4,
 "nbformat_minor": 5
}
