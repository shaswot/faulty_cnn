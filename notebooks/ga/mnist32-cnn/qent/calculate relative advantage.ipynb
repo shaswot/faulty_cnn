{
 "cells": [
  {
   "cell_type": "code",
   "execution_count": 1,
   "id": "0c859bcc-4458-44d9-939c-7f0365fd72f8",
   "metadata": {},
   "outputs": [],
   "source": [
    "%matplotlib inline"
   ]
  },
  {
   "cell_type": "code",
   "execution_count": 2,
   "id": "82106de4-e4fc-4a85-a457-d1f238b346c7",
   "metadata": {},
   "outputs": [],
   "source": [
    "import numpy as np\n",
    "import pandas as pd\n",
    "import matplotlib\n",
    "import matplotlib.pyplot as plt"
   ]
  },
  {
   "cell_type": "code",
   "execution_count": 3,
   "id": "d6597e06-a609-4922-843f-e9f6f90b0265",
   "metadata": {},
   "outputs": [],
   "source": [
    "import os\n",
    "import sys\n",
    "import git\n",
    "import pathlib\n",
    "\n",
    "PROJ_ROOT_PATH = pathlib.Path(git.Repo('.', search_parent_directories=True).working_tree_dir)\n",
    "PROJ_ROOT =  str(PROJ_ROOT_PATH)\n",
    "if PROJ_ROOT not in sys.path:\n",
    "    sys.path.append(PROJ_ROOT)\n",
    "    \n",
    "from libs.constants import model_seeds, error_seeds"
   ]
  },
  {
   "cell_type": "code",
   "execution_count": 4,
   "id": "4c5e8ae6-f5e2-46a3-b120-49d35965dfa6",
   "metadata": {},
   "outputs": [],
   "source": [
    "model_seeds = model_seeds[0:3]\n",
    "error_seeds = [error_seeds[0], error_seeds[2]]"
   ]
  },
  {
   "cell_type": "code",
   "execution_count": 5,
   "id": "e79984df-f9fb-4d7a-afed-2a2705e67619",
   "metadata": {},
   "outputs": [],
   "source": [
    "results_filename = 'evaluate_ga_optim-mnist32-cnn--qent-c0--LIM_05-ERR_-1.npy'\n",
    "results = np.load(str(results_filename), allow_pickle='TRUE').item()"
   ]
  },
  {
   "cell_type": "code",
   "execution_count": 6,
   "id": "b658175a-50c2-4307-9ca9-998136555384",
   "metadata": {},
   "outputs": [
    {
     "data": {
      "text/plain": [
       "dict_keys(['q1', 'q2', 'q3', 'q4', 'all'])"
      ]
     },
     "execution_count": 6,
     "metadata": {},
     "output_type": "execute_result"
    }
   ],
   "source": [
    "results.keys()"
   ]
  },
  {
   "cell_type": "code",
   "execution_count": 7,
   "id": "f29999ee-57aa-420e-9f19-72259d61e65c",
   "metadata": {},
   "outputs": [
    {
     "data": {
      "text/plain": [
       "0.9173900462962963"
      ]
     },
     "execution_count": 7,
     "metadata": {},
     "output_type": "execute_result"
    }
   ],
   "source": [
    "results[\"q1\"][\"qent1\"][1023]['LIM_05-2188'][-1][\"c0\"]['ga_optim']"
   ]
  },
  {
   "cell_type": "code",
   "execution_count": 8,
   "id": "303304c4-915d-4031-943a-e96fcfc4ed14",
   "metadata": {},
   "outputs": [],
   "source": [
    "error_profile_list = [\"LIM_05-2188\",\"LIM_05-4981\" ]\n",
    "test_set_list = [\"q1\",\"q2\",\"q3\",\"q4\",\"all\"]\n",
    "optim_type_list = [\"qent1\",\"qent2\",\"qent3\",\"qent4\"]"
   ]
  },
  {
   "cell_type": "code",
   "execution_count": 9,
   "id": "0980feac-ce75-485a-9c58-64c52d7efe1e",
   "metadata": {},
   "outputs": [
    {
     "data": {
      "text/plain": [
       "dict_keys(['qent1', 'qent2', 'qent3', 'qent4', 'all'])"
      ]
     },
     "execution_count": 9,
     "metadata": {},
     "output_type": "execute_result"
    }
   ],
   "source": [
    "results[\"q1\"].keys()"
   ]
  },
  {
   "cell_type": "code",
   "execution_count": 10,
   "id": "484a1ea1-37f8-4629-8754-401ad6bcea47",
   "metadata": {},
   "outputs": [],
   "source": [
    "advantage_dict = {}"
   ]
  },
  {
   "cell_type": "code",
   "execution_count": 11,
   "id": "ddeedbd5-a087-429f-a979-d1bbb8bd53b7",
   "metadata": {},
   "outputs": [],
   "source": [
    "ERR_PARAM = -1\n",
    "layer = \"c0\"\n",
    "for test_set in test_set_list:\n",
    "    advantage_dict[test_set] = {}\n",
    "    for optim_type in  optim_type_list:\n",
    "        advantage_dict[test_set][optim_type] = {}\n",
    "        dummy = []\n",
    "        for model_seed in model_seeds:\n",
    "            for error_profile in error_profile_list:\n",
    "                baseline = results[test_set][\"all\"][model_seed][error_profile][ERR_PARAM][layer][\"ga_optim\"]\n",
    "                value = results[test_set][optim_type][model_seed][error_profile][ERR_PARAM][layer][\"ga_optim\"]\n",
    "                advantage = value - baseline\n",
    "                dummy.append(advantage)\n",
    "        advantage_dict[test_set][optim_type][\"avg\"]=np.mean(dummy)\n",
    "        advantage_dict[test_set][optim_type][\"std\"]=np.std(dummy)"
   ]
  },
  {
   "cell_type": "code",
   "execution_count": 12,
   "id": "236cd318-66a8-43bf-af7c-e000ee3062f9",
   "metadata": {},
   "outputs": [
    {
     "data": {
      "text/plain": [
       "{'q1': {'qent1': {'avg': -0.013671874999999981, 'std': 0.018833773636042207},\n",
       "  'qent2': {'avg': -0.015359760802469091, 'std': 0.026035827623993674},\n",
       "  'qent3': {'avg': -0.006413966049382695, 'std': 0.016090206382053798},\n",
       "  'qent4': {'avg': 0.0016155478395062002, 'std': 0.009000353060300437}},\n",
       " 'q2': {'qent1': {'avg': -0.00742187500000004, 'std': 0.016468180139944867},\n",
       "  'qent2': {'avg': -0.010177951388888884, 'std': 0.01903558204413307},\n",
       "  'qent3': {'avg': 0.005913628472222228, 'std': 0.015811174588356357},\n",
       "  'qent4': {'avg': 0.009038628472222218, 'std': 0.010464396445752382}},\n",
       " 'q3': {'qent1': {'avg': -0.008376736111111208, 'std': 0.02001592873055272},\n",
       "  'qent2': {'avg': -0.013878038194444517, 'std': 0.017088424489127257},\n",
       "  'qent3': {'avg': 0.0022135416666665964, 'std': 0.015950299389052344},\n",
       "  'qent4': {'avg': 0.005447048611111042, 'std': 0.01261065448937012}},\n",
       " 'q4': {'qent1': {'avg': -0.007389322916666663, 'std': 0.016670427957606516},\n",
       "  'qent2': {'avg': -0.012923177083333329, 'std': 0.02110348491230714},\n",
       "  'qent3': {'avg': 0.0037543402777778234, 'std': 0.018332485089442747},\n",
       "  'qent4': {'avg': 0.008365885416666644, 'std': 0.012982024956939587}},\n",
       " 'all': {'qent1': {'avg': -0.01182725694444442, 'std': 0.021038676693993483},\n",
       "  'qent2': {'avg': -0.01666666666666668, 'std': 0.023915481945649884},\n",
       "  'qent3': {'avg': 0.0019639756944444717, 'std': 0.016153244086171626},\n",
       "  'qent4': {'avg': 0.005121527777777801, 'std': 0.013470987479660893}}}"
      ]
     },
     "execution_count": 12,
     "metadata": {},
     "output_type": "execute_result"
    }
   ],
   "source": [
    "advantage_dict"
   ]
  },
  {
   "cell_type": "code",
   "execution_count": 14,
   "id": "ecf9d3c2-3cf7-4fc6-a021-20c0e2f83f09",
   "metadata": {},
   "outputs": [
    {
     "data": {
      "text/plain": [
       "[<matplotlib.axis.YTick at 0x7f13fb3f04f0>,\n",
       " <matplotlib.axis.YTick at 0x7f13fb3eaa30>,\n",
       " <matplotlib.axis.YTick at 0x7f13fb3ea220>,\n",
       " <matplotlib.axis.YTick at 0x7f13fb3140a0>]"
      ]
     },
     "execution_count": 14,
     "metadata": {},
     "output_type": "execute_result"
    },
    {
     "data": {
      "image/png": "[encoded data removed]",
      "text/plain": [
       "<Figure size 432x288 with 1 Axes>"
      ]
     },
     "metadata": {
      "needs_background": "light"
     },
     "output_type": "display_data"
    }
   ],
   "source": [
    "fig, ax = plt.subplots()\n",
    "for idx, optim_type in enumerate(optim_type_list):\n",
    "    avgs = [advantage_dict[test_set][optim_type][\"avg\"] for test_set in test_set_list]\n",
    "    stds = [advantage_dict[test_set][optim_type][\"std\"] for test_set in test_set_list]\n",
    "    x_roots = np.arange(len(test_set_list)) # 5 datasets\n",
    "    width = 0.8\n",
    "    barwidth = width/len(optim_type_list)\n",
    "    x_offsets = idx * barwidth\n",
    "    x_poss = x_roots + x_offsets\n",
    "    ax.bar(x_poss,\n",
    "              avgs,\n",
    "               width=barwidth,\n",
    "               yerr=stds,\n",
    "               label=optim_type,\n",
    "               # color=color_dict[error_layer][val_type],\n",
    "              error_kw=dict(ecolor='black', lw=1, capsize=5, capthick=1, alpha=0.7))\n",
    "ax.legend(ncol=4,loc = \"upper left\",bbox_to_anchor=(0.05, 1.1, 0, 0.))\n",
    "ax.set_xticks(np.arange(len(test_set_list)), test_set_list)\n",
    "ax.set_xlabel(\"Test Dataset Type\")\n",
    "ax.set_ylabel(\"Advantage w.r.t. HAS optimized using non-segregated dataset\")\n",
    "text = \"Types of HAS optimized using entropy segregated datasets\"\n",
    "ax.text(0.5, 1.125, \n",
    "       text, \n",
    "       horizontalalignment='center', \n",
    "       verticalalignment='center', \n",
    "       transform=ax.transAxes)\n",
    "ax.set_yticks([-0.04, -0.02, 0.0, 0.02],[\"-4%\",\"-2%\",\"0\",\"+2%\"])"
   ]
  },
  {
   "cell_type": "code",
   "execution_count": null,
   "id": "026526ec-3f2b-4ae0-8cbb-40ee44b14992",
   "metadata": {},
   "outputs": [],
   "source": []
  }
 ],
 "metadata": {
  "kernelspec": {
   "display_name": "Python 3",
   "language": "python",
   "name": "python3"
  },
  "language_info": {
   "codemirror_mode": {
    "name": "ipython",
    "version": 3
   },
   "file_extension": ".py",
   "mimetype": "text/x-python",
   "name": "python",
   "nbconvert_exporter": "python",
   "pygments_lexer": "ipython3",
   "version": "3.8.10"
  }
 },
 "nbformat": 4,
 "nbformat_minor": 5
}
