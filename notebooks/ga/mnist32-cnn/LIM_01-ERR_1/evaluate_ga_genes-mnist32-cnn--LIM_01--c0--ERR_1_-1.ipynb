{
 "cells": [
  {
   "cell_type": "code",
   "execution_count": 1,
   "id": "90518e9c-f282-4253-99c8-17c78f63c33d",
   "metadata": {
    "jupyter": {
     "source_hidden": true
    },
    "tags": []
   },
   "outputs": [],
   "source": [
    "import os\n",
    "import sys\n",
    "import git\n",
    "import pathlib\n",
    "\n",
    "import random\n",
    "import time\n",
    "\n",
    "\n",
    "import numpy as np\n",
    "import tensorflow as tf\n",
    "from tensorflow.keras.datasets import mnist\n",
    "\n",
    "\n",
    "PROJ_ROOT_PATH = pathlib.Path(git.Repo('.', search_parent_directories=True).working_tree_dir)\n",
    "PROJ_ROOT =  str(PROJ_ROOT_PATH)\n",
    "if PROJ_ROOT not in sys.path:\n",
    "    sys.path.append(PROJ_ROOT)\n",
    "\n",
    "from libs.constants import model_seeds, error_seeds\n",
    "from libs import utils\n",
    "from libs.fitnessfns import ff_mnist32_cnn_ERR, eval_mnist32_cnn_ERR\n",
    "from libs.ga.ga_utils import extract_best_worst_chromosomes"
   ]
  },
  {
   "cell_type": "code",
   "execution_count": 2,
   "id": "b2816169-cef9-4475-950a-c9f177bca985",
   "metadata": {
    "jupyter": {
     "source_hidden": true
    }
   },
   "outputs": [],
   "source": [
    "# set seed\n",
    "this_seed = 84376\n",
    "tf.random.set_seed(this_seed)\n",
    "np.random.seed(this_seed)\n",
    "random.seed(this_seed)\n",
    "os.environ['PYTHONHASHSEED']=str(this_seed)"
   ]
  },
  {
   "cell_type": "code",
   "execution_count": 3,
   "id": "d28232e2-a118-4940-b07d-6c4cfba0b9c6",
   "metadata": {
    "jupyter": {
     "source_hidden": true
    }
   },
   "outputs": [],
   "source": [
    "# Tensorflow Limit GPU usage\n",
    "gpus = tf.config.experimental.list_physical_devices('GPU')\n",
    "if gpus:\n",
    "    try:\n",
    "        for gpu in gpus:\n",
    "            tf.config.experimental.set_memory_growth(gpu, True)\n",
    "    except RuntimeError as e:\n",
    "        print(e)\n",
    "        "
   ]
  },
  {
   "cell_type": "code",
   "execution_count": 4,
   "id": "f4dbb3ed-1ccd-4d7a-8fd3-b1684d9d12d0",
   "metadata": {
    "jupyter": {
     "source_hidden": true
    },
    "tags": []
   },
   "outputs": [],
   "source": [
    "# Prepare dataset\n",
    "# Use only test images\n",
    "DATASET_PATH = str(pathlib.Path(PROJ_ROOT_PATH / \"datasets\" / \"mnist.npz\" ))\n",
    "(train_images, train_labels), (test_images, test_labels) = mnist.load_data(path=DATASET_PATH)\n",
    "test_images = test_images.astype(np.float32) / 255.0  \n",
    "test_images = np.expand_dims(test_images, axis=-1)\n",
    "# resize the input shape , i.e. old shape: 28, new shape: 32\n",
    "image_x_size = 32\n",
    "image_y_size = 32\n",
    "test_images = tf.image.resize(test_images, [image_x_size, image_y_size])"
   ]
  },
  {
   "cell_type": "code",
   "execution_count": 5,
   "id": "cb76b41a-3f1d-4bbb-ad66-da6cb1f2bfdb",
   "metadata": {
    "jupyter": {
     "source_hidden": true
    }
   },
   "outputs": [],
   "source": [
    "# Load test set\n",
    "# Testing with only im_num images\n",
    "im_num = 128*40#128*40=5120 #[128*78 = 9984]\n",
    "test_set = (test_images[im_num:], \n",
    "            test_labels[im_num:])"
   ]
  },
  {
   "cell_type": "code",
   "execution_count": 6,
   "id": "9c7eff0c-bbbb-43df-9eb6-cd905cb30c43",
   "metadata": {
    "tags": []
   },
   "outputs": [],
   "source": [
    "error_profile_tag_list = []\n",
    "ERR_PARAM_list = [1]#[-1,1]\n",
    "MAX_FAULT_PROB_LIST = [1E-3]\n",
    "error_layer_list = [\"c0\"]\n",
    "\n",
    "for MAX_FAULT_PROB in MAX_FAULT_PROB_LIST:\n",
    "    for seed in error_seeds[0:3]:\n",
    "        err_tag = \"LIM_\" + f\"{int(MAX_FAULT_PROB*1E3):02d}\" + \"-\" +str(seed)\n",
    "        error_profile_tag_list.append(err_tag)"
   ]
  },
  {
   "cell_type": "code",
   "execution_count": 7,
   "id": "b0208e84-52f8-4955-90cc-8754a50cf3c1",
   "metadata": {
    "tags": []
   },
   "outputs": [],
   "source": [
    "def eval_error_injected_with_shuffle(model, \n",
    "                                      layer_error_profiles, \n",
    "                                      ERR_PARAM,\n",
    "                                      shuffle_orders,\n",
    "                                      test_set):\n",
    "    # intialize to None\n",
    "    error_profile_c0=None\n",
    "    error_profile_h0=None\n",
    "    error_profile_h1=None\n",
    "    error_profile_h2=None\n",
    "    error_profile_op=None\n",
    "\n",
    "    error_profile_c0 = layer_error_profiles[\"c0\"]\n",
    "    error_profile_h0 = layer_error_profiles[\"h0\"]\n",
    "    error_profile_h1 = layer_error_profiles[\"h1\"]\n",
    "    error_profile_h2 = layer_error_profiles[\"h2\"]\n",
    "    error_profile_op = layer_error_profiles[\"op\"]\n",
    "\n",
    "    \n",
    "    # intialize to None\n",
    "    shuffle_order_c0 = None\n",
    "    shuffle_order_h0 = None\n",
    "    shuffle_order_h1 = None\n",
    "    shuffle_order_h2 = None\n",
    "    shuffle_order_op = None\n",
    "                    \n",
    "    shuffle_order_c0 = shuffle_orders[\"c0\"]\n",
    "    shuffle_order_h0 = shuffle_orders[\"h0\"]\n",
    "    shuffle_order_h1 = shuffle_orders[\"h1\"]\n",
    "    shuffle_order_h2 = shuffle_orders[\"h2\"]\n",
    "    shuffle_order_op = shuffle_orders[\"op\"]\n",
    "        \n",
    "    \n",
    "    avg, std = eval_mnist32_cnn_ERR(model,\n",
    "                                    error_profile_c0,\n",
    "                                    error_profile_h0,\n",
    "                                    error_profile_h1,\n",
    "                                    error_profile_h2,\n",
    "                                    error_profile_op,\n",
    "                                    ERR_PARAM,\n",
    "                                    shuffle_order_c0,\n",
    "                                    shuffle_order_h0,\n",
    "                                    shuffle_order_h1,\n",
    "                                    shuffle_order_h2,\n",
    "                                    shuffle_order_op,\n",
    "                                    test_set)\n",
    "        \n",
    "    return avg"
   ]
  },
  {
   "cell_type": "code",
   "execution_count": 8,
   "id": "7cd644c5-7de2-4112-a104-d0494a96d9e0",
   "metadata": {
    "tags": []
   },
   "outputs": [],
   "source": [
    "def reset_dict_values():\n",
    "    dummy_dict =  {\"c0\":None,\n",
    "             \"h0\":None,\n",
    "             \"h1\":None,\n",
    "             \"h2\":None,\n",
    "             \"op\":None}\n",
    "    return dummy_dict"
   ]
  },
  {
   "cell_type": "code",
   "execution_count": 9,
   "id": "d4b8fcad-9364-42e3-a542-f04726febd09",
   "metadata": {
    "tags": []
   },
   "outputs": [
    {
     "name": "stdout",
     "output_type": "stream",
     "text": [
      "DATASET TYPE:\t all\n"
     ]
    }
   ],
   "source": [
    "dataset_seg_type = \"all\"\n",
    "print(\"DATASET TYPE:\\t\", dataset_seg_type)"
   ]
  },
  {
   "cell_type": "code",
   "execution_count": 10,
   "id": "be19d8fc-007d-4ab0-9244-95b1c0ed9b17",
   "metadata": {
    "tags": []
   },
   "outputs": [
    {
     "name": "stdout",
     "output_type": "stream",
     "text": [
      "mnist32-cnn_1024_256_64-1023\n",
      "Original ACC:  0.993421052631579\n",
      "LIM_01-2188\n",
      "ERR_PARAM:\t -1\n",
      "Faulty ACC:  0.8760964912280702\n"
     ]
    },
    {
     "ename": "KeyboardInterrupt",
     "evalue": "",
     "output_type": "error",
     "traceback": [
      "\u001b[0;31m---------------------------------------------------------------------------\u001b[0m",
      "\u001b[0;31mKeyboardInterrupt\u001b[0m                         Traceback (most recent call last)",
      "Input \u001b[0;32mIn [10]\u001b[0m, in \u001b[0;36m<module>\u001b[0;34m\u001b[0m\n\u001b[1;32m     76\u001b[0m \u001b[38;5;66;03m# using best chromosome\u001b[39;00m\n\u001b[1;32m     77\u001b[0m shuffle_orders[error_layer] \u001b[38;5;241m=\u001b[39m best\n\u001b[0;32m---> 78\u001b[0m eval_acc  \u001b[38;5;241m=\u001b[39m \u001b[43meval_error_injected_with_shuffle\u001b[49m\u001b[43m(\u001b[49m\u001b[43mmodel\u001b[49m\u001b[43m,\u001b[49m\u001b[43m \u001b[49m\n\u001b[1;32m     79\u001b[0m \u001b[43m                                              \u001b[49m\u001b[43merror_profiles\u001b[49m\u001b[43m,\u001b[49m\u001b[43m \u001b[49m\n\u001b[1;32m     80\u001b[0m \u001b[43m                                              \u001b[49m\u001b[43mERR_PARAM\u001b[49m\u001b[43m,\u001b[49m\n\u001b[1;32m     81\u001b[0m \u001b[43m                                              \u001b[49m\u001b[43mshuffle_orders\u001b[49m\u001b[43m,\u001b[49m\n\u001b[1;32m     82\u001b[0m \u001b[43m                                              \u001b[49m\u001b[43mtest_set\u001b[49m\u001b[43m)\u001b[49m\n\u001b[1;32m     83\u001b[0m results[model_seed][error_profile_tag][ERR_PARAM][error_layer][\u001b[38;5;124m\"\u001b[39m\u001b[38;5;124mga_optim\u001b[39m\u001b[38;5;124m\"\u001b[39m] \u001b[38;5;241m=\u001b[39m eval_acc\n\u001b[1;32m     84\u001b[0m np\u001b[38;5;241m.\u001b[39msave(results_filename, results) \n",
      "Input \u001b[0;32mIn [7]\u001b[0m, in \u001b[0;36meval_error_injected_with_shuffle\u001b[0;34m(model, layer_error_profiles, ERR_PARAM, shuffle_orders, test_set)\u001b[0m\n\u001b[1;32m     30\u001b[0m shuffle_order_h2 \u001b[38;5;241m=\u001b[39m shuffle_orders[\u001b[38;5;124m\"\u001b[39m\u001b[38;5;124mh2\u001b[39m\u001b[38;5;124m\"\u001b[39m]\n\u001b[1;32m     31\u001b[0m shuffle_order_op \u001b[38;5;241m=\u001b[39m shuffle_orders[\u001b[38;5;124m\"\u001b[39m\u001b[38;5;124mop\u001b[39m\u001b[38;5;124m\"\u001b[39m]\n\u001b[0;32m---> 34\u001b[0m avg, std \u001b[38;5;241m=\u001b[39m \u001b[43meval_mnist32_cnn_ERR\u001b[49m\u001b[43m(\u001b[49m\u001b[43mmodel\u001b[49m\u001b[43m,\u001b[49m\n\u001b[1;32m     35\u001b[0m \u001b[43m                                \u001b[49m\u001b[43merror_profile_c0\u001b[49m\u001b[43m,\u001b[49m\n\u001b[1;32m     36\u001b[0m \u001b[43m                                \u001b[49m\u001b[43merror_profile_h0\u001b[49m\u001b[43m,\u001b[49m\n\u001b[1;32m     37\u001b[0m \u001b[43m                                \u001b[49m\u001b[43merror_profile_h1\u001b[49m\u001b[43m,\u001b[49m\n\u001b[1;32m     38\u001b[0m \u001b[43m                                \u001b[49m\u001b[43merror_profile_h2\u001b[49m\u001b[43m,\u001b[49m\n\u001b[1;32m     39\u001b[0m \u001b[43m                                \u001b[49m\u001b[43merror_profile_op\u001b[49m\u001b[43m,\u001b[49m\n\u001b[1;32m     40\u001b[0m \u001b[43m                                \u001b[49m\u001b[43mERR_PARAM\u001b[49m\u001b[43m,\u001b[49m\n\u001b[1;32m     41\u001b[0m \u001b[43m                                \u001b[49m\u001b[43mshuffle_order_c0\u001b[49m\u001b[43m,\u001b[49m\n\u001b[1;32m     42\u001b[0m \u001b[43m                                \u001b[49m\u001b[43mshuffle_order_h0\u001b[49m\u001b[43m,\u001b[49m\n\u001b[1;32m     43\u001b[0m \u001b[43m                                \u001b[49m\u001b[43mshuffle_order_h1\u001b[49m\u001b[43m,\u001b[49m\n\u001b[1;32m     44\u001b[0m \u001b[43m                                \u001b[49m\u001b[43mshuffle_order_h2\u001b[49m\u001b[43m,\u001b[49m\n\u001b[1;32m     45\u001b[0m \u001b[43m                                \u001b[49m\u001b[43mshuffle_order_op\u001b[49m\u001b[43m,\u001b[49m\n\u001b[1;32m     46\u001b[0m \u001b[43m                                \u001b[49m\u001b[43mtest_set\u001b[49m\u001b[43m)\u001b[49m\n\u001b[1;32m     48\u001b[0m \u001b[38;5;28;01mreturn\u001b[39;00m avg\n",
      "File \u001b[0;32m/repos/faulty_cnn/libs/fitnessfns.py:424\u001b[0m, in \u001b[0;36meval_mnist32_cnn_ERR\u001b[0;34m(model, error_profile_c0, error_profile_h0, error_profile_h1, error_profile_h2, error_profile_op, ERR_PARAM, shuffle_order_c0, shuffle_order_h0, shuffle_order_h1, shuffle_order_h2, shuffle_order_op, test_set)\u001b[0m\n\u001b[1;32m    422\u001b[0m \u001b[38;5;66;03m# Evaluate N_RUNS_PER_SHUFF_ORDER times for each shuffle order\u001b[39;00m\n\u001b[1;32m    423\u001b[0m \u001b[38;5;28;01mfor\u001b[39;00m i \u001b[38;5;129;01min\u001b[39;00m \u001b[38;5;28mrange\u001b[39m(N_RUNS_PER_SHUFF_ORDER):\n\u001b[0;32m--> 424\u001b[0m     accuracy \u001b[38;5;241m=\u001b[39m \u001b[43mff_mnist32_cnn_ERR\u001b[49m\u001b[43m(\u001b[49m\u001b[43mmodel\u001b[49m\u001b[43m,\u001b[49m\n\u001b[1;32m    425\u001b[0m \u001b[43m                                    \u001b[49m\u001b[43merror_profile_c0\u001b[49m\u001b[43m,\u001b[49m\n\u001b[1;32m    426\u001b[0m \u001b[43m                                    \u001b[49m\u001b[43merror_profile_h0\u001b[49m\u001b[43m,\u001b[49m\n\u001b[1;32m    427\u001b[0m \u001b[43m                                    \u001b[49m\u001b[43merror_profile_h1\u001b[49m\u001b[43m,\u001b[49m\n\u001b[1;32m    428\u001b[0m \u001b[43m                                    \u001b[49m\u001b[43merror_profile_h2\u001b[49m\u001b[43m,\u001b[49m\n\u001b[1;32m    429\u001b[0m \u001b[43m                                    \u001b[49m\u001b[43merror_profile_op\u001b[49m\u001b[43m,\u001b[49m\n\u001b[1;32m    430\u001b[0m \u001b[43m                                    \u001b[49m\u001b[43mERR_PARAM\u001b[49m\u001b[43m,\u001b[49m\n\u001b[1;32m    431\u001b[0m \u001b[43m                                    \u001b[49m\u001b[43mshuffle_order_c0\u001b[49m\u001b[43m,\u001b[49m\n\u001b[1;32m    432\u001b[0m \u001b[43m                                    \u001b[49m\u001b[43mshuffle_order_h0\u001b[49m\u001b[43m,\u001b[49m\n\u001b[1;32m    433\u001b[0m \u001b[43m                                    \u001b[49m\u001b[43mshuffle_order_h1\u001b[49m\u001b[43m,\u001b[49m\n\u001b[1;32m    434\u001b[0m \u001b[43m                                    \u001b[49m\u001b[43mshuffle_order_h2\u001b[49m\u001b[43m,\u001b[49m\n\u001b[1;32m    435\u001b[0m \u001b[43m                                    \u001b[49m\u001b[43mshuffle_order_op\u001b[49m\u001b[43m,\u001b[49m\n\u001b[1;32m    436\u001b[0m \u001b[43m                                    \u001b[49m\u001b[43mtest_set\u001b[49m\u001b[43m,\u001b[49m\n\u001b[1;32m    437\u001b[0m \u001b[43m                                    \u001b[49m\u001b[43mBATCHSIZE\u001b[49m\u001b[43m)\u001b[49m\u001b[38;5;241m.\u001b[39mnumpy()\n\u001b[1;32m    438\u001b[0m     shuffle_result\u001b[38;5;241m.\u001b[39mappend(accuracy)\n\u001b[1;32m    439\u001b[0m \u001b[38;5;28;01mreturn\u001b[39;00m (np\u001b[38;5;241m.\u001b[39mmean(shuffle_result), \n\u001b[1;32m    440\u001b[0m         np\u001b[38;5;241m.\u001b[39mstd(shuffle_result))\n",
      "File \u001b[0;32m/repos/faulty_cnn/libs/fitnessfns.py:387\u001b[0m, in \u001b[0;36mff_mnist32_cnn_ERR\u001b[0;34m(model, error_profile_c0, error_profile_h0, error_profile_h1, error_profile_h2, error_profile_op, ERR_PARAM, shuffle_order_c0, shuffle_order_h0, shuffle_order_h1, shuffle_order_h2, shuffle_order_op, test_set, batchsize)\u001b[0m\n\u001b[1;32m    385\u001b[0m misses \u001b[38;5;241m=\u001b[39m \u001b[38;5;241m0\u001b[39m\n\u001b[1;32m    386\u001b[0m \u001b[38;5;28;01mfor\u001b[39;00m step, (b_images, b_labels) \u001b[38;5;129;01min\u001b[39;00m \u001b[38;5;28menumerate\u001b[39m(test_dataset):\n\u001b[0;32m--> 387\u001b[0m     b_misses \u001b[38;5;241m=\u001b[39m \u001b[43mbatch_mnist32_cnn_ERR\u001b[49m\u001b[43m(\u001b[49m\u001b[43m \u001b[49m\u001b[43mb_images\u001b[49m\u001b[43m,\u001b[49m\n\u001b[1;32m    388\u001b[0m \u001b[43m                                    \u001b[49m\u001b[43mb_labels\u001b[49m\u001b[43m,\u001b[49m\n\u001b[1;32m    389\u001b[0m \u001b[43m                                    \u001b[49m\u001b[43mmodel\u001b[49m\u001b[43m,\u001b[49m\n\u001b[1;32m    390\u001b[0m \u001b[43m                                    \u001b[49m\u001b[43merror_profile_c0\u001b[49m\u001b[43m,\u001b[49m\n\u001b[1;32m    391\u001b[0m \u001b[43m                                    \u001b[49m\u001b[43merror_profile_h0\u001b[49m\u001b[43m,\u001b[49m\n\u001b[1;32m    392\u001b[0m \u001b[43m                                    \u001b[49m\u001b[43merror_profile_h1\u001b[49m\u001b[43m,\u001b[49m\n\u001b[1;32m    393\u001b[0m \u001b[43m                                    \u001b[49m\u001b[43merror_profile_h2\u001b[49m\u001b[43m,\u001b[49m\n\u001b[1;32m    394\u001b[0m \u001b[43m                                    \u001b[49m\u001b[43merror_profile_op\u001b[49m\u001b[43m,\u001b[49m\n\u001b[1;32m    395\u001b[0m \u001b[43m                                    \u001b[49m\u001b[43mERR_PARAM_TF\u001b[49m\u001b[43m,\u001b[49m\n\u001b[1;32m    396\u001b[0m \u001b[43m                                    \u001b[49m\u001b[43mshuffle_order_c0\u001b[49m\u001b[43m,\u001b[49m\n\u001b[1;32m    397\u001b[0m \u001b[43m                                    \u001b[49m\u001b[43mshuffle_order_h0\u001b[49m\u001b[43m,\u001b[49m\n\u001b[1;32m    398\u001b[0m \u001b[43m                                    \u001b[49m\u001b[43mshuffle_order_h1\u001b[49m\u001b[43m,\u001b[49m\n\u001b[1;32m    399\u001b[0m \u001b[43m                                    \u001b[49m\u001b[43mshuffle_order_h2\u001b[49m\u001b[43m,\u001b[49m\n\u001b[1;32m    400\u001b[0m \u001b[43m                                    \u001b[49m\u001b[43mshuffle_order_op\u001b[49m\u001b[43m)\u001b[49m\n\u001b[1;32m    402\u001b[0m     misses \u001b[38;5;241m=\u001b[39m misses \u001b[38;5;241m+\u001b[39m b_misses\n\u001b[1;32m    404\u001b[0m \u001b[38;5;28;01mreturn\u001b[39;00m (tot_images\u001b[38;5;241m-\u001b[39mmisses)\u001b[38;5;241m/\u001b[39mtot_images\n",
      "File \u001b[0;32m/usr/local/lib/python3.8/dist-packages/tensorflow/python/util/traceback_utils.py:150\u001b[0m, in \u001b[0;36mfilter_traceback.<locals>.error_handler\u001b[0;34m(*args, **kwargs)\u001b[0m\n\u001b[1;32m    148\u001b[0m filtered_tb \u001b[38;5;241m=\u001b[39m \u001b[38;5;28;01mNone\u001b[39;00m\n\u001b[1;32m    149\u001b[0m \u001b[38;5;28;01mtry\u001b[39;00m:\n\u001b[0;32m--> 150\u001b[0m   \u001b[38;5;28;01mreturn\u001b[39;00m \u001b[43mfn\u001b[49m\u001b[43m(\u001b[49m\u001b[38;5;241;43m*\u001b[39;49m\u001b[43margs\u001b[49m\u001b[43m,\u001b[49m\u001b[43m \u001b[49m\u001b[38;5;241;43m*\u001b[39;49m\u001b[38;5;241;43m*\u001b[39;49m\u001b[43mkwargs\u001b[49m\u001b[43m)\u001b[49m\n\u001b[1;32m    151\u001b[0m \u001b[38;5;28;01mexcept\u001b[39;00m \u001b[38;5;167;01mException\u001b[39;00m \u001b[38;5;28;01mas\u001b[39;00m e:\n\u001b[1;32m    152\u001b[0m   filtered_tb \u001b[38;5;241m=\u001b[39m _process_traceback_frames(e\u001b[38;5;241m.\u001b[39m__traceback__)\n",
      "File \u001b[0;32m/usr/local/lib/python3.8/dist-packages/tensorflow/python/eager/def_function.py:915\u001b[0m, in \u001b[0;36mFunction.__call__\u001b[0;34m(self, *args, **kwds)\u001b[0m\n\u001b[1;32m    912\u001b[0m compiler \u001b[38;5;241m=\u001b[39m \u001b[38;5;124m\"\u001b[39m\u001b[38;5;124mxla\u001b[39m\u001b[38;5;124m\"\u001b[39m \u001b[38;5;28;01mif\u001b[39;00m \u001b[38;5;28mself\u001b[39m\u001b[38;5;241m.\u001b[39m_jit_compile \u001b[38;5;28;01melse\u001b[39;00m \u001b[38;5;124m\"\u001b[39m\u001b[38;5;124mnonXla\u001b[39m\u001b[38;5;124m\"\u001b[39m\n\u001b[1;32m    914\u001b[0m \u001b[38;5;28;01mwith\u001b[39;00m OptionalXlaContext(\u001b[38;5;28mself\u001b[39m\u001b[38;5;241m.\u001b[39m_jit_compile):\n\u001b[0;32m--> 915\u001b[0m   result \u001b[38;5;241m=\u001b[39m \u001b[38;5;28;43mself\u001b[39;49m\u001b[38;5;241;43m.\u001b[39;49m\u001b[43m_call\u001b[49m\u001b[43m(\u001b[49m\u001b[38;5;241;43m*\u001b[39;49m\u001b[43margs\u001b[49m\u001b[43m,\u001b[49m\u001b[43m \u001b[49m\u001b[38;5;241;43m*\u001b[39;49m\u001b[38;5;241;43m*\u001b[39;49m\u001b[43mkwds\u001b[49m\u001b[43m)\u001b[49m\n\u001b[1;32m    917\u001b[0m new_tracing_count \u001b[38;5;241m=\u001b[39m \u001b[38;5;28mself\u001b[39m\u001b[38;5;241m.\u001b[39mexperimental_get_tracing_count()\n\u001b[1;32m    918\u001b[0m without_tracing \u001b[38;5;241m=\u001b[39m (tracing_count \u001b[38;5;241m==\u001b[39m new_tracing_count)\n",
      "File \u001b[0;32m/usr/local/lib/python3.8/dist-packages/tensorflow/python/eager/def_function.py:954\u001b[0m, in \u001b[0;36mFunction._call\u001b[0;34m(self, *args, **kwds)\u001b[0m\n\u001b[1;32m    951\u001b[0m \u001b[38;5;28mself\u001b[39m\u001b[38;5;241m.\u001b[39m_lock\u001b[38;5;241m.\u001b[39mrelease()\n\u001b[1;32m    952\u001b[0m \u001b[38;5;66;03m# In this case we have not created variables on the first call. So we can\u001b[39;00m\n\u001b[1;32m    953\u001b[0m \u001b[38;5;66;03m# run the first trace but we should fail if variables are created.\u001b[39;00m\n\u001b[0;32m--> 954\u001b[0m results \u001b[38;5;241m=\u001b[39m \u001b[38;5;28;43mself\u001b[39;49m\u001b[38;5;241;43m.\u001b[39;49m\u001b[43m_stateful_fn\u001b[49m\u001b[43m(\u001b[49m\u001b[38;5;241;43m*\u001b[39;49m\u001b[43margs\u001b[49m\u001b[43m,\u001b[49m\u001b[43m \u001b[49m\u001b[38;5;241;43m*\u001b[39;49m\u001b[38;5;241;43m*\u001b[39;49m\u001b[43mkwds\u001b[49m\u001b[43m)\u001b[49m\n\u001b[1;32m    955\u001b[0m \u001b[38;5;28;01mif\u001b[39;00m \u001b[38;5;28mself\u001b[39m\u001b[38;5;241m.\u001b[39m_created_variables \u001b[38;5;129;01mand\u001b[39;00m \u001b[38;5;129;01mnot\u001b[39;00m ALLOW_DYNAMIC_VARIABLE_CREATION:\n\u001b[1;32m    956\u001b[0m   \u001b[38;5;28;01mraise\u001b[39;00m \u001b[38;5;167;01mValueError\u001b[39;00m(\u001b[38;5;124m\"\u001b[39m\u001b[38;5;124mCreating variables on a non-first call to a function\u001b[39m\u001b[38;5;124m\"\u001b[39m\n\u001b[1;32m    957\u001b[0m                    \u001b[38;5;124m\"\u001b[39m\u001b[38;5;124m decorated with tf.function.\u001b[39m\u001b[38;5;124m\"\u001b[39m)\n",
      "File \u001b[0;32m/usr/local/lib/python3.8/dist-packages/tensorflow/python/eager/function.py:2956\u001b[0m, in \u001b[0;36mFunction.__call__\u001b[0;34m(self, *args, **kwargs)\u001b[0m\n\u001b[1;32m   2953\u001b[0m \u001b[38;5;28;01mwith\u001b[39;00m \u001b[38;5;28mself\u001b[39m\u001b[38;5;241m.\u001b[39m_lock:\n\u001b[1;32m   2954\u001b[0m   (graph_function,\n\u001b[1;32m   2955\u001b[0m    filtered_flat_args) \u001b[38;5;241m=\u001b[39m \u001b[38;5;28mself\u001b[39m\u001b[38;5;241m.\u001b[39m_maybe_define_function(args, kwargs)\n\u001b[0;32m-> 2956\u001b[0m \u001b[38;5;28;01mreturn\u001b[39;00m \u001b[43mgraph_function\u001b[49m\u001b[38;5;241;43m.\u001b[39;49m\u001b[43m_call_flat\u001b[49m\u001b[43m(\u001b[49m\n\u001b[1;32m   2957\u001b[0m \u001b[43m    \u001b[49m\u001b[43mfiltered_flat_args\u001b[49m\u001b[43m,\u001b[49m\u001b[43m \u001b[49m\u001b[43mcaptured_inputs\u001b[49m\u001b[38;5;241;43m=\u001b[39;49m\u001b[43mgraph_function\u001b[49m\u001b[38;5;241;43m.\u001b[39;49m\u001b[43mcaptured_inputs\u001b[49m\u001b[43m)\u001b[49m\n",
      "File \u001b[0;32m/usr/local/lib/python3.8/dist-packages/tensorflow/python/eager/function.py:1853\u001b[0m, in \u001b[0;36mConcreteFunction._call_flat\u001b[0;34m(self, args, captured_inputs, cancellation_manager)\u001b[0m\n\u001b[1;32m   1849\u001b[0m possible_gradient_type \u001b[38;5;241m=\u001b[39m gradients_util\u001b[38;5;241m.\u001b[39mPossibleTapeGradientTypes(args)\n\u001b[1;32m   1850\u001b[0m \u001b[38;5;28;01mif\u001b[39;00m (possible_gradient_type \u001b[38;5;241m==\u001b[39m gradients_util\u001b[38;5;241m.\u001b[39mPOSSIBLE_GRADIENT_TYPES_NONE\n\u001b[1;32m   1851\u001b[0m     \u001b[38;5;129;01mand\u001b[39;00m executing_eagerly):\n\u001b[1;32m   1852\u001b[0m   \u001b[38;5;66;03m# No tape is watching; skip to running the function.\u001b[39;00m\n\u001b[0;32m-> 1853\u001b[0m   \u001b[38;5;28;01mreturn\u001b[39;00m \u001b[38;5;28mself\u001b[39m\u001b[38;5;241m.\u001b[39m_build_call_outputs(\u001b[38;5;28;43mself\u001b[39;49m\u001b[38;5;241;43m.\u001b[39;49m\u001b[43m_inference_function\u001b[49m\u001b[38;5;241;43m.\u001b[39;49m\u001b[43mcall\u001b[49m\u001b[43m(\u001b[49m\n\u001b[1;32m   1854\u001b[0m \u001b[43m      \u001b[49m\u001b[43mctx\u001b[49m\u001b[43m,\u001b[49m\u001b[43m \u001b[49m\u001b[43margs\u001b[49m\u001b[43m,\u001b[49m\u001b[43m \u001b[49m\u001b[43mcancellation_manager\u001b[49m\u001b[38;5;241;43m=\u001b[39;49m\u001b[43mcancellation_manager\u001b[49m\u001b[43m)\u001b[49m)\n\u001b[1;32m   1855\u001b[0m forward_backward \u001b[38;5;241m=\u001b[39m \u001b[38;5;28mself\u001b[39m\u001b[38;5;241m.\u001b[39m_select_forward_and_backward_functions(\n\u001b[1;32m   1856\u001b[0m     args,\n\u001b[1;32m   1857\u001b[0m     possible_gradient_type,\n\u001b[1;32m   1858\u001b[0m     executing_eagerly)\n\u001b[1;32m   1859\u001b[0m forward_function, args_with_tangents \u001b[38;5;241m=\u001b[39m forward_backward\u001b[38;5;241m.\u001b[39mforward()\n",
      "File \u001b[0;32m/usr/local/lib/python3.8/dist-packages/tensorflow/python/eager/function.py:499\u001b[0m, in \u001b[0;36m_EagerDefinedFunction.call\u001b[0;34m(self, ctx, args, cancellation_manager)\u001b[0m\n\u001b[1;32m    497\u001b[0m \u001b[38;5;28;01mwith\u001b[39;00m _InterpolateFunctionError(\u001b[38;5;28mself\u001b[39m):\n\u001b[1;32m    498\u001b[0m   \u001b[38;5;28;01mif\u001b[39;00m cancellation_manager \u001b[38;5;129;01mis\u001b[39;00m \u001b[38;5;28;01mNone\u001b[39;00m:\n\u001b[0;32m--> 499\u001b[0m     outputs \u001b[38;5;241m=\u001b[39m \u001b[43mexecute\u001b[49m\u001b[38;5;241;43m.\u001b[39;49m\u001b[43mexecute\u001b[49m\u001b[43m(\u001b[49m\n\u001b[1;32m    500\u001b[0m \u001b[43m        \u001b[49m\u001b[38;5;28;43mstr\u001b[39;49m\u001b[43m(\u001b[49m\u001b[38;5;28;43mself\u001b[39;49m\u001b[38;5;241;43m.\u001b[39;49m\u001b[43msignature\u001b[49m\u001b[38;5;241;43m.\u001b[39;49m\u001b[43mname\u001b[49m\u001b[43m)\u001b[49m\u001b[43m,\u001b[49m\n\u001b[1;32m    501\u001b[0m \u001b[43m        \u001b[49m\u001b[43mnum_outputs\u001b[49m\u001b[38;5;241;43m=\u001b[39;49m\u001b[38;5;28;43mself\u001b[39;49m\u001b[38;5;241;43m.\u001b[39;49m\u001b[43m_num_outputs\u001b[49m\u001b[43m,\u001b[49m\n\u001b[1;32m    502\u001b[0m \u001b[43m        \u001b[49m\u001b[43minputs\u001b[49m\u001b[38;5;241;43m=\u001b[39;49m\u001b[43margs\u001b[49m\u001b[43m,\u001b[49m\n\u001b[1;32m    503\u001b[0m \u001b[43m        \u001b[49m\u001b[43mattrs\u001b[49m\u001b[38;5;241;43m=\u001b[39;49m\u001b[43mattrs\u001b[49m\u001b[43m,\u001b[49m\n\u001b[1;32m    504\u001b[0m \u001b[43m        \u001b[49m\u001b[43mctx\u001b[49m\u001b[38;5;241;43m=\u001b[39;49m\u001b[43mctx\u001b[49m\u001b[43m)\u001b[49m\n\u001b[1;32m    505\u001b[0m   \u001b[38;5;28;01melse\u001b[39;00m:\n\u001b[1;32m    506\u001b[0m     outputs \u001b[38;5;241m=\u001b[39m execute\u001b[38;5;241m.\u001b[39mexecute_with_cancellation(\n\u001b[1;32m    507\u001b[0m         \u001b[38;5;28mstr\u001b[39m(\u001b[38;5;28mself\u001b[39m\u001b[38;5;241m.\u001b[39msignature\u001b[38;5;241m.\u001b[39mname),\n\u001b[1;32m    508\u001b[0m         num_outputs\u001b[38;5;241m=\u001b[39m\u001b[38;5;28mself\u001b[39m\u001b[38;5;241m.\u001b[39m_num_outputs,\n\u001b[0;32m   (...)\u001b[0m\n\u001b[1;32m    511\u001b[0m         ctx\u001b[38;5;241m=\u001b[39mctx,\n\u001b[1;32m    512\u001b[0m         cancellation_manager\u001b[38;5;241m=\u001b[39mcancellation_manager)\n",
      "File \u001b[0;32m/usr/local/lib/python3.8/dist-packages/tensorflow/python/eager/execute.py:54\u001b[0m, in \u001b[0;36mquick_execute\u001b[0;34m(op_name, num_outputs, inputs, attrs, ctx, name)\u001b[0m\n\u001b[1;32m     52\u001b[0m \u001b[38;5;28;01mtry\u001b[39;00m:\n\u001b[1;32m     53\u001b[0m   ctx\u001b[38;5;241m.\u001b[39mensure_initialized()\n\u001b[0;32m---> 54\u001b[0m   tensors \u001b[38;5;241m=\u001b[39m \u001b[43mpywrap_tfe\u001b[49m\u001b[38;5;241;43m.\u001b[39;49m\u001b[43mTFE_Py_Execute\u001b[49m\u001b[43m(\u001b[49m\u001b[43mctx\u001b[49m\u001b[38;5;241;43m.\u001b[39;49m\u001b[43m_handle\u001b[49m\u001b[43m,\u001b[49m\u001b[43m \u001b[49m\u001b[43mdevice_name\u001b[49m\u001b[43m,\u001b[49m\u001b[43m \u001b[49m\u001b[43mop_name\u001b[49m\u001b[43m,\u001b[49m\n\u001b[1;32m     55\u001b[0m \u001b[43m                                      \u001b[49m\u001b[43minputs\u001b[49m\u001b[43m,\u001b[49m\u001b[43m \u001b[49m\u001b[43mattrs\u001b[49m\u001b[43m,\u001b[49m\u001b[43m \u001b[49m\u001b[43mnum_outputs\u001b[49m\u001b[43m)\u001b[49m\n\u001b[1;32m     56\u001b[0m \u001b[38;5;28;01mexcept\u001b[39;00m core\u001b[38;5;241m.\u001b[39m_NotOkStatusException \u001b[38;5;28;01mas\u001b[39;00m e:\n\u001b[1;32m     57\u001b[0m   \u001b[38;5;28;01mif\u001b[39;00m name \u001b[38;5;129;01mis\u001b[39;00m \u001b[38;5;129;01mnot\u001b[39;00m \u001b[38;5;28;01mNone\u001b[39;00m:\n",
      "\u001b[0;31mKeyboardInterrupt\u001b[0m: "
     ]
    }
   ],
   "source": [
    "model_type = \"mnist32-cnn_1024_256_64\"\n",
    "results = {}\n",
    "results_filename = 'evaluate_ga_genes-mnist32-cnn--LIM_01--c0--ERR_1_-1.npy'\n",
    "\n",
    "for model_seed in model_seeds[0:2]:#model_seeds[0:2]:\n",
    "    results[model_seed] = {}\n",
    "    # Get model\n",
    "    model_instance = model_type + \"-\" + str(model_seed)\n",
    "    dataset, model_arch, model_config, layer_widths, seed = utils.instancename2metadata(model_instance)\n",
    "    model_meta_type, model_type, model_instance = utils.metadata2instancenames(dataset, model_arch, layer_widths, seed)\n",
    "    model_folder = pathlib.Path(PROJ_ROOT_PATH / \"models\" / model_type)\n",
    "    model_filename = model_instance + \".h5\"\n",
    "    model_file = pathlib.Path(model_folder/ model_filename)\n",
    "    # Load model\n",
    "    model = tf.keras.models.load_model(model_file)\n",
    "    print(model_instance)\n",
    "    \n",
    "    # Original Accuracy\n",
    "    error_profiles = reset_dict_values()\n",
    "    ERR_PARAM = None\n",
    "    shuffle_orders = reset_dict_values()\n",
    "    test_set = test_set\n",
    "    original_accuracy = ff_mnist32_cnn_ERR(model,\n",
    "                                            error_profile_c0=None,\n",
    "                                            error_profile_h0=None,\n",
    "                                            error_profile_h1=None,\n",
    "                                            error_profile_h2=None,\n",
    "                                            error_profile_op=None,\n",
    "                                            ERR_PARAM=None,\n",
    "                                            shuffle_order_c0=None,\n",
    "                                            shuffle_order_h0=None,\n",
    "                                            shuffle_order_h1=None,\n",
    "                                            shuffle_order_h2=None,\n",
    "                                            shuffle_order_op=None,\n",
    "                                            test_set=test_set,\n",
    "                                            batchsize=128).numpy()\n",
    "    print(\"Original ACC: \", original_accuracy)\n",
    "    results[model_seed][\"original_acc\"] = original_accuracy\n",
    "    \n",
    "    for error_profile_tag in error_profile_tag_list:\n",
    "        print(error_profile_tag)\n",
    "        results[model_seed][error_profile_tag] = {}\n",
    "        # Load error profile\n",
    "        error_profile_folder = pathlib.Path(PROJ_ROOT_PATH / \"error_profiles\")\n",
    "        error_profile_filename = error_profile_tag + \".npy\"\n",
    "        error_profile_file = pathlib.Path(error_profile_folder/ error_profile_filename)\n",
    "        error_profile = np.load(error_profile_file)\n",
    "\n",
    "        for ERR_PARAM in ERR_PARAM_list:\n",
    "            print(\"ERR_PARAM:\\t\", ERR_PARAM)\n",
    "            results[model_seed][error_profile_tag][ERR_PARAM]={}\n",
    "            for error_layer in error_layer_list:\n",
    "                results[model_seed][error_profile_tag][ERR_PARAM][error_layer]={}\n",
    "                # Reset error profiles and shuffle orders for all layers\n",
    "                error_profiles = reset_dict_values()\n",
    "                shuffle_orders = reset_dict_values()\n",
    "                \n",
    "                # Inject error and observe degradation\n",
    "                error_profiles[error_layer] = error_profile\n",
    "                eval_acc  = eval_error_injected_with_shuffle(model, \n",
    "                                                              error_profiles, \n",
    "                                                              ERR_PARAM,\n",
    "                                                              shuffle_orders,\n",
    "                                                              test_set)\n",
    "                results[model_seed][error_profile_tag][ERR_PARAM][error_layer][\"faulty\"] = eval_acc\n",
    "                np.save(results_filename, results) \n",
    "                print(\"Faulty ACC: \", eval_acc)\n",
    "                \n",
    "                # Use the best chromosome and observe recovered value\n",
    "                best, worst = extract_best_worst_chromosomes(dataset_seg_type, # (all, qmean1, qent2)\n",
    "                                                                   error_layer, \n",
    "                                                                   ERR_PARAM, \n",
    "                                                                   model_instance, \n",
    "                                                                   error_profile_tag, \n",
    "                                                                   this_seed)\n",
    "                # using best chromosome\n",
    "                shuffle_orders[error_layer] = best\n",
    "                eval_acc  = eval_error_injected_with_shuffle(model, \n",
    "                                                              error_profiles, \n",
    "                                                              ERR_PARAM,\n",
    "                                                              shuffle_orders,\n",
    "                                                              test_set)\n",
    "                results[model_seed][error_profile_tag][ERR_PARAM][error_layer][\"ga_optim\"] = eval_acc\n",
    "                np.save(results_filename, results) \n",
    "                print(\"GA ACC: \", eval_acc)"
   ]
  },
  {
   "cell_type": "code",
   "execution_count": null,
   "id": "391e729f-3167-48a4-8cfd-2320369876e3",
   "metadata": {
    "jupyter": {
     "source_hidden": true
    }
   },
   "outputs": [],
   "source": []
  },
  {
   "cell_type": "code",
   "execution_count": null,
   "id": "ace57aeb-89b5-43b0-b420-93ae8d2ac9c2",
   "metadata": {
    "jupyter": {
     "source_hidden": true
    }
   },
   "outputs": [],
   "source": []
  },
  {
   "cell_type": "code",
   "execution_count": null,
   "id": "c5b55e06-91eb-4587-bd81-8cb18ae8506f",
   "metadata": {
    "jupyter": {
     "source_hidden": true
    }
   },
   "outputs": [],
   "source": []
  },
  {
   "cell_type": "code",
   "execution_count": null,
   "id": "4d7ad7c0-7a1f-4bb2-a757-759c9ed88b39",
   "metadata": {
    "jupyter": {
     "source_hidden": true
    },
    "tags": []
   },
   "outputs": [],
   "source": []
  },
  {
   "cell_type": "code",
   "execution_count": null,
   "id": "9914e8e4-8924-4943-b9fc-54ed8b2afa37",
   "metadata": {
    "jupyter": {
     "source_hidden": true
    },
    "tags": []
   },
   "outputs": [],
   "source": [
    "sdfsd"
   ]
  },
  {
   "cell_type": "code",
   "execution_count": null,
   "id": "16a82ea8-d6fb-48c0-96fc-f5e3b2623560",
   "metadata": {
    "jupyter": {
     "source_hidden": true
    },
    "tags": []
   },
   "outputs": [],
   "source": [
    "experiment = \"mnist32-cnn_1024_256_64-1023--LIM_01-2188\"\n",
    "print(experiment)\n",
    "model_instance, error_profile_tag = experiment.split(\"--\")"
   ]
  },
  {
   "cell_type": "code",
   "execution_count": null,
   "id": "f4d06c02-9263-47d5-b0ba-d8f9fc13ce42",
   "metadata": {
    "jupyter": {
     "source_hidden": true
    }
   },
   "outputs": [],
   "source": [
    "error_param = 1 # bitflips\n"
   ]
  },
  {
   "cell_type": "code",
   "execution_count": null,
   "id": "72aba586-ff9d-4e23-b152-000ab4cc3dcf",
   "metadata": {
    "jupyter": {
     "source_hidden": true
    },
    "tags": []
   },
   "outputs": [],
   "source": [
    "# Prepare dataset\n",
    "# Combine test and train images together into one dataset\n",
    "DATASET_PATH = str(pathlib.Path(PROJ_ROOT_PATH / \"datasets\" / \"mnist.npz\" ))\n",
    "(train_images, train_labels), (test_images, test_labels) = mnist.load_data(path=DATASET_PATH)\n",
    "\n",
    "test_images = test_images.astype(np.float32) / 255.0  \n",
    "test_images = np.expand_dims(test_images, axis=-1)\n",
    "\n",
    "# resize the input shape , i.e. old shape: 28, new shape: 32\n",
    "image_x_size = 32\n",
    "image_y_size = 32\n",
    "test_images = tf.image.resize(test_images, [image_x_size, image_y_size]) "
   ]
  },
  {
   "cell_type": "code",
   "execution_count": null,
   "id": "a2f040f5-8274-445e-a484-8ce7e835ca3c",
   "metadata": {
    "jupyter": {
     "source_hidden": true
    }
   },
   "outputs": [],
   "source": [
    "# Get model\n",
    "dataset, model_arch, model_config, layer_widths, seed = utils.instancename2metadata(model_instance)\n",
    "model_meta_type, model_type, model_instance = utils.metadata2instancenames(dataset, model_arch, layer_widths, seed)\n",
    "model_folder = pathlib.Path(PROJ_ROOT_PATH / \"models\" / model_type)\n",
    "model_filename = model_instance + \".h5\"\n",
    "model_file = pathlib.Path(model_folder/ model_filename)"
   ]
  },
  {
   "cell_type": "code",
   "execution_count": null,
   "id": "b091bf7c-33b3-4773-8f8a-865b879a7f8d",
   "metadata": {
    "jupyter": {
     "source_hidden": true
    }
   },
   "outputs": [],
   "source": [
    "# Load model\n",
    "model = tf.keras.models.load_model(model_file)"
   ]
  },
  {
   "cell_type": "code",
   "execution_count": null,
   "id": "47e7766f-a8ca-4359-bbb4-06eacb02f275",
   "metadata": {
    "jupyter": {
     "source_hidden": true
    }
   },
   "outputs": [],
   "source": [
    "# Load error profile\n",
    "error_profile_folder = pathlib.Path(PROJ_ROOT_PATH / \"error_profiles\")\n",
    "error_profile_filename = error_profile_tag + \".npy\"\n",
    "error_profile_file = pathlib.Path(error_profile_folder/ error_profile_filename)\n",
    "error_profile = np.load(error_profile_file)"
   ]
  },
  {
   "cell_type": "code",
   "execution_count": null,
   "id": "46750a5b-5983-4b74-8aaf-ce8ff5951262",
   "metadata": {
    "jupyter": {
     "source_hidden": true
    }
   },
   "outputs": [],
   "source": [
    "# Batchsize for evaluation\n",
    "EVAL_BATCHSIZE = 128"
   ]
  },
  {
   "cell_type": "code",
   "execution_count": null,
   "id": "23c39216-0e7e-4a9b-a6e4-e0ec89c5b063",
   "metadata": {
    "jupyter": {
     "source_hidden": true
    },
    "tags": []
   },
   "outputs": [],
   "source": [
    "# Load test set\n",
    "# Testing with only im_num images\n",
    "im_num = 128*5#128*40=5120 #[128*78 = 9984]\n",
    "test_set = (test_images[im_num:], \n",
    "            test_labels[im_num:])"
   ]
  },
  {
   "cell_type": "code",
   "execution_count": null,
   "id": "339af66d-193c-4b6d-b569-57b576aa4670",
   "metadata": {
    "jupyter": {
     "source_hidden": true
    },
    "tags": []
   },
   "outputs": [],
   "source": [
    "# def extract_best_worst_chromosomes(dataset_seg_type, # (all, qmean1, qent2)\n",
    "#                                    layer, \n",
    "#                                    error_param, \n",
    "#                                    model_instance, \n",
    "#                                    error_profile_tag, \n",
    "#                                    this_seed):\n",
    "    \n",
    "#     dataset, model_arch, model_config, layer_widths, seed = utils.instancename2metadata(model_instance)\n",
    "#     # model_instance = dataset-modelarch_modelconfig-seed\n",
    "#     model_meta_type, model_type, model_instance = utils.metadata2instancenames(dataset, \n",
    "#                                                                                model_arch, \n",
    "#                                                                                layer_widths, \n",
    "#                                                                                seed)\n",
    "#     # model_meta_type: 'mnist32-cnn'\n",
    "#     error_type = \"ERR_\"+str(error_param)\n",
    "\n",
    "#     error_lim, error_seed = error_profile_tag.split('-')\n",
    "\n",
    "#     EXP_TYPE           = dataset_seg_type + \"_\"  + model_meta_type + \"_\" + layer + \"_\" + error_type\n",
    "#     experiment_name    = model_instance   + '--' + error_profile_tag\n",
    "#     ga_experiment_name = dataset_seg_type + \"_\"  + experiment_name + \"--\" + error_type + '--' + layer + '--ga_' + str(this_seed)\n",
    "#     # File/Folder to load log files\n",
    "#     logging_folder = pathlib.Path(PROJ_ROOT_PATH / \"logging\" / dataset_seg_type / model_type / model_instance / error_lim / error_profile_tag / error_type / layer )\n",
    "#     logging_filename_tag = pathlib.Path(logging_folder / ga_experiment_name)\n",
    "\n",
    "#     # ga outputs\n",
    "#     ga_output_files = glob.glob(str(logging_filename_tag) + \"*.log\")\n",
    "\n",
    "#     # get chromosomes strings\n",
    "#     best_chromosome, worst_chromosome = get_chromosomes(ga_output_files)\n",
    "    \n",
    "#     return(best_chromosome, worst_chromosome)"
   ]
  },
  {
   "cell_type": "code",
   "execution_count": null,
   "id": "c92b62e2-3ba9-4037-809d-fd1f06f712ee",
   "metadata": {
    "jupyter": {
     "source_hidden": true
    }
   },
   "outputs": [],
   "source": [
    "error_params = [1] # types of error to optimize for\n",
    "layers = [\"c0\",\"h2\"] # layers to optimize with GA optimization"
   ]
  },
  {
   "cell_type": "code",
   "execution_count": null,
   "id": "04b1bb64-99fa-4313-afd4-f44177828a04",
   "metadata": {
    "jupyter": {
     "source_hidden": true
    }
   },
   "outputs": [],
   "source": []
  },
  {
   "cell_type": "code",
   "execution_count": null,
   "id": "3cca6a82-74a7-4d31-8de8-fe57be7fcd3a",
   "metadata": {
    "jupyter": {
     "source_hidden": true
    }
   },
   "outputs": [],
   "source": [
    "for layer in layers:\n",
    "    best, worst = utils.extract_best_worst_chromosomes(dataset_seg_type, # (all, qmean1, qent2)\n",
    "                                                   layer, \n",
    "                                                   error_param, \n",
    "                                                   model_instance, \n",
    "                                                   error_profile_tag, \n",
    "                                                   this_seed)\n",
    "    chromosomes[layer] = {\"best\": best,\n",
    "                          \"worst\": worst}"
   ]
  },
  {
   "cell_type": "code",
   "execution_count": null,
   "id": "96d2b8e7-6962-4f7e-b321-32554630fe99",
   "metadata": {
    "jupyter": {
     "source_hidden": true
    },
    "tags": []
   },
   "outputs": [],
   "source": [
    "from libs.fitnessfns import eval_mnist32_cnn_ERR"
   ]
  },
  {
   "cell_type": "code",
   "execution_count": null,
   "id": "e64dbaae-8d55-4aff-93e7-a24451edec5b",
   "metadata": {
    "jupyter": {
     "source_hidden": true
    },
    "tags": []
   },
   "outputs": [],
   "source": []
  },
  {
   "cell_type": "code",
   "execution_count": null,
   "id": "278ef638-209b-4742-826c-39acce9a3b6b",
   "metadata": {
    "jupyter": {
     "source_hidden": true
    },
    "tags": []
   },
   "outputs": [],
   "source": [
    "# injecting in c0 layer only\n",
    "error_profiles = [error_profile, None, None, None, None]\n",
    "ERR_PARAM = -1\n",
    "shuffle_orders = [None, None, None,None, None]\n",
    "test_set = test_set\n",
    "batchsize = EVAL_BATCHSIZE\n",
    "eval_acc  = eval_error_injected_with_shuffle(model, \n",
    "                                  error_profiles, \n",
    "                                  ERR_PARAM,\n",
    "                                  shuffle_orders,\n",
    "                                  test_set,\n",
    "                                  batchsize)\n",
    "print(\"Faulty ACC [Only c0]: \", eval_acc)"
   ]
  },
  {
   "cell_type": "code",
   "execution_count": null,
   "id": "e2e3320f-3a41-40e7-9a33-d08e3c99d380",
   "metadata": {
    "jupyter": {
     "source_hidden": true
    },
    "tags": []
   },
   "outputs": [],
   "source": [
    "# injecting in c0 layer only with best GA optimization\n",
    "error_profiles = [error_profile, None, None, None, None]\n",
    "ERR_PARAM = -1\n",
    "shuffle_orders = [chromosomes[\"c0\"][\"best\"], None, None,None, None]\n",
    "test_set = test_set\n",
    "batchsize = EVAL_BATCHSIZE\n",
    "eval_acc  = eval_error_injected_with_shuffle(model, \n",
    "                                  error_profiles, \n",
    "                                  ERR_PARAM,\n",
    "                                  shuffle_orders,\n",
    "                                  test_set,\n",
    "                                  batchsize)\n",
    "print(\"GA ACC [Only c0 - best]: \", eval_acc)"
   ]
  },
  {
   "cell_type": "code",
   "execution_count": null,
   "id": "ae2463ec",
   "metadata": {
    "jupyter": {
     "source_hidden": true
    }
   },
   "outputs": [],
   "source": [
    "# injecting in c0 layer only with worst GA optimization\n",
    "error_profiles = [error_profile, None, None, None, None]\n",
    "ERR_PARAM = -1\n",
    "shuffle_orders = [chromosomes[\"c0\"][\"worst\"], None, None,None, None]\n",
    "test_set = test_set\n",
    "batchsize = EVAL_BATCHSIZE\n",
    "eval_acc  = eval_error_injected_with_shuffle(model, \n",
    "                                  error_profiles, \n",
    "                                  ERR_PARAM,\n",
    "                                  shuffle_orders,\n",
    "                                  test_set,\n",
    "                                  batchsize)\n",
    "print(\"GA ACC [Only c0 - worst]: \", eval_acc)"
   ]
  },
  {
   "cell_type": "code",
   "execution_count": null,
   "id": "3d02aaf5-b8e1-4095-871c-ae9c2ed5e6ae",
   "metadata": {
    "jupyter": {
     "source_hidden": true
    },
    "tags": []
   },
   "outputs": [],
   "source": [
    "# injecting in fc_2 layer only\n",
    "error_profiles = [None, None, None, error_profile, None]\n",
    "ERR_PARAM = -1\n",
    "shuffle_orders = [None, None, None,None, None]\n",
    "test_set = test_set\n",
    "batchsize = EVAL_BATCHSIZE\n",
    "eval_acc  = eval_error_injected_with_shuffle(model, \n",
    "                                  error_profiles, \n",
    "                                  ERR_PARAM,\n",
    "                                  shuffle_orders,\n",
    "                                  test_set,\n",
    "                                  batchsize)\n",
    "print(\"Faulty ACC [Only h2]: \", eval_acc)"
   ]
  },
  {
   "cell_type": "code",
   "execution_count": null,
   "id": "f24c2fc5-0f59-437b-9dd7-a5ee25c6f857",
   "metadata": {
    "jupyter": {
     "source_hidden": true
    }
   },
   "outputs": [],
   "source": [
    "# injecting in fc_2 layer only with best GA optimization\n",
    "error_profiles = [None, None, None, error_profile, None]\n",
    "ERR_PARAM = -1\n",
    "shuffle_orders = [None, None, None,chromosomes[\"h2\"][\"best\"], None]\n",
    "test_set = test_set\n",
    "batchsize = EVAL_BATCHSIZE\n",
    "eval_acc  = eval_error_injected_with_shuffle(model, \n",
    "                                  error_profiles, \n",
    "                                  ERR_PARAM,\n",
    "                                  shuffle_orders,\n",
    "                                  test_set,\n",
    "                                  batchsize)\n",
    "print(\"GA ACC [Only h2 - best]: \", eval_acc)"
   ]
  },
  {
   "cell_type": "code",
   "execution_count": null,
   "id": "4dae4bc4-ac38-4e78-b173-447133f0e03e",
   "metadata": {
    "jupyter": {
     "source_hidden": true
    },
    "tags": []
   },
   "outputs": [],
   "source": [
    "# injecting in fc_2 layer only with worst GA optimization\n",
    "error_profiles = [None, None, None, error_profile, None]\n",
    "ERR_PARAM = -1\n",
    "shuffle_orders = [None, None, None,chromosomes[\"h2\"][\"worst\"], None]\n",
    "test_set = test_set\n",
    "batchsize = EVAL_BATCHSIZE\n",
    "eval_acc  = eval_error_injected_with_shuffle(model, \n",
    "                                  error_profiles, \n",
    "                                  ERR_PARAM,\n",
    "                                  shuffle_orders,\n",
    "                                  test_set,\n",
    "                                  batchsize)\n",
    "print(\"GA ACC [Only h2 - worst]: \", eval_acc)"
   ]
  },
  {
   "cell_type": "code",
   "execution_count": null,
   "id": "2d3bedb5-a569-48ba-bbc6-4d3d0beb7e7b",
   "metadata": {
    "jupyter": {
     "source_hidden": true
    },
    "tags": []
   },
   "outputs": [],
   "source": [
    "# injecting in c0 AND fc_2 layer\n",
    "error_profiles = [error_profile, None, None, error_profile, None]\n",
    "ERR_PARAM = -1\n",
    "shuffle_orders = [None, None, None,None, None]\n",
    "test_set = test_set\n",
    "batchsize = EVAL_BATCHSIZE\n",
    "eval_acc  = eval_error_injected_with_shuffle(model, \n",
    "                                  error_profiles, \n",
    "                                  ERR_PARAM,\n",
    "                                  shuffle_orders,\n",
    "                                  test_set,\n",
    "                                  batchsize)\n",
    "print(\"Faulty ACC [c0 AND h2]: \", eval_acc)"
   ]
  },
  {
   "cell_type": "code",
   "execution_count": null,
   "id": "d2d175e3-d460-4fc7-bea6-c9c7ef5017c5",
   "metadata": {
    "jupyter": {
     "source_hidden": true
    },
    "tags": []
   },
   "outputs": [],
   "source": [
    "# injecting in c0 AND fc_2 layer with best GA optimization\n",
    "error_profiles = [error_profile, None, None, error_profile, None]\n",
    "ERR_PARAM = -1\n",
    "shuffle_orders = [chromosomes[\"c0\"][\"best\"], None, None,chromosomes[\"h2\"][\"best\"], None]\n",
    "test_set = test_set\n",
    "batchsize = EVAL_BATCHSIZE\n",
    "eval_acc  = eval_error_injected_with_shuffle(model, \n",
    "                                  error_profiles, \n",
    "                                  ERR_PARAM,\n",
    "                                  shuffle_orders,\n",
    "                                  test_set,\n",
    "                                  batchsize)\n",
    "print(\"GA ACC [c0 AND h2] -best : \", eval_acc)"
   ]
  },
  {
   "cell_type": "code",
   "execution_count": null,
   "id": "65297e72-df17-43c3-80ba-c487454fead6",
   "metadata": {
    "jupyter": {
     "source_hidden": true
    },
    "tags": []
   },
   "outputs": [],
   "source": [
    "# injecting in c0 AND fc_2 layer with worst GA optimization\n",
    "error_profiles = [error_profile, None, None, error_profile, None]\n",
    "ERR_PARAM = -1\n",
    "shuffle_orders = [chromosomes[\"c0\"][\"worst\"], None, None,chromosomes[\"h2\"][\"worst\"], None]\n",
    "test_set = test_set\n",
    "batchsize = EVAL_BATCHSIZE\n",
    "eval_acc  = eval_error_injected_with_shuffle(model, \n",
    "                                  error_profiles, \n",
    "                                  ERR_PARAM,\n",
    "                                  shuffle_orders,\n",
    "                                  test_set,\n",
    "                                  batchsize)\n",
    "print(\"GA ACC [c0 AND h2] -worst : \", eval_acc)"
   ]
  },
  {
   "cell_type": "code",
   "execution_count": null,
   "id": "1f091f58-f36e-4641-9211-75952eb2b0ab",
   "metadata": {
    "jupyter": {
     "source_hidden": true
    },
    "tags": []
   },
   "outputs": [],
   "source": []
  },
  {
   "cell_type": "code",
   "execution_count": null,
   "id": "c2ca5e9f-4f6a-4770-802f-a0b6c341a5e5",
   "metadata": {
    "jupyter": {
     "source_hidden": true
    }
   },
   "outputs": [],
   "source": []
  },
  {
   "cell_type": "code",
   "execution_count": null,
   "id": "c1cbe887-4e8f-4649-9cee-573d6165e5b7",
   "metadata": {
    "jupyter": {
     "source_hidden": true
    },
    "tags": []
   },
   "outputs": [],
   "source": []
  }
 ],
 "metadata": {
  "kernelspec": {
   "display_name": "Python 3",
   "language": "python",
   "name": "python3"
  },
  "language_info": {
   "codemirror_mode": {
    "name": "ipython",
    "version": 3
   },
   "file_extension": ".py",
   "mimetype": "text/x-python",
   "name": "python",
   "nbconvert_exporter": "python",
   "pygments_lexer": "ipython3",
   "version": "3.8.10"
  }
 },
 "nbformat": 4,
 "nbformat_minor": 5
}
