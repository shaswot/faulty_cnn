{
 "cells": [
  {
   "cell_type": "code",
   "execution_count": 1,
   "id": "1601b7c0-acab-41ca-9411-57bb94e87895",
   "metadata": {
    "jupyter": {
     "source_hidden": true
    },
    "tags": []
   },
   "outputs": [],
   "source": [
    "%matplotlib inline"
   ]
  },
  {
   "cell_type": "code",
   "execution_count": 2,
   "id": "80c01360-c697-4f5a-897f-b8fa57417921",
   "metadata": {
    "jupyter": {
     "source_hidden": true
    }
   },
   "outputs": [],
   "source": [
    "import numpy as np\n",
    "import pandas as pd\n",
    "import matplotlib\n",
    "import matplotlib.pyplot as plt"
   ]
  },
  {
   "cell_type": "code",
   "execution_count": 3,
   "id": "692352cb-b82a-421f-b6f9-e2b551042f36",
   "metadata": {
    "jupyter": {
     "source_hidden": true
    }
   },
   "outputs": [],
   "source": [
    "import os\n",
    "import sys\n",
    "import git\n",
    "import pathlib\n",
    "\n",
    "PROJ_ROOT_PATH = pathlib.Path(git.Repo('.', search_parent_directories=True).working_tree_dir)\n",
    "PROJ_ROOT =  str(PROJ_ROOT_PATH)\n",
    "if PROJ_ROOT not in sys.path:\n",
    "    sys.path.append(PROJ_ROOT)\n",
    "    \n",
    "from libs.constants import model_seeds, error_seeds"
   ]
  },
  {
   "cell_type": "code",
   "execution_count": 4,
   "id": "bf40d4da-f885-4284-a7d7-f9d7ff6b0065",
   "metadata": {
    "jupyter": {
     "source_hidden": true
    }
   },
   "outputs": [],
   "source": [
    "model_meta_type = \"mnist32-cnn\"\n",
    "\n",
    "ERR_PARAM_list = [2,3]\n",
    "MAX_FAULT_PROB_list = [100E-3, 200E-3, 500E-3]\n",
    "error_layer_list = [\"h2\", \"op\", \"h2-op\"]\n",
    "ERR_NAME_LIST = {1:\"Flip-to-1\",\n",
    "                -1:\"Bitflip\",\n",
    "                 0:\"Flip-to-0\",\n",
    "                 2:\"TF32\",\n",
    "                 3:\"BF16\"}\n",
    "\n",
    "err_tag_list = [\"LIM_\" + f\"{int(MAX_FAULT_PROB*1E3):02d}\" for MAX_FAULT_PROB in MAX_FAULT_PROB_list]"
   ]
  },
  {
   "cell_type": "code",
   "execution_count": 5,
   "id": "4afe460e-07be-4e2d-bf4e-abeb162feff2",
   "metadata": {
    "jupyter": {
     "source_hidden": true
    }
   },
   "outputs": [],
   "source": [
    "results_folder_tag = \"h2_op--LIM_100_200_500-ERR_2_3\"\n",
    "results_folder = pathlib.Path(PROJ_ROOT_PATH / \"notebooks\"/ \"ga\" / model_meta_type /results_folder_tag )\n",
    "results_filename = 'evaluate_ga_genes-mnist32-cnn--h2_op--LIM_100_200_500-ERR_2_3.npy'\n",
    "results_file = pathlib.Path(results_folder / results_filename )\n",
    "results = np.load(str(results_file), allow_pickle='TRUE').item()"
   ]
  },
  {
   "cell_type": "code",
   "execution_count": 6,
   "id": "91b72927-1675-4806-9984-e2cb18cbbfae",
   "metadata": {
    "jupyter": {
     "source_hidden": true
    }
   },
   "outputs": [],
   "source": [
    "model_seeds_from_keys = list(results.keys())\n",
    "error_profiles_from_keys = list(results[model_seeds[0]].keys())[1:]\n",
    "error_seeds = [error_seeds[0],error_seeds[2]]"
   ]
  },
  {
   "cell_type": "code",
   "execution_count": 7,
   "id": "65cf4212-b35b-4b62-8e66-741b19f235cc",
   "metadata": {
    "jupyter": {
     "source_hidden": true
    }
   },
   "outputs": [],
   "source": [
    "# given err_tag\n",
    "# for all model seeds\n",
    "# for all error seeds"
   ]
  },
  {
   "cell_type": "code",
   "execution_count": 8,
   "id": "fbade9df-ed38-4dc6-b2d2-04465edb3dd7",
   "metadata": {
    "jupyter": {
     "source_hidden": true
    }
   },
   "outputs": [],
   "source": [
    "fig_values = {}"
   ]
  },
  {
   "cell_type": "code",
   "execution_count": 9,
   "id": "c94ff438-14df-43e4-b459-b7d0b26b8091",
   "metadata": {
    "jupyter": {
     "source_hidden": true
    }
   },
   "outputs": [],
   "source": [
    "fig_values[\"original_accs\"] = {}\n",
    "dummy = []\n",
    "for model_seed in model_seeds_from_keys:\n",
    "    dummy.append(results[model_seed][\"original_acc\"])\n",
    "fig_values[\"original_accs\"][\"avg\"] = np.mean(dummy)\n",
    "fig_values[\"original_accs\"][\"std\"] = np.std(dummy)"
   ]
  },
  {
   "cell_type": "code",
   "execution_count": 10,
   "id": "6063d04c-82c7-4264-b311-2048e3d581b9",
   "metadata": {
    "jupyter": {
     "source_hidden": true
    }
   },
   "outputs": [],
   "source": [
    "for ERR_PARAM in ERR_PARAM_list:\n",
    "    fig_values[ERR_PARAM] = {}\n",
    "    for err_tag in err_tag_list:\n",
    "        fig_values[ERR_PARAM][err_tag] = {}\n",
    "        error_profiles_from_err_tag = [err_tag+'-'+str(error_seed) for error_seed in error_seeds]\n",
    "        for error_layer in error_layer_list:\n",
    "            fig_values[ERR_PARAM][err_tag][error_layer] = {}\n",
    "            fig_values[ERR_PARAM][err_tag][error_layer][\"faulty\"] = {}\n",
    "            fig_values[ERR_PARAM][err_tag][error_layer][\"ga_optim\"] = {}\n",
    "            fig_values[ERR_PARAM][err_tag][error_layer][\"HAS\"] = {}\n",
    "            dummy_faulty = []\n",
    "            dummy_ga_optim = []\n",
    "            dummy_HAS = []\n",
    "            for model_seed in model_seeds_from_keys:\n",
    "                for error_profile_tag in error_profiles_from_err_tag:\n",
    "                    faulty = results[model_seed][error_profile_tag][ERR_PARAM][error_layer][\"faulty\"]\n",
    "                    ga_optim = results[model_seed][error_profile_tag][ERR_PARAM][error_layer][\"ga_optim\"]\n",
    "                    HAS = ga_optim - faulty\n",
    "\n",
    "                    dummy_faulty.append(faulty)\n",
    "                    dummy_ga_optim.append(ga_optim)\n",
    "                    dummy_HAS.append(HAS)\n",
    "                    \n",
    "            fig_values[ERR_PARAM][err_tag][error_layer][\"faulty\"][\"avg\"] = np.mean(dummy_faulty)\n",
    "            fig_values[ERR_PARAM][err_tag][error_layer][\"faulty\"][\"std\"] = np.std(dummy_faulty)\n",
    "\n",
    "            fig_values[ERR_PARAM][err_tag][error_layer][\"ga_optim\"][\"avg\"] = np.mean(dummy_ga_optim)\n",
    "            fig_values[ERR_PARAM][err_tag][error_layer][\"ga_optim\"][\"std\"] = np.std(dummy_ga_optim)\n",
    "\n",
    "            fig_values[ERR_PARAM][err_tag][error_layer][\"HAS\"][\"avg\"] = np.mean(dummy_HAS)\n",
    "            fig_values[ERR_PARAM][err_tag][error_layer][\"HAS\"][\"std\"] = np.std(dummy_HAS)"
   ]
  },
  {
   "cell_type": "code",
   "execution_count": 11,
   "id": "a12d869d-36ce-4ede-a3d4-19f802a3c2ac",
   "metadata": {
    "jupyter": {
     "source_hidden": true
    }
   },
   "outputs": [],
   "source": [
    "cm = plt.get_cmap('tab20')\n",
    "color_dict = {}\n",
    "counter = 0\n",
    "for error_layer in error_layer_list:\n",
    "    color_dict[error_layer] = {}\n",
    "    for val_type in [\"faulty\", \"HAS\"]:\n",
    "        color_dict[error_layer][val_type] = cm.colors[counter]\n",
    "        counter += 1"
   ]
  },
  {
   "cell_type": "code",
   "execution_count": 12,
   "id": "11e1f212-5a75-4d67-8f81-5d12807dd514",
   "metadata": {
    "jupyter": {
     "source_hidden": true
    }
   },
   "outputs": [
    {
     "data": {
      "text/plain": [
       "<matplotlib.legend.Legend at 0x7fda47f92ee0>"
      ]
     },
     "execution_count": 12,
     "metadata": {},
     "output_type": "execute_result"
    },
    {
     "data": {
      "image/png": "[encoded data removed]",
      "text/plain": [
       "<Figure size 562.5x231.768 with 2 Axes>"
      ]
     },
     "metadata": {
      "needs_background": "light"
     },
     "output_type": "display_data"
    }
   ],
   "source": [
    "# Plot figure\n",
    "fig_width = 3.125/0.8 * 2\n",
    "fig_height = fig_width / 1.618 /1.5\n",
    "n_rows = 1\n",
    "n_cols = len(ERR_PARAM_list)\n",
    "fig, axs = plt.subplots(nrows=n_rows,\n",
    "                        ncols=n_cols,\n",
    "                        figsize=[fig_width,fig_height], # in inches\n",
    "                        sharex=True,\n",
    "                        sharey=True,\n",
    "                        constrained_layout=False, \n",
    "                        # tight_layout=True\n",
    "                       )\n",
    "plt.subplots_adjust(left=0.1, bottom=None, right=None, top=None, wspace=0.05, hspace=0.1)\n",
    "\n",
    "for idx, ERR_PARAM in enumerate(ERR_PARAM_list):\n",
    "    # Each subplot is for one type of error \n",
    "    ax = axs[idx]\n",
    "    ax.set_ylim(0.75,1.0)\n",
    "    # Print type of error\n",
    "    text = ERR_NAME_LIST[ERR_PARAM]\n",
    "    # ax.text(0.5, 0.25, \n",
    "    #        text, \n",
    "    #        horizontalalignment='center', \n",
    "    #        verticalalignment='center', \n",
    "    #        transform=ax.transAxes)\n",
    "    \n",
    "    \n",
    "    ax.set_xticks([0.25,1.25,2.25],err_tag_list)   \n",
    "    ax.set_xlabel( ERR_NAME_LIST[ERR_PARAM])\n",
    "    \n",
    "    # Plot original accuracy line\n",
    "    ax.axhline(y=fig_values[\"original_accs\"][\"avg\"])\n",
    "    ax.axhspan(fig_values[\"original_accs\"][\"avg\"] - fig_values[\"original_accs\"][\"std\"], \n",
    "               fig_values[\"original_accs\"][\"avg\"] + fig_values[\"original_accs\"][\"std\"], alpha=0.5)\n",
    "\n",
    "    # Plot faulty + HAS\n",
    "    for erridx, error_layer in enumerate(error_layer_list):\n",
    "        y_offsets = np.array([0]*len(err_tag_list))\n",
    "        for val_type in [\"faulty\", \"HAS\"]:\n",
    "            layer_avgs = [fig_values[ERR_PARAM][err_tag][error_layer][val_type][\"avg\"] for err_tag in err_tag_list]\n",
    "            layer_stds = [fig_values[ERR_PARAM][err_tag][error_layer][val_type][\"std\"] for err_tag in err_tag_list]\n",
    "            # if val_type == \"faulty\":\n",
    "            #     layer_stds = [fig_values[ERR_PARAM][err_tag][error_layer][val_type][\"std\"] for err_tag in err_tag_list]\n",
    "            # else:\n",
    "            #     layer_stds = [0 for err_tag in err_tag_list]\n",
    "\n",
    "            x_roots = np.arange(len(MAX_FAULT_PROB_list))\n",
    "            width = 0.8\n",
    "            bar_width = width/len(error_layer_list)\n",
    "            x_offsets = erridx * bar_width\n",
    "            x_poss = x_roots + x_offsets\n",
    "            ax.bar(x_poss,\n",
    "                  layer_avgs,\n",
    "                   width=bar_width,\n",
    "                   bottom=y_offsets,\n",
    "                   yerr=layer_stds,\n",
    "                   label=error_layer+' ('+val_type+')',\n",
    "                   color=color_dict[error_layer][val_type],\n",
    "                  error_kw=dict(ecolor='black', lw=1, capsize=5, capthick=1, alpha=0.7))\n",
    "            y_offsets = layer_avgs\n",
    "\n",
    "axs[0].legend(ncol=3,\n",
    "          bbox_to_anchor=(0.2, 1.25, 0, 0.),\n",
    "          loc='upper left')"
   ]
  },
  {
   "cell_type": "code",
   "execution_count": null,
   "id": "30f294d6-4714-4846-939c-440e5f35a1fc",
   "metadata": {
    "jupyter": {
     "source_hidden": true
    },
    "tags": []
   },
   "outputs": [],
   "source": []
  }
 ],
 "metadata": {
  "kernelspec": {
   "display_name": "Python 3",
   "language": "python",
   "name": "python3"
  },
  "language_info": {
   "codemirror_mode": {
    "name": "ipython",
    "version": 3
   },
   "file_extension": ".py",
   "mimetype": "text/x-python",
   "name": "python",
   "nbconvert_exporter": "python",
   "pygments_lexer": "ipython3",
   "version": "3.8.10"
  }
 },
 "nbformat": 4,
 "nbformat_minor": 5
}
