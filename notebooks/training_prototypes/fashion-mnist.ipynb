{
 "cells": [
  {
   "cell_type": "code",
   "execution_count": 1,
   "id": "2808b0c8-12e4-4808-b247-15ee33185a39",
   "metadata": {
    "tags": []
   },
   "outputs": [],
   "source": [
    "# https://www.tensorflow.org/tutorials/keras/classification"
   ]
  },
  {
   "cell_type": "code",
   "execution_count": 2,
   "id": "9b53613a-5781-4761-8da7-5b7d92ea7ec5",
   "metadata": {},
   "outputs": [],
   "source": [
    "# TensorFlow and tf.keras\n",
    "import tensorflow as tf\n",
    "\n",
    "# Helper libraries\n",
    "import numpy as np\n",
    "import matplotlib.pyplot as plt"
   ]
  },
  {
   "cell_type": "code",
   "execution_count": 3,
   "id": "d17129ba-19e5-48ec-b763-ca7979e94136",
   "metadata": {},
   "outputs": [],
   "source": [
    "fashion_mnist = tf.keras.datasets.fashion_mnist\n",
    "(train_images, train_labels), (test_images, test_labels) = fashion_mnist.load_data()"
   ]
  },
  {
   "cell_type": "code",
   "execution_count": 4,
   "id": "751ffcf7-9065-42d2-a900-540c3bdc17b5",
   "metadata": {},
   "outputs": [],
   "source": [
    "train_images = train_images / 255.0\n",
    "test_images = test_images / 255.0\n",
    "train_images = tf.expand_dims(train_images, axis=3)\n",
    "test_images = tf.expand_dims(test_images, axis=3)\n",
    "\n",
    "image_x_size = 28\n",
    "image_y_size = 28\n",
    "train_images = tf.image.resize(train_images, [image_x_size, image_y_size]) \n",
    "test_images = tf.image.resize(test_images, [image_x_size, image_y_size])\n"
   ]
  },
  {
   "cell_type": "code",
   "execution_count": 5,
   "id": "0cde4eb3-d382-41d2-be06-b2a701a5ba17",
   "metadata": {},
   "outputs": [],
   "source": [
    "from tensorflow import keras\n",
    "seed = 345\n",
    "layer_widths = [1024]\n",
    "model = tf.keras.Sequential()\n",
    "\n",
    "kernel_initializer = tf.keras.initializers.HeUniform(seed)\n",
    "model = keras.Sequential()\n",
    "model.add(keras.layers.Conv2D(32, (4, 4), \n",
    "                              activation='relu', \n",
    "                              kernel_initializer = kernel_initializer,\n",
    "                              input_shape=(image_x_size, image_y_size, 1),\n",
    "                              padding='same',\n",
    "                              name=\"conv2d_0\"))\n",
    "model.add(keras.layers.MaxPooling2D((2, 2), name=\"pool2d_0\"))\n",
    "model.add(tf.keras.layers.Dropout(0.3))\n",
    "\n",
    "model.add(keras.layers.Conv2D(32, (4, 4), \n",
    "                              activation='relu', \n",
    "                              kernel_initializer = kernel_initializer,\n",
    "                              padding='same',\n",
    "                              name=\"conv2d_1\"))\n",
    "model.add(keras.layers.MaxPooling2D((2, 2), name=\"pool2d_1\"))\n",
    "model.add(tf.keras.layers.Dropout(0.3))\n",
    "\n",
    "# model.add(keras.layers.Conv2D(256, (4, 4), \n",
    "#                               activation='relu', \n",
    "#                               kernel_initializer = kernel_initializer,\n",
    "#                               padding='same',\n",
    "#                               name=\"conv2d_2\"))\n",
    "# model.add(keras.layers.MaxPooling2D((2, 2), name=\"pool2d_2\"))\n",
    "# model.add(tf.keras.layers.Dropout(0.2))\n",
    "\n",
    "model.add(keras.layers.Flatten(name=\"flatten\"))\n",
    "for idx in range(len(layer_widths)):\n",
    "    model.add(keras.layers.Dense(layer_widths[idx], \n",
    "                                 activation=\"relu\", \n",
    "                                 kernel_initializer = kernel_initializer,\n",
    "                                 name=\"fc_\"+str(idx)))\n",
    "    model.add(tf.keras.layers.Dropout(0.3))\n",
    "model.add(keras.layers.Dense(10, activation=tf.nn.softmax, name=\"op_layer\"))"
   ]
  },
  {
   "cell_type": "code",
   "execution_count": 6,
   "id": "ba958c71-40af-4e8d-b772-5d50065c8a54",
   "metadata": {},
   "outputs": [],
   "source": [
    "# model = tf.keras.Sequential()\n",
    "# # Must define the input shape in the first layer of the neural network\n",
    "# model.add(tf.keras.layers.Conv2D(32, (3, 3), activation='relu', input_shape=(28, 28, 1)))\n",
    "# model.add(tf.keras.layers.MaxPooling2D((2, 2)))\n",
    "# model.add(tf.keras.layers.Dropout(0.2))\n",
    "\n",
    "# model.add(tf.keras.layers.Conv2D(64, (3, 3), activation='relu'))\n",
    "# model.add(tf.keras.layers.MaxPooling2D((2, 2)))\n",
    "# model.add(tf.keras.layers.Dropout(0.2))\n",
    "\n",
    "# model.add(tf.keras.layers.Flatten())\n",
    "# model.add(tf.keras.layers.Dense(256, activation='relu'))\n",
    "# model.add(tf.keras.layers.Dropout(0.5))\n",
    "# model.add(tf.keras.layers.Dense(10, activation='softmax'))\n",
    "# # Take a look at the model summary\n",
    "# model.summary()"
   ]
  },
  {
   "cell_type": "code",
   "execution_count": 7,
   "id": "2366e5e6-5056-4529-af1a-a3db0cdb5fd0",
   "metadata": {},
   "outputs": [],
   "source": [
    "model.compile(optimizer='adam',\n",
    "              loss=tf.keras.losses.SparseCategoricalCrossentropy(),\n",
    "              metrics=['accuracy'])"
   ]
  },
  {
   "cell_type": "code",
   "execution_count": 8,
   "id": "73542a9c-9b4f-4cc9-ad10-79c894b97c7c",
   "metadata": {},
   "outputs": [
    {
     "name": "stdout",
     "output_type": "stream",
     "text": [
      "Epoch 1/25\n",
      "469/469 [==============================] - 8s 9ms/step - loss: 0.5831 - accuracy: 0.7936 - val_loss: 0.3968 - val_accuracy: 0.8611\n",
      "Epoch 2/25\n",
      "469/469 [==============================] - 4s 8ms/step - loss: 0.3662 - accuracy: 0.8659 - val_loss: 0.3139 - val_accuracy: 0.8865\n",
      "Epoch 3/25\n",
      "469/469 [==============================] - 4s 8ms/step - loss: 0.3138 - accuracy: 0.8848 - val_loss: 0.2725 - val_accuracy: 0.9005\n",
      "Epoch 4/25\n",
      "469/469 [==============================] - 4s 8ms/step - loss: 0.2862 - accuracy: 0.8955 - val_loss: 0.2707 - val_accuracy: 0.8998\n",
      "Epoch 5/25\n",
      "469/469 [==============================] - 4s 8ms/step - loss: 0.2611 - accuracy: 0.9014 - val_loss: 0.2536 - val_accuracy: 0.9052\n",
      "Epoch 6/25\n",
      "469/469 [==============================] - 4s 8ms/step - loss: 0.2458 - accuracy: 0.9082 - val_loss: 0.2397 - val_accuracy: 0.9116\n",
      "Epoch 7/25\n",
      "469/469 [==============================] - 4s 8ms/step - loss: 0.2328 - accuracy: 0.9133 - val_loss: 0.2309 - val_accuracy: 0.9145\n",
      "Epoch 8/25\n",
      "469/469 [==============================] - 5s 10ms/step - loss: 0.2229 - accuracy: 0.9172 - val_loss: 0.2230 - val_accuracy: 0.9174\n",
      "Epoch 9/25\n",
      "469/469 [==============================] - 5s 10ms/step - loss: 0.2107 - accuracy: 0.9208 - val_loss: 0.2216 - val_accuracy: 0.9188\n",
      "Epoch 10/25\n",
      "469/469 [==============================] - 3s 7ms/step - loss: 0.2033 - accuracy: 0.9224 - val_loss: 0.2296 - val_accuracy: 0.9160\n",
      "Epoch 11/25\n",
      "469/469 [==============================] - 4s 8ms/step - loss: 0.1931 - accuracy: 0.9267 - val_loss: 0.2142 - val_accuracy: 0.9234\n",
      "Epoch 12/25\n",
      "469/469 [==============================] - 4s 8ms/step - loss: 0.1862 - accuracy: 0.9303 - val_loss: 0.2202 - val_accuracy: 0.9207\n",
      "Epoch 13/25\n",
      "469/469 [==============================] - 4s 8ms/step - loss: 0.1784 - accuracy: 0.9323 - val_loss: 0.2131 - val_accuracy: 0.9216\n",
      "Epoch 14/25\n",
      "469/469 [==============================] - 4s 8ms/step - loss: 0.1713 - accuracy: 0.9358 - val_loss: 0.2171 - val_accuracy: 0.9219\n",
      "Epoch 15/25\n",
      "469/469 [==============================] - 4s 8ms/step - loss: 0.1667 - accuracy: 0.9368 - val_loss: 0.2119 - val_accuracy: 0.9260\n",
      "Epoch 16/25\n",
      "469/469 [==============================] - 4s 8ms/step - loss: 0.1597 - accuracy: 0.9383 - val_loss: 0.2048 - val_accuracy: 0.9259\n",
      "Epoch 17/25\n",
      "469/469 [==============================] - 4s 8ms/step - loss: 0.1536 - accuracy: 0.9412 - val_loss: 0.2139 - val_accuracy: 0.9240\n",
      "Epoch 18/25\n",
      "469/469 [==============================] - 4s 8ms/step - loss: 0.1482 - accuracy: 0.9440 - val_loss: 0.2114 - val_accuracy: 0.9250\n",
      "Epoch 19/25\n",
      "469/469 [==============================] - 4s 7ms/step - loss: 0.1438 - accuracy: 0.9456 - val_loss: 0.2065 - val_accuracy: 0.9281\n",
      "Epoch 20/25\n",
      "469/469 [==============================] - 3s 7ms/step - loss: 0.1394 - accuracy: 0.9465 - val_loss: 0.2105 - val_accuracy: 0.9267\n",
      "Epoch 21/25\n",
      "469/469 [==============================] - 3s 7ms/step - loss: 0.1392 - accuracy: 0.9469 - val_loss: 0.2081 - val_accuracy: 0.9304\n",
      "Epoch 22/25\n",
      "469/469 [==============================] - 4s 8ms/step - loss: 0.1297 - accuracy: 0.9509 - val_loss: 0.2192 - val_accuracy: 0.9259\n",
      "Epoch 23/25\n",
      "469/469 [==============================] - 4s 8ms/step - loss: 0.1309 - accuracy: 0.9507 - val_loss: 0.2113 - val_accuracy: 0.9282\n",
      "Epoch 24/25\n",
      "469/469 [==============================] - 4s 8ms/step - loss: 0.1264 - accuracy: 0.9523 - val_loss: 0.2164 - val_accuracy: 0.9288\n",
      "Epoch 25/25\n",
      "469/469 [==============================] - 4s 8ms/step - loss: 0.1178 - accuracy: 0.9558 - val_loss: 0.2116 - val_accuracy: 0.9288\n"
     ]
    }
   ],
   "source": [
    "history = model.fit(train_images, train_labels,batch_size=128, epochs=25, \n",
    "                    validation_data=(test_images, test_labels))"
   ]
  },
  {
   "cell_type": "code",
   "execution_count": 9,
   "id": "1a3ae0c6-0f32-49e2-aeb7-098d40599ddc",
   "metadata": {
    "tags": []
   },
   "outputs": [
    {
     "name": "stdout",
     "output_type": "stream",
     "text": [
      "313/313 - 1s - loss: 0.2116 - accuracy: 0.9288 - 1s/epoch - 4ms/step\n",
      "0.9287999868392944\n"
     ]
    }
   ],
   "source": [
    "test_loss, test_acc = model.evaluate(test_images,  test_labels, verbose=2)\n",
    "print(test_acc)"
   ]
  },
  {
   "cell_type": "code",
   "execution_count": null,
   "id": "9ced12b1-6da6-4e33-9efb-ba3af6496f44",
   "metadata": {},
   "outputs": [],
   "source": []
  }
 ],
 "metadata": {
  "kernelspec": {
   "display_name": "Python 3",
   "language": "python",
   "name": "python3"
  },
  "language_info": {
   "codemirror_mode": {
    "name": "ipython",
    "version": 3
   },
   "file_extension": ".py",
   "mimetype": "text/x-python",
   "name": "python",
   "nbconvert_exporter": "python",
   "pygments_lexer": "ipython3",
   "version": "3.8.10"
  }
 },
 "nbformat": 4,
 "nbformat_minor": 5
}
