{
 "cells": [
  {
   "cell_type": "code",
   "execution_count": 1,
   "id": "c5652aa5-05d5-43f6-993a-9860f7e6e915",
   "metadata": {},
   "outputs": [],
   "source": [
    "%matplotlib inline"
   ]
  },
  {
   "cell_type": "code",
   "execution_count": 2,
   "id": "32b2ea5c-4899-4d6d-911d-d090e2d739f6",
   "metadata": {},
   "outputs": [],
   "source": [
    "import numpy as np\n",
    "import tensorflow as tf\n",
    "from tensorflow.keras import datasets, layers, models\n",
    "import matplotlib.pyplot as plt"
   ]
  },
  {
   "cell_type": "code",
   "execution_count": 3,
   "id": "d9d7f1a8-13b5-4ea2-ac94-99e2e89da636",
   "metadata": {},
   "outputs": [],
   "source": [
    "# Tensorflow Limit GPU usage\n",
    "gpus = tf.config.experimental.list_physical_devices('GPU')\n",
    "if gpus:\n",
    "    try:\n",
    "        for gpu in gpus:\n",
    "            tf.config.experimental.set_memory_growth(gpu, True)\n",
    "    except RuntimeError as e:\n",
    "        print(e)"
   ]
  },
  {
   "cell_type": "code",
   "execution_count": 4,
   "id": "5b233118-b4b2-401f-9299-b284bd7c947c",
   "metadata": {},
   "outputs": [],
   "source": [
    "(train_images, train_labels), (test_images, test_labels) = tf.keras.datasets.cifar10.load_data()\n",
    "\n",
    "# Normalize pixel values to be between 0 and 1\n",
    "train_images, test_images = train_images / 255.0, test_images / 255.0\n",
    "\n",
    "assert train_images.shape == (50000, 32, 32, 3)\n",
    "assert test_images.shape == (10000, 32, 32, 3)\n",
    "assert train_labels.shape == (50000, 1)\n",
    "assert test_labels.shape == (10000, 1)"
   ]
  },
  {
   "cell_type": "code",
   "execution_count": 5,
   "id": "4a2a0919-7302-4bd4-af1e-7b903b471ae1",
   "metadata": {},
   "outputs": [],
   "source": [
    "# Dimension constants\n",
    "im_ht = 32\n",
    "im_wt = 32\n",
    "\n",
    "kr_ht = 4\n",
    "kr_wt = 4\n",
    "\n",
    "no_ch = 3\n",
    "no_im = 10\n",
    "no_kr = 5\n",
    "\n",
    "y_ht = im_ht - kr_ht + 1\n",
    "y_wt = im_wt - kr_wt + 1\n",
    "\n",
    "no_of_patches = y_ht*y_wt\n",
    "patch_len = kr_ht*kr_wt*no_ch"
   ]
  },
  {
   "cell_type": "code",
   "execution_count": 6,
   "id": "4cb2c5d0-3759-42f2-a72e-30bc90127794",
   "metadata": {},
   "outputs": [],
   "source": [
    "# Numpy Random Number Generator\n",
    "rng = np.random.default_rng(20220525)"
   ]
  },
  {
   "cell_type": "code",
   "execution_count": 7,
   "id": "391e8f76-c5b3-4160-ba2a-e943c97c5f1d",
   "metadata": {},
   "outputs": [
    {
     "data": {
      "text/plain": [
       "(4, 4, 3, 5)"
      ]
     },
     "execution_count": 7,
     "metadata": {},
     "output_type": "execute_result"
    }
   ],
   "source": [
    "# [filter_height, filter_width, in_channels, out_channels]\n",
    "kernels = rng.random(size = (kr_ht, kr_wt, no_ch, no_kr))\n",
    "kernels.shape"
   ]
  },
  {
   "cell_type": "code",
   "execution_count": 8,
   "id": "947adb44-36f8-4678-8f82-777ac8333aee",
   "metadata": {},
   "outputs": [
    {
     "data": {
      "text/plain": [
       "(10, 32, 32, 3)"
      ]
     },
     "execution_count": 8,
     "metadata": {},
     "output_type": "execute_result"
    }
   ],
   "source": [
    "images = train_images[:no_im,:,:,:]\n",
    "images.shape\n",
    "\n",
    "# plt.figure(figsize=(5, 10))\n",
    "# for idx, img in enumerate(images):\n",
    "#     plt.subplot(5,2,idx+1)\n",
    "#     plt.imshow(img)"
   ]
  },
  {
   "cell_type": "code",
   "execution_count": 9,
   "id": "9e2ecbfa-24fe-4dd1-87ee-d9f93649c8a2",
   "metadata": {},
   "outputs": [
    {
     "data": {
      "text/plain": [
       "TensorShape([10, 29, 29, 5])"
      ]
     },
     "execution_count": 9,
     "metadata": {},
     "output_type": "execute_result"
    }
   ],
   "source": [
    "# tensorflow built-in method\n",
    "tf_conv_out = tf.nn.conv2d(input=images,\n",
    "                            filters=kernels,\n",
    "                            strides=[1,1,1,1],\n",
    "                            padding=\"VALID\",\n",
    "                            data_format='NHWC',\n",
    "                            dilations=None,\n",
    "                            name=None\n",
    "                        )\n",
    "tf_conv_out.shape"
   ]
  },
  {
   "cell_type": "code",
   "execution_count": 10,
   "id": "9031e322-b8ba-478e-b2d9-b639e87f290f",
   "metadata": {},
   "outputs": [
    {
     "data": {
      "text/plain": [
       "TensorShape([10, 29, 29, 48])"
      ]
     },
     "execution_count": 10,
     "metadata": {},
     "output_type": "execute_result"
    }
   ],
   "source": [
    "# manual convolution\n",
    "# extract image patches\n",
    "patches = tf.image.extract_patches(images=images,\n",
    "                                 sizes=[1, kr_ht, kr_wt, 1],\n",
    "                                 strides=[1, 1, 1, 1],\n",
    "                                 rates=[1, 1, 1, 1],\n",
    "                                 padding='VALID')\n",
    "assert patch_len == patches.shape[-1]\n",
    "assert no_of_patches == patches.shape[1]*patches.shape[2]\n",
    "\n",
    "patches.shape"
   ]
  },
  {
   "cell_type": "code",
   "execution_count": 11,
   "id": "0a56e220-fcab-4cc5-8a22-752d9faf0471",
   "metadata": {},
   "outputs": [
    {
     "data": {
      "text/plain": [
       "TensorShape([10, 48, 841])"
      ]
     },
     "execution_count": 11,
     "metadata": {},
     "output_type": "execute_result"
    }
   ],
   "source": [
    "# flatten patches\n",
    "flat_patches = tf.reshape(patches, (no_im, no_of_patches, patch_len))\n",
    "# tranpose for matrix multiplication\n",
    "flat_patches = tf.transpose(flat_patches, (0,2,1))\n",
    "flat_patches.shape"
   ]
  },
  {
   "cell_type": "code",
   "execution_count": 12,
   "id": "217663e3-473b-4f4c-9ca6-6342a5d847a5",
   "metadata": {},
   "outputs": [
    {
     "data": {
      "text/plain": [
       "TensorShape([10, 5, 48])"
      ]
     },
     "execution_count": 12,
     "metadata": {},
     "output_type": "execute_result"
    }
   ],
   "source": [
    "# flatten kernels\n",
    "## first reorder kernels by no. of output-kernels\n",
    "flat_kernels = tf.transpose(kernels, perm=(3,0,1,2))\n",
    "flat_kernels = tf.reshape(flat_kernels, (no_kr, kr_ht*kr_wt*no_ch))\n",
    "flat_kernels = tf.broadcast_to(flat_kernels, (no_im, no_kr, kr_ht*kr_wt*no_ch))\n",
    "flat_kernels.shape"
   ]
  },
  {
   "cell_type": "code",
   "execution_count": 13,
   "id": "86233a80-17b4-434d-95e7-05ab73192461",
   "metadata": {},
   "outputs": [
    {
     "data": {
      "text/plain": [
       "TensorShape([10, 5, 841])"
      ]
     },
     "execution_count": 13,
     "metadata": {},
     "output_type": "execute_result"
    }
   ],
   "source": [
    "manual_conv = flat_kernels@flat_patches\n",
    "manual_conv.shape"
   ]
  },
  {
   "cell_type": "code",
   "execution_count": 14,
   "id": "d6e1214b-2e9d-407c-b839-800aea3d97a4",
   "metadata": {},
   "outputs": [],
   "source": [
    "manual_conv = tf.transpose(manual_conv, (0,2,1))"
   ]
  },
  {
   "cell_type": "code",
   "execution_count": 15,
   "id": "c71af383-499e-453d-8c80-36e8e55fa38e",
   "metadata": {},
   "outputs": [
    {
     "data": {
      "text/plain": [
       "TensorShape([10, 29, 29, 5])"
      ]
     },
     "execution_count": 15,
     "metadata": {},
     "output_type": "execute_result"
    }
   ],
   "source": [
    "manual_conv = tf.reshape(manual_conv, (no_im, y_ht,y_wt, no_kr))\n",
    "manual_conv.shape"
   ]
  },
  {
   "cell_type": "code",
   "execution_count": 16,
   "id": "8aff4588-669b-48a1-8712-d2d89e3e7821",
   "metadata": {},
   "outputs": [
    {
     "data": {
      "text/plain": [
       "<tf.Tensor: shape=(), dtype=float64, numpy=1.1370904218210853e-12>"
      ]
     },
     "execution_count": 16,
     "metadata": {},
     "output_type": "execute_result"
    }
   ],
   "source": [
    "tf.reduce_sum(tf_conv_out - manual_conv)"
   ]
  },
  {
   "cell_type": "code",
   "execution_count": null,
   "id": "bd2bfa86-14bb-45de-9006-4022f9064ce9",
   "metadata": {},
   "outputs": [],
   "source": []
  }
 ],
 "metadata": {
  "kernelspec": {
   "display_name": "Python 3",
   "language": "python",
   "name": "python3"
  },
  "language_info": {
   "codemirror_mode": {
    "name": "ipython",
    "version": 3
   },
   "file_extension": ".py",
   "mimetype": "text/x-python",
   "name": "python",
   "nbconvert_exporter": "python",
   "pygments_lexer": "ipython3",
   "version": "3.8.10"
  }
 },
 "nbformat": 4,
 "nbformat_minor": 5
}
