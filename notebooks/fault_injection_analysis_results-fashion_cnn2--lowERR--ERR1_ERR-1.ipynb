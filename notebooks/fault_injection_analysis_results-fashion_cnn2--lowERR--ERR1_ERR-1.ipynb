{
 "cells": [
  {
   "cell_type": "code",
   "execution_count": 1,
   "id": "32e4fa5b-80f0-4653-8e98-4a5182c49b5b",
   "metadata": {
    "tags": []
   },
   "outputs": [],
   "source": [
    "import os\n",
    "import sys\n",
    "import git\n",
    "import pathlib\n",
    "\n",
    "import random\n",
    "\n",
    "import numpy as np\n",
    "import tensorflow as tf\n",
    "from tensorflow import keras\n",
    "from tensorflow.keras.datasets import mnist\n",
    "\n",
    "os.environ['TF_CPP_MIN_LOG_LEVEL'] = '3' \n",
    "os.environ['CUDA_VISIBLE_DEVICES'] = '0' # use GPU\n",
    "# Using GPU during inference has deterministic results (same as CPU)\n",
    "\n",
    "PROJ_ROOT_PATH = pathlib.Path(git.Repo('.', search_parent_directories=True).working_tree_dir)\n",
    "PROJ_ROOT =  str(PROJ_ROOT_PATH)\n",
    "if PROJ_ROOT not in sys.path:\n",
    "    sys.path.append(PROJ_ROOT)\n",
    "\n",
    "from libs import utils, fashion_cnn2\n",
    "from libs.constants import model_seeds\n",
    "from libs.fitnessfns import ff_fashion_cnn2_ERR\n",
    "from timeit import default_timer as timer"
   ]
  },
  {
   "cell_type": "code",
   "execution_count": 2,
   "id": "e87942b7-9775-4390-b586-b34f130a4f7f",
   "metadata": {},
   "outputs": [],
   "source": [
    "# set seed\n",
    "this_seed = 9387\n",
    "tf.random.set_seed(this_seed)\n",
    "np.random.seed(this_seed)\n",
    "random.seed(this_seed)\n",
    "os.environ['PYTHONHASHSEED']=str(this_seed)"
   ]
  },
  {
   "cell_type": "code",
   "execution_count": 3,
   "id": "21972d38-96f5-4208-a242-ab70134923d9",
   "metadata": {},
   "outputs": [],
   "source": [
    "# Limit GPU growth\n",
    "gpus = tf.config.experimental.list_physical_devices('GPU')\n",
    "if gpus:\n",
    "    try:\n",
    "        for gpu in gpus:\n",
    "            tf.config.experimental.set_memory_growth(gpu, True)\n",
    "    except RuntimeError as e:\n",
    "        print(e)"
   ]
  },
  {
   "cell_type": "code",
   "execution_count": 4,
   "id": "5a46e984-07b5-4470-9854-76e766e03c15",
   "metadata": {},
   "outputs": [],
   "source": [
    "# Prepare dataset\n",
    "# Use only test images\n",
    "fashion_mnist = tf.keras.datasets.fashion_mnist\n",
    "(train_images, train_labels), (test_images, test_labels) = fashion_mnist.load_data()\n",
    "\n",
    "train_images = train_images.astype('float32') / 255.0\n",
    "test_images = test_images.astype('float32') / 255.0\n",
    "\n",
    "train_images = np.expand_dims(train_images, axis=-1)\n",
    "test_images = np.expand_dims(test_images, axis=-1)"
   ]
  },
  {
   "cell_type": "code",
   "execution_count": 5,
   "id": "1ec99220-4a5d-4676-8110-3580dcd2b319",
   "metadata": {},
   "outputs": [],
   "source": [
    "# Load test set\n",
    "# Testing with only im_num images\n",
    "im_num = 128*40#128*40=5120 #[128*78 = 9984]\n",
    "test_set = (test_images[im_num:], \n",
    "            test_labels[im_num:])"
   ]
  },
  {
   "cell_type": "code",
   "execution_count": 6,
   "id": "2d66c74d-ccf2-4e80-be19-fc829b86ca0f",
   "metadata": {},
   "outputs": [],
   "source": [
    "# Batchsize for evaluation\n",
    "EVAL_BATCHSIZE = 128"
   ]
  },
  {
   "cell_type": "code",
   "execution_count": 7,
   "id": "9c38799c-dd7a-41b9-a15b-4c238d0b0b37",
   "metadata": {
    "tags": []
   },
   "outputs": [],
   "source": [
    "def eval_error_injected_no_shuffle(model, \n",
    "                                  error_layer, \n",
    "                                  error_profile, \n",
    "                                  ERR_PARAM,\n",
    "                                  test_set,\n",
    "                                  batchsize):\n",
    "    \n",
    "    error_profile_c0=None\n",
    "    error_profile_c1=None\n",
    "    error_profile_h0=None\n",
    "    error_profile_op=None\n",
    "    if error_layer == \"c0\":\n",
    "        error_profile_c0=error_profile\n",
    "    elif error_layer ==\"c1\":\n",
    "        error_profile_c1=error_profile\n",
    "    elif error_layer == \"h0\":\n",
    "        error_profile_h0=error_profile\n",
    "    elif error_layer == \"op\":\n",
    "        error_profile_op=error_profile\n",
    "    elif error_layer == \"all\":\n",
    "        error_profile_c0=error_profile\n",
    "        error_profile_c1=error_profile\n",
    "        error_profile_h0=error_profile\n",
    "        error_profile_op=error_profile\n",
    "        \n",
    "    shuffle_order_c0 = None\n",
    "    shuffle_order_c1 = None\n",
    "    shuffle_order_h0 = None\n",
    "    shuffle_order_op = None\n",
    "        \n",
    "    acc_list = []\n",
    "    for _ in range(3):\n",
    "        accuracy = ff_fashion_cnn2_ERR(model,\n",
    "                                        error_profile_c0,\n",
    "                                        error_profile_c1,\n",
    "                                        error_profile_h0,\n",
    "                                        error_profile_op,\n",
    "                                        ERR_PARAM,\n",
    "                                        shuffle_order_c0,\n",
    "                                        shuffle_order_c1,\n",
    "                                        shuffle_order_h0,\n",
    "                                        shuffle_order_op,\n",
    "                                        test_set=test_set,\n",
    "                                        batchsize=batchsize)\n",
    "        acc_list.append(accuracy)\n",
    "    return np.mean(acc_list)"
   ]
  },
  {
   "cell_type": "code",
   "execution_count": 8,
   "id": "851b3340-f6f8-4a4c-8b28-7808edb6279d",
   "metadata": {
    "tags": []
   },
   "outputs": [],
   "source": [
    "from libs.constants import error_seeds\n",
    "error_profile_tag_list = []\n",
    "MAX_FAULT_PROB_LIST = [1E-3, 2E-3, 5E-3]\n",
    "for MAX_FAULT_PROB in MAX_FAULT_PROB_LIST:\n",
    "    for seed in error_seeds:\n",
    "        err_tag = \"LIM_\" + f\"{int(MAX_FAULT_PROB*1E3):02d}\" + \"-\" +str(seed)\n",
    "        error_profile_tag_list.append(err_tag)\n",
    "# error_profile_tag_list"
   ]
  },
  {
   "cell_type": "code",
   "execution_count": null,
   "id": "10af9fbe-c3f7-4cfa-95aa-199fa4ad890f",
   "metadata": {
    "tags": []
   },
   "outputs": [
    {
     "name": "stdout",
     "output_type": "stream",
     "text": [
      "fashion-cnn2_1024-1023\n",
      "ORIGINAL ACC:  0.9299\n",
      "LIM_01-2188\n",
      "1 \t c0 \t 0.9297\n",
      "1 \t c1 \t 0.9298\n",
      "1 \t h0 \t 0.9296\n",
      "1 \t op \t 0.93\n",
      "1 \t all \t 0.9296\n",
      "**************************************************\n",
      "-1 \t c0 \t 0.9299\n",
      "-1 \t c1 \t 0.9291\n",
      "-1 \t h0 \t 0.9298\n",
      "-1 \t op \t 0.9299\n",
      "-1 \t all \t 0.9289\n",
      "**************************************************\n",
      "\n",
      "LIM_01-3987\n",
      "1 \t c0 \t 0.9293\n"
     ]
    }
   ],
   "source": [
    "model_type = \"fashion-cnn2_1024\"\n",
    "results = {}\n",
    "for model_seed in  model_seeds:\n",
    "    results[model_seed] = {}\n",
    "    # Get model\n",
    "    model_instance = model_type + \"-\" + str(model_seed)\n",
    "    dataset, model_arch, model_config, layer_widths, seed = utils.instancename2metadata(model_instance)\n",
    "    model_meta_type, model_type, model_instance = utils.metadata2instancenames(dataset, model_arch, layer_widths, seed)\n",
    "    model_folder = pathlib.Path(PROJ_ROOT_PATH / \"models\" / model_type)\n",
    "    model_filename = model_instance + \".h5\"\n",
    "    model_file = pathlib.Path(model_folder/ model_filename)\n",
    "    # Load model\n",
    "    model = tf.keras.models.load_model(model_file)\n",
    "    print(model_instance)\n",
    "    \n",
    "    # Original Accuracy\n",
    "    original_accuracy = ff_fashion_cnn2_ERR(model,\n",
    "                                            error_profile_c0=None,\n",
    "                                            error_profile_c1=None,\n",
    "                                            error_profile_h0=None,\n",
    "                                            error_profile_op=None,\n",
    "                                            ERR_PARAM=None,\n",
    "                                            shuffle_order_c0=None,\n",
    "                                            shuffle_order_c1=None,\n",
    "                                            shuffle_order_h0=None,\n",
    "                                            shuffle_order_op=None,\n",
    "                                            test_set=test_set,\n",
    "                                            batchsize=EVAL_BATCHSIZE)\n",
    "    print(\"ORIGINAL ACC: \", np.around(original_accuracy, decimals=4))\n",
    "    results[model_seed][\"original_acc\"] = np.around(original_accuracy, decimals=4)\n",
    "    \n",
    "    \n",
    "    # Error Injection\n",
    "    for error_profile_tag in error_profile_tag_list:\n",
    "        print(error_profile_tag)\n",
    "        results[model_seed][error_profile_tag] = {}\n",
    "        # Load error profile\n",
    "        err_profile_filename = \"../error_profiles/\"+ error_profile_tag + \".npy\"\n",
    "        error_profile = np.load(err_profile_filename)\n",
    "\n",
    "        ERR_PARAM_list = [1,-1]\n",
    "        error_layer_list = [\"c0\", \"c1\", \"h0\", \"op\", \"all\"]\n",
    "        for ERR_PARAM in ERR_PARAM_list:\n",
    "            results[model_seed][error_profile_tag][ERR_PARAM]={}\n",
    "            for error_layer in error_layer_list:\n",
    "                eval_acc = eval_error_injected_no_shuffle(model, \n",
    "                                                          error_layer, \n",
    "                                                          error_profile, \n",
    "                                                          ERR_PARAM,\n",
    "                                                          test_set,\n",
    "                                                          EVAL_BATCHSIZE)\n",
    "                results[model_seed][error_profile_tag][ERR_PARAM][error_layer] = np.around(eval_acc,decimals=4)\n",
    "                results_filename = 'fault_injection_analysis_results-fashion_cnn2--lowERR--ERR1_ERR-1.npy'\n",
    "                np.save(results_filename, results) \n",
    "                print(ERR_PARAM, '\\t' ,error_layer, '\\t' , np.around(eval_acc,decimals=4))\n",
    "            print('*'*50)    \n",
    "        print()"
   ]
  },
  {
   "cell_type": "code",
   "execution_count": null,
   "id": "685659f9-0084-42d8-9ab8-3bcbc0a6fb59",
   "metadata": {
    "tags": []
   },
   "outputs": [],
   "source": []
  }
 ],
 "metadata": {
  "kernelspec": {
   "display_name": "Python 3",
   "language": "python",
   "name": "python3"
  },
  "language_info": {
   "codemirror_mode": {
    "name": "ipython",
    "version": 3
   },
   "file_extension": ".py",
   "mimetype": "text/x-python",
   "name": "python",
   "nbconvert_exporter": "python",
   "pygments_lexer": "ipython3",
   "version": "3.8.10"
  }
 },
 "nbformat": 4,
 "nbformat_minor": 5
}
