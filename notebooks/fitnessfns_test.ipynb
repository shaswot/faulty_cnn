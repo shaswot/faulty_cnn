{
 "cells": [
  {
   "cell_type": "code",
   "execution_count": 1,
   "id": "01a4b070-9c1b-4b62-8ab5-4344b0d22fa9",
   "metadata": {},
   "outputs": [],
   "source": [
    "import os\n",
    "import sys\n",
    "import git\n",
    "import pathlib\n",
    "\n",
    "import random\n",
    "\n",
    "import numpy as np\n",
    "import tensorflow as tf\n",
    "from tensorflow import keras\n",
    "from tensorflow.keras.datasets import mnist\n",
    "\n",
    "from sklearn.metrics import confusion_matrix\n",
    "from sklearn.metrics import accuracy_score\n",
    "\n",
    "os.environ['TF_CPP_MIN_LOG_LEVEL'] = '3' \n",
    "os.environ['CUDA_VISIBLE_DEVICES'] = '0' # use GPU\n",
    "# Using GPU during inference has deterministic results (same as CPU)\n",
    "\n",
    "PROJ_ROOT_PATH = pathlib.Path(git.Repo('.', search_parent_directories=True).working_tree_dir)\n",
    "PROJ_ROOT =  str(PROJ_ROOT_PATH)\n",
    "if PROJ_ROOT not in sys.path:\n",
    "    sys.path.append(PROJ_ROOT)\n",
    "\n",
    "from libs import utils, mnist32_cnn\n",
    "from libs.constants import model_seeds"
   ]
  },
  {
   "cell_type": "code",
   "execution_count": 2,
   "id": "a822a143-040b-4aad-b4d5-aab4cbf3dd82",
   "metadata": {},
   "outputs": [],
   "source": [
    "# Limit GPU growth\n",
    "gpus = tf.config.experimental.list_physical_devices('GPU')\n",
    "if gpus:\n",
    "    try:\n",
    "        for gpu in gpus:\n",
    "            tf.config.experimental.set_memory_growth(gpu, True)\n",
    "    except RuntimeError as e:\n",
    "        print(e)"
   ]
  },
  {
   "cell_type": "code",
   "execution_count": 3,
   "id": "3193f65f-df7e-495a-b4d7-45b32189d946",
   "metadata": {},
   "outputs": [],
   "source": [
    "# Prepare dataset\n",
    "# Combine test and train images together into one dataset\n",
    "DATASET_PATH = str(pathlib.Path(PROJ_ROOT_PATH / \"datasets\" / \"mnist.npz\" ))\n",
    "(train_images, train_labels), (test_images, test_labels) = mnist.load_data(path=DATASET_PATH)\n",
    "train_images = train_images.astype(np.float32) / 255.0\n",
    "test_images = test_images.astype(np.float32) / 255.0  \n",
    "\n",
    "all_images =np.concatenate([train_images, test_images], axis=0)\n",
    "all_labels =np.concatenate([train_labels, test_labels], axis=0)\n",
    "all_images = np.expand_dims(all_images, axis=-1)\n",
    "\n",
    "# resize the input shape , i.e. old shape: 28, new shape: 32\n",
    "image_x_size = 32\n",
    "image_y_size = 32\n",
    "all_images = tf.image.resize(all_images, [image_x_size, image_y_size]) "
   ]
  },
  {
   "cell_type": "code",
   "execution_count": 4,
   "id": "9c7d65de-1fe1-41f2-bfcb-41467826fb3a",
   "metadata": {},
   "outputs": [],
   "source": [
    "model_type = \"mnist32-cnn_1024_256_64\"\n",
    "model_seed = model_seeds[0]"
   ]
  },
  {
   "cell_type": "code",
   "execution_count": 5,
   "id": "247211ec-d4f8-431a-b188-7b04effb6088",
   "metadata": {},
   "outputs": [],
   "source": [
    "# Get model\n",
    "model_instance = model_type + \"-\" + str(model_seed)\n",
    "dataset, model_arch, model_config, layer_widths, seed = utils.instancename2metadata(model_instance)\n",
    "model_meta_type, model_type, model_instance = utils.metadata2instancenames(dataset, model_arch, layer_widths, seed)\n",
    "\n",
    "model_folder = pathlib.Path(PROJ_ROOT_PATH / \"models\" / model_meta_type / model_type)\n",
    "model_filename = model_instance + \".h5\"\n",
    "model_file = pathlib.Path(model_folder/ model_filename)"
   ]
  },
  {
   "cell_type": "code",
   "execution_count": 6,
   "id": "2e37ce52-7822-4ea3-8241-57ae2bd3f74a",
   "metadata": {},
   "outputs": [],
   "source": [
    "no_im = 32 # no of images per batch\n",
    "b_images = all_images[0:no_im]\n",
    "b_labels = all_labels[0:no_im]\n",
    "# image = tf.expand_dims(all_images[0],axis=0)"
   ]
  },
  {
   "cell_type": "code",
   "execution_count": 7,
   "id": "0ebccfdc-2d17-4d11-b755-4d7665ae4b1f",
   "metadata": {},
   "outputs": [
    {
     "name": "stdout",
     "output_type": "stream",
     "text": [
      "Model: \"sequential\"\n",
      "_________________________________________________________________\n",
      " Layer (type)                Output Shape              Param #   \n",
      "=================================================================\n",
      " conv2d (Conv2D)             (None, 29, 29, 32)        544       \n",
      "                                                                 \n",
      " max_pooling2d (MaxPooling2D  (None, 14, 14, 32)       0         \n",
      " )                                                               \n",
      "                                                                 \n",
      " flatten (Flatten)           (None, 6272)              0         \n",
      "                                                                 \n",
      " fc_0 (Dense)                (None, 1024)              6423552   \n",
      "                                                                 \n",
      " fc_1 (Dense)                (None, 256)               262400    \n",
      "                                                                 \n",
      " fc_2 (Dense)                (None, 64)                16448     \n",
      "                                                                 \n",
      " op_layer (Dense)            (None, 10)                650       \n",
      "                                                                 \n",
      "=================================================================\n",
      "Total params: 6,703,594\n",
      "Trainable params: 6,703,594\n",
      "Non-trainable params: 0\n",
      "_________________________________________________________________\n"
     ]
    }
   ],
   "source": [
    "# Load model\n",
    "model = tf.keras.models.load_model(model_file)\n",
    "model.summary()"
   ]
  },
  {
   "cell_type": "code",
   "execution_count": 8,
   "id": "75fc6356-e1de-4cae-a451-f8d362520b3b",
   "metadata": {},
   "outputs": [],
   "source": [
    "from libs.fitnessfns import batch_lenet_3hidden_ERRexpbitflips"
   ]
  },
  {
   "cell_type": "code",
   "execution_count": 9,
   "id": "891eab0a-2e4e-4759-b98e-f57ca91cb2de",
   "metadata": {},
   "outputs": [],
   "source": [
    "misses = batch_lenet_3hidden_ERRexpbitflips( b_images,\n",
    "                                    b_labels,\n",
    "                                    model,\n",
    "                                    error_profile_c0=None,\n",
    "                                    error_profile_h0=None,\n",
    "                                    error_profile_h1=None,\n",
    "                                    error_profile_h2=None,\n",
    "                                    error_profile_op=None,\n",
    "                                    ERR_PARAM_TF=None,\n",
    "                                    clayer0_shuffle_order=None,\n",
    "                                    hlayer0_shuffle_order=None,\n",
    "                                    hlayer1_shuffle_order=None,\n",
    "                                    hlayer2_shuffle_order=None,\n",
    "                                    oplayer_shuffle_order=None)"
   ]
  },
  {
   "cell_type": "code",
   "execution_count": 10,
   "id": "c0c38faf-d5f0-476a-9611-539f38cdb13a",
   "metadata": {},
   "outputs": [
    {
     "data": {
      "text/plain": [
       "<tf.Tensor: shape=(), dtype=int64, numpy=0>"
      ]
     },
     "execution_count": 10,
     "metadata": {},
     "output_type": "execute_result"
    }
   ],
   "source": [
    "misses"
   ]
  },
  {
   "cell_type": "code",
   "execution_count": 11,
   "id": "047c1e96-adda-4dd6-b53f-874d7835512d",
   "metadata": {},
   "outputs": [],
   "source": [
    "dummy_error_profile = np.zeros((20_000,32), dtype=\"float32\")\n",
    "clayer0_shuffle_order = np.arange(32)\n",
    "hlayer0_shuffle_order = np.arange(1024)\n",
    "hlayer1_shuffle_order = np.arange(256)\n",
    "hlayer2_shuffle_order = np.arange(64)\n",
    "oplayer_shuffle_order = np.arange(10)\n",
    "\n",
    "np.random.shuffle(clayer0_shuffle_order)\n",
    "np.random.shuffle(hlayer0_shuffle_order)\n",
    "np.random.shuffle(hlayer1_shuffle_order)\n",
    "np.random.shuffle(hlayer2_shuffle_order)\n",
    "np.random.shuffle(oplayer_shuffle_order)"
   ]
  },
  {
   "cell_type": "code",
   "execution_count": 12,
   "id": "eff0dc58-3107-4e83-8606-5d57ff5bfa72",
   "metadata": {},
   "outputs": [],
   "source": [
    "misses = batch_lenet_3hidden_ERRexpbitflips( b_images,\n",
    "                                            b_labels,\n",
    "                                            model,\n",
    "                                            error_profile_c0=dummy_error_profile,\n",
    "                                            error_profile_h0=dummy_error_profile,\n",
    "                                            error_profile_h1=dummy_error_profile,\n",
    "                                            error_profile_h2=dummy_error_profile,\n",
    "                                            error_profile_op=dummy_error_profile,\n",
    "                                            ERR_PARAM_TF=None,\n",
    "                                            clayer0_shuffle_order=clayer0_shuffle_order,\n",
    "                                            hlayer0_shuffle_order=hlayer0_shuffle_order,\n",
    "                                            hlayer1_shuffle_order=hlayer1_shuffle_order,\n",
    "                                            hlayer2_shuffle_order=hlayer2_shuffle_order,\n",
    "                                            oplayer_shuffle_order=oplayer_shuffle_order\n",
    "                                                   )"
   ]
  },
  {
   "cell_type": "code",
   "execution_count": 13,
   "id": "8997e2e4-6844-47ee-b890-733a19b67fbe",
   "metadata": {},
   "outputs": [],
   "source": [
    "from libs.fitnessfns import ff_lenet_3hidden_ERRexpbitflips"
   ]
  },
  {
   "cell_type": "code",
   "execution_count": 15,
   "id": "db04bc20-0f53-4831-a510-849a9d53a826",
   "metadata": {},
   "outputs": [],
   "source": [
    "test_set = (all_images, all_labels)\n",
    "accuracy = ff_lenet_3hidden_ERRexpbitflips(model,\n",
    "                                            error_profile_c0=dummy_error_profile,\n",
    "                                            error_profile_h0=dummy_error_profile,\n",
    "                                            error_profile_h1=dummy_error_profile,\n",
    "                                            error_profile_h2=dummy_error_profile,\n",
    "                                            error_profile_op=dummy_error_profile,\n",
    "                                            ERR_PARAM=None,\n",
    "                                            clayer0_shuffle_order=clayer0_shuffle_order,\n",
    "                                            hlayer0_shuffle_order=hlayer0_shuffle_order,\n",
    "                                            hlayer1_shuffle_order=hlayer1_shuffle_order,\n",
    "                                            hlayer2_shuffle_order=hlayer2_shuffle_order,\n",
    "                                            oplayer_shuffle_order=oplayer_shuffle_order,\n",
    "                                            test_set=test_set,\n",
    "                                            batchsize=32)"
   ]
  },
  {
   "cell_type": "code",
   "execution_count": 16,
   "id": "69e16a52-2caf-4668-8dd4-de507a0a47fd",
   "metadata": {},
   "outputs": [
    {
     "data": {
      "text/plain": [
       "<tf.Tensor: shape=(), dtype=float64, numpy=0.9957990397805213>"
      ]
     },
     "execution_count": 16,
     "metadata": {},
     "output_type": "execute_result"
    }
   ],
   "source": [
    "accuracy"
   ]
  },
  {
   "cell_type": "code",
   "execution_count": 18,
   "id": "6741e4a0-beff-4309-83cd-8974401bfc3a",
   "metadata": {},
   "outputs": [],
   "source": [
    "from libs.mnist32_cnn import test_mnist32\n",
    "acc2, _ = test_mnist32(model_file)"
   ]
  },
  {
   "cell_type": "code",
   "execution_count": 19,
   "id": "e28180f0-bdce-4388-8ea1-8672c67cce46",
   "metadata": {},
   "outputs": [
    {
     "data": {
      "text/plain": [
       "0.9958"
      ]
     },
     "execution_count": 19,
     "metadata": {},
     "output_type": "execute_result"
    }
   ],
   "source": [
    "acc2"
   ]
  },
  {
   "cell_type": "code",
   "execution_count": 20,
   "id": "dbce39bf-2201-4cfc-a3b2-b4b4594d37c8",
   "metadata": {},
   "outputs": [
    {
     "data": {
      "text/plain": [
       "<tf.Tensor: shape=(), dtype=float64, numpy=-9.602194787072804e-07>"
      ]
     },
     "execution_count": 20,
     "metadata": {},
     "output_type": "execute_result"
    }
   ],
   "source": [
    "accuracy-acc2"
   ]
  },
  {
   "cell_type": "code",
   "execution_count": null,
   "id": "b62bb3b5-6f5f-4286-8566-339557edf299",
   "metadata": {},
   "outputs": [],
   "source": []
  }
 ],
 "metadata": {
  "kernelspec": {
   "display_name": "Python 3",
   "language": "python",
   "name": "python3"
  },
  "language_info": {
   "codemirror_mode": {
    "name": "ipython",
    "version": 3
   },
   "file_extension": ".py",
   "mimetype": "text/x-python",
   "name": "python",
   "nbconvert_exporter": "python",
   "pygments_lexer": "ipython3",
   "version": "3.8.10"
  }
 },
 "nbformat": 4,
 "nbformat_minor": 5
}
