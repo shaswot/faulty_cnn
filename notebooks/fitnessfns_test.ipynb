{
 "cells": [
  {
   "cell_type": "code",
   "execution_count": 1,
   "id": "01a4b070-9c1b-4b62-8ab5-4344b0d22fa9",
   "metadata": {},
   "outputs": [],
   "source": [
    "import os\n",
    "import sys\n",
    "import git\n",
    "import pathlib\n",
    "\n",
    "import random\n",
    "\n",
    "import numpy as np\n",
    "import tensorflow as tf\n",
    "from tensorflow import keras\n",
    "from tensorflow.keras.datasets import mnist\n",
    "\n",
    "from sklearn.metrics import confusion_matrix\n",
    "from sklearn.metrics import accuracy_score\n",
    "\n",
    "os.environ['TF_CPP_MIN_LOG_LEVEL'] = '3' \n",
    "os.environ['CUDA_VISIBLE_DEVICES'] = '0' # use GPU\n",
    "# Using GPU during inference has deterministic results (same as CPU)\n",
    "\n",
    "PROJ_ROOT_PATH = pathlib.Path(git.Repo('.', search_parent_directories=True).working_tree_dir)\n",
    "PROJ_ROOT =  str(PROJ_ROOT_PATH)\n",
    "if PROJ_ROOT not in sys.path:\n",
    "    sys.path.append(PROJ_ROOT)\n",
    "\n",
    "from libs import utils, mnist32_cnn\n",
    "from libs.constants import model_seeds\n",
    "\n",
    "from timeit import default_timer as timer"
   ]
  },
  {
   "cell_type": "code",
   "execution_count": 2,
   "id": "a822a143-040b-4aad-b4d5-aab4cbf3dd82",
   "metadata": {},
   "outputs": [],
   "source": [
    "# Limit GPU growth\n",
    "gpus = tf.config.experimental.list_physical_devices('GPU')\n",
    "if gpus:\n",
    "    try:\n",
    "        for gpu in gpus:\n",
    "            tf.config.experimental.set_memory_growth(gpu, True)\n",
    "    except RuntimeError as e:\n",
    "        print(e)"
   ]
  },
  {
   "cell_type": "code",
   "execution_count": 3,
   "id": "3193f65f-df7e-495a-b4d7-45b32189d946",
   "metadata": {},
   "outputs": [],
   "source": [
    "# Prepare dataset\n",
    "# Combine test and train images together into one dataset\n",
    "DATASET_PATH = str(pathlib.Path(PROJ_ROOT_PATH / \"datasets\" / \"mnist.npz\" ))\n",
    "(train_images, train_labels), (test_images, test_labels) = mnist.load_data(path=DATASET_PATH)\n",
    "train_images = train_images.astype(np.float32) / 255.0\n",
    "test_images = test_images.astype(np.float32) / 255.0  \n",
    "\n",
    "all_images =np.concatenate([train_images, test_images], axis=0)\n",
    "all_labels =np.concatenate([train_labels, test_labels], axis=0)\n",
    "all_images = np.expand_dims(all_images, axis=-1)\n",
    "\n",
    "# resize the input shape , i.e. old shape: 28, new shape: 32\n",
    "image_x_size = 32\n",
    "image_y_size = 32\n",
    "all_images = tf.image.resize(all_images, [image_x_size, image_y_size]) "
   ]
  },
  {
   "cell_type": "code",
   "execution_count": 4,
   "id": "9c7d65de-1fe1-41f2-bfcb-41467826fb3a",
   "metadata": {},
   "outputs": [],
   "source": [
    "model_type = \"mnist32-cnn_1024_256_64\"\n",
    "model_seed = model_seeds[0]"
   ]
  },
  {
   "cell_type": "code",
   "execution_count": 5,
   "id": "247211ec-d4f8-431a-b188-7b04effb6088",
   "metadata": {},
   "outputs": [],
   "source": [
    "# Get model\n",
    "model_instance = model_type + \"-\" + str(model_seed)\n",
    "dataset, model_arch, model_config, layer_widths, seed = utils.instancename2metadata(model_instance)\n",
    "model_meta_type, model_type, model_instance = utils.metadata2instancenames(dataset, model_arch, layer_widths, seed)\n",
    "\n",
    "model_folder = pathlib.Path(PROJ_ROOT_PATH / \"models\" / model_meta_type / model_type)\n",
    "model_filename = model_instance + \".h5\"\n",
    "model_file = pathlib.Path(model_folder/ model_filename)"
   ]
  },
  {
   "cell_type": "code",
   "execution_count": 6,
   "id": "2e37ce52-7822-4ea3-8241-57ae2bd3f74a",
   "metadata": {},
   "outputs": [],
   "source": [
    "no_im = 32 # no of images per batch\n",
    "b_images = all_images[0:no_im]\n",
    "b_labels = all_labels[0:no_im]\n",
    "# image = tf.expand_dims(all_images[0],axis=0)"
   ]
  },
  {
   "cell_type": "code",
   "execution_count": 7,
   "id": "0ebccfdc-2d17-4d11-b755-4d7665ae4b1f",
   "metadata": {},
   "outputs": [
    {
     "name": "stdout",
     "output_type": "stream",
     "text": [
      "Model: \"sequential\"\n",
      "_________________________________________________________________\n",
      " Layer (type)                Output Shape              Param #   \n",
      "=================================================================\n",
      " conv2d (Conv2D)             (None, 29, 29, 32)        544       \n",
      "                                                                 \n",
      " max_pooling2d (MaxPooling2D  (None, 14, 14, 32)       0         \n",
      " )                                                               \n",
      "                                                                 \n",
      " flatten (Flatten)           (None, 6272)              0         \n",
      "                                                                 \n",
      " fc_0 (Dense)                (None, 1024)              6423552   \n",
      "                                                                 \n",
      " fc_1 (Dense)                (None, 256)               262400    \n",
      "                                                                 \n",
      " fc_2 (Dense)                (None, 64)                16448     \n",
      "                                                                 \n",
      " op_layer (Dense)            (None, 10)                650       \n",
      "                                                                 \n",
      "=================================================================\n",
      "Total params: 6,703,594\n",
      "Trainable params: 6,703,594\n",
      "Non-trainable params: 0\n",
      "_________________________________________________________________\n"
     ]
    }
   ],
   "source": [
    "# Load model\n",
    "model = tf.keras.models.load_model(model_file)\n",
    "model.summary()"
   ]
  },
  {
   "cell_type": "code",
   "execution_count": 8,
   "id": "6c1f2f93-0630-4d01-a5f6-268bc1516ffd",
   "metadata": {},
   "outputs": [
    {
     "name": "stdout",
     "output_type": "stream",
     "text": [
      "0.988671875 0.0\n",
      "78.90199831593782\n"
     ]
    }
   ],
   "source": [
    "# testing eval_lenet_3hidden_ERRexpbitflips()\n",
    "from libs.fitnessfns import eval_lenet_3hidden_ERRexpbitflips\n",
    "\n",
    "test_set=(all_images[-12_800:], all_labels[-12_800:])\n",
    "\n",
    "error_profile = np.zeros((20_000,32), dtype=\"float32\")\n",
    "error_profile_c0=error_profile\n",
    "error_profile_h0=error_profile\n",
    "error_profile_h1=error_profile\n",
    "error_profile_h2=error_profile\n",
    "error_profile_op=error_profile\n",
    "\n",
    "ERR_PARAM = -1\n",
    "\n",
    "clayer0_shuffle_order = np.arange(32)\n",
    "hlayer0_shuffle_order = np.arange(1024)\n",
    "hlayer1_shuffle_order = np.arange(256)\n",
    "hlayer2_shuffle_order = np.arange(64)\n",
    "oplayer_shuffle_order = np.arange(10)\n",
    "np.random.shuffle(clayer0_shuffle_order)\n",
    "np.random.shuffle(hlayer0_shuffle_order)\n",
    "np.random.shuffle(hlayer1_shuffle_order)\n",
    "np.random.shuffle(hlayer2_shuffle_order)\n",
    "np.random.shuffle(oplayer_shuffle_order)\n",
    "\n",
    "start = timer()\n",
    "acc, std = eval_lenet_3hidden_ERRexpbitflips(model,\n",
    "                                    error_profile_c0,\n",
    "                                    error_profile_h0,\n",
    "                                    error_profile_h1,\n",
    "                                    error_profile_h2,\n",
    "                                    error_profile_op,\n",
    "                                    ERR_PARAM,\n",
    "                                    clayer0_shuffle_order,\n",
    "                                    hlayer0_shuffle_order,\n",
    "                                    hlayer1_shuffle_order,\n",
    "                                    hlayer2_shuffle_order,\n",
    "                                    oplayer_shuffle_order,\n",
    "                                    test_set)\n",
    "end = timer()\n",
    "print(acc, std)\n",
    "print(end - start) # Time in seconds,"
   ]
  },
  {
   "cell_type": "code",
   "execution_count": 9,
   "id": "75fc6356-e1de-4cae-a451-f8d362520b3b",
   "metadata": {},
   "outputs": [],
   "source": [
    "from libs.fitnessfns import batch_lenet_3hidden_ERRexpbitflips"
   ]
  },
  {
   "cell_type": "code",
   "execution_count": 10,
   "id": "891eab0a-2e4e-4759-b98e-f57ca91cb2de",
   "metadata": {},
   "outputs": [],
   "source": [
    "misses = batch_lenet_3hidden_ERRexpbitflips( b_images,\n",
    "                                    b_labels,\n",
    "                                    model,\n",
    "                                    error_profile_c0=None,\n",
    "                                    error_profile_h0=None,\n",
    "                                    error_profile_h1=None,\n",
    "                                    error_profile_h2=None,\n",
    "                                    error_profile_op=None,\n",
    "                                    ERR_PARAM_TF=None,\n",
    "                                    clayer0_shuffle_order=None,\n",
    "                                    hlayer0_shuffle_order=None,\n",
    "                                    hlayer1_shuffle_order=None,\n",
    "                                    hlayer2_shuffle_order=None,\n",
    "                                    oplayer_shuffle_order=None)"
   ]
  },
  {
   "cell_type": "code",
   "execution_count": 11,
   "id": "c0c38faf-d5f0-476a-9611-539f38cdb13a",
   "metadata": {},
   "outputs": [
    {
     "data": {
      "text/plain": [
       "<tf.Tensor: shape=(), dtype=int64, numpy=0>"
      ]
     },
     "execution_count": 11,
     "metadata": {},
     "output_type": "execute_result"
    }
   ],
   "source": [
    "misses"
   ]
  },
  {
   "cell_type": "code",
   "execution_count": 12,
   "id": "047c1e96-adda-4dd6-b53f-874d7835512d",
   "metadata": {},
   "outputs": [],
   "source": [
    "dummy_error_profile = np.zeros((20_000,32), dtype=\"float32\")\n",
    "clayer0_shuffle_order = np.arange(32)\n",
    "hlayer0_shuffle_order = np.arange(1024)\n",
    "hlayer1_shuffle_order = np.arange(256)\n",
    "hlayer2_shuffle_order = np.arange(64)\n",
    "oplayer_shuffle_order = np.arange(10)\n",
    "\n",
    "np.random.shuffle(clayer0_shuffle_order)\n",
    "np.random.shuffle(hlayer0_shuffle_order)\n",
    "np.random.shuffle(hlayer1_shuffle_order)\n",
    "np.random.shuffle(hlayer2_shuffle_order)\n",
    "np.random.shuffle(oplayer_shuffle_order)"
   ]
  },
  {
   "cell_type": "code",
   "execution_count": 13,
   "id": "eff0dc58-3107-4e83-8606-5d57ff5bfa72",
   "metadata": {},
   "outputs": [],
   "source": [
    "misses = batch_lenet_3hidden_ERRexpbitflips( b_images,\n",
    "                                            b_labels,\n",
    "                                            model,\n",
    "                                            error_profile_c0=dummy_error_profile,\n",
    "                                            error_profile_h0=dummy_error_profile,\n",
    "                                            error_profile_h1=dummy_error_profile,\n",
    "                                            error_profile_h2=dummy_error_profile,\n",
    "                                            error_profile_op=dummy_error_profile,\n",
    "                                            ERR_PARAM_TF=None,\n",
    "                                            clayer0_shuffle_order=clayer0_shuffle_order,\n",
    "                                            hlayer0_shuffle_order=hlayer0_shuffle_order,\n",
    "                                            hlayer1_shuffle_order=hlayer1_shuffle_order,\n",
    "                                            hlayer2_shuffle_order=hlayer2_shuffle_order,\n",
    "                                            oplayer_shuffle_order=oplayer_shuffle_order\n",
    "                                                   )"
   ]
  },
  {
   "cell_type": "code",
   "execution_count": null,
   "id": "8997e2e4-6844-47ee-b890-733a19b67fbe",
   "metadata": {},
   "outputs": [],
   "source": []
  },
  {
   "cell_type": "code",
   "execution_count": 14,
   "id": "0c0850f1-ddcf-4b05-be65-53c5e226f952",
   "metadata": {},
   "outputs": [],
   "source": [
    "from libs.fitnessfns import ff_lenet_3hidden_ERRexpbitflips"
   ]
  },
  {
   "cell_type": "code",
   "execution_count": 15,
   "id": "c45e4d05-c88e-42a7-b405-d15f9fcf181d",
   "metadata": {},
   "outputs": [
    {
     "name": "stdout",
     "output_type": "stream",
     "text": [
      "9.216680911020376\n",
      "8.610304805915803\n",
      "8.563868982950225\n"
     ]
    }
   ],
   "source": [
    "for _ in range(3):\n",
    "    start = timer()\n",
    "    accuracy = ff_lenet_3hidden_ERRexpbitflips(model,\n",
    "                                                error_profile_c0=None,\n",
    "                                                error_profile_h0=None,\n",
    "                                                error_profile_h1=None,\n",
    "                                                error_profile_h2=None,\n",
    "                                                error_profile_op=None,\n",
    "                                                ERR_PARAM=None,\n",
    "                                                clayer0_shuffle_order=None,\n",
    "                                                hlayer0_shuffle_order=None,\n",
    "                                                hlayer1_shuffle_order=None,\n",
    "                                                hlayer2_shuffle_order=None,\n",
    "                                                oplayer_shuffle_order=None,\n",
    "                                                test_set=(all_images, all_labels),\n",
    "                                                batchsize=32)\n",
    "    end = timer()\n",
    "    print(end - start) # Time in seconds,"
   ]
  },
  {
   "cell_type": "code",
   "execution_count": 16,
   "id": "b9e16cd4-c9ab-4230-8aa7-632a02cda98c",
   "metadata": {},
   "outputs": [
    {
     "name": "stdout",
     "output_type": "stream",
     "text": [
      "31.235289613017812\n",
      "31.6037778200116\n",
      "35.444915356929414\n"
     ]
    }
   ],
   "source": [
    "for _ in range(3):\n",
    "    start = timer()\n",
    "    accuracy = ff_lenet_3hidden_ERRexpbitflips(model,\n",
    "                                                error_profile_c0=dummy_error_profile,\n",
    "                                                error_profile_h0=dummy_error_profile,\n",
    "                                                error_profile_h1=dummy_error_profile,\n",
    "                                                error_profile_h2=dummy_error_profile,\n",
    "                                                error_profile_op=dummy_error_profile,\n",
    "                                                ERR_PARAM=None,\n",
    "                                                clayer0_shuffle_order=clayer0_shuffle_order,\n",
    "                                                hlayer0_shuffle_order=hlayer0_shuffle_order,\n",
    "                                                hlayer1_shuffle_order=hlayer1_shuffle_order,\n",
    "                                                hlayer2_shuffle_order=hlayer2_shuffle_order,\n",
    "                                                oplayer_shuffle_order=oplayer_shuffle_order,\n",
    "                                                test_set=(all_images, all_labels),\n",
    "                                                batchsize=32)\n",
    "    end = timer()\n",
    "    print(end - start) # Time in seconds,"
   ]
  },
  {
   "cell_type": "code",
   "execution_count": 17,
   "id": "e80ea08c-fbdb-4db4-98a7-195ba138a4ad",
   "metadata": {},
   "outputs": [
    {
     "name": "stdout",
     "output_type": "stream",
     "text": [
      "7.923269277904183\n",
      "6.966424154932611\n",
      "7.066161458031274\n"
     ]
    }
   ],
   "source": [
    "from libs.mnist32_cnn import test_mnist32\n",
    "for _ in range(3):\n",
    "    start = timer()\n",
    "    acc2, _ = test_mnist32(model_file)\n",
    "    end = timer()\n",
    "    print(end - start) # Time in seconds,"
   ]
  },
  {
   "cell_type": "code",
   "execution_count": null,
   "id": "63c4af8d-1d3f-4025-9041-f2c093a3b08e",
   "metadata": {},
   "outputs": [],
   "source": []
  }
 ],
 "metadata": {
  "kernelspec": {
   "display_name": "Python 3",
   "language": "python",
   "name": "python3"
  },
  "language_info": {
   "codemirror_mode": {
    "name": "ipython",
    "version": 3
   },
   "file_extension": ".py",
   "mimetype": "text/x-python",
   "name": "python",
   "nbconvert_exporter": "python",
   "pygments_lexer": "ipython3",
   "version": "3.8.10"
  }
 },
 "nbformat": 4,
 "nbformat_minor": 5
}
