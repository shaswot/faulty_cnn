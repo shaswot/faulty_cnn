{
 "cells": [
  {
   "cell_type": "code",
   "execution_count": 1,
   "id": "0d98f855-e9b0-4efe-9557-c2a8cf072388",
   "metadata": {},
   "outputs": [],
   "source": [
    "%matplotlib inline"
   ]
  },
  {
   "cell_type": "code",
   "execution_count": 2,
   "id": "c92de3f5-c016-4fef-95f0-d2ddad292794",
   "metadata": {},
   "outputs": [],
   "source": [
    "import os\n",
    "import sys\n",
    "import git\n",
    "import pathlib\n",
    "\n",
    "import numpy as np\n",
    "import tensorflow as tf\n",
    "from tensorflow.keras.datasets import mnist\n",
    "\n",
    "PROJ_ROOT_PATH = pathlib.Path(git.Repo('.', search_parent_directories=True).working_tree_dir)\n",
    "PROJ_ROOT =  str(PROJ_ROOT_PATH)\n",
    "if PROJ_ROOT not in sys.path:\n",
    "    sys.path.append(PROJ_ROOT)\n",
    "\n",
    "from libs.constants import error_seeds"
   ]
  },
  {
   "cell_type": "code",
   "execution_count": 3,
   "id": "3918f338-a7e1-42e8-965d-b8d76e8691d7",
   "metadata": {},
   "outputs": [],
   "source": [
    "import matplotlib.pyplot as plt\n",
    "np.random.seed(28347)"
   ]
  },
  {
   "cell_type": "code",
   "execution_count": 4,
   "id": "6fb4dd18-5452-4f36-baf0-602b2323a41a",
   "metadata": {},
   "outputs": [],
   "source": [
    "# Vizualize ERROR_PROFILE\n",
    "ERR_PROF_TAG = \"LIM_100\"\n",
    "error_seed = error_seeds[0]\n",
    "error_profile_tag = ERR_PROF_TAG+\"-\"+str(error_seed)"
   ]
  },
  {
   "cell_type": "code",
   "execution_count": 5,
   "id": "1c3121c9-1e97-4b58-bee7-402eece59a13",
   "metadata": {},
   "outputs": [],
   "source": [
    "# Load error profile\n",
    "error_profile_folder = pathlib.Path(PROJ_ROOT_PATH / \"error_profiles\")\n",
    "error_profile_filename = error_profile_tag + \".npy\"\n",
    "error_profile_file = pathlib.Path(error_profile_folder/ error_profile_filename)"
   ]
  },
  {
   "cell_type": "code",
   "execution_count": 6,
   "id": "f8a881c7-ce7f-4bff-885a-f7f59efaab0a",
   "metadata": {},
   "outputs": [],
   "source": [
    "error_profile = np.load(error_profile_file)\n",
    "error_instance = np.random.binomial(1,error_profile)\n"
   ]
  },
  {
   "cell_type": "code",
   "execution_count": 7,
   "id": "a1cfba09-5e73-45a2-9742-3121310bab64",
   "metadata": {},
   "outputs": [
    {
     "data": {
      "image/png": "[encoded data removed]",
      "text/plain": [
       "<Figure size 562.5x347.651 with 4 Axes>"
      ]
     },
     "metadata": {
      "needs_background": "light"
     },
     "output_type": "display_data"
    }
   ],
   "source": [
    "fig_width = 3.125/0.8 *2\n",
    "fig_height = fig_width / 1.618 \n",
    "n_rows = 2\n",
    "n_cols = 1\n",
    "fig, axs = plt.subplots(nrows=n_rows,\n",
    "                        ncols=n_cols,\n",
    "                        figsize=[fig_width,fig_height], # in inches\n",
    "                        sharex=True,\n",
    "                        sharey=True,\n",
    "                        constrained_layout=False, \n",
    "                        # tight_layout=True\n",
    "                       )\n",
    "# plt.subplots_adjust(left=0.1, bottom=None, right=None, top=None, wspace=0.05, hspace=0.1)\n",
    "\n",
    "err_prof = axs[0].imshow(error_profile[:20], \n",
    "           cmap='hot_r', \n",
    "           interpolation='nearest',\n",
    "           aspect='auto')\n",
    "axs[0].set_yticks(np.linspace(0,20,5))\n",
    "plt.colorbar(err_prof, \n",
    "             ax=axs[0],\n",
    "             # orientation='horizontal', \n",
    "             ticks = np.linspace(0,10,5)*0.01,\n",
    "            )\n",
    "axs[0].set_title(\"GPU Fault Profile (Max Fault Rate = 100E-3)\")\n",
    "axs[0].text(1.02, 0.5, \n",
    "           \"Fault Rate\",\n",
    "            rotation=90,\n",
    "           verticalalignment='center', \n",
    "           transform=axs[0].transAxes)\n",
    "\n",
    "cmap_discrete = plt.get_cmap('gray_r', 2)\n",
    "err_inst = axs[1].imshow(error_instance[:20], \n",
    "           cmap=cmap_discrete, \n",
    "           interpolation='nearest',\n",
    "           aspect='auto')\n",
    "axs[1].set_title(\"Error Instance\")\n",
    "\n",
    "err_inst_cbar = plt.colorbar(err_inst, \n",
    "             ax=axs[1],\n",
    "             # orientation='horizontal', \n",
    "             ticks = [0.25,0.75],\n",
    "            )\n",
    "err_inst_cbar.set_ticklabels([\"Not Faulty\",\"Faulty\"],rotation=90, va=\"center\")\n",
    "\n",
    "fig.supylabel(\"SM #\")\n",
    "fig.supxlabel(\"CUDA Core\")\n",
    "fig.tight_layout()"
   ]
  },
  {
   "cell_type": "code",
   "execution_count": 8,
   "id": "055956f2-c305-4a4c-96a9-33ad1b1e8f27",
   "metadata": {},
   "outputs": [
    {
     "name": "stdout",
     "output_type": "stream",
     "text": [
      "/repos/faulty_cnn/figures/error_profile\n"
     ]
    }
   ],
   "source": [
    "# Get notebook path\n",
    "import ipynbname\n",
    "nb_path = str(ipynbname.path())\n",
    "fig_filename_tag = \"error_profile\"\n",
    "fig_folder = pathlib.Path(PROJ_ROOT_PATH / \"figures\")\n",
    "pathlib.Path(fig_folder).mkdir(parents=True, exist_ok=True)\n",
    "fig_filename = pathlib.Path(fig_folder/ fig_filename_tag)\n",
    "print(fig_filename)\n",
    "fig.savefig(fig_filename,\n",
    "    # pathlib.Path(fig_filename).with_suffix(\".png\"), \n",
    "            dpi=300, \n",
    "            bbox_inches='tight', \n",
    "            transparent=True, \n",
    "            metadata={\"genfilepath\": nb_path})"
   ]
  },
  {
   "cell_type": "code",
   "execution_count": null,
   "id": "87598c6f-eb9d-4742-8611-4d8c1fc3b814",
   "metadata": {},
   "outputs": [],
   "source": []
  }
 ],
 "metadata": {
  "kernelspec": {
   "display_name": "Python 3",
   "language": "python",
   "name": "python3"
  },
  "language_info": {
   "codemirror_mode": {
    "name": "ipython",
    "version": 3
   },
   "file_extension": ".py",
   "mimetype": "text/x-python",
   "name": "python",
   "nbconvert_exporter": "python",
   "pygments_lexer": "ipython3",
   "version": "3.8.10"
  }
 },
 "nbformat": 4,
 "nbformat_minor": 5
}
