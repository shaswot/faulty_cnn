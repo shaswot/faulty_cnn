{
 "cells": [
  {
   "cell_type": "code",
   "execution_count": 1,
   "id": "3e53e273-064d-4be7-bb8c-1990b9e72953",
   "metadata": {
    "tags": []
   },
   "outputs": [],
   "source": [
    "%matplotlib inline\n",
    "# https://stackoverflow.com/questions/16150819/common-xlabel-ylabel-for-matplotlib-subplots"
   ]
  },
  {
   "cell_type": "code",
   "execution_count": 2,
   "id": "fb3da059-a285-4e50-b4ad-a32c8c8dafee",
   "metadata": {},
   "outputs": [],
   "source": [
    "import numpy as np\n",
    "import pandas as pd\n",
    "import matplotlib\n",
    "import matplotlib.pyplot as plt"
   ]
  },
  {
   "cell_type": "code",
   "execution_count": 3,
   "id": "9185b164-8f77-4f40-9dae-8603bcfb0386",
   "metadata": {},
   "outputs": [],
   "source": [
    "import os\n",
    "import sys\n",
    "import git\n",
    "import pathlib\n",
    "\n",
    "PROJ_ROOT_PATH = pathlib.Path(git.Repo('.', search_parent_directories=True).working_tree_dir)\n",
    "PROJ_ROOT =  str(PROJ_ROOT_PATH)\n",
    "if PROJ_ROOT not in sys.path:\n",
    "    sys.path.append(PROJ_ROOT)\n",
    "    \n",
    "from libs.constants import model_seeds, error_seeds"
   ]
  },
  {
   "cell_type": "code",
   "execution_count": 4,
   "id": "355931d2-cd8e-42d8-b1eb-6f7d56cf237f",
   "metadata": {},
   "outputs": [],
   "source": [
    "model_arch = \"mnist32-cnn_1024_256_64\""
   ]
  },
  {
   "cell_type": "code",
   "execution_count": 5,
   "id": "0465cae4-e477-4eec-b5e8-ed58d13de971",
   "metadata": {},
   "outputs": [],
   "source": [
    "# Load dictionary\n",
    "model_tag = \"fault_injection_analysis_results-mnist32_cnn\" \n",
    "error_tag = \"lowERR--ERR1_ERR-1\"\n",
    "# results_tag = 'fault_injection_analysis_results-all_model_seeds--lowerror--' + model_arch"
   ]
  },
  {
   "cell_type": "code",
   "execution_count": 6,
   "id": "d45f9321-2423-4ccd-b9d9-440a84100d06",
   "metadata": {},
   "outputs": [],
   "source": [
    "# ERR_TYPE_LIST = [2,3]\n",
    "# MAX_FAULT_PROB_LIST = [100E-3, 200E-3, 500E-3, 999E-3]\n",
    "# # Load dictionary\n",
    "# results_tag = 'fault_injection_analysis_results-all_model_seeds--higherror--' + model_arch"
   ]
  },
  {
   "cell_type": "code",
   "execution_count": 7,
   "id": "b8c05e01-f60e-4f5b-844a-027a1823709d",
   "metadata": {},
   "outputs": [],
   "source": [
    "results_folder = pathlib.Path(PROJ_ROOT_PATH / \"notebooks\"/ model_tag)\n",
    "results_filename = model_tag + \"--\" + error_tag + '.npy'\n",
    "results_file = pathlib.Path(results_folder / results_filename )\n",
    "result_dict = np.load(str(results_file), allow_pickle='TRUE').item()"
   ]
  },
  {
   "cell_type": "code",
   "execution_count": 8,
   "id": "873eecc2-d189-4b88-b0e1-604d0fdbb391",
   "metadata": {},
   "outputs": [],
   "source": [
    "MAX_FAULT_PROB_LIST = [1E-3, 2E-3, 5E-3] \n",
    "ERR_LIM_list = [\"LIM_\" + f\"{int(MAX_FAULT_PROB*1E3):02d}\" for MAX_FAULT_PROB in MAX_FAULT_PROB_LIST]\n",
    "ERR_PARAM_list = [1,-1]\n",
    "error_layer_list = [\"c0\", \"h0\", \"h1\", \"h2\", \"op\", \"all\"]\n"
   ]
  },
  {
   "cell_type": "code",
   "execution_count": 9,
   "id": "93bebc84-4920-4c97-8e71-730c8f4d39ee",
   "metadata": {},
   "outputs": [],
   "source": [
    "# ERR_LIM = ERR_LIM_list[0]\n",
    "# ERR_PARAM = ERR_PARAM_list[0]\n",
    "# error_layer = error_layer_list[0]"
   ]
  },
  {
   "cell_type": "code",
   "execution_count": 10,
   "id": "1fd2f702-cb22-4153-8f34-0df0e07f628e",
   "metadata": {},
   "outputs": [],
   "source": [
    "fig_values = {}\n",
    "for ERR_LIM in ERR_LIM_list:\n",
    "    fig_values[ERR_LIM]={}\n",
    "    for ERR_PARAM in ERR_PARAM_list:\n",
    "        fig_values[ERR_LIM][ERR_PARAM]={}\n",
    "        for error_layer in error_layer_list:\n",
    "            fig_values[ERR_LIM][ERR_PARAM][error_layer]={\"avg\":None, \"std\":None}\n",
    "            # calculate mean/std for one layer\n",
    "            dummy = []\n",
    "            for model_seed in model_seeds:\n",
    "                for error_seed in error_seeds:\n",
    "                    error_instance = ERR_LIM + \"-\"+ str(error_seed)\n",
    "                    c0_drop = result_dict[model_seed]['original_acc'] - result_dict[model_seed][error_instance][ERR_PARAM][error_layer]\n",
    "                    dummy.append(c0_drop)\n",
    "            fig_values[ERR_LIM][ERR_PARAM][error_layer][\"avg\"] = np.mean(dummy)\n",
    "            fig_values[ERR_LIM][ERR_PARAM][error_layer][\"std\"] = np.std(dummy)"
   ]
  },
  {
   "cell_type": "code",
   "execution_count": 11,
   "id": "1af40cc5-f9f3-4d2c-b178-382537071b66",
   "metadata": {
    "tags": []
   },
   "outputs": [
    {
     "data": {
      "text/plain": [
       "Text(0.5, 0.98, 'mnist32-cnn_1024_256_64')"
      ]
     },
     "execution_count": 11,
     "metadata": {},
     "output_type": "execute_result"
    },
    {
     "data": {
      "image/png": "[encoded data removed]",
      "text/plain": [
       "<Figure size 562.5x225.973 with 3 Axes>"
      ]
     },
     "metadata": {
      "needs_background": "light"
     },
     "output_type": "display_data"
    }
   ],
   "source": [
    "# Plot figure\n",
    "fig_width = 3.125/0.8 *2\n",
    "fig_height = fig_width / 1.618 *0.65\n",
    "n_rows = 1\n",
    "n_cols = len(ERR_LIM_list)\n",
    "fig, axs = plt.subplots(nrows=n_rows,\n",
    "                        ncols=n_cols,\n",
    "                        figsize=[fig_width,fig_height], # in inches\n",
    "                        sharex=True,\n",
    "                        sharey=True,\n",
    "                        constrained_layout=False, \n",
    "                        # tight_layout=True\n",
    "                       )\n",
    "plt.subplots_adjust(left=0.1, bottom=None, right=None, top=None, wspace=0.05, hspace=0.1)\n",
    "\n",
    "for col_idx, ERR_LIM in enumerate(ERR_LIM_list):\n",
    "    ax = axs[col_idx]\n",
    "    text = \"MAX FAULT PROB: \" + f\"{int(MAX_FAULT_PROB_LIST[col_idx]*1E3):01d}\" +\"E-3\"\n",
    "    ax.text(0.05, 0.95, \n",
    "           text, \n",
    "           horizontalalignment='left', \n",
    "           verticalalignment='center', \n",
    "           transform=ax.transAxes)\n",
    "    yticks = np.arange(6)*0.1\n",
    "    ax.set_yticks(yticks,\n",
    "                 labels = [f\"{int(tick*1E2):01d}\" for tick in yticks]) \n",
    "    \n",
    "    xticks = np.arange(len(ERR_PARAM_list)) +0.4\n",
    "    ax.set_xticks(xticks,\n",
    "                 labels = [\"Flip-to-1\", \"Bitflip\"],\n",
    "                  rotation=0) \n",
    "\n",
    "    for idx, layer in enumerate(error_layer_list):\n",
    "        layers_avgs = [fig_values[ERR_LIM][ERR_PARAM][layer][\"avg\"] for ERR_PARAM in ERR_PARAM_list]\n",
    "        layers_stds = [fig_values[ERR_LIM][ERR_PARAM][layer][\"std\"] for ERR_PARAM in ERR_PARAM_list]\n",
    "\n",
    "        x_roots = np.arange(len(ERR_PARAM_list))  # the label locations\n",
    "        width = 0.8 # width of stacked bar\n",
    "        bar_width = width/len(error_layer_list)\n",
    "        x_offsets = idx * bar_width\n",
    "        x_poss = x_roots + x_offsets\n",
    "        rects1 = ax.bar(x_poss, \n",
    "                        layers_avgs,\n",
    "                        yerr=layers_stds,\n",
    "                        label=layer, \n",
    "                        width=bar_width,\n",
    "                       error_kw=dict(ecolor='black', lw=1, capsize=5, capthick=1, alpha=0.7))\n",
    "axs[0].legend(loc=\"lower left\",\n",
    "                ncol=2,\n",
    "                bbox_to_anchor=(0,0.5, 1, 1))\n",
    "\n",
    "# fig.supxlabel('Error Type');\n",
    "fig.supylabel('Accuracy Drop (%)');\n",
    "fig.suptitle(model_arch)"
   ]
  },
  {
   "cell_type": "code",
   "execution_count": 12,
   "id": "e5244be0-dbc1-4684-a175-594b8db19f8c",
   "metadata": {
    "tags": []
   },
   "outputs": [
    {
     "name": "stdout",
     "output_type": "stream",
     "text": [
      "/repos/faulty_cnn/figures/fault_injection_analysis_results-mnist32_cnn--lowERR--ERR1_ERR-1\n"
     ]
    }
   ],
   "source": [
    "# Get notebook path\n",
    "import ipynbname\n",
    "nb_path = str(ipynbname.path())\n",
    "fig_filename_tag = model_tag + \"--\" + error_tag\n",
    "fig_folder = pathlib.Path(PROJ_ROOT_PATH / \"figures\")\n",
    "pathlib.Path(fig_folder).mkdir(parents=True, exist_ok=True)\n",
    "fig_filename = pathlib.Path(fig_folder/ fig_filename_tag)\n",
    "print(fig_filename)\n",
    "fig.savefig(fig_filename,\n",
    "    # pathlib.Path(fig_filename).with_suffix(\".png\"), \n",
    "            dpi=300, \n",
    "            bbox_inches='tight', \n",
    "            transparent=True, \n",
    "            metadata={\"genfilepath\": nb_path})"
   ]
  }
 ],
 "metadata": {
  "kernelspec": {
   "display_name": "Python 3",
   "language": "python",
   "name": "python3"
  },
  "language_info": {
   "codemirror_mode": {
    "name": "ipython",
    "version": 3
   },
   "file_extension": ".py",
   "mimetype": "text/x-python",
   "name": "python",
   "nbconvert_exporter": "python",
   "pygments_lexer": "ipython3",
   "version": "3.8.10"
  }
 },
 "nbformat": 4,
 "nbformat_minor": 5
}
