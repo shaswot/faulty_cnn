{
 "cells": [
  {
   "cell_type": "code",
   "execution_count": 1,
   "id": "3e53e273-064d-4be7-bb8c-1990b9e72953",
   "metadata": {},
   "outputs": [],
   "source": [
    "%matplotlib inline\n",
    "# https://stackoverflow.com/questions/16150819/common-xlabel-ylabel-for-matplotlib-subplots"
   ]
  },
  {
   "cell_type": "code",
   "execution_count": 2,
   "id": "fb3da059-a285-4e50-b4ad-a32c8c8dafee",
   "metadata": {},
   "outputs": [],
   "source": [
    "import numpy as np\n",
    "import pandas as pd\n",
    "import matplotlib.pyplot as plt"
   ]
  },
  {
   "cell_type": "code",
   "execution_count": 3,
   "id": "9185b164-8f77-4f40-9dae-8603bcfb0386",
   "metadata": {},
   "outputs": [],
   "source": [
    "import os\n",
    "import sys\n",
    "import git\n",
    "import pathlib\n",
    "\n",
    "PROJ_ROOT_PATH = pathlib.Path(git.Repo('.', search_parent_directories=True).working_tree_dir)\n",
    "PROJ_ROOT =  str(PROJ_ROOT_PATH)\n",
    "if PROJ_ROOT not in sys.path:\n",
    "    sys.path.append(PROJ_ROOT)\n",
    "    \n",
    "from libs.constants import model_seeds, error_seeds"
   ]
  },
  {
   "cell_type": "code",
   "execution_count": 4,
   "id": "355931d2-cd8e-42d8-b1eb-6f7d56cf237f",
   "metadata": {},
   "outputs": [
    {
     "name": "stdout",
     "output_type": "stream",
     "text": [
      "mnist32-cnn_1024_256_64--1023\n"
     ]
    }
   ],
   "source": [
    "model_arch = \"mnist32-cnn_1024_256_64\"\n",
    "model_seed = model_seeds[0]\n",
    "model_instance = model_arch+\"--\"+str(model_seed)\n",
    "print(model_instance)"
   ]
  },
  {
   "cell_type": "code",
   "execution_count": 5,
   "id": "2c48d404-cfba-460d-a568-e63760325c90",
   "metadata": {},
   "outputs": [],
   "source": [
    "error_seed = error_seeds[0]"
   ]
  },
  {
   "cell_type": "code",
   "execution_count": 6,
   "id": "0465cae4-e477-4eec-b5e8-ed58d13de971",
   "metadata": {},
   "outputs": [],
   "source": [
    "ERR_TYPE_LIST = [1,-1]\n",
    "MAX_FAULT_PROB_LIST = [1E-3, 2E-3, 5E-3, \n",
    "                       10E-3, 20E-3, 50E-3]\n",
    "# Load dictionary\n",
    "results_tag = 'fault_injection_analysis_results-all_model_seeds--lowerror--' + model_arch"
   ]
  },
  {
   "cell_type": "code",
   "execution_count": 7,
   "id": "d45f9321-2423-4ccd-b9d9-440a84100d06",
   "metadata": {},
   "outputs": [],
   "source": [
    "# ERR_TYPE_LIST = [2,3]\n",
    "# MAX_FAULT_PROB_LIST = [100E-3, 200E-3, 500E-3, 999E-3]\n",
    "# # Load dictionary\n",
    "# results_tag = 'fault_injection_analysis_results-all_model_seeds--higherror--' + model_arch"
   ]
  },
  {
   "cell_type": "code",
   "execution_count": 8,
   "id": "b8c05e01-f60e-4f5b-844a-027a1823709d",
   "metadata": {},
   "outputs": [],
   "source": [
    "results_folder = pathlib.Path(PROJ_ROOT_PATH / \"notebooks\" )\n",
    "results_filename = results_tag + '.npy'\n",
    "results_file = pathlib.Path(results_folder / results_filename )\n",
    "result_dict = np.load(str(results_file), allow_pickle='TRUE').item()"
   ]
  },
  {
   "cell_type": "code",
   "execution_count": 9,
   "id": "32c8c713-4e4f-400b-ba8b-cdc11371f464",
   "metadata": {},
   "outputs": [],
   "source": [
    "original_acc = result_dict[model_seed]['original_acc']"
   ]
  },
  {
   "cell_type": "code",
   "execution_count": 21,
   "id": "a6c40bf4-7bd9-41d9-b140-c8c88e653200",
   "metadata": {},
   "outputs": [
    {
     "data": {
      "text/plain": [
       "Text(0.5, 0.98, 'mnist32-cnn_1024_256_64--1023')"
      ]
     },
     "execution_count": 21,
     "metadata": {},
     "output_type": "execute_result"
    },
    {
     "data": {
      "image/png": "[encoded data removed]",
      "text/plain": [
       "<Figure size 562.5x347.651 with 6 Axes>"
      ]
     },
     "metadata": {
      "needs_background": "light"
     },
     "output_type": "display_data"
    }
   ],
   "source": [
    "# Plot figure\n",
    "fig_width = 3.125/0.8 * 2\n",
    "fig_height = fig_width / 1.618\n",
    "n_rows = 2\n",
    "n_cols = 3\n",
    "fig, axs = plt.subplots(nrows=n_rows,\n",
    "                        ncols=n_cols,\n",
    "                        figsize=[fig_width,fig_height], # in inches\n",
    "                        sharex=True,\n",
    "                        sharey=True,\n",
    "                        # constrained_layout=False, \n",
    "                        # tight_layout=True\n",
    "                       )\n",
    "plt.subplots_adjust(left=0.1, bottom=None, right=None, top=None, wspace=0.05, hspace=0.1)\n",
    "\n",
    "for idx, MAX_FAULT_PROB in enumerate(MAX_FAULT_PROB_LIST):\n",
    "    error_profile_tag = \"LIM_\" + f\"{int(MAX_FAULT_PROB*1E3):02d}\" + \"-\" +str(error_seed)\n",
    "    \n",
    "    faulty_accs = result_dict[model_seed][error_profile_tag]\n",
    "    faulty_accs_sub = dict((k,faulty_accs[k]) for k in ERR_TYPE_LIST if k in faulty_accs)\n",
    "    df = pd.DataFrame(faulty_accs_sub)\n",
    "    df_inv = df.applymap(lambda value: original_acc-value).transpose()\n",
    "    \n",
    "    row = idx//n_cols\n",
    "    col = idx%n_cols\n",
    "    \n",
    "    df_inv.plot(kind=\"bar\", ax=axs[row][col] )\n",
    "    if row!=0 or col!=0:\n",
    "        axs[row][col].get_legend().remove()\n",
    "    axs[row][col].set_ylim([0.0, 1.0])\n",
    "    axs[row][col].text(0.5, 0.92, \n",
    "                       \"MAX FAULT PROB = \" +  f\"{MAX_FAULT_PROB:0.3f}\", \n",
    "                       horizontalalignment='center', \n",
    "                       verticalalignment='center', \n",
    "                       transform=axs[row][col].transAxes)\n",
    "    \n",
    "    yticks = [0.0,0.3,0.6,0.9]\n",
    "    axs[row][col].set_yticks(yticks,\n",
    "                             labels = [f\"{int(tick*1E2):01d}\" for tick in yticks]) \n",
    "    \n",
    "    xticks = [0,1]\n",
    "    axs[row][col].set_xticks(xticks,\n",
    "                             labels = [\"Stuck-at-1\", \"Bitflip\"],\n",
    "                                       rotation=0) \n",
    "\n",
    "    \n",
    "axs[0][0].legend(labels=[\"conv\", \"fc0\", \"fc1\", \"fc2\", \"output\", \"ALL\"],\n",
    "                 loc='upper center', \n",
    "                 bbox_to_anchor=(1.5, 1.15),\n",
    "                 ncol=6)\n",
    "fig.supxlabel('Error Type');\n",
    "fig.supylabel('Accuracy Drop (%)');\n",
    "fig.suptitle(model_instance)"
   ]
  },
  {
   "cell_type": "code",
   "execution_count": null,
   "id": "9d070fd8-8aa3-4f0c-8b85-33edffd9fa26",
   "metadata": {},
   "outputs": [],
   "source": []
  }
 ],
 "metadata": {
  "kernelspec": {
   "display_name": "Python 3",
   "language": "python",
   "name": "python3"
  },
  "language_info": {
   "codemirror_mode": {
    "name": "ipython",
    "version": 3
   },
   "file_extension": ".py",
   "mimetype": "text/x-python",
   "name": "python",
   "nbconvert_exporter": "python",
   "pygments_lexer": "ipython3",
   "version": "3.8.10"
  }
 },
 "nbformat": 4,
 "nbformat_minor": 5
}
