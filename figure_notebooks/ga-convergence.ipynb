{
 "cells": [
  {
   "cell_type": "code",
   "execution_count": 1,
   "id": "89d53b86-557b-443a-b10e-70ec64518eea",
   "metadata": {},
   "outputs": [],
   "source": [
    "%matplotlib inline"
   ]
  },
  {
   "cell_type": "code",
   "execution_count": 2,
   "id": "112349b3-fedb-4618-9be1-b50883a438e2",
   "metadata": {},
   "outputs": [],
   "source": [
    "import os\n",
    "import sys\n",
    "import git\n",
    "import pathlib\n",
    "\n",
    "import random\n",
    "import time\n",
    "\n",
    "\n",
    "import numpy as np\n",
    "import tensorflow as tf\n",
    "from tensorflow.keras.datasets import mnist\n",
    "\n",
    "\n",
    "PROJ_ROOT_PATH = pathlib.Path(git.Repo('.', search_parent_directories=True).working_tree_dir)\n",
    "PROJ_ROOT =  str(PROJ_ROOT_PATH)\n",
    "if PROJ_ROOT not in sys.path:\n",
    "    sys.path.append(PROJ_ROOT)\n",
    "\n",
    "from libs.constants import model_seeds, error_seeds\n",
    "from libs import utils\n",
    "from libs.fitnessfns import ff_mnist32_cnn_ERR, eval_mnist32_cnn_ERR\n",
    "from libs.ga.ga_utils import extract_best_worst_chromosomes\n",
    "\n",
    "import glob\n",
    "import matplotlib.pyplot as plt\n",
    "import ipynbname\n",
    "import pandas as pd"
   ]
  },
  {
   "cell_type": "code",
   "execution_count": 3,
   "id": "cc1b5792-d0dc-47f4-a3a0-a60720c8f3c1",
   "metadata": {},
   "outputs": [],
   "source": [
    "# set seed\n",
    "this_seed = 84376\n",
    "tf.random.set_seed(this_seed)\n",
    "np.random.seed(this_seed)\n",
    "random.seed(this_seed)\n",
    "os.environ['PYTHONHASHSEED']=str(this_seed)"
   ]
  },
  {
   "cell_type": "code",
   "execution_count": 4,
   "id": "8496292a-2ce8-4a85-a0f6-a7fc6195c91c",
   "metadata": {},
   "outputs": [],
   "source": [
    "dataset_seg_type = \"all\"\n",
    "\n",
    "# error_profile_tag = \"LIM_05-2188\""
   ]
  },
  {
   "cell_type": "code",
   "execution_count": 5,
   "id": "29e45517-af5a-4001-b0c2-2aff2477e47a",
   "metadata": {},
   "outputs": [],
   "source": [
    "\n",
    "# layer = \"c0\"\n",
    "# error_type = \"ERR_-1\""
   ]
  },
  {
   "cell_type": "code",
   "execution_count": 6,
   "id": "4fca66f8-05c9-4010-9af0-ba35898bc7ed",
   "metadata": {},
   "outputs": [],
   "source": [
    "data = {\n",
    "            \"FR = 1E-3\":{\n",
    "                            \"layer\":\"c0\", \n",
    "                            \"model_type\":\"mnist32-cnn_1024_256_64\",\n",
    "                            \"error_profile_tag\":\"LIM_01-2188\",\n",
    "                            \"error_type\":\"ERR_-1\"\n",
    "                            },\n",
    "                \"FR = 2E-3\":{\n",
    "                            \"layer\":\"c0\", \n",
    "                            \"model_type\":\"mnist32-cnn_1024_256_64\",\n",
    "                            \"error_profile_tag\":\"LIM_02-2188\",\n",
    "                            \"error_type\":\"ERR_-1\"\n",
    "                            },\n",
    "                \"FR = 5E-3\":{\n",
    "                            \"layer\":\"c0\", \n",
    "                            \"model_type\":\"mnist32-cnn_1024_256_64\",\n",
    "                            \"error_profile_tag\":\"LIM_05-2188\",\n",
    "                            \"error_type\":\"ERR_-1\"\n",
    "                            },\n",
    "#         \"Bitflip--EP1\":{\n",
    "#                             \"layer\":\"c0\", \n",
    "#                             \"model_type\":\"mnist32-cnn_1024_256_64\",\n",
    "#                             \"error_profile_tag\":\"LIM_05-2188\",\n",
    "#                             \"error_type\":\"ERR_-1\"\n",
    "#                             },\n",
    "#         \"Bitflip--EP2\":{\n",
    "#                             \"layer\":\"c0\", \n",
    "#                             \"model_type\":\"mnist32-cnn_1024_256_64\",\n",
    "#                             \"error_profile_tag\":\"LIM_05-4981\",\n",
    "#                             \"error_type\":\"ERR_-1\"\n",
    "#                             },\n",
    "    \n",
    "#         \"Flip-to-1--EP1\":{\n",
    "#                             \"layer\":\"c0\", \n",
    "#                             \"model_type\":\"mnist32-cnn_1024_256_64\",\n",
    "#                             \"error_profile_tag\":\"LIM_05-2188\",\n",
    "#                             \"error_type\":\"ERR_1\"\n",
    "#                             },\n",
    "    \n",
    "#         \"Flip-to-1--EP2\":{\n",
    "#                             \"layer\":\"c0\", \n",
    "#                             \"model_type\":\"mnist32-cnn_1024_256_64\",\n",
    "#                             \"error_profile_tag\":\"LIM_05-4981\",\n",
    "#                             \"error_type\":\"ERR_1\"\n",
    "#                             },\n",
    "    \n",
    "    \n",
    "    #     \"fashion-c0-Bitflip\":{\n",
    "    #                         \"layer\":\"c0\", \n",
    "    #                         \"model_type\":\"fashion-cnn2_1024\",\n",
    "    #                         \"error_profile_tag\":\"LIM_500-2188\",\n",
    "    #                         \"error_type\":\"ERR_-1\"\n",
    "    #                         },\n",
    "    # \"fashion-c1-Bitflip\":{\n",
    "    #                         \"layer\":\"c1\", \n",
    "    #                         \"model_type\":\"fashion-cnn2_1024\",\n",
    "    #                         \"error_profile_tag\":\"LIM_500-2188\",\n",
    "    #                         \"error_type\":\"ERR_-1\"\n",
    "                            # },\n",
    "       # \"h2-BF16\":{\"layer\":\"h2\", \n",
    "       #            \"error_profile_tag\":\"LIM_500-2188\",\n",
    "       #              \"error_type\":\"ERR_3\"},\n",
    "       # \"op-BF16\":{\"layer\":\"op\", \n",
    "       #            \"error_profile_tag\":\"LIM_500-2188\",\n",
    "       #              \"error_type\":\"ERR_3\"},\n",
    "       }"
   ]
  },
  {
   "cell_type": "code",
   "execution_count": 7,
   "id": "7b881358-4331-4d12-a386-0d1e98b600de",
   "metadata": {},
   "outputs": [],
   "source": [
    "for layer_error in list(data.keys()):\n",
    "    model_type = data[layer_error][\"model_type\"]\n",
    "    error_profile_tag = data[layer_error][\"error_profile_tag\"]\n",
    "    layer = data[layer_error][\"layer\"]\n",
    "    error_type = data[layer_error][\"error_type\"]\n",
    "    error_lim, error_seed = error_profile_tag.split('-')\n",
    "    fitness_list = []\n",
    "\n",
    "    model_instance_list = [model_type+\"-\"+ str(seed) for seed in [1023, 2920, 3824]]\n",
    "    for model_instance in model_instance_list: \n",
    "        dataset, model_arch, model_config, layer_widths, seed = utils.instancename2metadata(model_instance)\n",
    "        # model_instance = dataset-modelarch_modelconfig-seed\n",
    "        model_meta_type, model_type, model_instance = utils.metadata2instancenames(dataset, \n",
    "                                                                                    model_arch, \n",
    "                                                                                    layer_widths, \n",
    "                                                                                    seed)\n",
    "\n",
    "        # model_arch = 'cnn'\n",
    "        # model_config = '1024_256_64'\n",
    "        # model_type: 'mnist32-cnn_1024_256_64'\n",
    "        # model_meta_type: 'mnist32-cnn'\n",
    "\n",
    "        EXP_TYPE           = dataset_seg_type + \"_\"  + model_meta_type + \"_\" + layer + \"_\" + error_type\n",
    "        experiment_name    = model_instance   + '--' + error_profile_tag\n",
    "        ga_experiment_name = dataset_seg_type + \"_\"  + experiment_name + \"--\" + error_type + '--' + layer + '--ga_' + str(this_seed)\n",
    "        # File/Folder to save log files\n",
    "        logging_folder = pathlib.Path(PROJ_ROOT_PATH / \"logging\" / dataset_seg_type / model_type / model_instance / error_lim / error_profile_tag / error_type / layer )\n",
    "\n",
    "        logging_filename_tag = str(pathlib.Path(logging_folder / ga_experiment_name))\n",
    "\n",
    "        # ga outputs\n",
    "        ga_output_files = glob.glob(logging_filename_tag+\"*.csv\")\n",
    "\n",
    "        for filename in ga_output_files:\n",
    "            df = pd.read_csv(filename)\n",
    "            fitness_list.append(df['Accuracy'].tolist())\n",
    "\n",
    "\n",
    "\n",
    "\n",
    "    fitness_list = np.array(fitness_list)\n",
    "\n",
    "    fitness_list_mean = np.mean(fitness_list, axis=0)\n",
    "    fitness_list_std = np.std(fitness_list, axis=0)\n",
    "    fitness_list_q1 = np.percentile(fitness_list, 25, axis=0)\n",
    "    fitness_list_q3 = np.percentile(fitness_list, 75, axis=0)\n",
    "    \n",
    "    data[layer_error][\"mean\"] =  fitness_list_mean\n",
    "    data[layer_error][\"q1\"] =  fitness_list_q1\n",
    "    data[layer_error][\"q3\"] =  fitness_list_q3"
   ]
  },
  {
   "cell_type": "code",
   "execution_count": 8,
   "id": "330c8bf7-2346-4fdc-8ffc-a9aa34521c56",
   "metadata": {},
   "outputs": [],
   "source": [
    "generations = np.arange(100)"
   ]
  },
  {
   "cell_type": "code",
   "execution_count": 9,
   "id": "a2318c4a-f099-4e90-ab01-a54c5ff52136",
   "metadata": {},
   "outputs": [
    {
     "data": {
      "text/plain": [
       "Text(0.5, 0.98, 'mnist32--c0 layer--Bitflip error')"
      ]
     },
     "execution_count": 9,
     "metadata": {},
     "output_type": "execute_result"
    },
    {
     "data": {
      "image/png": "[encoded data removed]",
      "text/plain": [
       "<Figure size 281.25x173.826 with 1 Axes>"
      ]
     },
     "metadata": {
      "needs_background": "light"
     },
     "output_type": "display_data"
    }
   ],
   "source": [
    "# Plot figure\n",
    "fig_width = 3.125/0.8 \n",
    "fig_height = fig_width / 1.618\n",
    "\n",
    "fig, axs = plt.subplots(nrows=1,\n",
    "                        ncols=1,\n",
    "                        figsize=[fig_width,fig_height], # in inches\n",
    "                        sharex=True)\n",
    "plt.subplots_adjust(left=None, bottom=None, right=None, top=None, wspace=None, hspace=.05)\n",
    "\n",
    "\n",
    "for layer_error in list(data.keys()):\n",
    "    fitness_list_mean = data[layer_error][\"mean\"]\n",
    "    fitness_list_q1 = data[layer_error][\"q1\"]\n",
    "    fitness_list_q3 = data[layer_error][\"q3\"]\n",
    "    axs.fill_between(generations, y1=fitness_list_q1, y2=fitness_list_q3, alpha=0.1)\n",
    "    axs.plot(generations, fitness_list_mean, label=layer_error)\n",
    "    \n",
    "    \n",
    "    axs.set_xlabel(\"Generations\")\n",
    "    axs.set_ylabel(\"Accuracy\")\n",
    "    axs.legend(loc= \"lower right\")\n",
    "    \n",
    "fig.suptitle(\"mnist32--c0 layer--Bitflip error\")"
   ]
  },
  {
   "cell_type": "code",
   "execution_count": 10,
   "id": "9cdcd0d7-b1d0-4990-9234-1cf075c161f4",
   "metadata": {},
   "outputs": [
    {
     "name": "stdout",
     "output_type": "stream",
     "text": [
      "/repos/faulty_cnn/figures/ga-convergence\n"
     ]
    }
   ],
   "source": [
    "# Get notebook path\n",
    "import ipynbname\n",
    "nb_path = str(ipynbname.path())\n",
    "fig_filename_tag = \"ga-convergence\"\n",
    "fig_folder = pathlib.Path(PROJ_ROOT_PATH / \"figures\")\n",
    "pathlib.Path(fig_folder).mkdir(parents=True, exist_ok=True)\n",
    "fig_filename = pathlib.Path(fig_folder/ fig_filename_tag)\n",
    "print(fig_filename)\n",
    "fig.savefig(fig_filename,\n",
    "    # pathlib.Path(fig_filename).with_suffix(\".png\"), \n",
    "            dpi=300, \n",
    "            bbox_inches='tight', \n",
    "            transparent=True, \n",
    "            metadata={\"genfilepath\": nb_path})"
   ]
  },
  {
   "cell_type": "code",
   "execution_count": null,
   "id": "0d7bdc69-5764-4c20-a562-934a45e60abf",
   "metadata": {},
   "outputs": [],
   "source": []
  }
 ],
 "metadata": {
  "kernelspec": {
   "display_name": "Python 3",
   "language": "python",
   "name": "python3"
  },
  "language_info": {
   "codemirror_mode": {
    "name": "ipython",
    "version": 3
   },
   "file_extension": ".py",
   "mimetype": "text/x-python",
   "name": "python",
   "nbconvert_exporter": "python",
   "pygments_lexer": "ipython3",
   "version": "3.8.10"
  }
 },
 "nbformat": 4,
 "nbformat_minor": 5
}
