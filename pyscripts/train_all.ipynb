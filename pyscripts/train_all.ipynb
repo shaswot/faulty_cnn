{
 "cells": [
  {
   "cell_type": "code",
   "execution_count": 1,
   "id": "df425ea4-4d08-4712-88a9-5f6f6b76c987",
   "metadata": {},
   "outputs": [],
   "source": [
    "# train model on MNIST32 using CNN"
   ]
  },
  {
   "cell_type": "code",
   "execution_count": 2,
   "id": "0d298b8e-273d-4912-bf2e-7da01d11dcd6",
   "metadata": {},
   "outputs": [],
   "source": [
    "import os\n",
    "import sys\n",
    "import git\n",
    "import pathlib"
   ]
  },
  {
   "cell_type": "code",
   "execution_count": 3,
   "id": "37ef5645-7e6f-4d33-9726-d97e3dbc21b3",
   "metadata": {},
   "outputs": [],
   "source": [
    "os.environ['TF_CPP_MIN_LOG_LEVEL'] = '3' \n",
    "os.environ['CUDA_VISIBLE_DEVICES'] = '-1' # don't use GPU\n",
    "# Using GPU results in different results during training although the seeds have been set"
   ]
  },
  {
   "cell_type": "code",
   "execution_count": 4,
   "id": "cbba8ecc-719d-475b-b633-e11b17dcbc68",
   "metadata": {},
   "outputs": [],
   "source": [
    "PROJ_ROOT_PATH = pathlib.Path(git.Repo('.', search_parent_directories=True).working_tree_dir)\n",
    "PROJ_ROOT =  str(PROJ_ROOT_PATH)\n",
    "if PROJ_ROOT not in sys.path:\n",
    "    sys.path.append(PROJ_ROOT)"
   ]
  },
  {
   "cell_type": "code",
   "execution_count": 5,
   "id": "5eb21756-c780-4c13-ac7f-5c30aa2ddc04",
   "metadata": {},
   "outputs": [
    {
     "name": "stdout",
     "output_type": "stream",
     "text": [
      "Generating model seeds\n",
      "Generating error seeds\n"
     ]
    }
   ],
   "source": [
    "from libs import utils, mnist32_cnn\n",
    "from libs.constants import model_seeds"
   ]
  },
  {
   "cell_type": "code",
   "execution_count": 6,
   "id": "00586eda-37b0-48d4-8827-48450e2e24a0",
   "metadata": {},
   "outputs": [],
   "source": [
    "model_type = \"mnist32-cnn_1024_256_64\""
   ]
  },
  {
   "cell_type": "code",
   "execution_count": 7,
   "id": "c537ad04-9b09-403a-8e07-d72be1628236",
   "metadata": {},
   "outputs": [
    {
     "name": "stdout",
     "output_type": "stream",
     "text": [
      "Saved model:  /repos/faulty_cnn/models/mnist32-cnn_1024_256_64/mnist32-cnn_1024_256_64-1023.h5\n",
      "Saved model:  /repos/faulty_cnn/models/mnist32-cnn_1024_256_64/mnist32-cnn_1024_256_64-2920.h5\n",
      "Saved model:  /repos/faulty_cnn/models/mnist32-cnn_1024_256_64/mnist32-cnn_1024_256_64-3824.h5\n",
      "Saved model:  /repos/faulty_cnn/models/mnist32-cnn_1024_256_64/mnist32-cnn_1024_256_64-7278.h5\n",
      "Saved model:  /repos/faulty_cnn/models/mnist32-cnn_1024_256_64/mnist32-cnn_1024_256_64-9825.h5\n"
     ]
    }
   ],
   "source": [
    "# Train models\n",
    "for seed in model_seeds:\n",
    "    model_instance = model_type + \"-\" + str(seed)\n",
    "    model_file = mnist32_cnn.train_mnist32(model_instance, show_summary=False)"
   ]
  }
 ],
 "metadata": {
  "kernelspec": {
   "display_name": "Python 3",
   "language": "python",
   "name": "python3"
  },
  "language_info": {
   "codemirror_mode": {
    "name": "ipython",
    "version": 3
   },
   "file_extension": ".py",
   "mimetype": "text/x-python",
   "name": "python",
   "nbconvert_exporter": "python",
   "pygments_lexer": "ipython3",
   "version": "3.8.10"
  }
 },
 "nbformat": 4,
 "nbformat_minor": 5
}
