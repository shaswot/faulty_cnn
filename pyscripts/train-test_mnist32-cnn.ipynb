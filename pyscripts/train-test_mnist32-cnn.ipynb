{
 "cells": [
  {
   "cell_type": "code",
   "execution_count": 1,
   "id": "df425ea4-4d08-4712-88a9-5f6f6b76c987",
   "metadata": {},
   "outputs": [],
   "source": [
    "# train model on MNIST using CNN"
   ]
  },
  {
   "cell_type": "code",
   "execution_count": 2,
   "id": "0d298b8e-273d-4912-bf2e-7da01d11dcd6",
   "metadata": {},
   "outputs": [],
   "source": [
    "import os\n",
    "import sys\n",
    "import git\n",
    "import pathlib"
   ]
  },
  {
   "cell_type": "code",
   "execution_count": 3,
   "id": "37ef5645-7e6f-4d33-9726-d97e3dbc21b3",
   "metadata": {},
   "outputs": [],
   "source": [
    "os.environ['TF_CPP_MIN_LOG_LEVEL'] = '3' \n",
    "# os.environ['CUDA_VISIBLE_DEVICES'] = '-1' # don't use GPU\n",
    "# Using GPU results in different results although the seeds have been set"
   ]
  },
  {
   "cell_type": "code",
   "execution_count": 4,
   "id": "cbba8ecc-719d-475b-b633-e11b17dcbc68",
   "metadata": {},
   "outputs": [],
   "source": [
    "PROJ_ROOT_PATH = pathlib.Path(git.Repo('.', search_parent_directories=True).working_tree_dir)\n",
    "PROJ_ROOT =  str(PROJ_ROOT_PATH)\n",
    "if PROJ_ROOT not in sys.path:\n",
    "    sys.path.append(PROJ_ROOT)"
   ]
  },
  {
   "cell_type": "code",
   "execution_count": 5,
   "id": "69dd0c61-1c3d-4335-8149-e3295fca05ef",
   "metadata": {},
   "outputs": [],
   "source": [
    "from libs import mnist32_cnn"
   ]
  },
  {
   "cell_type": "code",
   "execution_count": 6,
   "id": "c8258002-71a4-4b78-b3a5-6f164be37ac8",
   "metadata": {},
   "outputs": [],
   "source": [
    "model_instance = \"mnist32-cnn_1024_256_64-1234\""
   ]
  },
  {
   "cell_type": "code",
   "execution_count": 7,
   "id": "a51565af-f2fe-409a-9486-10378f507987",
   "metadata": {},
   "outputs": [
    {
     "name": "stdout",
     "output_type": "stream",
     "text": [
      "Model: \"sequential\"\n",
      "_________________________________________________________________\n",
      " Layer (type)                Output Shape              Param #   \n",
      "=================================================================\n",
      " conv2d (Conv2D)             (None, 29, 29, 32)        544       \n",
      "                                                                 \n",
      " max_pooling2d (MaxPooling2D  (None, 14, 14, 32)       0         \n",
      " )                                                               \n",
      "                                                                 \n",
      " flatten (Flatten)           (None, 6272)              0         \n",
      "                                                                 \n",
      " fc_0 (Dense)                (None, 1024)              6423552   \n",
      "                                                                 \n",
      " fc_1 (Dense)                (None, 256)               262400    \n",
      "                                                                 \n",
      " fc_2 (Dense)                (None, 64)                16448     \n",
      "                                                                 \n",
      " op_layer (Dense)            (None, 10)                650       \n",
      "                                                                 \n",
      "=================================================================\n",
      "Total params: 6,703,594\n",
      "Trainable params: 6,703,594\n",
      "Non-trainable params: 0\n",
      "_________________________________________________________________\n",
      "Epoch 1/25\n",
      "59/59 [==============================] - 3s 10ms/step - loss: 0.5603 - accuracy: 0.8306 - val_loss: 0.2258 - val_accuracy: 0.9324\n",
      "Epoch 2/25\n",
      "59/59 [==============================] - 0s 7ms/step - loss: 0.1938 - accuracy: 0.9428 - val_loss: 0.1543 - val_accuracy: 0.9528\n",
      "Epoch 3/25\n",
      "59/59 [==============================] - 0s 7ms/step - loss: 0.1422 - accuracy: 0.9582 - val_loss: 0.1266 - val_accuracy: 0.9621\n",
      "Epoch 4/25\n",
      "59/59 [==============================] - 0s 7ms/step - loss: 0.1134 - accuracy: 0.9672 - val_loss: 0.1026 - val_accuracy: 0.9692\n",
      "Epoch 5/25\n",
      "59/59 [==============================] - 0s 7ms/step - loss: 0.0957 - accuracy: 0.9722 - val_loss: 0.0975 - val_accuracy: 0.9701\n",
      "Epoch 6/25\n",
      "59/59 [==============================] - 0s 7ms/step - loss: 0.0844 - accuracy: 0.9754 - val_loss: 0.0848 - val_accuracy: 0.9746\n",
      "Epoch 7/25\n",
      "59/59 [==============================] - 0s 7ms/step - loss: 0.0733 - accuracy: 0.9784 - val_loss: 0.0789 - val_accuracy: 0.9760\n",
      "Epoch 8/25\n",
      "59/59 [==============================] - 0s 7ms/step - loss: 0.0636 - accuracy: 0.9816 - val_loss: 0.0695 - val_accuracy: 0.9774\n",
      "Epoch 9/25\n",
      "59/59 [==============================] - 0s 7ms/step - loss: 0.0588 - accuracy: 0.9830 - val_loss: 0.0651 - val_accuracy: 0.9798\n",
      "Epoch 10/25\n",
      "59/59 [==============================] - 0s 7ms/step - loss: 0.0520 - accuracy: 0.9851 - val_loss: 0.0601 - val_accuracy: 0.9805\n",
      "Epoch 11/25\n",
      "59/59 [==============================] - 0s 7ms/step - loss: 0.0455 - accuracy: 0.9869 - val_loss: 0.0567 - val_accuracy: 0.9815\n",
      "Epoch 12/25\n",
      "59/59 [==============================] - 0s 7ms/step - loss: 0.0420 - accuracy: 0.9882 - val_loss: 0.0566 - val_accuracy: 0.9813\n",
      "Epoch 13/25\n",
      "59/59 [==============================] - 0s 7ms/step - loss: 0.0377 - accuracy: 0.9894 - val_loss: 0.0526 - val_accuracy: 0.9830\n",
      "Epoch 14/25\n",
      "59/59 [==============================] - 0s 7ms/step - loss: 0.0352 - accuracy: 0.9900 - val_loss: 0.0512 - val_accuracy: 0.9827\n",
      "Epoch 15/25\n",
      "59/59 [==============================] - 0s 7ms/step - loss: 0.0316 - accuracy: 0.9912 - val_loss: 0.0502 - val_accuracy: 0.9834\n",
      "Epoch 16/25\n",
      "59/59 [==============================] - 0s 7ms/step - loss: 0.0298 - accuracy: 0.9915 - val_loss: 0.0502 - val_accuracy: 0.9836\n",
      "Epoch 17/25\n",
      "59/59 [==============================] - 0s 7ms/step - loss: 0.0278 - accuracy: 0.9924 - val_loss: 0.0468 - val_accuracy: 0.9850\n",
      "Epoch 18/25\n",
      "59/59 [==============================] - 0s 7ms/step - loss: 0.0266 - accuracy: 0.9922 - val_loss: 0.0465 - val_accuracy: 0.9840\n",
      "Epoch 19/25\n",
      "59/59 [==============================] - 0s 7ms/step - loss: 0.0239 - accuracy: 0.9938 - val_loss: 0.0438 - val_accuracy: 0.9855\n",
      "Epoch 20/25\n",
      "59/59 [==============================] - 0s 7ms/step - loss: 0.0214 - accuracy: 0.9944 - val_loss: 0.0488 - val_accuracy: 0.9843\n",
      "Epoch 21/25\n",
      "59/59 [==============================] - 0s 7ms/step - loss: 0.0213 - accuracy: 0.9944 - val_loss: 0.0459 - val_accuracy: 0.9848\n",
      "Epoch 22/25\n",
      "59/59 [==============================] - 0s 7ms/step - loss: 0.0182 - accuracy: 0.9955 - val_loss: 0.0434 - val_accuracy: 0.9848\n",
      "Epoch 23/25\n",
      "59/59 [==============================] - 0s 7ms/step - loss: 0.0164 - accuracy: 0.9961 - val_loss: 0.0421 - val_accuracy: 0.9864\n",
      "Epoch 24/25\n",
      "59/59 [==============================] - 0s 7ms/step - loss: 0.0157 - accuracy: 0.9962 - val_loss: 0.0437 - val_accuracy: 0.9847\n",
      "Epoch 25/25\n",
      "59/59 [==============================] - 0s 7ms/step - loss: 0.0154 - accuracy: 0.9964 - val_loss: 0.0449 - val_accuracy: 0.9852\n",
      "Saved model:  /repos/faulty_cnn/models/mnist32-cnn/mnist32-cnn_1024_256_64/mnist32-cnn_1024_256_64-1234.h5\n"
     ]
    }
   ],
   "source": [
    "model_file = mnist32_cnn.train_mnist32(model_instance, show_summary=True)"
   ]
  },
  {
   "cell_type": "code",
   "execution_count": 8,
   "id": "f27315b1-6be3-4eb6-946e-3d43c633ef09",
   "metadata": {},
   "outputs": [
    {
     "name": "stdout",
     "output_type": "stream",
     "text": [
      "Model: \"sequential\"\n",
      "_________________________________________________________________\n",
      " Layer (type)                Output Shape              Param #   \n",
      "=================================================================\n",
      " conv2d (Conv2D)             (None, 29, 29, 32)        544       \n",
      "                                                                 \n",
      " max_pooling2d (MaxPooling2D  (None, 14, 14, 32)       0         \n",
      " )                                                               \n",
      "                                                                 \n",
      " flatten (Flatten)           (None, 6272)              0         \n",
      "                                                                 \n",
      " fc_0 (Dense)                (None, 1024)              6423552   \n",
      "                                                                 \n",
      " fc_1 (Dense)                (None, 256)               262400    \n",
      "                                                                 \n",
      " fc_2 (Dense)                (None, 64)                16448     \n",
      "                                                                 \n",
      " op_layer (Dense)            (None, 10)                650       \n",
      "                                                                 \n",
      "=================================================================\n",
      "Total params: 6,703,594\n",
      "Trainable params: 6,703,594\n",
      "Non-trainable params: 0\n",
      "_________________________________________________________________\n",
      "Model:\t\tmnist32-cnn_1024_256_64-1234\n",
      "Accuracy:\t99.489%\n",
      "Confusion Matrix\n",
      "[[6882    0    2    2    1    2    5    1    4    4]\n",
      " [   0 7854    6    2    5    1    3    2    0    4]\n",
      " [   4    4 6960    7    1    2    1    7    2    2]\n",
      " [   0    0    1 7113    0   16    0    3    2    6]\n",
      " [   0    1    2    0 6800    0    5    1    0   15]\n",
      " [   1    0    0    6    0 6303    2    0    0    1]\n",
      " [   6    2    0    1    3    8 6856    0    0    0]\n",
      " [   2   18   12    5    5    1    0 7200    4   46]\n",
      " [   5    3    3   13    5   23    6    2 6740   25]\n",
      " [   0    2    0    4    8    3    1    5    1 6934]]\n"
     ]
    }
   ],
   "source": [
    "# Evaluate model\n",
    "[accuracy, conf_matrix] = mnist32_cnn.test_mnist32(model_file, show_summary=True)\n",
    "\n",
    "print(f\"Model:\\t\\t{model_instance}\")\n",
    "print(f\"Accuracy:\\t{accuracy*100:0.3f}%\")\n",
    "\n",
    "print(\"Confusion Matrix\")\n",
    "print(conf_matrix)"
   ]
  }
 ],
 "metadata": {
  "kernelspec": {
   "display_name": "Python 3",
   "language": "python",
   "name": "python3"
  },
  "language_info": {
   "codemirror_mode": {
    "name": "ipython",
    "version": 3
   },
   "file_extension": ".py",
   "mimetype": "text/x-python",
   "name": "python",
   "nbconvert_exporter": "python",
   "pygments_lexer": "ipython3",
   "version": "3.8.10"
  }
 },
 "nbformat": 4,
 "nbformat_minor": 5
}
