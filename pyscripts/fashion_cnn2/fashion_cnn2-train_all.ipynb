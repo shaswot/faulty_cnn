{
 "cells": [
  {
   "cell_type": "code",
   "execution_count": 1,
   "id": "76a72662-bc17-4898-9814-7c5b71834bda",
   "metadata": {},
   "outputs": [],
   "source": [
    "# train model on FashionMNIST using CNN2"
   ]
  },
  {
   "cell_type": "code",
   "execution_count": 2,
   "id": "8cf25098-b6d5-46b4-ba00-fc1a477d8431",
   "metadata": {},
   "outputs": [],
   "source": [
    "import os\n",
    "import sys\n",
    "import git\n",
    "import pathlib"
   ]
  },
  {
   "cell_type": "code",
   "execution_count": 3,
   "id": "7958c42f-ae95-41e0-b822-ed23c3b82f4a",
   "metadata": {},
   "outputs": [],
   "source": [
    "os.environ['TF_CPP_MIN_LOG_LEVEL'] = '3' \n",
    "os.environ['CUDA_VISIBLE_DEVICES'] = '-1' # don't use GPU\n",
    "# Using GPU results in different results during training although the seeds have been set"
   ]
  },
  {
   "cell_type": "code",
   "execution_count": 4,
   "id": "f5eff114-ecfd-4273-a244-912490a79c37",
   "metadata": {},
   "outputs": [],
   "source": [
    "PROJ_ROOT_PATH = pathlib.Path(git.Repo('.', search_parent_directories=True).working_tree_dir)\n",
    "PROJ_ROOT =  str(PROJ_ROOT_PATH)\n",
    "if PROJ_ROOT not in sys.path:\n",
    "    sys.path.append(PROJ_ROOT)"
   ]
  },
  {
   "cell_type": "code",
   "execution_count": 5,
   "id": "a50c2004-a7ed-41bb-865c-ce365b5b7774",
   "metadata": {},
   "outputs": [],
   "source": [
    "from libs import utils, fashion_cnn2\n",
    "from libs.constants import model_seeds"
   ]
  },
  {
   "cell_type": "code",
   "execution_count": 6,
   "id": "cc0280d4-66b9-419a-9b07-0b555dfdf68a",
   "metadata": {},
   "outputs": [],
   "source": [
    "model_type = \"fashion-cnn2_1024\""
   ]
  },
  {
   "cell_type": "code",
   "execution_count": 7,
   "id": "75bbc1a3-ab99-4856-9949-2079b5c9d58d",
   "metadata": {},
   "outputs": [
    {
     "name": "stdout",
     "output_type": "stream",
     "text": [
      "Saved model:  /repos/faulty_cnn/models/fashion-cnn2_1024/fashion-cnn2_1024-1023.h5\n",
      "Saved model:  /repos/faulty_cnn/models/fashion-cnn2_1024/fashion-cnn2_1024-2920.h5\n",
      "Saved model:  /repos/faulty_cnn/models/fashion-cnn2_1024/fashion-cnn2_1024-3824.h5\n",
      "Saved model:  /repos/faulty_cnn/models/fashion-cnn2_1024/fashion-cnn2_1024-7278.h5\n",
      "Saved model:  /repos/faulty_cnn/models/fashion-cnn2_1024/fashion-cnn2_1024-9825.h5\n"
     ]
    }
   ],
   "source": [
    "# Train models\n",
    "for seed in model_seeds:\n",
    "    model_instance = model_type + \"-\" + str(seed)\n",
    "    model_file = fashion_cnn2.train(model_instance, show_summary=False)"
   ]
  }
 ],
 "metadata": {
  "kernelspec": {
   "display_name": "Python 3",
   "language": "python",
   "name": "python3"
  },
  "language_info": {
   "codemirror_mode": {
    "name": "ipython",
    "version": 3
   },
   "file_extension": ".py",
   "mimetype": "text/x-python",
   "name": "python",
   "nbconvert_exporter": "python",
   "pygments_lexer": "ipython3",
   "version": "3.8.10"
  }
 },
 "nbformat": 4,
 "nbformat_minor": 5
}
