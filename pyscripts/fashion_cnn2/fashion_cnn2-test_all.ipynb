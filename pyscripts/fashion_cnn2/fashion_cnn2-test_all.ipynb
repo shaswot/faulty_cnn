{
 "cells": [
  {
   "cell_type": "code",
   "execution_count": 1,
   "id": "9b9bbed3-351f-42fe-961f-4ef1880abde1",
   "metadata": {},
   "outputs": [],
   "source": [
    "# test trained model on FashionMNIST using CNN2"
   ]
  },
  {
   "cell_type": "code",
   "execution_count": 2,
   "id": "13f7a2c9-3d58-432b-80b9-ce70b343c8fc",
   "metadata": {},
   "outputs": [],
   "source": [
    "import os\n",
    "import sys\n",
    "import git\n",
    "import pathlib"
   ]
  },
  {
   "cell_type": "code",
   "execution_count": 3,
   "id": "1ea5246a-f28d-4063-b20f-8d750803f5dd",
   "metadata": {},
   "outputs": [],
   "source": [
    "import tensorflow as tf\n",
    "import numpy as np"
   ]
  },
  {
   "cell_type": "code",
   "execution_count": 4,
   "id": "ec48c6f3-4d8d-45b6-b3cc-b2f5e6380a80",
   "metadata": {},
   "outputs": [],
   "source": [
    "os.environ['TF_CPP_MIN_LOG_LEVEL'] = '3' \n",
    "# Using GPU results in different results during training although the seeds have been set"
   ]
  },
  {
   "cell_type": "code",
   "execution_count": 5,
   "id": "b444dfc6-eb91-499c-b806-1b677c5be814",
   "metadata": {},
   "outputs": [],
   "source": [
    "PROJ_ROOT_PATH = pathlib.Path(git.Repo('.', search_parent_directories=True).working_tree_dir)\n",
    "PROJ_ROOT =  str(PROJ_ROOT_PATH)\n",
    "if PROJ_ROOT not in sys.path:\n",
    "    sys.path.append(PROJ_ROOT)"
   ]
  },
  {
   "cell_type": "code",
   "execution_count": 6,
   "id": "d0c0065c-bad6-4839-9f65-c70ddd5c7adf",
   "metadata": {},
   "outputs": [],
   "source": [
    "from libs import utils, fashion_cnn2\n",
    "from libs.constants import model_seeds"
   ]
  },
  {
   "cell_type": "code",
   "execution_count": 7,
   "id": "e6606eed-ece7-4aa2-91fd-75d9aa51e7b6",
   "metadata": {},
   "outputs": [],
   "source": [
    "# Limit GPU growth\n",
    "gpus = tf.config.experimental.list_physical_devices('GPU')\n",
    "if gpus:\n",
    "    try:\n",
    "        for gpu in gpus:\n",
    "            tf.config.experimental.set_memory_growth(gpu, True)\n",
    "    except RuntimeError as e:\n",
    "        print(e)"
   ]
  },
  {
   "cell_type": "code",
   "execution_count": 8,
   "id": "167fa88f-523f-4f1c-8c36-d7a8684bf819",
   "metadata": {},
   "outputs": [],
   "source": [
    "model_type = \"fashion-cnn2_1024\""
   ]
  },
  {
   "cell_type": "code",
   "execution_count": 9,
   "id": "0c9d8a50-d745-4e97-97ff-c2440bc1f147",
   "metadata": {},
   "outputs": [],
   "source": [
    "# load dataset  \n",
    "fashion_mnist = tf.keras.datasets.fashion_mnist\n",
    "(train_images, train_labels), (test_images, test_labels) = fashion_mnist.load_data()\n",
    "\n",
    "train_images = train_images.astype('float32') / 255.0\n",
    "test_images = test_images.astype('float32') / 255.0\n",
    "\n",
    "train_images = np.expand_dims(train_images, axis=-1)\n",
    "test_images = np.expand_dims(test_images, axis=-1)"
   ]
  },
  {
   "cell_type": "code",
   "execution_count": 10,
   "id": "af1286d8-ce51-4d5d-99fe-7f218243ce9b",
   "metadata": {},
   "outputs": [],
   "source": [
    "model_type = \"fashion-cnn2_1024\"\n",
    "# model_type = \"mnist32-cnn_1024_256_64\""
   ]
  },
  {
   "cell_type": "code",
   "execution_count": 11,
   "id": "68ef1758-2e5e-4754-917c-e7f5cac1ae53",
   "metadata": {},
   "outputs": [
    {
     "name": "stdout",
     "output_type": "stream",
     "text": [
      "fashion-cnn2_1024-1023 0.9257000088691711\n",
      "fashion-cnn2_1024-2920 0.9291999936103821\n",
      "fashion-cnn2_1024-3824 0.9315999746322632\n",
      "fashion-cnn2_1024-7278 0.9277999997138977\n",
      "fashion-cnn2_1024-9825 0.9290000200271606\n"
     ]
    }
   ],
   "source": [
    "# Test models\n",
    "for seed in model_seeds:\n",
    "    model_instance = model_type + \"-\" + str(seed)\n",
    "    model_folder = pathlib.Path(PROJ_ROOT_PATH / \"models\" / model_type)\n",
    "    model_filename = model_instance + \".h5\"\n",
    "    model_file = str(pathlib.Path(model_folder/ model_filename))\n",
    "    # Load model\n",
    "    model = tf.keras.models.load_model(model_file)\n",
    "    test_loss, test_acc = model.evaluate(test_images,  test_labels, verbose=0)\n",
    "    print(model_instance, test_acc)"
   ]
  }
 ],
 "metadata": {
  "kernelspec": {
   "display_name": "Python 3",
   "language": "python",
   "name": "python3"
  },
  "language_info": {
   "codemirror_mode": {
    "name": "ipython",
    "version": 3
   },
   "file_extension": ".py",
   "mimetype": "text/x-python",
   "name": "python",
   "nbconvert_exporter": "python",
   "pygments_lexer": "ipython3",
   "version": "3.8.10"
  }
 },
 "nbformat": 4,
 "nbformat_minor": 5
}
