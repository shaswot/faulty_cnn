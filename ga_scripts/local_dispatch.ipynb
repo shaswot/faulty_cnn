{
 "cells": [
  {
   "cell_type": "code",
   "execution_count": 1,
   "id": "39a28e42-ff8c-435a-9822-a7cc95e06b34",
   "metadata": {},
   "outputs": [],
   "source": [
    "import os\n",
    "import sys\n",
    "import git\n",
    "import pathlib\n",
    "\n",
    "PROJ_ROOT_PATH = pathlib.Path(git.Repo('.', search_parent_directories=True).working_tree_dir)\n",
    "PROJ_ROOT =  str(PROJ_ROOT_PATH)\n",
    "if PROJ_ROOT not in sys.path:\n",
    "    sys.path.append(PROJ_ROOT)"
   ]
  },
  {
   "cell_type": "code",
   "execution_count": 2,
   "id": "989f00ec-6363-4059-ba46-84d22045a318",
   "metadata": {},
   "outputs": [],
   "source": [
    "experiment = \"mnist32-cnn_1024_256_64-1023--LIM_01-3987\"\n",
    "model_instance, error_profile = experiment.split(\"--\")"
   ]
  },
  {
   "cell_type": "code",
   "execution_count": 3,
   "id": "dc3f354f-4c1f-4902-a1d9-cb9f8ab53b7b",
   "metadata": {},
   "outputs": [],
   "source": [
    "exp_script_list = [ \n",
    "                    \"all-RowShuffle_c0layer_lenet_3hidden_ERRexpbitflips_-1\",\n",
    "                    \"all-RowShuffle_h2layer_lenet_3hidden_ERRexpbitflips_-1\",\n",
    "                  ]"
   ]
  },
  {
   "cell_type": "code",
   "execution_count": 4,
   "id": "77964a52-9d84-47a1-a870-62ae28b8e4d1",
   "metadata": {},
   "outputs": [],
   "source": [
    "pylogdir_path = pathlib.Path(PROJ_ROOT_PATH / \"pylogfiles\" / model_instance/ experiment) # python script output\n",
    "pathlib.Path(pylogdir_path).mkdir(parents=True, exist_ok=True)"
   ]
  },
  {
   "cell_type": "code",
   "execution_count": 5,
   "id": "6b6da3d3-fcb6-425b-bd32-69b15bce1445",
   "metadata": {},
   "outputs": [],
   "source": [
    "optim_type = \"all\"\n",
    "archerr_type = \"lenet_3hidden_ERRexpbitflips\""
   ]
  },
  {
   "cell_type": "code",
   "execution_count": 6,
   "id": "0ff355b2-6323-4df1-8ec9-4b638a9dbdae",
   "metadata": {},
   "outputs": [
    {
     "name": "stdout",
     "output_type": "stream",
     "text": [
      "python /repos/faulty_cnn/ga_scripts/all/lenet_3hidden_ERRexpbitflips/all-RowShuffle_h2layer_lenet_3hidden_ERRexpbitflips_-1.py mnist32-cnn_1024_256_64-1023 LIM_01-3987 > /repos/faulty_cnn/pylogfiles/mnist32-cnn_1024_256_64-1023/mnist32-cnn_1024_256_64-1023--LIM_01-3987/all-RowShuffle_h2layer_lenet_3hidden_ERRexpbitflips_-1--mnist32-cnn_1024_256_64-1023--LIM_01-3987.logfile 2>&1 & \\\n"
     ]
    }
   ],
   "source": [
    "# https://askubuntu.com/questions/420981/how-do-i-save-terminal-output-to-a-file#:~:text=the%20shortcut%20is%20Ctrl%20%2B%20Shift,or%20as%20HTML%20including%20colors!\n",
    "for script in exp_script_list:\n",
    "    script_folder = pathlib.Path(PROJ_ROOT_PATH / \"ga_scripts\" / optim_type / archerr_type)\n",
    "    script_filename =  script + \".py\"\n",
    "    script_file = str(pathlib.Path(script_folder / script_filename))\n",
    "    logfilename = script + \"--\" + model_instance + \"--\" + error_profile + \".logfile\"\n",
    "    logfile_path = pathlib.Path(pylogdir_path / logfilename)\n",
    "    print(f\"python {script_file} {model_instance} {error_profile} > {str(logfile_path)} 2>&1 & \\\\\")"
   ]
  },
  {
   "cell_type": "code",
   "execution_count": null,
   "id": "a4933864-e760-44c1-bbfe-f9284ee87f20",
   "metadata": {},
   "outputs": [],
   "source": []
  }
 ],
 "metadata": {
  "kernelspec": {
   "display_name": "Python 3",
   "language": "python",
   "name": "python3"
  },
  "language_info": {
   "codemirror_mode": {
    "name": "ipython",
    "version": 3
   },
   "file_extension": ".py",
   "mimetype": "text/x-python",
   "name": "python",
   "nbconvert_exporter": "python",
   "pygments_lexer": "ipython3",
   "version": "3.8.10"
  }
 },
 "nbformat": 4,
 "nbformat_minor": 5
}
